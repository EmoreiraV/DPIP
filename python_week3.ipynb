{
  "nbformat": 4,
  "nbformat_minor": 0,
  "metadata": {
    "colab": {
      "provenance": [],
      "collapsed_sections": [
        "1j41bFesBpD6",
        "aYO9-8ugTLcP",
        "DtwKZO-AVtaC",
        "fkYGFkmbcUr-"
      ],
      "include_colab_link": true
    },
    "kernelspec": {
      "name": "python3",
      "display_name": "Python 3"
    },
    "language_info": {
      "name": "python"
    }
  },
  "cells": [
    {
      "cell_type": "markdown",
      "metadata": {
        "id": "view-in-github",
        "colab_type": "text"
      },
      "source": [
        "<a href=\"https://colab.research.google.com/github/EmoreiraV/DPIP/blob/main/python_week3.ipynb\" target=\"_parent\"><img src=\"https://colab.research.google.com/assets/colab-badge.svg\" alt=\"Open In Colab\"/></a>"
      ]
    },
    {
      "cell_type": "markdown",
      "metadata": {
        "id": "Rrbg7QoVDQYH"
      },
      "source": [
        "  # Week 3\n",
        "\n",
        "Prelim: In Jupyter (or IPython) you can run a command line command by using an exclamation mark.\n",
        "\n",
        "For example the linux command to list all of the files in a directory is 'ls', so to run that command in a notebook we can use:"
      ]
    },
    {
      "cell_type": "code",
      "metadata": {
        "colab": {
          "base_uri": "https://localhost:8080/"
        },
        "id": "F9swkPNcUBPP",
        "outputId": "c9164c50-4c96-487c-c636-51e31387ba03"
      },
      "source": [
        "!ls"
      ],
      "execution_count": null,
      "outputs": [
        {
          "output_type": "stream",
          "name": "stdout",
          "text": [
            "sample_data\n"
          ]
        }
      ]
    },
    {
      "cell_type": "markdown",
      "metadata": {
        "id": "H6NfDleWUDgs"
      },
      "source": [
        "We actually saw a use of this in our first notebook, where we used an exclamation mark involve 'pip' to install a package. For example to install networkx we would use:"
      ]
    },
    {
      "cell_type": "code",
      "metadata": {
        "colab": {
          "base_uri": "https://localhost:8080/"
        },
        "id": "egMKv2ErUU_X",
        "outputId": "a700e4ec-73d9-406c-e883-cc74cdd1244c"
      },
      "source": [
        "!pip install networkx"
      ],
      "execution_count": null,
      "outputs": [
        {
          "output_type": "stream",
          "name": "stdout",
          "text": [
            "Requirement already satisfied: networkx in /usr/local/lib/python3.7/dist-packages (2.6.3)\n"
          ]
        }
      ]
    },
    {
      "cell_type": "markdown",
      "metadata": {
        "id": "nnREKw-8mP_F"
      },
      "source": [
        "# Quiz\n",
        "## Q1:\n",
        "\n",
        "Do you need to spell out your parmameter names fully in:\n",
        "\n",
        "a) Python\n",
        "\n",
        "b) R\n",
        "\n",
        "c) Both!"
      ]
    },
    {
      "cell_type": "markdown",
      "metadata": {
        "id": "A8L8NLBbnIP8"
      },
      "source": [
        "!Rscript -e \"rnorm(n=1,me=1,sd=1)\"\n",
        "\n",
        "vs\n",
        "\n",
        "!Rscript -e \"rnorm(n=1,mean=1,sd=1)\"\n"
      ]
    },
    {
      "cell_type": "markdown",
      "metadata": {
        "id": "7k-Zh3mgnBXM"
      },
      "source": [
        "python3 -c \"import random; print(random.gauss(sigma=1, mu=0))\"\n",
        "\n",
        "vs\n",
        "\n",
        "python3 -c \"import random; print(random.gauss(sigma=1, m=0))\""
      ]
    },
    {
      "cell_type": "markdown",
      "metadata": {
        "id": "R61jf4YpnhNF"
      },
      "source": [
        "### Answer"
      ]
    },
    {
      "cell_type": "code",
      "metadata": {
        "colab": {
          "base_uri": "https://localhost:8080/"
        },
        "id": "blYA_XRzldKF",
        "outputId": "5f2a3e45-ac43-4e81-c071-1dd1e2c56e1d"
      },
      "source": [
        "!Rscript -e \"rnorm(n=1,mean=1,sd=1)\"\n"
      ],
      "execution_count": null,
      "outputs": [
        {
          "output_type": "stream",
          "name": "stdout",
          "text": [
            "[1] 0.5322899\n"
          ]
        }
      ]
    },
    {
      "cell_type": "code",
      "metadata": {
        "colab": {
          "base_uri": "https://localhost:8080/"
        },
        "id": "cOi7PXMVnf8w",
        "outputId": "e65a0107-b15d-4bb8-fb5d-61ade023aae3"
      },
      "source": [
        "!Rscript -e \"rnorm(n=1,me=1,sd=1)\""
      ],
      "execution_count": null,
      "outputs": [
        {
          "output_type": "stream",
          "name": "stdout",
          "text": [
            "[1] 1.239448\n"
          ]
        }
      ]
    },
    {
      "cell_type": "markdown",
      "metadata": {
        "id": "HiaMxOxynWeT"
      },
      "source": [
        "Lets now try python"
      ]
    },
    {
      "cell_type": "code",
      "metadata": {
        "colab": {
          "base_uri": "https://localhost:8080/"
        },
        "id": "tBAadvIklr2e",
        "outputId": "54368261-297c-4f24-8eb0-83190d9876c6"
      },
      "source": [
        "!python3 -c \"import random; print(random.gauss(sigma=1, mu=0))\""
      ],
      "execution_count": null,
      "outputs": [
        {
          "output_type": "stream",
          "name": "stdout",
          "text": [
            "0.6979171248114852\n"
          ]
        }
      ]
    },
    {
      "cell_type": "code",
      "metadata": {
        "colab": {
          "base_uri": "https://localhost:8080/"
        },
        "id": "3rvJ9c71nTRp",
        "outputId": "17922b01-35c6-48e9-cd5f-4efa2fdb82da"
      },
      "source": [
        "!python3 -c \"import random; print(random.gauss(sigma=1, m=0))\""
      ],
      "execution_count": null,
      "outputs": [
        {
          "output_type": "stream",
          "name": "stdout",
          "text": [
            "Traceback (most recent call last):\n",
            "  File \"<string>\", line 1, in <module>\n",
            "TypeError: gauss() got an unexpected keyword argument 'm'\n"
          ]
        }
      ]
    },
    {
      "cell_type": "markdown",
      "metadata": {
        "id": "VtLwM4SSAipQ"
      },
      "source": [
        "## Q2"
      ]
    },
    {
      "cell_type": "markdown",
      "metadata": {
        "id": "iIY3mG6BBKZ8"
      },
      "source": [
        "In a function definition:\n",
        "\n",
        "\n",
        "\n",
        "```\n",
        "def f(*args, **kwargs):\n",
        "     STATEMENT1\n",
        "     STATEMENT2\n",
        "```\n",
        "\n",
        "\n",
        "\n",
        "\n",
        "What does are 'args' and 'kwargs' do?"
      ]
    },
    {
      "cell_type": "markdown",
      "metadata": {
        "id": "1j41bFesBpD6"
      },
      "source": [
        "### Answer"
      ]
    },
    {
      "cell_type": "markdown",
      "metadata": {
        "id": "1OKW9as_BsFx"
      },
      "source": [
        "args is used for unnamed positional arguments, and kwargs is used for keyword arguments."
      ]
    },
    {
      "cell_type": "code",
      "metadata": {
        "id": "3UWcZGOnBo0T"
      },
      "source": [
        "def f(*args, **kwargs):\n",
        "    print('Positional arguments')\n",
        "    if len(args)==0:\n",
        "       print('None')\n",
        "    for idx,item in enumerate(args):\n",
        "        print([('Pos',idx),item])\n",
        "    print('Keyword arguments:')\n",
        "    if len(kwargs)==0:\n",
        "       print('None')\n",
        "    for item in kwargs:\n",
        "        print([item,kwargs[item]])"
      ],
      "execution_count": 1,
      "outputs": []
    },
    {
      "cell_type": "code",
      "metadata": {
        "colab": {
          "base_uri": "https://localhost:8080/"
        },
        "id": "u_rOgTQLC35B",
        "outputId": "46926114-3c1b-4386-9fd8-c1baf73a7ec6"
      },
      "source": [
        "f(1,2,3)"
      ],
      "execution_count": 2,
      "outputs": [
        {
          "output_type": "stream",
          "name": "stdout",
          "text": [
            "Positional arguments\n",
            "[('Pos', 0), 1]\n",
            "[('Pos', 1), 2]\n",
            "[('Pos', 2), 3]\n",
            "Keyword arguments:\n",
            "None\n"
          ]
        }
      ]
    },
    {
      "cell_type": "code",
      "metadata": {
        "colab": {
          "base_uri": "https://localhost:8080/"
        },
        "id": "Uops16cPCAK6",
        "outputId": "c4d1205e-69df-4e64-f88c-8a5754f68a33"
      },
      "source": [
        "f(a=1,b=2,c=3)"
      ],
      "execution_count": 3,
      "outputs": [
        {
          "output_type": "stream",
          "name": "stdout",
          "text": [
            "Positional arguments\n",
            "None\n",
            "Keyword arguments:\n",
            "['a', 1]\n",
            "['b', 2]\n",
            "['c', 3]\n"
          ]
        }
      ]
    },
    {
      "cell_type": "code",
      "metadata": {
        "colab": {
          "base_uri": "https://localhost:8080/"
        },
        "id": "txzINI40Cqke",
        "outputId": "5f47ac28-6a8b-4a01-9aa8-3a72a944bccd"
      },
      "source": [
        "f(1,b=2,c=3)"
      ],
      "execution_count": 4,
      "outputs": [
        {
          "output_type": "stream",
          "name": "stdout",
          "text": [
            "Positional arguments\n",
            "[('Pos', 0), 1]\n",
            "Keyword arguments:\n",
            "['b', 2]\n",
            "['c', 3]\n"
          ]
        }
      ]
    },
    {
      "cell_type": "code",
      "metadata": {
        "colab": {
          "base_uri": "https://localhost:8080/",
          "height": 108
        },
        "id": "oyxmlt26Cxwk",
        "outputId": "db8be86f-1aca-41de-d92d-e4a72d5be864"
      },
      "source": [
        "f(a=1,2,c=3)"
      ],
      "execution_count": 5,
      "outputs": [
        {
          "output_type": "error",
          "ename": "SyntaxError",
          "evalue": "positional argument follows keyword argument (<ipython-input-5-84f8deb7ae94>, line 1)",
          "traceback": [
            "\u001b[0;36m  File \u001b[0;32m\"<ipython-input-5-84f8deb7ae94>\"\u001b[0;36m, line \u001b[0;32m1\u001b[0m\n\u001b[0;31m    f(a=1,2,c=3)\u001b[0m\n\u001b[0m               ^\u001b[0m\n\u001b[0;31mSyntaxError\u001b[0m\u001b[0;31m:\u001b[0m positional argument follows keyword argument\n"
          ]
        }
      ]
    },
    {
      "cell_type": "markdown",
      "metadata": {
        "id": "1xy6nb8RDJqV"
      },
      "source": [
        "## Q3"
      ]
    },
    {
      "cell_type": "markdown",
      "metadata": {
        "id": "xZj-8bSLDOzL"
      },
      "source": [
        "Scope of variables (i.e. when are variables accessible):\n",
        "\n",
        "Lets first define some functions:\n",
        "\n",
        "```\n",
        "# Lets define some variables\n",
        "def funct1():\n",
        "     var1 = 1\n",
        "     var2 = 2\n",
        "     var3 = 3\n",
        "\n",
        "# Lets print a variable\n",
        "def funct2():\n",
        "     print(var2)\n",
        "\n",
        "```\n",
        "\n",
        "a) What will happen if we run:\n",
        "\n",
        "\n",
        "```\n",
        "funct2()\n",
        "```\n",
        "b) How about:\n",
        "```\n",
        "funct1()\n",
        "funct2()\n",
        "```\n"
      ]
    },
    {
      "cell_type": "markdown",
      "metadata": {
        "id": "aYO9-8ugTLcP"
      },
      "source": [
        "### Answer"
      ]
    },
    {
      "cell_type": "markdown",
      "metadata": {
        "id": "tyKuguE9TQ_a"
      },
      "source": [
        "Lets find out!"
      ]
    },
    {
      "cell_type": "code",
      "metadata": {
        "id": "iRofOnJ2TKmd"
      },
      "source": [
        "def funct1():\n",
        "     var1 = 1\n",
        "     var2 = 2\n",
        "     var3 = 3\n",
        "\n",
        "def funct2():\n",
        "     print(var2)"
      ],
      "execution_count": null,
      "outputs": []
    },
    {
      "cell_type": "code",
      "metadata": {
        "colab": {
          "base_uri": "https://localhost:8080/",
          "height": 250
        },
        "id": "RUTbCqtHTUeW",
        "outputId": "cfa1d337-f2e2-4cf6-ca39-b9bacacc0110"
      },
      "source": [
        "funct2()"
      ],
      "execution_count": null,
      "outputs": [
        {
          "output_type": "error",
          "ename": "NameError",
          "evalue": "ignored",
          "traceback": [
            "\u001b[0;31m---------------------------------------------------------------------------\u001b[0m",
            "\u001b[0;31mNameError\u001b[0m                                 Traceback (most recent call last)",
            "\u001b[0;32m<ipython-input-36-ebe5212e473d>\u001b[0m in \u001b[0;36m<module>\u001b[0;34m()\u001b[0m\n\u001b[0;32m----> 1\u001b[0;31m \u001b[0mfunct2\u001b[0m\u001b[0;34m(\u001b[0m\u001b[0;34m)\u001b[0m\u001b[0;34m\u001b[0m\u001b[0;34m\u001b[0m\u001b[0m\n\u001b[0m",
            "\u001b[0;32m<ipython-input-35-54e88eb44789>\u001b[0m in \u001b[0;36mfunct2\u001b[0;34m()\u001b[0m\n\u001b[1;32m      5\u001b[0m \u001b[0;34m\u001b[0m\u001b[0m\n\u001b[1;32m      6\u001b[0m \u001b[0;32mdef\u001b[0m \u001b[0mfunct2\u001b[0m\u001b[0;34m(\u001b[0m\u001b[0;34m)\u001b[0m\u001b[0;34m:\u001b[0m\u001b[0;34m\u001b[0m\u001b[0;34m\u001b[0m\u001b[0m\n\u001b[0;32m----> 7\u001b[0;31m      \u001b[0mprint\u001b[0m\u001b[0;34m(\u001b[0m\u001b[0mvar2\u001b[0m\u001b[0;34m)\u001b[0m\u001b[0;34m\u001b[0m\u001b[0;34m\u001b[0m\u001b[0m\n\u001b[0m",
            "\u001b[0;31mNameError\u001b[0m: name 'var2' is not defined"
          ]
        }
      ]
    },
    {
      "cell_type": "code",
      "metadata": {
        "colab": {
          "base_uri": "https://localhost:8080/",
          "height": 267
        },
        "id": "YR9LfgJHTXUW",
        "outputId": "b4e8cac9-663c-4c9e-b66f-ec7479bd9bd1"
      },
      "source": [
        "funct1()\n",
        "funct2()"
      ],
      "execution_count": null,
      "outputs": [
        {
          "output_type": "error",
          "ename": "NameError",
          "evalue": "ignored",
          "traceback": [
            "\u001b[0;31m---------------------------------------------------------------------------\u001b[0m",
            "\u001b[0;31mNameError\u001b[0m                                 Traceback (most recent call last)",
            "\u001b[0;32m<ipython-input-37-4f4ac7f4254e>\u001b[0m in \u001b[0;36m<module>\u001b[0;34m()\u001b[0m\n\u001b[1;32m      1\u001b[0m \u001b[0mfunct1\u001b[0m\u001b[0;34m(\u001b[0m\u001b[0;34m)\u001b[0m\u001b[0;34m\u001b[0m\u001b[0;34m\u001b[0m\u001b[0m\n\u001b[0;32m----> 2\u001b[0;31m \u001b[0mfunct2\u001b[0m\u001b[0;34m(\u001b[0m\u001b[0;34m)\u001b[0m\u001b[0;34m\u001b[0m\u001b[0;34m\u001b[0m\u001b[0m\n\u001b[0m",
            "\u001b[0;32m<ipython-input-35-54e88eb44789>\u001b[0m in \u001b[0;36mfunct2\u001b[0;34m()\u001b[0m\n\u001b[1;32m      5\u001b[0m \u001b[0;34m\u001b[0m\u001b[0m\n\u001b[1;32m      6\u001b[0m \u001b[0;32mdef\u001b[0m \u001b[0mfunct2\u001b[0m\u001b[0;34m(\u001b[0m\u001b[0;34m)\u001b[0m\u001b[0;34m:\u001b[0m\u001b[0;34m\u001b[0m\u001b[0;34m\u001b[0m\u001b[0m\n\u001b[0;32m----> 7\u001b[0;31m      \u001b[0mprint\u001b[0m\u001b[0;34m(\u001b[0m\u001b[0mvar2\u001b[0m\u001b[0;34m)\u001b[0m\u001b[0;34m\u001b[0m\u001b[0;34m\u001b[0m\u001b[0m\n\u001b[0m",
            "\u001b[0;31mNameError\u001b[0m: name 'var2' is not defined"
          ]
        }
      ]
    },
    {
      "cell_type": "markdown",
      "metadata": {
        "id": "q-kFoY3qTp2y"
      },
      "source": [
        "## Q4"
      ]
    },
    {
      "cell_type": "markdown",
      "metadata": {
        "id": "_fgZYFxCTr0Y"
      },
      "source": [
        "Lets do something a tricky. What happens if we change the value of a list in a function:\n"
      ]
    },
    {
      "cell_type": "code",
      "metadata": {
        "id": "iKScHqQjU1mu"
      },
      "source": [
        "def func3(l1,l2,l3):\n",
        "     l1[1] = 'Cat'\n",
        "     return l1\n",
        "\n",
        "def func4(l1,l2,l3):\n",
        "    l1 = list(l1)\n",
        "    l1[1]='Cat'\n",
        "    return l1"
      ],
      "execution_count": null,
      "outputs": []
    },
    {
      "cell_type": "markdown",
      "metadata": {
        "id": "fbhSBLTXVD_v"
      },
      "source": [
        "What would the following code output:\n",
        "\n",
        "a)\n",
        "\n",
        "```\n",
        "l1 = [1,2,3]\n",
        "l2 = [4,5,6]\n",
        "l3 = [7,8,9]\n",
        "result = func3(l1,l2,l3)\n",
        "print('Value in the original list',l1[1])\n",
        "print('Value in the result ',result[1])\n",
        "```\n",
        "b)\n",
        "```\n",
        "l1 = [1,2,3]\n",
        "l2 = [4,5,6]\n",
        "l3 = [7,8,9]\n",
        "result = func4(l1,l2,l3)\n",
        "print('Value in the original list',l1[1])\n",
        "print('Value in the result ',result[1])\n",
        "```\n"
      ]
    },
    {
      "cell_type": "markdown",
      "metadata": {
        "id": "DtwKZO-AVtaC"
      },
      "source": [
        "### Answers"
      ]
    },
    {
      "cell_type": "markdown",
      "metadata": {
        "id": "hqM73sJ6WMB5"
      },
      "source": [
        "Lets try this out:"
      ]
    },
    {
      "cell_type": "code",
      "metadata": {
        "colab": {
          "base_uri": "https://localhost:8080/"
        },
        "id": "UbeSTMcbVv27",
        "outputId": "6a96f9d7-9190-4a06-cb4d-dd83453875b5"
      },
      "source": [
        "l1 = [1,2,3]\n",
        "l2 = [4,5,6]\n",
        "l3 = [7,8,9]\n",
        "result = func3(l1,l2,l3)\n",
        "print('Value in the original list:',l1[1])\n",
        "print('Value in the result:',result[1])"
      ],
      "execution_count": null,
      "outputs": [
        {
          "output_type": "stream",
          "name": "stdout",
          "text": [
            "Value in the original list: Cat\n",
            "Value in the result: Cat\n"
          ]
        }
      ]
    },
    {
      "cell_type": "markdown",
      "metadata": {
        "id": "2JozV9VCWNuH"
      },
      "source": [
        "In python variables are passed by reference, therefore changing the value of a list in a function will change the variable outside of the function"
      ]
    },
    {
      "cell_type": "code",
      "metadata": {
        "colab": {
          "base_uri": "https://localhost:8080/"
        },
        "id": "L1szztRTWHMr",
        "outputId": "f1484262-c7b1-428f-ff85-bdc03407c7b1"
      },
      "source": [
        "l1 = [1,2,3]\n",
        "l2 = [4,5,6]\n",
        "l3 = [7,8,9]\n",
        "result = func4(l1,l2,l3)\n",
        "print('Value in the original list:',l1[1])\n",
        "print('Value in the result:',result[1])"
      ],
      "execution_count": null,
      "outputs": [
        {
          "output_type": "stream",
          "name": "stdout",
          "text": [
            "Value in the original list: 2\n",
            "Value in the result: Cat\n"
          ]
        }
      ]
    },
    {
      "cell_type": "markdown",
      "metadata": {
        "id": "MnhMpVtrWhz1"
      },
      "source": [
        "However, if you make a new list in the function and rename it (using the list comand), then the changes will not be seen outside of the function"
      ]
    },
    {
      "cell_type": "markdown",
      "metadata": {
        "id": "L0r5k2f1Yknk"
      },
      "source": [
        "## Q5"
      ]
    },
    {
      "cell_type": "markdown",
      "metadata": {
        "id": "Xk60JhHJYocT"
      },
      "source": [
        "As you have seen from the notes, returning functions from functions is also possible.\n"
      ]
    },
    {
      "cell_type": "code",
      "metadata": {
        "id": "xTGTlHQMZlSj"
      },
      "source": [
        "def genFunction(x):\n",
        "  def func1(y):\n",
        "     return x+y\n",
        "  return func1"
      ],
      "execution_count": null,
      "outputs": []
    },
    {
      "cell_type": "markdown",
      "metadata": {
        "id": "abvrAgJGcGVQ"
      },
      "source": [
        "What would the following code output:"
      ]
    },
    {
      "cell_type": "markdown",
      "metadata": {
        "id": "3lS7OTByZyua"
      },
      "source": [
        "\n",
        "\n",
        "```\n",
        "q5_f1 = genFunction(1)\n",
        "q5_f2 = genFunction(10)\n",
        "\n",
        "print(q5_f1(5))\n",
        "print(q5_f2(5))\n",
        "\n",
        "```\n",
        "\n"
      ]
    },
    {
      "cell_type": "markdown",
      "metadata": {
        "id": "fkYGFkmbcUr-"
      },
      "source": [
        "### Answer"
      ]
    },
    {
      "cell_type": "code",
      "metadata": {
        "colab": {
          "base_uri": "https://localhost:8080/"
        },
        "id": "tFJ2vNmGcERT",
        "outputId": "eadf7775-4f2f-493c-8358-5660fa55c9d3"
      },
      "source": [
        "q5_f1 = genFunction(1)\n",
        "q5_f2 = genFunction(10)\n",
        "\n",
        "print('Value of f1',q5_f1(5))\n",
        "print('Value of f2',q5_f2(5))"
      ],
      "execution_count": null,
      "outputs": [
        {
          "output_type": "stream",
          "name": "stdout",
          "text": [
            "Value of f1 6\n",
            "Value of f2 15\n"
          ]
        }
      ]
    },
    {
      "cell_type": "code",
      "metadata": {
        "colab": {
          "base_uri": "https://localhost:8080/"
        },
        "id": "HgIV4uAfc79I",
        "outputId": "8dacc376-144b-4d0f-8389-11fce004516d"
      },
      "source": [
        "q5_f1(10)"
      ],
      "execution_count": null,
      "outputs": [
        {
          "output_type": "execute_result",
          "data": {
            "text/plain": [
              "11"
            ]
          },
          "metadata": {},
          "execution_count": 133
        }
      ]
    },
    {
      "cell_type": "markdown",
      "metadata": {
        "id": "CCRxy2becfKy"
      },
      "source": [
        "# Recursive Functions"
      ]
    },
    {
      "cell_type": "markdown",
      "metadata": {
        "id": "VvkTmKG2cjLh"
      },
      "source": [
        "In previous years, we received questions on recursive functions. Recursive functions are functions that call themselves to solve a problem.\n",
        "\n",
        "In general the problem is split up into smaller and smaller problems. They are then solved and then combined.\n",
        "\n",
        "\n",
        "This can in general be a really useful tool as you saw in the notes to compute if a string is a palindrome.\n",
        "\n",
        "\n",
        "\n"
      ]
    },
    {
      "cell_type": "code",
      "metadata": {
        "id": "RI5I8hp2mlZL"
      },
      "source": [
        "def is_palindrome(s1):\n",
        "  if len(s1)==0:\n",
        "      return True\n",
        "  if s1[0]!=s1[-1]:\n",
        "      return False\n",
        "  return is_palindrome(s1[1:-1])"
      ],
      "execution_count": null,
      "outputs": []
    },
    {
      "cell_type": "code",
      "metadata": {
        "colab": {
          "base_uri": "https://localhost:8080/"
        },
        "id": "89I1jPLxm0-_",
        "outputId": "6bbb9983-b231-4ea3-b805-c3472760d712"
      },
      "source": [
        "is_palindrome('anna')"
      ],
      "execution_count": null,
      "outputs": [
        {
          "output_type": "execute_result",
          "data": {
            "text/plain": [
              "True"
            ]
          },
          "metadata": {},
          "execution_count": 122
        }
      ]
    },
    {
      "cell_type": "code",
      "metadata": {
        "colab": {
          "base_uri": "https://localhost:8080/"
        },
        "id": "0iNqhNrTm4Bk",
        "outputId": "f54d50d9-b454-4726-b4f1-6e7c7dbeabc0"
      },
      "source": [
        "is_palindrome('anne')"
      ],
      "execution_count": null,
      "outputs": [
        {
          "output_type": "execute_result",
          "data": {
            "text/plain": [
              "False"
            ]
          },
          "metadata": {},
          "execution_count": 123
        }
      ]
    },
    {
      "cell_type": "markdown",
      "metadata": {
        "id": "e28zanQsnNgI"
      },
      "source": [
        "These are basically useful whenever you can split your problem in similar sub-problems before combining them."
      ]
    },
    {
      "cell_type": "markdown",
      "metadata": {
        "id": "6s-PIB_omkcL"
      },
      "source": [
        "## Fibonacci\n",
        "An obvious example to further explore recursive functions is the Fibonacci series.\n",
        "\n",
        "The Fibonacci sequence is defined as:\n",
        "\n",
        "$$F_i = F_{i-1} + F_{i-2}$$\n",
        "\n",
        "$F_0=0$ and $F_1=1$."
      ]
    },
    {
      "cell_type": "markdown",
      "metadata": {
        "id": "8ka55WRIc6_X"
      },
      "source": [
        "\n",
        "!['FibonacciSpiral'](https://upload.wikimedia.org/wikipedia/commons/2/2e/FibonacciSpiral.svg)\n",
        "Source: Jahobr https://commons.wikimedia.org/wiki/File:FibonacciSpiral.svg\n",
        "\n",
        "\n",
        "Lets now write a simple recursive function to compute this:"
      ]
    },
    {
      "cell_type": "code",
      "metadata": {
        "id": "_yX05cA0cug9"
      },
      "source": [
        "def fib(n):\n",
        "  # Check if we are in a simple case\n",
        "  if n==0:\n",
        "    return 0\n",
        "  if n==1:\n",
        "    return 1\n",
        "  # Okay if we are not, then lets use a recursive step\n",
        "  return fib(n-1)+fib(n-2)"
      ],
      "execution_count": null,
      "outputs": []
    },
    {
      "cell_type": "code",
      "metadata": {
        "colab": {
          "base_uri": "https://localhost:8080/"
        },
        "id": "ngvxVCgSedid",
        "outputId": "8326f0c1-004d-4da4-845f-82aa5ecbabb3"
      },
      "source": [
        "print(fib(5))"
      ],
      "execution_count": null,
      "outputs": [
        {
          "output_type": "stream",
          "name": "stdout",
          "text": [
            "5\n"
          ]
        }
      ]
    },
    {
      "cell_type": "markdown",
      "metadata": {
        "id": "F1qvSdkDeov1"
      },
      "source": [
        "So it is right but how did it do it?"
      ]
    },
    {
      "cell_type": "code",
      "metadata": {
        "id": "HgkdGfAtenag"
      },
      "source": [
        "def fibDescribe(n,depth=0):\n",
        "  # Print out every time the function runs\n",
        "  print('      '*depth +'Running n='+str(n),'depth=',depth)\n",
        "  # Check if we are in a simple case\n",
        "  if n==0:\n",
        "    return 0\n",
        "  if n==1:\n",
        "    return 1\n",
        "  # Okay if we are not, then lets use a recursive step\n",
        "  return fibDescribe(n-1,depth+1)+fibDescribe(n-2,depth+1)"
      ],
      "execution_count": null,
      "outputs": []
    },
    {
      "cell_type": "code",
      "metadata": {
        "colab": {
          "base_uri": "https://localhost:8080/"
        },
        "id": "CFT6Tm9Qe8U3",
        "outputId": "948ccf1a-ffbb-4150-9818-0cf88140a3e2"
      },
      "source": [
        "fibDescribe(5)"
      ],
      "execution_count": null,
      "outputs": [
        {
          "output_type": "stream",
          "name": "stdout",
          "text": [
            "Running n=5 depth= 0\n",
            "      Running n=4 depth= 1\n",
            "            Running n=3 depth= 2\n",
            "                  Running n=2 depth= 3\n",
            "                        Running n=1 depth= 4\n",
            "                        Running n=0 depth= 4\n",
            "                  Running n=1 depth= 3\n",
            "            Running n=2 depth= 2\n",
            "                  Running n=1 depth= 3\n",
            "                  Running n=0 depth= 3\n",
            "      Running n=3 depth= 1\n",
            "            Running n=2 depth= 2\n",
            "                  Running n=1 depth= 3\n",
            "                  Running n=0 depth= 3\n",
            "            Running n=1 depth= 2\n"
          ]
        },
        {
          "output_type": "execute_result",
          "data": {
            "text/plain": [
              "5"
            ]
          },
          "metadata": {},
          "execution_count": 125
        }
      ]
    },
    {
      "cell_type": "markdown",
      "metadata": {
        "id": "JWjWWOlpfMVb"
      },
      "source": [
        "So we get the result but as we can see we actually call the function with the same arguments several times.  This is of course inefficient, so we have to be careful when we use it.\n",
        "\n"
      ]
    },
    {
      "cell_type": "markdown",
      "metadata": {
        "id": "T_7aqpbvjUoB"
      },
      "source": [
        "# LRU Cache (Advanced)\n",
        "\n",
        "Usually, it is better to restructure your code in this case so that it doesn't call the function too many times.\n",
        "\n",
        "However, there are cases where this might not be as easy (or the function call might be expensive). In this case, you can use an LRU_cache.\n",
        "\n",
        "An LRU (least recently used) cache stores the value of certain function calls so that they can be used again.\n",
        "\n",
        "You need to be careful about using this but it can make your code much faster.\n"
      ]
    },
    {
      "cell_type": "code",
      "metadata": {
        "id": "Vn054KvNgpuq"
      },
      "source": [
        "from functools import lru_cache"
      ],
      "execution_count": null,
      "outputs": []
    },
    {
      "cell_type": "markdown",
      "metadata": {
        "id": "DhQddPeElV-W"
      },
      "source": [
        "To do this we use a Python decorator, which is a little out of scope of the course, but can be used like this:"
      ]
    },
    {
      "cell_type": "code",
      "metadata": {
        "id": "69DJP8cLgu3W"
      },
      "source": [
        "@lru_cache(128) # cache the 128 most recent calls to the function\n",
        "def fibDescribeLRUcache1(n,depth=0):\n",
        "  print('    '*depth+'Running n='+str(n),'depth=',depth)\n",
        "  # Check if we are in a simple case\n",
        "  if n==0:\n",
        "    return 0\n",
        "  if n==1:\n",
        "    return 1\n",
        "  # Okay if we are not, then lets use a recursive step\n",
        "  return fibDescribeLRUcache1(n-1,depth+1)+fibDescribeLRUcache1(n-2,depth+1)\n",
        "\n",
        "# version that does not print\n",
        "@lru_cache(128)\n",
        "def fibDescribeLRUcache2(n):\n",
        "  # Check if we are in a simple case\n",
        "  if n==0:\n",
        "    return 0\n",
        "  if n==1:\n",
        "    return 1\n",
        "  # Okay if we are not, then lets use a recursive step\n",
        "  return fibDescribeLRUcache2(n-1)+fibDescribeLRUcache2(n-2)"
      ],
      "execution_count": null,
      "outputs": []
    },
    {
      "cell_type": "code",
      "metadata": {
        "colab": {
          "base_uri": "https://localhost:8080/"
        },
        "id": "JdD-P1Kbg1yH",
        "outputId": "b84a0222-edac-45ae-ac81-221004da37e7"
      },
      "source": [
        "fibDescribeLRUcache1(7)"
      ],
      "execution_count": null,
      "outputs": [
        {
          "output_type": "stream",
          "name": "stdout",
          "text": [
            "Running n=7 depth= 0\n",
            "    Running n=6 depth= 1\n",
            "        Running n=5 depth= 2\n",
            "            Running n=4 depth= 3\n",
            "                Running n=3 depth= 4\n",
            "                    Running n=2 depth= 5\n",
            "                        Running n=1 depth= 6\n",
            "                        Running n=0 depth= 6\n",
            "                    Running n=1 depth= 5\n",
            "                Running n=2 depth= 4\n",
            "                    Running n=0 depth= 5\n",
            "            Running n=3 depth= 3\n",
            "                Running n=1 depth= 4\n",
            "        Running n=4 depth= 2\n",
            "            Running n=2 depth= 3\n",
            "                Running n=0 depth= 4\n",
            "    Running n=5 depth= 1\n",
            "        Running n=3 depth= 2\n",
            "            Running n=1 depth= 3\n"
          ]
        },
        {
          "output_type": "execute_result",
          "data": {
            "text/plain": [
              "13"
            ]
          },
          "metadata": {},
          "execution_count": 3
        }
      ]
    },
    {
      "cell_type": "markdown",
      "metadata": {
        "id": "bNywuelnh1ma"
      },
      "source": [
        "But if we run this the second time we dont get any of these messages:"
      ]
    },
    {
      "cell_type": "code",
      "metadata": {
        "colab": {
          "base_uri": "https://localhost:8080/"
        },
        "id": "J4jDRDQnhcJV",
        "outputId": "d90875b7-e026-4567-e19c-e0bde9513fc3"
      },
      "source": [
        "fibDescribeLRUcache1(7)"
      ],
      "execution_count": null,
      "outputs": [
        {
          "output_type": "execute_result",
          "data": {
            "text/plain": [
              "13"
            ]
          },
          "metadata": {},
          "execution_count": 4
        }
      ]
    },
    {
      "cell_type": "code",
      "metadata": {
        "colab": {
          "base_uri": "https://localhost:8080/"
        },
        "id": "UwUH68o6h-xE",
        "outputId": "dd151910-021d-41dd-d92c-75e60c86788b"
      },
      "source": [
        "%time print('Recursive way',fib(35))\n",
        "fibDescribeLRUcache2.cache_clear()\n",
        "%time print('Recursive Cached way',fibDescribeLRUcache2(35))"
      ],
      "execution_count": null,
      "outputs": [
        {
          "output_type": "stream",
          "name": "stdout",
          "text": [
            "Recursive way 9227465\n",
            "CPU times: user 2.42 s, sys: 7.89 ms, total: 2.43 s\n",
            "Wall time: 2.44 s\n",
            "Recursive Cached way 9227465\n",
            "CPU times: user 419 µs, sys: 6 µs, total: 425 µs\n",
            "Wall time: 429 µs\n"
          ]
        }
      ]
    },
    {
      "cell_type": "code",
      "metadata": {
        "id": "3MFzrfBUrI9A"
      },
      "source": [],
      "execution_count": null,
      "outputs": []
    },
    {
      "cell_type": "markdown",
      "source": [
        "# Exercises"
      ],
      "metadata": {
        "id": "-LGd9ZxghYhG"
      }
    },
    {
      "cell_type": "markdown",
      "source": [
        "Note: The notes will have a lot more detail on the solutions than is present here, this is mostly here so we can quickly look at a solution during the Q+A session."
      ],
      "metadata": {
        "id": "PAQd11gi1FoS"
      }
    },
    {
      "cell_type": "markdown",
      "source": [
        "### Exercise 1"
      ],
      "metadata": {
        "id": "g4-M42S1h5FM"
      }
    },
    {
      "cell_type": "markdown",
      "source": [
        "After importing random, we can use the function ```random.gauss(mu, sigma)``` to draw one realisation from the N(mu,sigma^2) distribution.\n",
        "\n",
        "Look at the function calls below and decide which ones are allowed.\n",
        "\n",
        "```\n",
        "import random\n",
        "random.gauss(0, 1)\n",
        "random.gauss(0, sigma=1)\n",
        "random.gauss(1, mu=0)\n",
        "random.gauss(sigma=1, mu=0)\n",
        "random.gauss(sigma=1, 0)\n",
        "```"
      ],
      "metadata": {
        "id": "ZSsjizQLh-V6"
      }
    },
    {
      "cell_type": "markdown",
      "source": [
        "#### Answer"
      ],
      "metadata": {
        "id": "_oW3y4_GiNQ3"
      }
    },
    {
      "cell_type": "markdown",
      "source": [
        "The following calls are not allowed.\n"
      ],
      "metadata": {
        "id": "6jMYfYVLiTBH"
      }
    },
    {
      "cell_type": "code",
      "source": [
        "import random\n",
        "random.gauss(1, mu=0)     # Named argument specifies parameter already matched"
      ],
      "metadata": {
        "colab": {
          "base_uri": "https://localhost:8080/",
          "height": 187
        },
        "id": "UJzsWAvzhZce",
        "outputId": "f08f05f9-a69c-4888-b7ef-1b547175748e"
      },
      "execution_count": null,
      "outputs": [
        {
          "output_type": "error",
          "ename": "TypeError",
          "evalue": "ignored",
          "traceback": [
            "\u001b[0;31m---------------------------------------------------------------------------\u001b[0m",
            "\u001b[0;31mTypeError\u001b[0m                                 Traceback (most recent call last)",
            "\u001b[0;32m<ipython-input-26-42ed1ab930b0>\u001b[0m in \u001b[0;36m<module>\u001b[0;34m\u001b[0m\n\u001b[1;32m      1\u001b[0m \u001b[0;32mimport\u001b[0m \u001b[0mrandom\u001b[0m\u001b[0;34m\u001b[0m\u001b[0;34m\u001b[0m\u001b[0m\n\u001b[0;32m----> 2\u001b[0;31m \u001b[0mrandom\u001b[0m\u001b[0;34m.\u001b[0m\u001b[0mgauss\u001b[0m\u001b[0;34m(\u001b[0m\u001b[0;36m1\u001b[0m\u001b[0;34m,\u001b[0m \u001b[0mmu\u001b[0m\u001b[0;34m=\u001b[0m\u001b[0;36m0\u001b[0m\u001b[0;34m)\u001b[0m     \u001b[0;31m# Named argument specifies parameter already matched\u001b[0m\u001b[0;34m\u001b[0m\u001b[0;34m\u001b[0m\u001b[0m\n\u001b[0m",
            "\u001b[0;31mTypeError\u001b[0m: gauss() got multiple values for argument 'mu'"
          ]
        }
      ]
    },
    {
      "cell_type": "code",
      "source": [
        "random.gauss(sigma=1, 0)  # Positional argument argument named argument"
      ],
      "metadata": {
        "colab": {
          "base_uri": "https://localhost:8080/",
          "height": 133
        },
        "id": "9UBeLjK1iUrj",
        "outputId": "3bf9f91b-c85a-4b6a-d870-28928c326d43"
      },
      "execution_count": null,
      "outputs": [
        {
          "output_type": "error",
          "ename": "SyntaxError",
          "evalue": "ignored",
          "traceback": [
            "\u001b[0;36m  File \u001b[0;32m\"<ipython-input-27-52b2af225cae>\"\u001b[0;36m, line \u001b[0;32m1\u001b[0m\n\u001b[0;31m    random.gauss(sigma=1, 0)  # Positional argument argument named argument\u001b[0m\n\u001b[0m                         ^\u001b[0m\n\u001b[0;31mSyntaxError\u001b[0m\u001b[0;31m:\u001b[0m positional argument follows keyword argument\n"
          ]
        }
      ]
    },
    {
      "cell_type": "markdown",
      "source": [
        "## Exercise 2"
      ],
      "metadata": {
        "id": "hkEUkT_iijTC"
      }
    },
    {
      "cell_type": "markdown",
      "source": [
        "Let's again consider the function random.gauss from Task 1. Use a tuple and dictionary to specify the arguments mu and sigma.\n",
        "\n"
      ],
      "metadata": {
        "id": "24-Gr4DwioTp"
      }
    },
    {
      "cell_type": "markdown",
      "source": [
        "#### Answer"
      ],
      "metadata": {
        "id": "fcUniYeuispO"
      }
    },
    {
      "cell_type": "code",
      "source": [
        "import random\n",
        "t = (0, 1)\n",
        "random.gauss(*t)"
      ],
      "metadata": {
        "colab": {
          "base_uri": "https://localhost:8080/"
        },
        "id": "Y5oV9Bh5ikX9",
        "outputId": "985c8049-e550-4789-ddb5-f03f0608fef2"
      },
      "execution_count": null,
      "outputs": [
        {
          "output_type": "execute_result",
          "data": {
            "text/plain": [
              "2.3299277460800383"
            ]
          },
          "metadata": {},
          "execution_count": 28
        }
      ]
    },
    {
      "cell_type": "code",
      "source": [
        "d = {\"mu\": 0, \"sigma\": 1}\n",
        "random.gauss(**d)"
      ],
      "metadata": {
        "colab": {
          "base_uri": "https://localhost:8080/"
        },
        "id": "k5IMP8ipi7Lq",
        "outputId": "e1bb159f-344c-466a-c194-31b0514da516"
      },
      "execution_count": null,
      "outputs": [
        {
          "output_type": "execute_result",
          "data": {
            "text/plain": [
              "0.30175603988957156"
            ]
          },
          "metadata": {},
          "execution_count": 29
        }
      ]
    },
    {
      "cell_type": "code",
      "source": [],
      "metadata": {
        "id": "mLO6n149i9IO"
      },
      "execution_count": null,
      "outputs": []
    },
    {
      "cell_type": "markdown",
      "source": [
        "## Exercise 3"
      ],
      "metadata": {
        "id": "Z5pjrjOxjHtA"
      }
    },
    {
      "cell_type": "markdown",
      "source": [
        "Write a function ```stirling``` which takes a number ```n``` as argument which returns Stirling's approximation to ```n!```:\n",
        "\n",
        "\n",
        "$$\n",
        "\\sqrt{2 \\pi n} \\times n^n \\times exp(-n)\n",
        "$$\n",
        "\n",
        "\n",
        "\n",
        "After having imported math, pi is math.pi, math.sqrt is the square root and math.exp is the exponential function.\n",
        "\n"
      ],
      "metadata": {
        "id": "Xxvcm3yZjJXw"
      }
    },
    {
      "cell_type": "markdown",
      "source": [
        "#### Answer"
      ],
      "metadata": {
        "id": "I4flqw0iBeE3"
      }
    },
    {
      "cell_type": "code",
      "source": [
        "import math\n",
        "\n",
        "def stirling(n):\n",
        "    return math.sqrt(2*math.pi*n) * n**n * math.exp(-n)\n",
        "\n",
        "print(stirling(10))"
      ],
      "metadata": {
        "id": "3Q658jqNjIxT",
        "colab": {
          "base_uri": "https://localhost:8080/"
        },
        "outputId": "0464e539-dcc8-475c-fa7e-0611d0658945"
      },
      "execution_count": null,
      "outputs": [
        {
          "output_type": "stream",
          "name": "stdout",
          "text": [
            "3598695.6187410364\n"
          ]
        }
      ]
    },
    {
      "cell_type": "markdown",
      "source": [
        "## Exercise 4\n"
      ],
      "metadata": {
        "id": "a18Ierop8eff"
      }
    },
    {
      "cell_type": "markdown",
      "source": [
        "\n",
        "Write a function ```cumulative_sum``` which takes an iterable x as argument and returns a list of the same length containing the cumulative sum $(x_0,x_0+x_1,x_0+x_1+x_2+...)$ (using zero-based indexing).\n",
        "\n"
      ],
      "metadata": {
        "id": "K4T8PkybBlh8"
      }
    },
    {
      "cell_type": "markdown",
      "source": [
        "#### Answer"
      ],
      "metadata": {
        "id": "iaJ2xzIZB1qP"
      }
    },
    {
      "cell_type": "code",
      "source": [
        "def cumulative_sum(x):\n",
        "    c = [ x[0] ]\n",
        "    for i in range(1, len(x)):\n",
        "        c.append(c[-1]+x[i])\n",
        "    return c\n",
        "\n",
        "print(cumulative_sum([1, 2, 4]))"
      ],
      "metadata": {
        "colab": {
          "base_uri": "https://localhost:8080/"
        },
        "id": "WI6Z0oCDByZD",
        "outputId": "72c9a340-b46f-4214-de66-bc649c1cf74d"
      },
      "execution_count": 6,
      "outputs": [
        {
          "output_type": "stream",
          "name": "stdout",
          "text": [
            "[1, 3, 7]\n"
          ]
        }
      ]
    },
    {
      "cell_type": "markdown",
      "source": [
        "## Exercise 5"
      ],
      "metadata": {
        "id": "4k8d2k9YDNr0"
      }
    },
    {
      "cell_type": "markdown",
      "source": [
        "In this task we return to Stirling's formula from Task 3, however there is a better bound (see notes for formula).\n",
        "\n",
        "Writing a function stirling_bounds that takes n as argument and which returns a tuple of length 2 containing the two bounds.\n",
        "\n",
        "Call the function stirling_bounds to compute the bounds for  and store the resulting bounds in two variables lower and upper.\n",
        "\n"
      ],
      "metadata": {
        "id": "e02cemdiDSWR"
      }
    },
    {
      "cell_type": "markdown",
      "source": [
        "#### Answer"
      ],
      "metadata": {
        "id": "JdNcESRJDbRp"
      }
    },
    {
      "cell_type": "code",
      "source": [
        "import math\n",
        "\n",
        "def stirling_bounds(n):\n",
        "  approx = math.sqrt(2*math.pi*n) * n**n * math.exp(-n)\n",
        "  return (approx * math.exp(1/(12*n+1)), approx * math.exp(1/(12*n)))\n",
        "\n",
        "lower, upper = stirling_bounds(10)\n",
        "print(lower)"
      ],
      "metadata": {
        "colab": {
          "base_uri": "https://localhost:8080/"
        },
        "id": "DWOk6IkPDPJo",
        "outputId": "2a73de40-9435-40a6-ec09-87b71f6b1b74"
      },
      "execution_count": null,
      "outputs": [
        {
          "output_type": "stream",
          "name": "stdout",
          "text": [
            "3628560.1419851105\n"
          ]
        }
      ]
    },
    {
      "cell_type": "code",
      "source": [
        "print(upper)\n"
      ],
      "metadata": {
        "colab": {
          "base_uri": "https://localhost:8080/"
        },
        "id": "I0JTLvrZDefg",
        "outputId": "a677af69-e8c1-4711-f37f-3c0aa8c1db41"
      },
      "execution_count": null,
      "outputs": [
        {
          "output_type": "stream",
          "name": "stdout",
          "text": [
            "3628810.051426934\n"
          ]
        }
      ]
    },
    {
      "cell_type": "code",
      "source": [],
      "metadata": {
        "id": "9rZjNkzkDffH"
      },
      "execution_count": null,
      "outputs": []
    },
    {
      "cell_type": "markdown",
      "source": [
        "## Exercise 6"
      ],
      "metadata": {
        "id": "3f4v5pVv01bk"
      }
    },
    {
      "cell_type": "markdown",
      "source": [
        "Write a function norm which takes an arbitrary number of positional arguments $x_i$, and the named argument ``p``  (default value 2) and which calculates the ``p``-norm?"
      ],
      "metadata": {
        "id": "QsZ-0AKM04xX"
      }
    },
    {
      "cell_type": "markdown",
      "source": [
        "#### Answer"
      ],
      "metadata": {
        "id": "7-2ranDl1vLZ"
      }
    },
    {
      "cell_type": "code",
      "source": [
        "def norm(*x, p=2):\n",
        "    return sum([abs(xi)**p for xi in x])**(1/p)\n",
        "\n",
        "norm(1, 2, 3, p=1)"
      ],
      "metadata": {
        "colab": {
          "base_uri": "https://localhost:8080/"
        },
        "id": "HyUI4ZZ0021w",
        "outputId": "87e896c0-1a97-4d76-dc2d-bc4519f5007e"
      },
      "execution_count": null,
      "outputs": [
        {
          "output_type": "execute_result",
          "data": {
            "text/plain": [
              "6.0"
            ]
          },
          "metadata": {},
          "execution_count": 3
        }
      ]
    },
    {
      "cell_type": "markdown",
      "source": [
        "Could also have used a for loop:"
      ],
      "metadata": {
        "id": "oN_Ycw6r12-X"
      }
    },
    {
      "cell_type": "code",
      "source": [
        "def norm(*x, p=2):\n",
        "    s = 0;\n",
        "    for xi in x:\n",
        "        s += abs(xi)**p\n",
        "    return s**(1/p)\n",
        "\n",
        "norm(1, 2, 3, p=1)"
      ],
      "metadata": {
        "colab": {
          "base_uri": "https://localhost:8080/"
        },
        "id": "OOa7xw5G1ymb",
        "outputId": "8ebf802d-cf07-49b7-fd5a-53c832210076"
      },
      "execution_count": null,
      "outputs": [
        {
          "output_type": "execute_result",
          "data": {
            "text/plain": [
              "6.0"
            ]
          },
          "metadata": {},
          "execution_count": 5
        }
      ]
    },
    {
      "cell_type": "code",
      "source": [],
      "metadata": {
        "id": "b3e37fPO2Ael"
      },
      "execution_count": null,
      "outputs": []
    },
    {
      "cell_type": "markdown",
      "source": [
        "## Exercise 7"
      ],
      "metadata": {
        "id": "RSHJuSUB2KaX"
      }
    },
    {
      "cell_type": "markdown",
      "source": [
        "Consider the list of words\n",
        "\n",
        "```\n",
        "words = [\"Anonymous\", \"function\", \"map\", \"filter\"]\n",
        "```\n",
        "\n",
        "Use the function map to produce list of the lengths of these four words."
      ],
      "metadata": {
        "id": "wCVaoc2b2Nz0"
      }
    },
    {
      "cell_type": "markdown",
      "source": [
        "#### Answer"
      ],
      "metadata": {
        "id": "oakBmqhJ2QfL"
      }
    },
    {
      "cell_type": "code",
      "source": [
        "words = [\"Anonymous\", \"function\", \"map\", \"filter\"]\n",
        "lens = map(len, words)\n",
        "print(list(lens))\n"
      ],
      "metadata": {
        "colab": {
          "base_uri": "https://localhost:8080/"
        },
        "id": "vnLUIoVs2L9x",
        "outputId": "fc4d774a-c2ec-4f57-9fd0-44cd57bd438e"
      },
      "execution_count": null,
      "outputs": [
        {
          "output_type": "stream",
          "name": "stdout",
          "text": [
            "[9, 8, 3, 6]\n"
          ]
        }
      ]
    },
    {
      "cell_type": "code",
      "source": [],
      "metadata": {
        "id": "h4dRBn592Ud5"
      },
      "execution_count": null,
      "outputs": []
    },
    {
      "cell_type": "markdown",
      "source": [
        "## Exercise 8"
      ],
      "metadata": {
        "id": "q9RFd80l2sFU"
      }
    },
    {
      "cell_type": "markdown",
      "source": [
        "Use map to produce the first twenty powers of 2. Then use ```filter``` to only retain those greater than 100,000.\n",
        "\n",
        "Can you answer this question also using a single list comprehension?\n",
        "\n"
      ],
      "metadata": {
        "id": "y5w3W4Za2t2F"
      }
    },
    {
      "cell_type": "markdown",
      "source": [
        "#### Answer"
      ],
      "metadata": {
        "id": "8D3yVgW42xHt"
      }
    },
    {
      "cell_type": "code",
      "source": [
        "powers = list(map(lambda x:2**x,range(1,21)))\n",
        "print(powers)\n",
        "print(list(filter(lambda x:x>100000,powers)))"
      ],
      "metadata": {
        "colab": {
          "base_uri": "https://localhost:8080/"
        },
        "id": "J8jmQ99i2tT7",
        "outputId": "21128480-aa32-4d71-a0f0-2a17f65fc280"
      },
      "execution_count": null,
      "outputs": [
        {
          "output_type": "stream",
          "name": "stdout",
          "text": [
            "[2, 4, 8, 16, 32, 64, 128, 256, 512, 1024, 2048, 4096, 8192, 16384, 32768, 65536, 131072, 262144, 524288, 1048576]\n",
            "[131072, 262144, 524288, 1048576]\n"
          ]
        }
      ]
    },
    {
      "cell_type": "markdown",
      "source": [
        "List comprehension way:"
      ],
      "metadata": {
        "id": "_NK_PFvV3PCC"
      }
    },
    {
      "cell_type": "code",
      "source": [
        "powers = [ 2**xi for xi in range(1,21) if 2**xi>100000 ]\n",
        "print(powers)\n"
      ],
      "metadata": {
        "colab": {
          "base_uri": "https://localhost:8080/"
        },
        "id": "H1uXyrsF22P3",
        "outputId": "79a440ba-638b-40f0-c884-d92e447f4411"
      },
      "execution_count": null,
      "outputs": [
        {
          "output_type": "stream",
          "name": "stdout",
          "text": [
            "[131072, 262144, 524288, 1048576]\n"
          ]
        }
      ]
    },
    {
      "cell_type": "code",
      "source": [],
      "metadata": {
        "id": "vzilmUlb3Qec"
      },
      "execution_count": null,
      "outputs": []
    },
    {
      "cell_type": "markdown",
      "source": [
        "## Exercise 9"
      ],
      "metadata": {
        "id": "I-QcVs1H436R"
      }
    },
    {
      "cell_type": "markdown",
      "source": [
        "Write a function that takes an integer n as argument and then calculates the factorial.\n",
        "\n",
        "Can you think of more than one way of coding up this function?\n",
        "\n"
      ],
      "metadata": {
        "id": "n3oZhxXb48J4"
      }
    },
    {
      "cell_type": "markdown",
      "source": [
        "#### Answer"
      ],
      "metadata": {
        "id": "kmCNV5Qh49mq"
      }
    },
    {
      "cell_type": "markdown",
      "source": [
        "For loop:"
      ],
      "metadata": {
        "id": "Rshe4GlU5D1S"
      }
    },
    {
      "cell_type": "code",
      "source": [
        "def factorial(n):\n",
        "    if n==0:\n",
        "        return 1\n",
        "    result = 1\n",
        "    for i in range(1, n+1):\n",
        "        result *= i\n",
        "    return result\n",
        "\n",
        "factorial(10)"
      ],
      "metadata": {
        "colab": {
          "base_uri": "https://localhost:8080/"
        },
        "id": "Bi3hx-KP447h",
        "outputId": "5ebc2c7b-5550-4fa7-9661-259fed85055d"
      },
      "execution_count": null,
      "outputs": [
        {
          "output_type": "execute_result",
          "data": {
            "text/plain": [
              "3628800"
            ]
          },
          "metadata": {},
          "execution_count": 18
        }
      ]
    },
    {
      "cell_type": "markdown",
      "source": [
        "Recursive:"
      ],
      "metadata": {
        "id": "O82cfZ985E6C"
      }
    },
    {
      "cell_type": "code",
      "source": [
        "def factorial(n):\n",
        "    if n==0:\n",
        "        return 1\n",
        "    return n*factorial(n-1)\n",
        "\n",
        "factorial(10)"
      ],
      "metadata": {
        "colab": {
          "base_uri": "https://localhost:8080/"
        },
        "id": "cZO70HqF5Fks",
        "outputId": "dc32ae74-de83-41c3-bfe9-bd64b5b38249"
      },
      "execution_count": null,
      "outputs": [
        {
          "output_type": "execute_result",
          "data": {
            "text/plain": [
              "3628800"
            ]
          },
          "metadata": {},
          "execution_count": 17
        }
      ]
    },
    {
      "cell_type": "code",
      "source": [],
      "metadata": {
        "id": "NhMxR4Ew5Gj0"
      },
      "execution_count": null,
      "outputs": []
    },
    {
      "cell_type": "markdown",
      "source": [
        "## Exercise 10"
      ],
      "metadata": {
        "id": "eBUzqamt5Q49"
      }
    },
    {
      "cell_type": "markdown",
      "source": [
        "Write a function median that takes a list x as argument and that returns the median of x. If the length  of x is odd, then the median is the middle entry. If the length of x is even, then the median is the average of the middle two entries.\n",
        "\n"
      ],
      "metadata": {
        "id": "2C2ogy7B5Sxz"
      }
    },
    {
      "cell_type": "markdown",
      "source": [
        "#### Answer"
      ],
      "metadata": {
        "id": "WHd7sHp35eef"
      }
    },
    {
      "cell_type": "markdown",
      "source": [
        "Simple sort based solution:"
      ],
      "metadata": {
        "id": "GxrsAtRM5ikN"
      }
    },
    {
      "cell_type": "code",
      "source": [
        "def median(x):\n",
        "    x = sorted(x)\n",
        "    n = len(x)\n",
        "    if n%2==0:\n",
        "        return (x[int(n/2)-1]+x[int(n/2+1)-1])/2\n",
        "    else:\n",
        "        return (x[int((n+1)/2)-1])\n",
        "\n",
        "print(median([3, 1, 2]))"
      ],
      "metadata": {
        "id": "bwVsxzCN5SFH"
      },
      "execution_count": null,
      "outputs": []
    },
    {
      "cell_type": "markdown",
      "source": [
        "Similar solution if we assume that it takes multiple args:"
      ],
      "metadata": {
        "id": "A8F7iApY5pRo"
      }
    },
    {
      "cell_type": "code",
      "source": [
        "def median(*x):\n",
        "    x = sorted(x)\n",
        "    n = len(x)\n",
        "    if n%2==0:\n",
        "        return (x[int(n/2)]+x[int(n/2+1)])/2\n",
        "    else:\n",
        "        return (x[int((n+1)/2)])\n",
        "\n",
        "print(median(3, 1, 2))"
      ],
      "metadata": {
        "colab": {
          "base_uri": "https://localhost:8080/"
        },
        "id": "QTplXvUp5tqC",
        "outputId": "f7ef0618-a6ef-4ac2-dc60-765d5bebe96b"
      },
      "execution_count": null,
      "outputs": [
        {
          "output_type": "stream",
          "name": "stdout",
          "text": [
            "3\n"
          ]
        }
      ]
    },
    {
      "cell_type": "code",
      "source": [],
      "metadata": {
        "id": "WyazeJZ05uKt"
      },
      "execution_count": null,
      "outputs": []
    },
    {
      "cell_type": "markdown",
      "source": [
        "## Exercise 11"
      ],
      "metadata": {
        "id": "CEaPVmeo54WO"
      }
    },
    {
      "cell_type": "markdown",
      "source": [
        "Write functions my_map and my_filter, which take the same arguments as map and filter and which return a list containing the same entries as the results from map and filter.\n"
      ],
      "metadata": {
        "id": "J49cy_0e56Sc"
      }
    },
    {
      "cell_type": "markdown",
      "source": [
        "#### Answer"
      ],
      "metadata": {
        "id": "CRIZHveB57i6"
      }
    },
    {
      "cell_type": "code",
      "source": [
        "def my_map(f, x):\n",
        "    return [ f(xi) for xi in x ]\n",
        "\n",
        "\n",
        "def my_map(*args,**kwargs):\n",
        "  return list(map(*args,**kwargs))"
      ],
      "metadata": {
        "id": "LKav3Oe-55xi"
      },
      "execution_count": null,
      "outputs": []
    },
    {
      "cell_type": "code",
      "source": [
        "my_map(lambda x:x**2,range(10))"
      ],
      "metadata": {
        "colab": {
          "base_uri": "https://localhost:8080/"
        },
        "id": "_NVV0smn5-em",
        "outputId": "13823a50-5b9e-45cd-fc8c-71b207f56bf8"
      },
      "execution_count": null,
      "outputs": [
        {
          "output_type": "execute_result",
          "data": {
            "text/plain": [
              "[0, 1, 4, 9, 16, 25, 36, 49, 64, 81]"
            ]
          },
          "metadata": {},
          "execution_count": 22
        }
      ]
    },
    {
      "cell_type": "markdown",
      "source": [
        "Filter version:"
      ],
      "metadata": {
        "id": "nE3a96Zw6Qfi"
      }
    },
    {
      "cell_type": "code",
      "source": [
        "def my_filter(f, x):\n",
        "    return [ xi for xi in x if f(xi) ]\n"
      ],
      "metadata": {
        "id": "kohr3x2t6Hoj"
      },
      "execution_count": null,
      "outputs": []
    },
    {
      "cell_type": "markdown",
      "source": [
        "## Exercise 12"
      ],
      "metadata": {
        "id": "2W-LSqYg6fcT"
      }
    },
    {
      "cell_type": "markdown",
      "source": [
        "Write a discrete sampler, which samples an integers with probability equal to the probability in the list/vector.\n",
        "\n",
        "Modify the code so that the probabilities are normalised.\n",
        "\n",
        "(See notes for much longer version of this question)."
      ],
      "metadata": {
        "id": "iGPDzQ9Q6jwG"
      }
    },
    {
      "cell_type": "markdown",
      "source": [
        "#### Answer"
      ],
      "metadata": {
        "id": "6RUAnF_V6986"
      }
    },
    {
      "cell_type": "code",
      "source": [
        "import random\n",
        "\n",
        "def discrete_sample(p):\n",
        "    sum_p = sum(p)\n",
        "    p = [ pi/sum_p for pi in p ]     # re-normalise p\n",
        "    u = random.random()\n",
        "    c = 0\n",
        "    for i in range(len(p)):\n",
        "        c = c+p[i]\n",
        "        if c>=u:\n",
        "            return i\n",
        "\n",
        "print(discrete_sample([0.1, 0.4, 0.5]))"
      ],
      "metadata": {
        "colab": {
          "base_uri": "https://localhost:8080/"
        },
        "id": "oSsHA3M36gkS",
        "outputId": "9a9c1b6f-25b0-418c-8784-6175ece9f8dc"
      },
      "execution_count": null,
      "outputs": [
        {
          "output_type": "stream",
          "name": "stdout",
          "text": [
            "2\n"
          ]
        }
      ]
    },
    {
      "cell_type": "markdown",
      "source": [
        "## Exercise 13"
      ],
      "metadata": {
        "id": "beAFJY6G7Dvw"
      }
    },
    {
      "cell_type": "markdown",
      "source": [
        "See notes for extended question on rock, paper scissors."
      ],
      "metadata": {
        "id": "QFQkkRC17S0T"
      }
    },
    {
      "cell_type": "markdown",
      "source": [
        "#### Answer"
      ],
      "metadata": {
        "id": "-_l6Bb7c8T6J"
      }
    },
    {
      "cell_type": "markdown",
      "source": [
        "Construct a random selection function:"
      ],
      "metadata": {
        "id": "BlbuSM5L7a1z"
      }
    },
    {
      "cell_type": "code",
      "source": [
        "def draw_rock_paper_scissors_well(p):\n",
        "    choice = discrete_sample(p)               # from previous task\n",
        "    return [\"rock\", \"paper\", \"scissors\", \"well\"][choice]\n"
      ],
      "metadata": {
        "id": "Q0ZoM_D07Fgx"
      },
      "execution_count": null,
      "outputs": []
    },
    {
      "cell_type": "markdown",
      "source": [
        "A who wins function:"
      ],
      "metadata": {
        "id": "y__q2ZZv7hJd"
      }
    },
    {
      "cell_type": "code",
      "source": [
        "def whowins(player1, player2):\n",
        "    winning_configurations = [ [\"rock\", \"scissors\"],\n",
        "                               [\"scissors\", \"paper\"],\n",
        "                               [\"paper\", \"rock\"],\n",
        "                               [\"well\", \"rock\"],\n",
        "                               [\"well\", \"scissors\"],\n",
        "                               [\"paper\", \"well\"] ]\n",
        "    if player1==player2:\n",
        "        return None\n",
        "    if [player1, player2] in winning_configurations:\n",
        "        return 1\n",
        "    else:\n",
        "        return 2"
      ],
      "metadata": {
        "id": "_pAwvUDT7iV8"
      },
      "execution_count": null,
      "outputs": []
    },
    {
      "cell_type": "markdown",
      "source": [
        "Simulate games function:"
      ],
      "metadata": {
        "id": "NLTRnuGa7pgF"
      }
    },
    {
      "cell_type": "code",
      "source": [
        "def simulate_games(p1, p2, n=10000):\n",
        "    wins = 0\n",
        "    for i in range(n):\n",
        "        result = None        # Keep trying until someone wins\n",
        "        while result is None:\n",
        "            result = whowins( draw_rock_paper_scissors_well(p1),\n",
        "                              draw_rock_paper_scissors_well(p2))\n",
        "        if result==1:\n",
        "            wins += 1\n",
        "    return wins/n"
      ],
      "metadata": {
        "id": "4FVOHoy07pEv"
      },
      "execution_count": null,
      "outputs": []
    },
    {
      "cell_type": "code",
      "source": [
        "print(simulate_games([0,1/2,0,1/2], [1/4]*4, n=100000))\n"
      ],
      "metadata": {
        "colab": {
          "base_uri": "https://localhost:8080/"
        },
        "id": "9XOrJBYF7uVd",
        "outputId": "cc4c47e3-28b4-4d04-d873-3e00cc6af625"
      },
      "execution_count": null,
      "outputs": [
        {
          "output_type": "stream",
          "name": "stdout",
          "text": [
            "0.66743\n"
          ]
        }
      ]
    },
    {
      "cell_type": "markdown",
      "source": [
        "Well, Well, Well:"
      ],
      "metadata": {
        "id": "bVxA5SQw8CTU"
      }
    },
    {
      "cell_type": "code",
      "source": [
        "print(simulate_games([0,0,0,1], [1/4]*4, n=100000))\n"
      ],
      "metadata": {
        "colab": {
          "base_uri": "https://localhost:8080/"
        },
        "id": "YCbxf32X7uq8",
        "outputId": "a47307fe-948c-4c05-f129-4bbc961e45cc"
      },
      "execution_count": null,
      "outputs": [
        {
          "output_type": "stream",
          "name": "stdout",
          "text": [
            "0.66437\n"
          ]
        }
      ]
    },
    {
      "cell_type": "code",
      "source": [],
      "metadata": {
        "id": "MDfTqcjh8Fn7"
      },
      "execution_count": null,
      "outputs": []
    }
  ]
}