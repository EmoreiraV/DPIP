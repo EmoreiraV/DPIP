{
  "nbformat": 4,
  "nbformat_minor": 0,
  "metadata": {
    "colab": {
      "provenance": [],
      "include_colab_link": true
    },
    "kernelspec": {
      "name": "python3",
      "display_name": "Python 3"
    },
    "language_info": {
      "name": "python"
    }
  },
  "cells": [
    {
      "cell_type": "markdown",
      "metadata": {
        "id": "view-in-github",
        "colab_type": "text"
      },
      "source": [
        "<a href=\"https://colab.research.google.com/github/EmoreiraV/DPIP/blob/main/Numpy_week6.ipynb\" target=\"_parent\"><img src=\"https://colab.research.google.com/assets/colab-badge.svg\" alt=\"Open In Colab\"/></a>"
      ]
    },
    {
      "cell_type": "markdown",
      "metadata": {
        "id": "AgbgKiGlgrGf"
      },
      "source": [
        "# Working with numerical data using NumPy\n",
        "This week we are covering [NumPy](https://numpy.org/). Python lists and tuples aren't very efficient ways of storing and using numerical data. The Python library NumPy provides useful data structures and can be used in a similar way to how vectors and matrices are used in R"
      ]
    },
    {
      "cell_type": "markdown",
      "metadata": {
        "id": "p2-GF3p7h8M4"
      },
      "source": [
        "## Importing NumPy\n",
        "Traditionally in Python, NumPy is always imported as `np`\n"
      ]
    },
    {
      "cell_type": "code",
      "metadata": {
        "id": "lOQbvK-GnBSB"
      },
      "source": [
        "import numpy as np"
      ],
      "execution_count": null,
      "outputs": []
    },
    {
      "cell_type": "markdown",
      "metadata": {
        "id": "WPF4p12gnEnZ"
      },
      "source": [
        "The reason for this is that simply readability. This is a widely adopted convention, so it is best to do the same. You may also notice some people (e.g. me) referring to 'NumPy arrays' as 'np arrays' and similar."
      ]
    },
    {
      "cell_type": "markdown",
      "metadata": {
        "id": "rOA0mbucjN-M"
      },
      "source": [
        "## Simple NumPy Example\n",
        "You can set up a NumPy array really easily, e.g. here is a vector and a matrix\n"
      ]
    },
    {
      "cell_type": "code",
      "metadata": {
        "colab": {
          "base_uri": "https://localhost:8080/"
        },
        "id": "eZZ9Axgam4S7",
        "outputId": "56a6c981-0385-4985-9d89-e730d52ed5c7"
      },
      "source": [
        "vector = np.array([1,2,3])\n",
        "vector"
      ],
      "execution_count": null,
      "outputs": [
        {
          "output_type": "execute_result",
          "data": {
            "text/plain": [
              "array([1, 2, 3])"
            ]
          },
          "metadata": {},
          "execution_count": 26
        }
      ]
    },
    {
      "cell_type": "markdown",
      "metadata": {
        "id": "XEyBpcbqnT1w"
      },
      "source": [
        "and here is a matrix"
      ]
    },
    {
      "cell_type": "code",
      "metadata": {
        "colab": {
          "base_uri": "https://localhost:8080/"
        },
        "id": "SXZE7ez2nWDj",
        "outputId": "523e1a5e-b904-4f55-c477-72b0a88c5d74"
      },
      "source": [
        "matrix = np.array([[1,2,3],[4,5,6]])\n",
        "matrix"
      ],
      "execution_count": null,
      "outputs": [
        {
          "output_type": "execute_result",
          "data": {
            "text/plain": [
              "array([[1, 2, 3],\n",
              "       [4, 5, 6]])"
            ]
          },
          "metadata": {},
          "execution_count": 27
        }
      ]
    },
    {
      "cell_type": "markdown",
      "metadata": {
        "id": "Ak5M5fytnk8_"
      },
      "source": [
        "or you can even create a NumPy array straight from a list which can be useful sometimes"
      ]
    },
    {
      "cell_type": "code",
      "metadata": {
        "colab": {
          "base_uri": "https://localhost:8080/"
        },
        "id": "6iwnwkranqsj",
        "outputId": "3f6bb57c-476c-4659-9fd3-85694c93f9ca"
      },
      "source": [
        "new_list = [1,2,3]\n",
        "nparray = np.array(new_list)\n",
        "nparray"
      ],
      "execution_count": null,
      "outputs": [
        {
          "output_type": "execute_result",
          "data": {
            "text/plain": [
              "array([1, 2, 3])"
            ]
          },
          "metadata": {},
          "execution_count": 28
        }
      ]
    },
    {
      "cell_type": "markdown",
      "metadata": {
        "id": "Dey-qoiqn5W5"
      },
      "source": [
        "There are also functions to create specific styles of NumPy arrays, e.g. `np.zeros`, `np.ones`, or in this case `np.arange`:"
      ]
    },
    {
      "cell_type": "code",
      "metadata": {
        "colab": {
          "base_uri": "https://localhost:8080/"
        },
        "id": "Bb7H3zVYoPBi",
        "outputId": "10822f53-8ea8-4d67-88a3-e51d28583a40"
      },
      "source": [
        "sequence = np.arange(10,20,2)\n",
        "sequence"
      ],
      "execution_count": null,
      "outputs": [
        {
          "output_type": "execute_result",
          "data": {
            "text/plain": [
              "array([10, 12, 14, 16, 18])"
            ]
          },
          "metadata": {},
          "execution_count": 29
        }
      ]
    },
    {
      "cell_type": "markdown",
      "metadata": {
        "id": "13MlduyYpFd0"
      },
      "source": [
        "You can find the shape of a NumPy, similarly to `dim` in R"
      ]
    },
    {
      "cell_type": "code",
      "metadata": {
        "colab": {
          "base_uri": "https://localhost:8080/"
        },
        "id": "eEv8gcdipOZl",
        "outputId": "4345691f-0792-4e2d-fce7-3fb6c5bd41f6"
      },
      "source": [
        "matrix.shape"
      ],
      "execution_count": null,
      "outputs": [
        {
          "output_type": "execute_result",
          "data": {
            "text/plain": [
              "(2, 3)"
            ]
          },
          "metadata": {},
          "execution_count": 30
        }
      ]
    },
    {
      "cell_type": "markdown",
      "metadata": {
        "id": "rvP6FuoQpT3r"
      },
      "source": [
        "and you can rearrange the matrix as well, remembering that unlike R, NumPy stores its data row-major format, e.g. `(1,2,3,4,5,6)`"
      ]
    },
    {
      "cell_type": "code",
      "metadata": {
        "colab": {
          "base_uri": "https://localhost:8080/"
        },
        "id": "TZd929Khzo9g",
        "outputId": "26483fed-5da3-44b5-b344-75f8cb3e7917"
      },
      "source": [
        "matrix"
      ],
      "execution_count": null,
      "outputs": [
        {
          "output_type": "execute_result",
          "data": {
            "text/plain": [
              "array([[1, 2, 3],\n",
              "       [4, 5, 6]])"
            ]
          },
          "metadata": {},
          "execution_count": 31
        }
      ]
    },
    {
      "cell_type": "code",
      "metadata": {
        "colab": {
          "base_uri": "https://localhost:8080/"
        },
        "id": "O-BPkmy1pvE-",
        "outputId": "23dcde38-9399-4b8f-b4dd-04d33a39e8c8"
      },
      "source": [
        "reshaped_matrix = matrix.reshape(3,2)\n",
        "print(reshaped_matrix)\n",
        "reshaped_matrix"
      ],
      "execution_count": null,
      "outputs": [
        {
          "output_type": "stream",
          "name": "stdout",
          "text": [
            "[[1 2]\n",
            " [3 4]\n",
            " [5 6]]\n"
          ]
        },
        {
          "output_type": "execute_result",
          "data": {
            "text/plain": [
              "array([[1, 2],\n",
              "       [3, 4],\n",
              "       [5, 6]])"
            ]
          },
          "metadata": {},
          "execution_count": 32
        }
      ]
    },
    {
      "cell_type": "markdown",
      "metadata": {
        "id": "bi-BlI1bjwFQ"
      },
      "source": [
        "## Combining NumPy Arrays\n",
        "We can combined NumPy arrays in a similar way to how we would in R, but we just have to be a little careful as Python doesn't necessarily act the same way as R. To start with we will look at what Python does when we have axes of the same length, later we will look at Broadcasting which is what happens when things don't match up!\n",
        "\n",
        "Lets combine two example matrices to start. Here we can use `np.concatenate` to firstly do the equivilant to `rbind`"
      ]
    },
    {
      "cell_type": "code",
      "metadata": {
        "colab": {
          "base_uri": "https://localhost:8080/"
        },
        "id": "PJ8jwMb71W9G",
        "outputId": "ce9e836e-2cab-4826-a28d-e99f1bed6f4a"
      },
      "source": [
        "matrix"
      ],
      "execution_count": null,
      "outputs": [
        {
          "output_type": "execute_result",
          "data": {
            "text/plain": [
              "array([[1, 2, 3],\n",
              "       [4, 5, 6]])"
            ]
          },
          "metadata": {},
          "execution_count": 33
        }
      ]
    },
    {
      "cell_type": "code",
      "metadata": {
        "id": "43ZWKgMFMEip",
        "colab": {
          "base_uri": "https://localhost:8080/"
        },
        "outputId": "84fda20e-431c-43b9-ab8d-ad6f80eeee42"
      },
      "source": [
        "new_matrix = np.array([[7,8,9],[10,11,12]])\n",
        "joined_matrices = np.concatenate((matrix, new_matrix), 0)\n",
        "joined_matrices"
      ],
      "execution_count": null,
      "outputs": [
        {
          "output_type": "execute_result",
          "data": {
            "text/plain": [
              "array([[ 1,  2,  3],\n",
              "       [ 4,  5,  6],\n",
              "       [ 7,  8,  9],\n",
              "       [10, 11, 12]])"
            ]
          },
          "metadata": {},
          "execution_count": 34
        }
      ]
    },
    {
      "cell_type": "markdown",
      "metadata": {
        "id": "ycj-z-7VMtWp"
      },
      "source": [
        "and we can also do the equivilant of `cbind`"
      ]
    },
    {
      "cell_type": "code",
      "metadata": {
        "id": "klbR22JZMwZV",
        "colab": {
          "base_uri": "https://localhost:8080/"
        },
        "outputId": "dfadfc62-2c2e-4ff8-c3b9-2a301548615e"
      },
      "source": [
        "joined_matrices_v2 = np.concatenate((matrix, new_matrix), 1)\n",
        "joined_matrices_v2"
      ],
      "execution_count": null,
      "outputs": [
        {
          "output_type": "execute_result",
          "data": {
            "text/plain": [
              "array([[ 1,  2,  3,  7,  8,  9],\n",
              "       [ 4,  5,  6, 10, 11, 12]])"
            ]
          },
          "metadata": {},
          "execution_count": 35
        }
      ]
    },
    {
      "cell_type": "markdown",
      "metadata": {
        "id": "LQkq7Ni3NG1t"
      },
      "source": [
        "[link text](https://)We can also join things along a new axis, e.g. to combine 2 vectors, using `np.stack`"
      ]
    },
    {
      "cell_type": "code",
      "metadata": {
        "colab": {
          "base_uri": "https://localhost:8080/"
        },
        "id": "V9aZplRu1qO5",
        "outputId": "30468947-96ff-4ac3-ebb7-b4bf378d7978"
      },
      "source": [
        "vector"
      ],
      "execution_count": null,
      "outputs": [
        {
          "output_type": "execute_result",
          "data": {
            "text/plain": [
              "array([1, 2, 3])"
            ]
          },
          "metadata": {},
          "execution_count": 36
        }
      ]
    },
    {
      "cell_type": "code",
      "metadata": {
        "id": "zRBw9u5INOdO",
        "colab": {
          "base_uri": "https://localhost:8080/"
        },
        "outputId": "da64c93f-4577-4688-925a-d660198af372"
      },
      "source": [
        "np.stack((vector, vector))"
      ],
      "execution_count": null,
      "outputs": [
        {
          "output_type": "execute_result",
          "data": {
            "text/plain": [
              "array([[1, 2, 3],\n",
              "       [1, 2, 3]])"
            ]
          },
          "metadata": {},
          "execution_count": 37
        }
      ]
    },
    {
      "cell_type": "markdown",
      "metadata": {
        "id": "aln07tAYjv95"
      },
      "source": [
        "## Accessing and Slicing\n",
        "Remembering that Python is zero-based, we can access elements, row and columns of the NumPy arrays, just as we would in R. Let remember our joined matrix to start"
      ]
    },
    {
      "cell_type": "code",
      "metadata": {
        "id": "cs41wtpTOKpC",
        "colab": {
          "base_uri": "https://localhost:8080/"
        },
        "outputId": "fcab5dab-0a2f-4ec1-aaf6-4696c0470392"
      },
      "source": [
        "joined_matrices"
      ],
      "execution_count": null,
      "outputs": [
        {
          "output_type": "execute_result",
          "data": {
            "text/plain": [
              "array([[ 1,  2,  3],\n",
              "       [ 4,  5,  6],\n",
              "       [ 7,  8,  9],\n",
              "       [10, 11, 12]])"
            ]
          },
          "metadata": {},
          "execution_count": 38
        }
      ]
    },
    {
      "cell_type": "markdown",
      "metadata": {
        "id": "7DWfjmBCOVRl"
      },
      "source": [
        "We can then extract an element"
      ]
    },
    {
      "cell_type": "code",
      "metadata": {
        "id": "LJVFiQVgOMft",
        "colab": {
          "base_uri": "https://localhost:8080/"
        },
        "outputId": "d23deda6-8433-40cd-81f6-967ede392849"
      },
      "source": [
        "joined_matrices[1,0]"
      ],
      "execution_count": null,
      "outputs": [
        {
          "output_type": "execute_result",
          "data": {
            "text/plain": [
              "4"
            ]
          },
          "metadata": {},
          "execution_count": 39
        }
      ]
    },
    {
      "cell_type": "markdown",
      "metadata": {
        "id": "eWkJkR1KOkM4"
      },
      "source": [
        "or we can extract a row"
      ]
    },
    {
      "cell_type": "code",
      "metadata": {
        "id": "NShIY0cHOpM8",
        "colab": {
          "base_uri": "https://localhost:8080/"
        },
        "outputId": "fe79f9c7-03ed-40ca-c3fd-2ccc034d7527"
      },
      "source": [
        "joined_matrices[1] # this would also work: joined_matrices[1,:]"
      ],
      "execution_count": null,
      "outputs": [
        {
          "output_type": "execute_result",
          "data": {
            "text/plain": [
              "array([4, 5, 6])"
            ]
          },
          "metadata": {},
          "execution_count": 40
        }
      ]
    },
    {
      "cell_type": "markdown",
      "metadata": {
        "id": "UXFA34mBPE_4"
      },
      "source": [
        "or a column"
      ]
    },
    {
      "cell_type": "code",
      "metadata": {
        "id": "Ds73cEn2O_wm",
        "colab": {
          "base_uri": "https://localhost:8080/"
        },
        "outputId": "afab2bf8-4544-480c-d302-06b3b88768ee"
      },
      "source": [
        "joined_matrices[:,1]"
      ],
      "execution_count": null,
      "outputs": [
        {
          "output_type": "execute_result",
          "data": {
            "text/plain": [
              "array([ 2,  5,  8, 11])"
            ]
          },
          "metadata": {},
          "execution_count": 41
        }
      ]
    },
    {
      "cell_type": "markdown",
      "metadata": {
        "id": "QzLdIVxBPV_w"
      },
      "source": [
        "We can also select multiples at once. Be careful though, Python can spit out the results in different shapes. Remember also that when writing sequences in Python as I have below, Python does not return the last value in the series."
      ]
    },
    {
      "cell_type": "code",
      "metadata": {
        "id": "-D00ljWxPVAe",
        "colab": {
          "base_uri": "https://localhost:8080/"
        },
        "outputId": "58097fd8-4113-4345-db10-9214f46ccf44"
      },
      "source": [
        "joined_matrices[:,1:2]"
      ],
      "execution_count": null,
      "outputs": [
        {
          "output_type": "execute_result",
          "data": {
            "text/plain": [
              "array([[ 2],\n",
              "       [ 5],\n",
              "       [ 8],\n",
              "       [11]])"
            ]
          },
          "metadata": {},
          "execution_count": 42
        }
      ]
    },
    {
      "cell_type": "markdown",
      "metadata": {
        "id": "L9OFLnkKQD00"
      },
      "source": [
        "I can also select both columns and rows at once"
      ]
    },
    {
      "cell_type": "code",
      "metadata": {
        "id": "cwz50398P_H4",
        "colab": {
          "base_uri": "https://localhost:8080/"
        },
        "outputId": "f8178040-ff0c-452a-ffa2-efdd8c2cdfa8"
      },
      "source": [
        "joined_matrices[0:2,1:3]"
      ],
      "execution_count": null,
      "outputs": [
        {
          "output_type": "execute_result",
          "data": {
            "text/plain": [
              "array([[2, 3],\n",
              "       [5, 6]])"
            ]
          },
          "metadata": {},
          "execution_count": 43
        }
      ]
    },
    {
      "cell_type": "markdown",
      "metadata": {
        "id": "davN_tPQjv1X"
      },
      "source": [
        "## Calculations and Statistical Functions\n",
        "NumPy acts more as you would expect when you attempt to do calculations on it. For instance (althought note how it changes from integars to floats when you divide)"
      ]
    },
    {
      "cell_type": "code",
      "metadata": {
        "id": "zrx83s45SSif",
        "colab": {
          "base_uri": "https://localhost:8080/"
        },
        "outputId": "b0a1afc2-72c1-4524-ec90-8a6513f115db"
      },
      "source": [
        "vector = np.array([1,2,3])\n",
        "print(vector + vector)\n",
        "vector / vector\n"
      ],
      "execution_count": null,
      "outputs": [
        {
          "output_type": "stream",
          "name": "stdout",
          "text": [
            "[2 4 6]\n"
          ]
        },
        {
          "output_type": "execute_result",
          "data": {
            "text/plain": [
              "array([1., 1., 1.])"
            ]
          },
          "metadata": {},
          "execution_count": 44
        }
      ]
    },
    {
      "cell_type": "markdown",
      "metadata": {
        "id": "ZAGA3lPjS0KX"
      },
      "source": [
        "We can also do basic statistical function, e.g. `np.mean`, `np.max`, `np.sum`"
      ]
    },
    {
      "cell_type": "code",
      "metadata": {
        "id": "vu5b6rAPSxP5",
        "colab": {
          "base_uri": "https://localhost:8080/"
        },
        "outputId": "dd868e9a-2f27-458a-e44b-cf423760114e"
      },
      "source": [
        "np.mean(vector)"
      ],
      "execution_count": null,
      "outputs": [
        {
          "output_type": "execute_result",
          "data": {
            "text/plain": [
              "2.0"
            ]
          },
          "metadata": {},
          "execution_count": 45
        }
      ]
    },
    {
      "cell_type": "markdown",
      "source": [
        "There are also some extra arguments to these functions which you might find helpful:"
      ],
      "metadata": {
        "id": "HLfc5gw57WCr"
      }
    },
    {
      "cell_type": "code",
      "source": [
        "np.mean(joined_matrices,axis=0)"
      ],
      "metadata": {
        "colab": {
          "base_uri": "https://localhost:8080/"
        },
        "id": "FxghgZuI7aEy",
        "outputId": "d021638f-3f08-4e77-b1bc-04195c1db476"
      },
      "execution_count": null,
      "outputs": [
        {
          "output_type": "execute_result",
          "data": {
            "text/plain": [
              "array([5.5, 6.5, 7.5])"
            ]
          },
          "metadata": {},
          "execution_count": 46
        }
      ]
    },
    {
      "cell_type": "code",
      "source": [
        "np.mean(joined_matrices,axis=1)"
      ],
      "metadata": {
        "colab": {
          "base_uri": "https://localhost:8080/"
        },
        "id": "6Fd6pzdn7stj",
        "outputId": "eb434ae5-0847-4db8-d251-99a1298166b3"
      },
      "execution_count": null,
      "outputs": [
        {
          "output_type": "execute_result",
          "data": {
            "text/plain": [
              "array([ 2.,  5.,  8., 11.])"
            ]
          },
          "metadata": {},
          "execution_count": 47
        }
      ]
    },
    {
      "cell_type": "markdown",
      "source": [
        "However if we look at the shape of the arrays we will see:"
      ],
      "metadata": {
        "id": "xkx6HGxH7vKd"
      }
    },
    {
      "cell_type": "code",
      "source": [
        "np.mean(joined_matrices,axis=0).shape"
      ],
      "metadata": {
        "colab": {
          "base_uri": "https://localhost:8080/"
        },
        "id": "VFmNgs-u7zyZ",
        "outputId": "c4fec60b-f5cd-4549-8138-ce9312111fc4"
      },
      "execution_count": null,
      "outputs": [
        {
          "output_type": "execute_result",
          "data": {
            "text/plain": [
              "(3,)"
            ]
          },
          "metadata": {},
          "execution_count": 48
        }
      ]
    },
    {
      "cell_type": "markdown",
      "source": [
        "It only has one dimension.\n",
        "\n",
        "If we want to keep 2 dimensions in the output, we need to use the keepdims argument:"
      ],
      "metadata": {
        "id": "w3Sirz7071pc"
      }
    },
    {
      "cell_type": "code",
      "source": [
        "np.mean(joined_matrices,axis=0,keepdims=True).shape"
      ],
      "metadata": {
        "colab": {
          "base_uri": "https://localhost:8080/"
        },
        "id": "ABmTrPrT7_Ap",
        "outputId": "b8dcb730-d1d9-4820-8b72-1e2c40180477"
      },
      "execution_count": null,
      "outputs": [
        {
          "output_type": "execute_result",
          "data": {
            "text/plain": [
              "(1, 3)"
            ]
          },
          "metadata": {},
          "execution_count": 49
        }
      ]
    },
    {
      "cell_type": "code",
      "source": [
        "np.mean(joined_matrices,axis=1,keepdims=True).shape"
      ],
      "metadata": {
        "colab": {
          "base_uri": "https://localhost:8080/"
        },
        "id": "DPKv75qf8Bj9",
        "outputId": "14560bec-b424-40b4-b9c1-f320a728d34a"
      },
      "execution_count": null,
      "outputs": [
        {
          "output_type": "execute_result",
          "data": {
            "text/plain": [
              "(4, 1)"
            ]
          },
          "metadata": {},
          "execution_count": 50
        }
      ]
    },
    {
      "cell_type": "markdown",
      "source": [
        "Note one is a row and one is a column."
      ],
      "metadata": {
        "id": "DM2d0gjR8C_I"
      }
    },
    {
      "cell_type": "markdown",
      "metadata": {
        "id": "7dRWbZEwkIXc"
      },
      "source": [
        "## Broadcasting\n",
        "Broadcasting is what happens when we try and perform arithmatic on NumPy arrays that are not of the same size. I would in general urge caution with doing this kind of operation, as I would with recycling, the equivilant of broadcasting, in R. If you do do it then I highly reccommend thoroughly checking it and adding detailed comments.\n",
        "\n",
        "However, here are some examples:"
      ]
    },
    {
      "cell_type": "code",
      "metadata": {
        "id": "24tFTGAPeovL",
        "colab": {
          "base_uri": "https://localhost:8080/"
        },
        "outputId": "ba09117d-f9ba-451a-bc20-fd243c626146"
      },
      "source": [
        "x1 = np.array([1,2,3])\n",
        "x2 = np.array([[4,5,6],[7,8,9]])\n",
        "print(x1.shape)\n",
        "print(x2.shape)\n",
        "x1 + x2"
      ],
      "execution_count": null,
      "outputs": [
        {
          "output_type": "stream",
          "name": "stdout",
          "text": [
            "(3,)\n",
            "(2, 3)\n"
          ]
        },
        {
          "output_type": "execute_result",
          "data": {
            "text/plain": [
              "array([[ 5,  7,  9],\n",
              "       [ 8, 10, 12]])"
            ]
          },
          "metadata": {},
          "execution_count": 29
        }
      ]
    },
    {
      "cell_type": "code",
      "metadata": {
        "id": "dlsV1EJ7epuH",
        "colab": {
          "base_uri": "https://localhost:8080/"
        },
        "outputId": "a44b3c9e-905f-44c3-ab79-030d541b0213"
      },
      "source": [
        "x3 = np.array([[1],\n",
        "               [2]])\n",
        "print(x3.shape)\n",
        "print(x2.shape)\n",
        "x3 + x2"
      ],
      "execution_count": null,
      "outputs": [
        {
          "output_type": "stream",
          "name": "stdout",
          "text": [
            "(2, 1)\n",
            "(2, 3)\n"
          ]
        },
        {
          "output_type": "execute_result",
          "data": {
            "text/plain": [
              "array([[ 5,  6,  7],\n",
              "       [ 9, 10, 11]])"
            ]
          },
          "metadata": {},
          "execution_count": 30
        }
      ]
    },
    {
      "cell_type": "markdown",
      "source": [
        "Make sure to check both the size and the orientation (i.e. is it 1 by 10 or 10 by 1) of each of your matrices, you can use the size command to help with this."
      ],
      "metadata": {
        "id": "Tfgi1_o87IjZ"
      }
    },
    {
      "cell_type": "markdown",
      "metadata": {
        "id": "ZPcdHDBJkUpu"
      },
      "source": [
        "## Linear Algebra"
      ]
    },
    {
      "cell_type": "markdown",
      "metadata": {
        "id": "qwkMGwRjfpVA"
      },
      "source": [
        "Finally, we can do some linear algebra. Here we simply multiply a matrix by a diagonal matrix with 2 on the diagonal. Generally this would be a very inefficient way of of doing this, we say this has complexity $O(n^3)$"
      ]
    },
    {
      "cell_type": "code",
      "metadata": {
        "colab": {
          "base_uri": "https://localhost:8080/"
        },
        "id": "zHBlCmTD4LV_",
        "outputId": "adcce916-fb3e-4770-b51a-034fb2aff61d"
      },
      "source": [
        "d = 2*np.eye(3)\n",
        "d"
      ],
      "execution_count": null,
      "outputs": [
        {
          "output_type": "execute_result",
          "data": {
            "text/plain": [
              "array([[2., 0., 0.],\n",
              "       [0., 2., 0.],\n",
              "       [0., 0., 2.]])"
            ]
          },
          "metadata": {},
          "execution_count": 35
        }
      ]
    },
    {
      "cell_type": "code",
      "metadata": {
        "colab": {
          "base_uri": "https://localhost:8080/"
        },
        "id": "_CV6IfA24GOu",
        "outputId": "1f7b5279-423a-4c17-a280-91df8cdd225c"
      },
      "source": [
        "x = np.array([[1,2,3],[4,5,6],[7,8,9]])\n",
        "x"
      ],
      "execution_count": null,
      "outputs": [
        {
          "output_type": "execute_result",
          "data": {
            "text/plain": [
              "array([[1, 2, 3],\n",
              "       [4, 5, 6],\n",
              "       [7, 8, 9]])"
            ]
          },
          "metadata": {},
          "execution_count": 33
        }
      ]
    },
    {
      "cell_type": "code",
      "metadata": {
        "id": "uWUJheu8fots",
        "colab": {
          "base_uri": "https://localhost:8080/"
        },
        "outputId": "d3dc4a76-5b21-48bc-dbee-ffcdfa56e453"
      },
      "source": [
        "x = np.array([[1,2,3],[4,5,6],[7,8,9]])\n",
        "d = 2*np.eye(3)\n",
        "x@d"
      ],
      "execution_count": null,
      "outputs": [
        {
          "output_type": "execute_result",
          "data": {
            "text/plain": [
              "array([[ 2.,  4.,  6.],\n",
              "       [ 8., 10., 12.],\n",
              "       [14., 16., 18.]])"
            ]
          },
          "metadata": {},
          "execution_count": 36
        }
      ]
    },
    {
      "cell_type": "markdown",
      "metadata": {
        "id": "3b_KYSS_hsbD"
      },
      "source": [
        "The alternative to this would be `x*2` which would be $O(n^2)$. We should also be careful not to confuse matrix multiple with `@` with scalar multiplication with `*` which will do element wise multiplication"
      ]
    },
    {
      "cell_type": "code",
      "metadata": {
        "id": "cJBVeDKogVSB",
        "colab": {
          "base_uri": "https://localhost:8080/"
        },
        "outputId": "16added4-4e2a-4d87-d841-c5431731a01f"
      },
      "source": [
        "x*d"
      ],
      "execution_count": null,
      "outputs": [
        {
          "output_type": "execute_result",
          "data": {
            "text/plain": [
              "array([[ 2.,  0.,  0.],\n",
              "       [ 0., 10.,  0.],\n",
              "       [ 0.,  0., 18.]])"
            ]
          },
          "metadata": {},
          "execution_count": 37
        }
      ]
    }
  ]
}