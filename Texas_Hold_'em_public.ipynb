{
  "nbformat": 4,
  "nbformat_minor": 0,
  "metadata": {
    "colab": {
      "provenance": [],
      "include_colab_link": true
    },
    "kernelspec": {
      "display_name": "Python 3",
      "name": "python3"
    },
    "language_info": {
      "name": "python"
    }
  },
  "cells": [
    {
      "cell_type": "markdown",
      "metadata": {
        "id": "view-in-github",
        "colab_type": "text"
      },
      "source": [
        "<a href=\"https://colab.research.google.com/github/EmoreiraV/DPIP/blob/main/Texas_Hold_'em_public.ipynb\" target=\"_parent\"><img src=\"https://colab.research.google.com/assets/colab-badge.svg\" alt=\"Open In Colab\"/></a>"
      ]
    },
    {
      "cell_type": "markdown",
      "metadata": {
        "id": "K8_ajPv0U4rb"
      },
      "source": [
        "# Texas Hold'em\n",
        "\n",
        "Please find below a fun exercise which should allow you to play with Python classes and Python data structures in a more relaxed manner. There is no marks for this, this has just to let you get more familar with writting python, and thus the task is open ended, if you want to spend a lot of time on this and/or make something very complicated then great, or if you want to practice python a little then also great :-).\n",
        "\n",
        "The task is to write a (**simple**) betting strategy for a game of Texas Hold'em and then evaluate how well it does in comparison to some simple strategies I have defined.\n",
        "\n",
        "![](https://upload.wikimedia.org/wikipedia/commons/thumb/1/14/Holdem.jpg/640px-Holdem.jpg)\n",
        "\n",
        "Source: Author: Todd Klassy Url: https://commons.wikimedia.org/wiki/File:Holdem.jpg"
      ]
    },
    {
      "cell_type": "markdown",
      "metadata": {
        "id": "m5BJMMqvU94j"
      },
      "source": [
        "## Set up\n",
        "\n",
        "Lets first get the code that is going to do all of the work. For those that want to learn more about object orientated programming please have a look through the code :-).\n",
        "\n",
        "Further, if you spot an error and/or want to add something else to the code, we always welcome a pull request :-).\n"
      ]
    },
    {
      "cell_type": "code",
      "metadata": {
        "colab": {
          "base_uri": "https://localhost:8080/"
        },
        "id": "MhYeVvaKU3JP",
        "outputId": "d15a768d-9c59-455e-ddfc-0fca1fb22eba"
      },
      "source": [
        "!git clone -b texasHoldem https://github.com/UofGAnalyticsData/DPIP.git\n",
        "!git -C DPIP pull"
      ],
      "execution_count": 1,
      "outputs": [
        {
          "output_type": "stream",
          "name": "stdout",
          "text": [
            "Cloning into 'DPIP'...\n",
            "remote: Enumerating objects: 309, done.\u001b[K\n",
            "remote: Counting objects: 100% (38/38), done.\u001b[K\n",
            "remote: Compressing objects: 100% (26/26), done.\u001b[K\n",
            "remote: Total 309 (delta 12), reused 11 (delta 4), pack-reused 271\u001b[K\n",
            "Receiving objects: 100% (309/309), 735.77 KiB | 5.79 MiB/s, done.\n",
            "Resolving deltas: 100% (143/143), done.\n",
            "Already up to date.\n"
          ]
        }
      ]
    },
    {
      "cell_type": "markdown",
      "metadata": {
        "id": "Honc9lzpWRk0"
      },
      "source": [
        "Lets import all of the classes we need to use:\n",
        "\n"
      ]
    },
    {
      "cell_type": "code",
      "metadata": {
        "id": "Z_Qv7X15Ve0I"
      },
      "source": [
        "from DPIP.texasHoldem import cards\n",
        "from DPIP.texasHoldem import game\n",
        "from DPIP.texasHoldem import hand\n",
        "from DPIP.texasHoldem import player"
      ],
      "execution_count": 3,
      "outputs": []
    },
    {
      "cell_type": "markdown",
      "metadata": {
        "id": "1O_yRBt2qiT9"
      },
      "source": [
        "## Texas Hold'em Introduction\n",
        "\n",
        "Texas Hold'em is a popular version of poker, where every player is dealt 2 cards, which they have to combine with a set of community cards to make the best hand. The overall betting strategy is complicated, but in simple terms works as follows:\n",
        "\n",
        "1.   All players are dealt 2 cards and can then bet (wager money) that they will have the best hand, if a player does not wish to bet then they are out.\n",
        "2.   3 community cards are drawn, and then another betting round occurs.\n",
        "2.   1 community card is drawn, and then another betting round occurs.\n",
        "2.   1 community card is drawn, and then a final betting round occurs.\n",
        "\n",
        "The player with the best hand at the end (or if all other players are out), the only player remaining wins all of the money that has been wagered.\n",
        "\n",
        "For a full explanation of texas hold'em see the following document for a quick overview:\n",
        "\n",
        "https://www.partypoker.com/en/how-to-play/texas-holdem\n",
        "\n",
        "\n",
        "### Poker hand ranking:\n",
        "\n",
        "Of course to understand this game, we need to know which poker hands are better, rather than recite the list full details about which poker hand are better can be found on the following page:\n",
        "\n",
        "https://en.wikipedia.org/wiki/List_of_poker_hands\n",
        "\n",
        "### Simplifications:\n",
        "\n",
        "Texas Hold'em is quite complex, and thus for the version we are using a small number of simplifications:\n",
        "\n",
        "1.   Every player is in for every hand with 1 unit of currency (i.e. one dollar) (i.e. no big and small blinds).\n",
        "2.   Limited number of betting rounds with each card, with a final round where you can only bet enough to stay in.\n",
        "3. No complex hand rules all suits are considered equal.\n",
        "4. No wild cards!\n",
        "\n"
      ]
    },
    {
      "cell_type": "markdown",
      "metadata": {
        "id": "_ut_EFHtIoTc"
      },
      "source": [
        "## Our implementation\n",
        "\n",
        "If you are interested in the full implementation (**written quickly -- no judgements**!), then feel please check out the github above, it is not the most efficient implementation, but it is fast enough for our purposes.\n",
        "\n",
        "In general, it has been designed to use a lot of the object orientated programming we have been discussing, and for those who are interested I would encourage you to look through it.\n",
        "\n",
        "However, to complete the task, you need to define strategies and thus you need to understand our class implementaton.  First, the cards look like this:"
      ]
    },
    {
      "cell_type": "markdown",
      "metadata": {
        "id": "VENCdKo2UOgK"
      },
      "source": [
        "```python\n",
        "class Card:\n",
        "    \"\"\"\n",
        "    This is a simple class which represents a single card\n",
        "    \"\"\"\n",
        "    def __init__(self,suit,number):\n",
        "        # Error checking which we leave out for brevity\n",
        "        self.suit = suit # This is a string\n",
        "        self.number = number # This is a string\n",
        "        # Extra logic removed for brevity\n",
        "    def getSuit(self):\n",
        "        return self.suit\n",
        "    def getNumber(self):\n",
        "        return self.number\n",
        "    def __str__(self):\n",
        "        return f\"{self.number} of {self.suit}\"\n",
        "    def display(self):\n",
        "        pass\n",
        "```\n",
        "\n",
        "As we need to store both numbers 2, 3, 4 and face cards in our number section we will store this as a **strings**, and we have added extra methods to get the number and suit of the card.\n",
        "\n",
        "Therefore to test if a particular card is a heart, you need to do the following:"
      ]
    },
    {
      "cell_type": "code",
      "metadata": {
        "colab": {
          "base_uri": "https://localhost:8080/"
        },
        "id": "an4SgOJcPYp1",
        "outputId": "4110f79d-6bbf-41b1-ced7-5905b47f70d9"
      },
      "source": [
        "new_card = cards.Card('Hearts','2')\n",
        "\n",
        "if new_card.getSuit() == 'Hearts':\n",
        "    print('It is a heart')\n",
        "else:\n",
        "    print('It has no heart!')\n"
      ],
      "execution_count": 4,
      "outputs": [
        {
          "output_type": "stream",
          "name": "stdout",
          "text": [
            "It is a heart\n"
          ]
        }
      ]
    },
    {
      "cell_type": "markdown",
      "metadata": {
        "id": "GmD_69x-PwAk"
      },
      "source": [
        "Similarly for testing numbers, we can do the following:"
      ]
    },
    {
      "cell_type": "code",
      "metadata": {
        "id": "wP_VMWSRQDVh",
        "colab": {
          "base_uri": "https://localhost:8080/"
        },
        "outputId": "fc7db4ee-fc8e-4326-8b95-b04651409584"
      },
      "source": [
        "new_card = cards.Card('Hearts','5')\n",
        "\n",
        "if new_card.getNumber() == '5':\n",
        "    print('It is a 5')\n",
        "else:\n",
        "    print('It is not a 5!')\n"
      ],
      "execution_count": 5,
      "outputs": [
        {
          "output_type": "stream",
          "name": "stdout",
          "text": [
            "It is a 5\n"
          ]
        }
      ]
    },
    {
      "cell_type": "markdown",
      "metadata": {
        "id": "RnAgrXLsU8lX"
      },
      "source": [
        "We must then define our Deck which will make all of our cards and let us deal with drawing and shuffing the cards:\n",
        "\n",
        "```python\n",
        "class Deck:\n",
        "      \"\"\"\n",
        "      This class stores the current deck state and allows shuffing and drawing of cards\n",
        "      \"\"\"\n",
        "      def __init__(self):\n",
        "          \"\"\"\n",
        "          Set up the deck\n",
        "          \"\"\"\n",
        "          # Set up the suits and numbers\n",
        "          self.suits = ['Spades','Clubs','Hearts','Diamonds']\n",
        "          self.numbers = ['2','3','4','5','6','7','8','9','10','Jack','Queen','King','Ace']\n",
        "\n",
        "          # Set up the cards\n",
        "          self.cardStore = [Card(x,y) for x in self.suits for y in self.numbers]\n",
        "          # Make a current deck so we can pop\n",
        "          self.curDeck = self.cardStore[:]\n",
        "      def shuffle(self):\n",
        "          # In place shuffle\n",
        "          rd.shuffle(self.curDeck)\n",
        "      def resetDeck(self):\n",
        "          # make a new deck copy\n",
        "          self.curDeck = self.cardStore[:]\n",
        "          # shuffle\n",
        "          self.shuffle()\n",
        "      def burnCard(self):\n",
        "          # Burn - draw a card without looking at it\n",
        "          self.curDeck.pop()\n",
        "      def drawCard(self):\n",
        "          # Deal - draw a card and return\n",
        "          return self.curDeck.pop()\n",
        "```\n",
        "\n",
        "\n",
        "\n"
      ]
    },
    {
      "cell_type": "markdown",
      "metadata": {
        "id": "f_dr8MYFZzk6"
      },
      "source": [
        "## The task\n",
        "\n",
        "Use your new OOP skills to design your own agents to beat our (simple) agents. You can make this as simple or as complex as you like, and please post the amount of money (and the statistics) you make to the forum :-).\n",
        "\n",
        "To do this you must use OOP, which can be done as follows. Please note that the code is not designed around bad actors (i.e. if you want to cheat you can but please don't - or if you do tell people you are cheating).\n"
      ]
    },
    {
      "cell_type": "markdown",
      "metadata": {
        "id": "mhMe5c6Pa4mz"
      },
      "source": [
        "Lets start with how the player class works, the class should have the following methods which must do the following:\n",
        "\n",
        "\n",
        "```python\n",
        "class newPlayer:\n",
        "    id_number = 0\n",
        "    def __init__(self,name=None):\n",
        "    \"\"\"\n",
        "        This method must:\n",
        "           1.) set up a list to store all of the cards\n",
        "           2.) Set up an id_number for the player\n",
        "           3.) Set up the name if given.\n",
        "    \"\"\"\n",
        "    def takeCard(self,card):\n",
        "    \"\"\"\n",
        "         This method must add the card to the card list\n",
        "         Feel free to do any processing afterwards\n",
        "    \"\"\"\n",
        "    def getCards(self):\n",
        "    \"\"\"\n",
        "       This method must return a list of your cards\n",
        "    \"\"\"\n",
        "    def reset(self):\n",
        "    \"\"\"\n",
        "       This method must reset your agent so it can play the next hand\n",
        "    \"\"\"\n",
        "    def chooseBet(self, minBetToStay, curComCards,curBets, idx):\n",
        "    \"\"\"\n",
        "      This method must decide how much your agent would like to bet in every circumstance.\n",
        "      \n",
        "      It takes the following arguments:\n",
        "\n",
        "      minBetToStay - Minumum bet required to stay in the game (if you bet below this the player will fold)\n",
        "      curComCards - Current Community Cards which are card objects from the class above\n",
        "      curBets - the current bets of each of the players (ordered by playing position)\n",
        "      idx - your playing position - useful to interpret the current bets\n",
        "\n",
        "    \"\"\"\n",
        "```"
      ]
    },
    {
      "cell_type": "markdown",
      "metadata": {
        "id": "mnZE8ukUeKFc"
      },
      "source": [
        "Most of this is already implemented in our base class (which is in the player.py file which is in the code we downloaded from github) which looks like this:\n",
        "\n",
        "\n",
        "\n",
        "```python\n",
        "class playerBase:\n",
        "    id_number = 0\n",
        "    def __init__(self,name=None):\n",
        "        self.cards = []\n",
        "        self.id_number = playerBase.id_number\n",
        "        playerBase.id_number += 1\n",
        "        if name!=None:\n",
        "          self.name = name\n",
        "    def takeCard(self,card):\n",
        "        self.cards.append(card)\n",
        "    def getCards(self):\n",
        "        return self.cards[:]\n",
        "    def reset(self):\n",
        "        self.cards = []\n",
        "```\n",
        "\n",
        "\n",
        "So  we can just use OOP to make a new agent in a small number of lines (where we inherit from a class in a module we have imported, in the player.py file i.e. player.playerBase):"
      ]
    },
    {
      "cell_type": "code",
      "metadata": {
        "id": "SJD3wVuBaOFt"
      },
      "source": [
        "class alwaysBet1(player.playerBase):\n",
        "    def chooseBet(self,minBetToStay,curComCards,curBets,idx):\n",
        "        return max(1,minBetToStay)"
      ],
      "execution_count": 6,
      "outputs": []
    },
    {
      "cell_type": "markdown",
      "metadata": {
        "id": "51QFamRSWs3L"
      },
      "source": [
        "Lets make some players"
      ]
    },
    {
      "cell_type": "code",
      "metadata": {
        "id": "woUpncxRWo0a"
      },
      "source": [
        "players = [alwaysBet1() for x in range(5)]"
      ],
      "execution_count": 7,
      "outputs": []
    },
    {
      "cell_type": "markdown",
      "metadata": {
        "id": "Inwvg2c6Wy3n"
      },
      "source": [
        "Now we make a game:"
      ]
    },
    {
      "cell_type": "code",
      "metadata": {
        "id": "ZZ1wgApCWZxD"
      },
      "source": [
        "currentGame = game.Game(players)"
      ],
      "execution_count": 8,
      "outputs": []
    },
    {
      "cell_type": "markdown",
      "metadata": {
        "id": "lur1laVK7oll"
      },
      "source": [
        "Lets first look through a game to see how it works, we can add run_display = True to see what it is doing - this is deliberately crude and is mostly there to debug strategies :-)."
      ]
    },
    {
      "cell_type": "code",
      "metadata": {
        "colab": {
          "base_uri": "https://localhost:8080/"
        },
        "id": "93joY9Ns7r9j",
        "outputId": "cc228963-8adf-473f-c840-8db905b45c54"
      },
      "source": [
        "currentGame.runHand(run_display=True)"
      ],
      "execution_count": 9,
      "outputs": [
        {
          "output_type": "stream",
          "name": "stdout",
          "text": [
            "Starting a hand:\n",
            "\n",
            "Draw:\n",
            "\n",
            "Player Id:4: 5 of Diamonds, 3 of Spades, \n",
            "\n",
            "Player Id:0: 9 of Clubs, 4 of Clubs, \n",
            "\n",
            "Player Id:1: 7 of Clubs, Ace of Diamonds, \n",
            "\n",
            "Player Id:2: King of Clubs, 2 of Clubs, \n",
            "\n",
            "Player Id:3: 4 of Diamonds, Jack of Spades, \n",
            "\n",
            "Initial Betting\n",
            "Player Id:4: 6\n",
            "Player Id:0: 6\n",
            "Player Id:1: 6\n",
            "Player Id:2: 6\n",
            "Player Id:3: 6\n",
            "\n",
            "Flop:  [7 of Spades, Queen of Hearts, Jack of Diamonds]\n",
            "Flop Betting\n",
            "Player Id:4: 11\n",
            "Player Id:0: 11\n",
            "Player Id:1: 11\n",
            "Player Id:2: 11\n",
            "Player Id:3: 11\n",
            "\n",
            "Turn:  [7 of Spades, Queen of Hearts, Jack of Diamonds, 6 of Hearts]\n",
            "Turn Betting\n",
            "Player Id:4: 16\n",
            "Player Id:0: 16\n",
            "Player Id:1: 16\n",
            "Player Id:2: 16\n",
            "Player Id:3: 16\n",
            "\n",
            "River:  [7 of Spades, Queen of Hearts, Jack of Diamonds, 6 of Hearts, King of Spades]\n",
            "River Betting\n",
            "Player Id:4: 21\n",
            "Player Id:0: 21\n",
            "Player Id:1: 21\n",
            "Player Id:2: 21\n",
            "Player Id:3: 21\n",
            "\n",
            "Game Finished. The following player won:\n",
            "\n",
            "Player Id:2\n",
            "Hand: Pair using 7 of Spades, Jack of Diamonds, Queen of Hearts, King of Spades, King of Clubs\n"
          ]
        }
      ]
    },
    {
      "cell_type": "markdown",
      "metadata": {
        "id": "TTHZN4CNfGWd"
      },
      "source": [
        "We can now run 1000 hands of poker and see who ends up winning, but we should not set run_display=True as we would be overwhelmed with output."
      ]
    },
    {
      "cell_type": "code",
      "metadata": {
        "id": "SwrhP4-UWRH6"
      },
      "source": [
        "currentGame.runGame(1000)"
      ],
      "execution_count": 10,
      "outputs": []
    },
    {
      "cell_type": "code",
      "metadata": {
        "colab": {
          "base_uri": "https://localhost:8080/"
        },
        "id": "QmATzP8mexS3",
        "outputId": "fc3fe6bf-0ce9-4e10-906b-db147b094c8d"
      },
      "source": [
        "currentGame.getProfitByPlayer()"
      ],
      "execution_count": 11,
      "outputs": [
        {
          "output_type": "execute_result",
          "data": {
            "text/plain": [
              "{<__main__.alwaysBet1 at 0x7e23641926b0>: -52.5,\n",
              " <__main__.alwaysBet1 at 0x7e2364192590>: -175.0,\n",
              " <__main__.alwaysBet1 at 0x7e2364191210>: 840.0,\n",
              " <__main__.alwaysBet1 at 0x7e2364192320>: -665.0,\n",
              " <__main__.alwaysBet1 at 0x7e2364192380>: 52.5}"
            ]
          },
          "metadata": {},
          "execution_count": 11
        }
      ]
    },
    {
      "cell_type": "markdown",
      "metadata": {
        "id": "3pXRaDMahJaV"
      },
      "source": [
        "However, we dont really know who each of the players are which means it is hard to tell who is doing well, so we can name them, we can either do this using the init method as we can see above, or we can just assign it right now:"
      ]
    },
    {
      "cell_type": "code",
      "metadata": {
        "id": "FiaK2ubyfZ5o"
      },
      "source": [
        "players[-1].name='Steve'"
      ],
      "execution_count": 12,
      "outputs": []
    },
    {
      "cell_type": "code",
      "metadata": {
        "colab": {
          "base_uri": "https://localhost:8080/"
        },
        "id": "EZ26GwVtheQz",
        "outputId": "14047a4d-e43c-4815-a81a-66ffe8fa5a67"
      },
      "source": [
        "currentGame.getProfitByName()"
      ],
      "execution_count": 13,
      "outputs": [
        {
          "output_type": "execute_result",
          "data": {
            "text/plain": [
              "{0: -52.5, 1: -175.0, 2: 840.0, 3: -665.0, 'Steve': 52.5}"
            ]
          },
          "metadata": {},
          "execution_count": 13
        }
      ]
    },
    {
      "cell_type": "markdown",
      "metadata": {
        "id": "wjCaItOPhsFy"
      },
      "source": [
        "Lets now see how a different agent works, i.e. one that refuses to bet (beyond the initial $1 buy in)."
      ]
    },
    {
      "cell_type": "code",
      "metadata": {
        "id": "FmnxTLMDhfk0"
      },
      "source": [
        "class cautiousAgent(player.playerBase):\n",
        "    def chooseBet(self,minBetToStay,curComCards,curBets,idx):\n",
        "        return 0"
      ],
      "execution_count": 14,
      "outputs": []
    },
    {
      "cell_type": "markdown",
      "metadata": {
        "id": "H1Zg5aL6jTg5"
      },
      "source": [
        "Lets create our agents (and name them):"
      ]
    },
    {
      "cell_type": "code",
      "metadata": {
        "id": "CqSQ83Tghrc6"
      },
      "source": [
        "players = [alwaysBet1('Bet1 Player '+str(x)) for x in range(4)]\n",
        "players.append(cautiousAgent('Cautious'))"
      ],
      "execution_count": 15,
      "outputs": []
    },
    {
      "cell_type": "code",
      "metadata": {
        "colab": {
          "base_uri": "https://localhost:8080/"
        },
        "id": "ts9U-gNNh4ns",
        "outputId": "b5770f3c-db13-431a-df71-98a31e6012b8"
      },
      "source": [
        "currentGame = game.Game(players)\n",
        "currentGame.runGame(1000)\n",
        "currentGame.getProfitByName()"
      ],
      "execution_count": 16,
      "outputs": [
        {
          "output_type": "execute_result",
          "data": {
            "text/plain": [
              "{'Bet1 Player 0': 1673.75,\n",
              " 'Bet1 Player 1': 172.08333333333326,\n",
              " 'Bet1 Player 2': 214.58333333333326,\n",
              " 'Bet1 Player 3': -1060.4166666666665,\n",
              " 'Cautious': -1000}"
            ]
          },
          "metadata": {},
          "execution_count": 16
        }
      ]
    },
    {
      "cell_type": "markdown",
      "metadata": {
        "id": "UaPmdhrBjVzR"
      },
      "source": [
        "We can see that the cautious player always loses money as they are forced to place the first bet, but then always go out if anyone else bets. We can see this by using run_display:"
      ]
    },
    {
      "cell_type": "code",
      "metadata": {
        "colab": {
          "base_uri": "https://localhost:8080/"
        },
        "id": "HTF_wD42AXSF",
        "outputId": "6104e046-8b6d-48a5-f0c4-60cbd4bf97eb"
      },
      "source": [
        "currentGame.runGame(1,run_display = True)"
      ],
      "execution_count": 17,
      "outputs": [
        {
          "output_type": "stream",
          "name": "stdout",
          "text": [
            "Starting a hand:\n",
            "\n",
            "Draw:\n",
            "\n",
            "Cautious: Ace of Clubs, 7 of Spades, \n",
            "\n",
            "Bet1 Player 0: 4 of Hearts, 3 of Diamonds, \n",
            "\n",
            "Bet1 Player 1: 2 of Clubs, 6 of Spades, \n",
            "\n",
            "Bet1 Player 2: Ace of Diamonds, 4 of Diamonds, \n",
            "\n",
            "Bet1 Player 3: 10 of Clubs, King of Clubs, \n",
            "\n",
            "Initial Betting\n",
            "Bet1 Player 0: 6\n",
            "Bet1 Player 1: 6\n",
            "Bet1 Player 2: 6\n",
            "Bet1 Player 3: 6\n",
            "\n",
            "Out:\n",
            "Cautious: 1\n",
            "\n",
            "Flop:  [4 of Clubs, 6 of Clubs, Jack of Diamonds]\n",
            "Flop Betting\n",
            "Bet1 Player 0: 11\n",
            "Bet1 Player 1: 11\n",
            "Bet1 Player 2: 11\n",
            "Bet1 Player 3: 11\n",
            "\n",
            "Out:\n",
            "Cautious: 1\n",
            "\n",
            "Turn:  [4 of Clubs, 6 of Clubs, Jack of Diamonds, Jack of Clubs]\n",
            "Turn Betting\n",
            "Bet1 Player 0: 16\n",
            "Bet1 Player 1: 16\n",
            "Bet1 Player 2: 16\n",
            "Bet1 Player 3: 16\n",
            "\n",
            "Out:\n",
            "Cautious: 1\n",
            "\n",
            "River:  [4 of Clubs, 6 of Clubs, Jack of Diamonds, Jack of Clubs, 10 of Diamonds]\n",
            "River Betting\n",
            "Bet1 Player 0: 21\n",
            "Bet1 Player 1: 21\n",
            "Bet1 Player 2: 21\n",
            "Bet1 Player 3: 21\n",
            "\n",
            "Out:\n",
            "Cautious: 1\n",
            "\n",
            "Game Finished. The following player won:\n",
            "\n",
            "Bet1 Player 3\n",
            "Hand: Flush using 4 of Clubs, 6 of Clubs, 10 of Clubs, Jack of Clubs, King of Clubs\n"
          ]
        }
      ]
    },
    {
      "cell_type": "markdown",
      "metadata": {
        "id": "ZcIHxUryAWTC"
      },
      "source": [
        "On the other hand if we have 5 cautious players:"
      ]
    },
    {
      "cell_type": "code",
      "metadata": {
        "colab": {
          "base_uri": "https://localhost:8080/"
        },
        "id": "3fcjCtkrCl_x",
        "outputId": "c8d900f7-b6e7-4e8e-b474-c258ca3635ee"
      },
      "source": [
        "players = [cautiousAgent('Cautious - '+str(x)) for x in range(5)]\n",
        "currentGame = game.Game(players)\n",
        "currentGame.runGame(1,run_display = True)"
      ],
      "execution_count": 18,
      "outputs": [
        {
          "output_type": "stream",
          "name": "stdout",
          "text": [
            "Starting a hand:\n",
            "\n",
            "Draw:\n",
            "\n",
            "Cautious - 4: King of Diamonds, 10 of Diamonds, \n",
            "\n",
            "Cautious - 0: Jack of Hearts, 10 of Hearts, \n",
            "\n",
            "Cautious - 1: Jack of Spades, Ace of Hearts, \n",
            "\n",
            "Cautious - 2: Queen of Clubs, 3 of Diamonds, \n",
            "\n",
            "Cautious - 3: 8 of Diamonds, Jack of Clubs, \n",
            "\n",
            "Initial Betting\n",
            "Cautious - 4: 1\n",
            "Cautious - 0: 1\n",
            "Cautious - 1: 1\n",
            "Cautious - 2: 1\n",
            "Cautious - 3: 1\n",
            "\n",
            "Flop:  [Ace of Clubs, 6 of Diamonds, 8 of Hearts]\n",
            "Flop Betting\n",
            "Cautious - 4: 1\n",
            "Cautious - 0: 1\n",
            "Cautious - 1: 1\n",
            "Cautious - 2: 1\n",
            "Cautious - 3: 1\n",
            "\n",
            "Turn:  [Ace of Clubs, 6 of Diamonds, 8 of Hearts, 9 of Spades]\n",
            "Turn Betting\n",
            "Cautious - 4: 1\n",
            "Cautious - 0: 1\n",
            "Cautious - 1: 1\n",
            "Cautious - 2: 1\n",
            "Cautious - 3: 1\n",
            "\n",
            "River:  [Ace of Clubs, 6 of Diamonds, 8 of Hearts, 9 of Spades, Queen of Hearts]\n",
            "River Betting\n",
            "Cautious - 4: 1\n",
            "Cautious - 0: 1\n",
            "Cautious - 1: 1\n",
            "Cautious - 2: 1\n",
            "Cautious - 3: 1\n",
            "\n",
            "Game Finished. The following player won:\n",
            "\n",
            "Cautious - 0\n",
            "Hand: Straight using 8 of Hearts, 9 of Spades, 10 of Hearts, Jack of Hearts, Queen of Hearts\n"
          ]
        }
      ]
    },
    {
      "cell_type": "markdown",
      "metadata": {
        "id": "byMNEjrEC8Dg"
      },
      "source": [
        "Running a large number of games:"
      ]
    },
    {
      "cell_type": "code",
      "metadata": {
        "colab": {
          "base_uri": "https://localhost:8080/"
        },
        "id": "i5koAxjZjsL6",
        "outputId": "f5470526-3d4b-4353-e2cc-1272c3c7e9f3"
      },
      "source": [
        "currentGame = game.Game(players)\n",
        "currentGame.runGame(1000)\n",
        "currentGame.getProfitByName()"
      ],
      "execution_count": 19,
      "outputs": [
        {
          "output_type": "execute_result",
          "data": {
            "text/plain": [
              "{'Cautious - 0': 14.833333333333336,\n",
              " 'Cautious - 1': -55.16666666666666,\n",
              " 'Cautious - 2': -50.166666666666664,\n",
              " 'Cautious - 3': 57.333333333333314,\n",
              " 'Cautious - 4': 33.16666666666667}"
            ]
          },
          "metadata": {},
          "execution_count": 19
        }
      ]
    },
    {
      "cell_type": "markdown",
      "metadata": {
        "id": "yQ-NYtyCjuUe"
      },
      "source": [
        "We see that there is quite a lot of randomness - essentially, but if we add one betting player:"
      ]
    },
    {
      "cell_type": "code",
      "metadata": {
        "colab": {
          "base_uri": "https://localhost:8080/"
        },
        "id": "n1IzpQAojs_1",
        "outputId": "a9d786bb-9b91-4fbf-cc33-fb438c740b19"
      },
      "source": [
        "players = [cautiousAgent('Cautious - '+str(x)) for x in range(4)]\n",
        "players.append(alwaysBet1('Bet 1'))\n",
        "currentGame = game.Game(players)\n",
        "currentGame.runGame(1000)\n",
        "currentGame.getProfitByName()"
      ],
      "execution_count": null,
      "outputs": [
        {
          "output_type": "execute_result",
          "data": {
            "text/plain": [
              "{'Cautious - 0': -1000,\n",
              " 'Cautious - 1': -1000,\n",
              " 'Cautious - 2': -1000,\n",
              " 'Cautious - 3': -1000,\n",
              " 'Bet 1': 4000}"
            ]
          },
          "metadata": {},
          "execution_count": 19
        }
      ]
    },
    {
      "cell_type": "markdown",
      "metadata": {
        "id": "bgIWECp9kRN-"
      },
      "source": [
        "The betting player takes all of the money :-), as they force all of the other players to fold as we can see here:"
      ]
    },
    {
      "cell_type": "code",
      "metadata": {
        "colab": {
          "base_uri": "https://localhost:8080/"
        },
        "id": "WXawL1_ZDdqT",
        "outputId": "deaa6122-a678-42c1-91bf-5cca4129f05a"
      },
      "source": [
        "currentGame.runGame(1,run_display = True)"
      ],
      "execution_count": 20,
      "outputs": [
        {
          "output_type": "stream",
          "name": "stdout",
          "text": [
            "Starting a hand:\n",
            "\n",
            "Draw:\n",
            "\n",
            "Cautious - 4: Ace of Clubs, 7 of Clubs, \n",
            "\n",
            "Cautious - 0: 2 of Spades, 7 of Diamonds, \n",
            "\n",
            "Cautious - 1: 3 of Clubs, 4 of Clubs, \n",
            "\n",
            "Cautious - 2: 3 of Diamonds, 7 of Spades, \n",
            "\n",
            "Cautious - 3: Jack of Clubs, 3 of Spades, \n",
            "\n",
            "Initial Betting\n",
            "Cautious - 4: 1\n",
            "Cautious - 0: 1\n",
            "Cautious - 1: 1\n",
            "Cautious - 2: 1\n",
            "Cautious - 3: 1\n",
            "\n",
            "Flop:  [King of Diamonds, 6 of Hearts, 5 of Clubs]\n",
            "Flop Betting\n",
            "Cautious - 4: 1\n",
            "Cautious - 0: 1\n",
            "Cautious - 1: 1\n",
            "Cautious - 2: 1\n",
            "Cautious - 3: 1\n",
            "\n",
            "Turn:  [King of Diamonds, 6 of Hearts, 5 of Clubs, 6 of Clubs]\n",
            "Turn Betting\n",
            "Cautious - 4: 1\n",
            "Cautious - 0: 1\n",
            "Cautious - 1: 1\n",
            "Cautious - 2: 1\n",
            "Cautious - 3: 1\n",
            "\n",
            "River:  [King of Diamonds, 6 of Hearts, 5 of Clubs, 6 of Clubs, Queen of Clubs]\n",
            "River Betting\n",
            "Cautious - 4: 1\n",
            "Cautious - 0: 1\n",
            "Cautious - 1: 1\n",
            "Cautious - 2: 1\n",
            "Cautious - 3: 1\n",
            "\n",
            "Game Finished. The following player won:\n",
            "\n",
            "Cautious - 4\n",
            "Hand: Flush using 5 of Clubs, 6 of Clubs, 7 of Clubs, Queen of Clubs, Ace of Clubs\n"
          ]
        }
      ]
    },
    {
      "cell_type": "markdown",
      "metadata": {
        "id": "Jrro2iBFkUSh"
      },
      "source": [
        "## The challenge"
      ]
    },
    {
      "cell_type": "markdown",
      "metadata": {
        "id": "H51Xs3shkXB0"
      },
      "source": [
        "Design a simple betting strategy that works well and report your average profit against the following (simple strategy) agents:"
      ]
    },
    {
      "cell_type": "code",
      "metadata": {
        "id": "GZVUl-TnkgHG"
      },
      "source": [
        "class alwaysBet1(player.playerBase):\n",
        "    \"\"\"\n",
        "      This strategy either bets 1 or the minimum bet to stay in.\n",
        "    \"\"\"\n",
        "    def chooseBet(self,minBetToStay,curComCards,curBets,idx):\n",
        "        return max(1,minBetToStay)\n",
        "\n",
        "class cautiousAgent(player.playerBase):\n",
        "    \"\"\"\n",
        "      This strategy will not raise, and therefore always bets 0.\n",
        "    \"\"\"\n",
        "    def chooseBet(self,minBetToStay,curComCards,curBets,idx):\n",
        "        return 0\n",
        "\n",
        "class player_BetOnHighCard(player.playerBase):\n",
        "    \"\"\"\n",
        "      This strategy will only bet if there is a high card in your hand.\n",
        "    \"\"\"\n",
        "    def chooseBet(self,minBetToStay,curComCards,curBets,idx):\n",
        "        nums = [x.getNumber() for x in self.cards]\n",
        "        highCards = ['10','Jack','Queen','King','Ace']\n",
        "        if nums[0] in highCards or nums[1] in highCards:\n",
        "            return max(1,minBetToStay)\n",
        "        return 0\n",
        "\n",
        "class player_BetOnLowCard(player.playerBase):\n",
        "    \"\"\"\n",
        "      This strategy will only bet if there is a low card in your hand.\n",
        "    \"\"\"\n",
        "    def chooseBet(self,minBetToStay,curComCards,curBets,idx):\n",
        "        nums = [x.getNumber() for x in self.cards]\n",
        "        lowCards = ['2','3','4','5','6']\n",
        "        if nums[0] in lowCards or nums[1] in lowCards:\n",
        "            return max(1,minBetToStay)\n",
        "        return 0\n",
        "\n",
        "class highRoller(player.playerBase):\n",
        "    \"\"\"\n",
        "      This strategy either bets 10 (a high value)\n",
        "      or the minimum bet to stay in.\n",
        "    \"\"\"\n",
        "    def chooseBet(self,minBetToStay,curComCards,curBets,idx):\n",
        "        return max(10,minBetToStay)"
      ],
      "execution_count": null,
      "outputs": []
    },
    {
      "cell_type": "code",
      "metadata": {
        "id": "ZQn3mt2Ek1XF"
      },
      "source": [
        "class YOURAGENT(player.playerBase):\n",
        "    pass"
      ],
      "execution_count": null,
      "outputs": []
    },
    {
      "cell_type": "markdown",
      "metadata": {
        "id": "XDHV-tuGlv--"
      },
      "source": [
        "You are welcome to subclass other agents, or share your agents with your friends (or indeed compete with your friends agents) i.e.:"
      ]
    },
    {
      "cell_type": "code",
      "metadata": {
        "id": "K-CdEKaKl-yp"
      },
      "source": [
        "class YOURAGENT(alwaysBet1):\n",
        "    pass"
      ],
      "execution_count": null,
      "outputs": []
    },
    {
      "cell_type": "markdown",
      "metadata": {
        "id": "Oawz69bGmDp7"
      },
      "source": [
        "Then lets see how you do! We can run a single test like this:"
      ]
    },
    {
      "cell_type": "code",
      "metadata": {
        "id": "nT_amD1Hk9Yj",
        "colab": {
          "base_uri": "https://localhost:8080/"
        },
        "outputId": "69eda9d1-bbe3-49fe-f245-98cc373e748b"
      },
      "source": [
        "players = []\n",
        "players.append(cautiousAgent(name='Cautious'))\n",
        "players.append(highRoller('High Roller'))\n",
        "players.append(YOURAGENT('Me!'))\n",
        "players.append(alwaysBet1('Bet 1'))\n",
        "players.append(player_BetOnLowCard('Bet Low Card'))\n",
        "players.append(player_BetOnHighCard('Bet High Card'))\n",
        "currentGame = game.Game(players)\n",
        "currentGame.runGame(1000)\n",
        "currentGame.getProfitByName()"
      ],
      "execution_count": null,
      "outputs": [
        {
          "output_type": "execute_result",
          "data": {
            "text/plain": [
              "{'Cautious': -1000,\n",
              " 'High Roller': 7641.533333333333,\n",
              " 'Me!': 6935.533333333333,\n",
              " 'Bet 1': -16761.8,\n",
              " 'Bet Low Card': -21483.966666666667,\n",
              " 'Bet High Card': 24668.7}"
            ]
          },
          "metadata": {},
          "execution_count": 24
        }
      ]
    },
    {
      "cell_type": "markdown",
      "metadata": {
        "id": "7M8eN0_PlcrR"
      },
      "source": [
        "But to get overall results we need to run this many times to understand if you are winning by luck or is your agent the best! (This might take a minute to run)."
      ]
    },
    {
      "cell_type": "code",
      "metadata": {
        "id": "xbTTwJI-j63v",
        "colab": {
          "base_uri": "https://localhost:8080/"
        },
        "outputId": "5325e57c-e181-47d5-daad-deb14ff350a8"
      },
      "source": [
        "import sys\n",
        "from tqdm import tqdm\n",
        "results = []\n",
        "for i in tqdm(range(100)):\n",
        "    # Make players for this run\n",
        "    players = []\n",
        "    players.append(cautiousAgent('Cautious'))\n",
        "    players.append(highRoller('High Roller'))\n",
        "    players.append(YOURAGENT('Me!'))\n",
        "    players.append(alwaysBet1('Bet 1'))\n",
        "    players.append(player_BetOnLowCard('Bet Low Card'))\n",
        "    players.append(player_BetOnHighCard('Bet High Card'))\n",
        "    # Run the experiment\n",
        "    currentGame = game.Game(players)\n",
        "    currentGame.runGame(500)\n",
        "    # Save the results\n",
        "    results.append(currentGame.getProfitByName())"
      ],
      "execution_count": null,
      "outputs": [
        {
          "output_type": "stream",
          "name": "stderr",
          "text": [
            "100%|██████████| 100/100 [00:44<00:00,  2.23it/s]\n"
          ]
        }
      ]
    },
    {
      "cell_type": "markdown",
      "metadata": {
        "id": "4vxHPyXfnkWt"
      },
      "source": [
        "Then we can look at the results, first we note that cautious all have the same value (as they never win):"
      ]
    },
    {
      "cell_type": "code",
      "metadata": {
        "id": "Ud2veMlOvCsS",
        "colab": {
          "base_uri": "https://localhost:8080/"
        },
        "outputId": "8d66e91d-c0d8-449c-88c4-7489d112d7e8"
      },
      "source": [
        "from collections import Counter\n",
        "Counter([x['Cautious'] for x in results])"
      ],
      "execution_count": null,
      "outputs": [
        {
          "output_type": "execute_result",
          "data": {
            "text/plain": [
              "Counter({-500: 100})"
            ]
          },
          "metadata": {},
          "execution_count": 26
        }
      ]
    },
    {
      "cell_type": "markdown",
      "metadata": {
        "id": "vpsqvVByvXn7"
      },
      "source": [
        "Lets plot the rest:"
      ]
    },
    {
      "cell_type": "code",
      "metadata": {
        "id": "KIaqCE9jqSNo",
        "colab": {
          "base_uri": "https://localhost:8080/",
          "height": 340
        },
        "outputId": "72c198ab-8402-4a6f-87d1-6c39b2b8f7b3"
      },
      "source": [
        "from matplotlib import pylab\n",
        "import seaborn\n",
        "seaborn.set()\n",
        "import pandas as pd\n",
        "pylab.figure(figsize=(15,5))\n",
        "df = pd.DataFrame(results)\n",
        "del df['Cautious'] ## Dont plot Cautious (as it is constant)\n",
        "seaborn.histplot(df,stat='probability')"
      ],
      "execution_count": null,
      "outputs": [
        {
          "output_type": "execute_result",
          "data": {
            "text/plain": [
              "<matplotlib.axes._subplots.AxesSubplot at 0x7eff6d0585d0>"
            ]
          },
          "metadata": {},
          "execution_count": 27
        },
        {
          "output_type": "display_data",
          "data": {
            "text/plain": [
              "<Figure size 1080x360 with 1 Axes>"
            ],
            "image/png": "[encoded data removed]"
          },
          "metadata": {}
        }
      ]
    },
    {
      "cell_type": "markdown",
      "metadata": {
        "id": "zT6o9p-cwRPj"
      },
      "source": [
        "Lets try a KDE (kernel density estimate) plot as our histograms are quite overlapping:"
      ]
    },
    {
      "cell_type": "code",
      "metadata": {
        "id": "dKaZ3uqyup--",
        "colab": {
          "base_uri": "https://localhost:8080/",
          "height": 351
        },
        "outputId": "5adb7fc7-fd41-463a-ce9f-4c68d511c6db"
      },
      "source": [
        "from matplotlib import pylab\n",
        "import seaborn\n",
        "seaborn.set()\n",
        "import pandas as pd\n",
        "pylab.figure(figsize=(15,5))\n",
        "df = pd.DataFrame(results)\n",
        "del df['Cautious'] ## Dont plot Cautious (as it is constant)\n",
        "seaborn.kdeplot(data=df)"
      ],
      "execution_count": null,
      "outputs": [
        {
          "output_type": "execute_result",
          "data": {
            "text/plain": [
              "<matplotlib.axes._subplots.AxesSubplot at 0x7eff70d92cd0>"
            ]
          },
          "metadata": {},
          "execution_count": 28
        },
        {
          "output_type": "display_data",
          "data": {
            "text/plain": [
              "<Figure size 1080x360 with 1 Axes>"
            ],
            "image/png": "[encoded data removed]"
          },
          "metadata": {}
        }
      ]
    },
    {
      "cell_type": "markdown",
      "metadata": {
        "id": "8u8BGZtyuDce"
      },
      "source": [
        "We see that betting a high card is better, but not that much better, can you do better than it?"
      ]
    },
    {
      "cell_type": "markdown",
      "metadata": {
        "id": "-Y14pg77qUh-"
      },
      "source": [
        "Or plot them separately:"
      ]
    },
    {
      "cell_type": "code",
      "metadata": {
        "id": "ZACQS6uRltqz",
        "colab": {
          "base_uri": "https://localhost:8080/",
          "height": 610
        },
        "outputId": "0cf0e930-95d0-448d-9357-f7a2552e1dd4"
      },
      "source": [
        "from matplotlib import pylab\n",
        "import seaborn\n",
        "seaborn.set()\n",
        "\n",
        "import random as rd\n",
        "from math import ceil\n",
        "fig,ax = pylab.subplots(2,ceil(len(results[0])/2),sharex=True,sharey=True,figsize=(15,10))\n",
        "ax1 = [x for y in ax for x in y]\n",
        "for idx,item in enumerate(results[0]):\n",
        "    seaborn.histplot([x[item] for x in results],ax=ax1[idx],kde=True,stat='probability')\n",
        "    ax1[idx].set_title(item)\n"
      ],
      "execution_count": null,
      "outputs": [
        {
          "output_type": "display_data",
          "data": {
            "text/plain": [
              "<Figure size 1080x720 with 6 Axes>"
            ],
            "image/png": "[encoded data removed]"
          },
          "metadata": {}
        }
      ]
    },
    {
      "cell_type": "markdown",
      "metadata": {
        "id": "nlxrUjATqZuL"
      },
      "source": [
        "## Reporting your results:\n",
        "\n",
        "To report your results in the form, we should average over a large number of simulations this will take a little while use the following code:"
      ]
    },
    {
      "cell_type": "code",
      "metadata": {
        "id": "WELExbDJwuYu",
        "colab": {
          "base_uri": "https://localhost:8080/"
        },
        "outputId": "2ac8611d-b566-477a-bd7a-910c7e5bcbbc"
      },
      "source": [
        "import sys\n",
        "from tqdm import tqdm\n",
        "results = []\n",
        "for i in tqdm(range(500)):\n",
        "  players = []\n",
        "  players.append(cautiousAgent('Cautious'))\n",
        "  players.append(highRoller('High Roller'))\n",
        "  players.append(YOURAGENT('Me!'))\n",
        "  players.append(alwaysBet1('Bet 1'))\n",
        "  players.append(player_BetOnLowCard('Bet Low Card'))\n",
        "  players.append(player_BetOnHighCard('Bet High Card'))\n",
        "  currentGame = game.Game(players)\n",
        "  currentGame.runGame(500)\n",
        "  results.append(currentGame.getProfitByName())"
      ],
      "execution_count": null,
      "outputs": [
        {
          "output_type": "stream",
          "name": "stderr",
          "text": [
            "100%|██████████| 500/500 [03:26<00:00,  2.43it/s]\n"
          ]
        }
      ]
    },
    {
      "cell_type": "markdown",
      "metadata": {
        "id": "oTfZeazCw_2E"
      },
      "source": [
        "Getting statistics:"
      ]
    },
    {
      "cell_type": "code",
      "metadata": {
        "id": "MuUbieNXqd-T",
        "colab": {
          "base_uri": "https://localhost:8080/",
          "height": 300
        },
        "outputId": "9ea83227-6670-4026-def7-df365e639849"
      },
      "source": [
        "df = pd.DataFrame(results)\n",
        "df.describe()"
      ],
      "execution_count": null,
      "outputs": [
        {
          "output_type": "execute_result",
          "data": {
            "text/plain": [
              "       Cautious   High Roller           Me!         Bet 1  Bet Low Card  \\\n",
              "count     500.0    500.000000    500.000000    500.000000    500.000000   \n",
              "mean     -500.0    960.906800   1184.753133    773.487800 -11774.338533   \n",
              "std         0.0   7732.592488   7945.505034   7993.565557   6231.427101   \n",
              "min      -500.0 -20042.133333 -23544.100000 -25442.800000 -30794.800000   \n",
              "25%      -500.0  -4511.500000  -3968.908333  -3896.875000 -16185.050000   \n",
              "50%      -500.0    855.016667    760.750000    549.666667 -12314.783333   \n",
              "75%      -500.0   5961.716667   5872.733333   5506.900000  -7813.950000   \n",
              "max      -500.0  26106.000000  25405.500000  29620.700000   8129.666667   \n",
              "\n",
              "       Bet High Card  \n",
              "count     500.000000  \n",
              "mean     9355.190800  \n",
              "std      6470.250143  \n",
              "min    -10458.000000  \n",
              "25%      5258.133333  \n",
              "50%      9262.283333  \n",
              "75%     13547.550000  \n",
              "max     27850.866667  "
            ],
            "text/html": [
              "\n",
              "  <div id=\"df-2658fb37-b169-4c68-83f9-bb91677e8e73\">\n",
              "    <div class=\"colab-df-container\">\n",
              "      <div>\n",
              "<style scoped>\n",
              "    .dataframe tbody tr th:only-of-type {\n",
              "        vertical-align: middle;\n",
              "    }\n",
              "\n",
              "    .dataframe tbody tr th {\n",
              "        vertical-align: top;\n",
              "    }\n",
              "\n",
              "    .dataframe thead th {\n",
              "        text-align: right;\n",
              "    }\n",
              "</style>\n",
              "<table border=\"1\" class=\"dataframe\">\n",
              "  <thead>\n",
              "    <tr style=\"text-align: right;\">\n",
              "      <th></th>\n",
              "      <th>Cautious</th>\n",
              "      <th>High Roller</th>\n",
              "      <th>Me!</th>\n",
              "      <th>Bet 1</th>\n",
              "      <th>Bet Low Card</th>\n",
              "      <th>Bet High Card</th>\n",
              "    </tr>\n",
              "  </thead>\n",
              "  <tbody>\n",
              "    <tr>\n",
              "      <th>count</th>\n",
              "      <td>500.0</td>\n",
              "      <td>500.000000</td>\n",
              "      <td>500.000000</td>\n",
              "      <td>500.000000</td>\n",
              "      <td>500.000000</td>\n",
              "      <td>500.000000</td>\n",
              "    </tr>\n",
              "    <tr>\n",
              "      <th>mean</th>\n",
              "      <td>-500.0</td>\n",
              "      <td>960.906800</td>\n",
              "      <td>1184.753133</td>\n",
              "      <td>773.487800</td>\n",
              "      <td>-11774.338533</td>\n",
              "      <td>9355.190800</td>\n",
              "    </tr>\n",
              "    <tr>\n",
              "      <th>std</th>\n",
              "      <td>0.0</td>\n",
              "      <td>7732.592488</td>\n",
              "      <td>7945.505034</td>\n",
              "      <td>7993.565557</td>\n",
              "      <td>6231.427101</td>\n",
              "      <td>6470.250143</td>\n",
              "    </tr>\n",
              "    <tr>\n",
              "      <th>min</th>\n",
              "      <td>-500.0</td>\n",
              "      <td>-20042.133333</td>\n",
              "      <td>-23544.100000</td>\n",
              "      <td>-25442.800000</td>\n",
              "      <td>-30794.800000</td>\n",
              "      <td>-10458.000000</td>\n",
              "    </tr>\n",
              "    <tr>\n",
              "      <th>25%</th>\n",
              "      <td>-500.0</td>\n",
              "      <td>-4511.500000</td>\n",
              "      <td>-3968.908333</td>\n",
              "      <td>-3896.875000</td>\n",
              "      <td>-16185.050000</td>\n",
              "      <td>5258.133333</td>\n",
              "    </tr>\n",
              "    <tr>\n",
              "      <th>50%</th>\n",
              "      <td>-500.0</td>\n",
              "      <td>855.016667</td>\n",
              "      <td>760.750000</td>\n",
              "      <td>549.666667</td>\n",
              "      <td>-12314.783333</td>\n",
              "      <td>9262.283333</td>\n",
              "    </tr>\n",
              "    <tr>\n",
              "      <th>75%</th>\n",
              "      <td>-500.0</td>\n",
              "      <td>5961.716667</td>\n",
              "      <td>5872.733333</td>\n",
              "      <td>5506.900000</td>\n",
              "      <td>-7813.950000</td>\n",
              "      <td>13547.550000</td>\n",
              "    </tr>\n",
              "    <tr>\n",
              "      <th>max</th>\n",
              "      <td>-500.0</td>\n",
              "      <td>26106.000000</td>\n",
              "      <td>25405.500000</td>\n",
              "      <td>29620.700000</td>\n",
              "      <td>8129.666667</td>\n",
              "      <td>27850.866667</td>\n",
              "    </tr>\n",
              "  </tbody>\n",
              "</table>\n",
              "</div>\n",
              "      <button class=\"colab-df-convert\" onclick=\"convertToInteractive('df-2658fb37-b169-4c68-83f9-bb91677e8e73')\"\n",
              "              title=\"Convert this dataframe to an interactive table.\"\n",
              "              style=\"display:none;\">\n",
              "        \n",
              "  <svg xmlns=\"http://www.w3.org/2000/svg\" height=\"24px\"viewBox=\"0 0 24 24\"\n",
              "       width=\"24px\">\n",
              "    <path d=\"M0 0h24v24H0V0z\" fill=\"none\"/>\n",
              "    <path d=\"M18.56 5.44l.94 2.06.94-2.06 2.06-.94-2.06-.94-.94-2.06-.94 2.06-2.06.94zm-11 1L8.5 8.5l.94-2.06 2.06-.94-2.06-.94L8.5 2.5l-.94 2.06-2.06.94zm10 10l.94 2.06.94-2.06 2.06-.94-2.06-.94-.94-2.06-.94 2.06-2.06.94z\"/><path d=\"M17.41 7.96l-1.37-1.37c-.4-.4-.92-.59-1.43-.59-.52 0-1.04.2-1.43.59L10.3 9.45l-7.72 7.72c-.78.78-.78 2.05 0 2.83L4 21.41c.39.39.9.59 1.41.59.51 0 1.02-.2 1.41-.59l7.78-7.78 2.81-2.81c.8-.78.8-2.07 0-2.86zM5.41 20L4 18.59l7.72-7.72 1.47 1.35L5.41 20z\"/>\n",
              "  </svg>\n",
              "      </button>\n",
              "      \n",
              "  <style>\n",
              "    .colab-df-container {\n",
              "      display:flex;\n",
              "      flex-wrap:wrap;\n",
              "      gap: 12px;\n",
              "    }\n",
              "\n",
              "    .colab-df-convert {\n",
              "      background-color: #E8F0FE;\n",
              "      border: none;\n",
              "      border-radius: 50%;\n",
              "      cursor: pointer;\n",
              "      display: none;\n",
              "      fill: #1967D2;\n",
              "      height: 32px;\n",
              "      padding: 0 0 0 0;\n",
              "      width: 32px;\n",
              "    }\n",
              "\n",
              "    .colab-df-convert:hover {\n",
              "      background-color: #E2EBFA;\n",
              "      box-shadow: 0px 1px 2px rgba(60, 64, 67, 0.3), 0px 1px 3px 1px rgba(60, 64, 67, 0.15);\n",
              "      fill: #174EA6;\n",
              "    }\n",
              "\n",
              "    [theme=dark] .colab-df-convert {\n",
              "      background-color: #3B4455;\n",
              "      fill: #D2E3FC;\n",
              "    }\n",
              "\n",
              "    [theme=dark] .colab-df-convert:hover {\n",
              "      background-color: #434B5C;\n",
              "      box-shadow: 0px 1px 3px 1px rgba(0, 0, 0, 0.15);\n",
              "      filter: drop-shadow(0px 1px 2px rgba(0, 0, 0, 0.3));\n",
              "      fill: #FFFFFF;\n",
              "    }\n",
              "  </style>\n",
              "\n",
              "      <script>\n",
              "        const buttonEl =\n",
              "          document.querySelector('#df-2658fb37-b169-4c68-83f9-bb91677e8e73 button.colab-df-convert');\n",
              "        buttonEl.style.display =\n",
              "          google.colab.kernel.accessAllowed ? 'block' : 'none';\n",
              "\n",
              "        async function convertToInteractive(key) {\n",
              "          const element = document.querySelector('#df-2658fb37-b169-4c68-83f9-bb91677e8e73');\n",
              "          const dataTable =\n",
              "            await google.colab.kernel.invokeFunction('convertToInteractive',\n",
              "                                                     [key], {});\n",
              "          if (!dataTable) return;\n",
              "\n",
              "          const docLinkHtml = 'Like what you see? Visit the ' +\n",
              "            '<a target=\"_blank\" href=https://colab.research.google.com/notebooks/data_table.ipynb>data table notebook</a>'\n",
              "            + ' to learn more about interactive tables.';\n",
              "          element.innerHTML = '';\n",
              "          dataTable['output_type'] = 'display_data';\n",
              "          await google.colab.output.renderOutput(dataTable, element);\n",
              "          const docLink = document.createElement('div');\n",
              "          docLink.innerHTML = docLinkHtml;\n",
              "          element.appendChild(docLink);\n",
              "        }\n",
              "      </script>\n",
              "    </div>\n",
              "  </div>\n",
              "  "
            ]
          },
          "metadata": {},
          "execution_count": 31
        }
      ]
    },
    {
      "cell_type": "markdown",
      "metadata": {
        "id": "adO1f12Fv5eG"
      },
      "source": [
        "Get the statistics for only your strategy for the forum:"
      ]
    },
    {
      "cell_type": "code",
      "metadata": {
        "id": "ZJTsbbSbvurN",
        "colab": {
          "base_uri": "https://localhost:8080/"
        },
        "outputId": "d0ad6ac3-225c-4e54-b1b6-1e7a5816078c"
      },
      "source": [
        "print(df['Me!'].describe())"
      ],
      "execution_count": null,
      "outputs": [
        {
          "output_type": "stream",
          "name": "stdout",
          "text": [
            "count      500.000000\n",
            "mean      1184.753133\n",
            "std       7945.505034\n",
            "min     -23544.100000\n",
            "25%      -3968.908333\n",
            "50%        760.750000\n",
            "75%       5872.733333\n",
            "max      25405.500000\n",
            "Name: Me!, dtype: float64\n"
          ]
        }
      ]
    },
    {
      "cell_type": "code",
      "metadata": {
        "id": "Uv_weOvQyETB"
      },
      "source": [],
      "execution_count": null,
      "outputs": []
    }
  ]
}