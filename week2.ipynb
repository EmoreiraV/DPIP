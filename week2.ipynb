{
  "nbformat": 4,
  "nbformat_minor": 0,
  "metadata": {
    "colab": {
      "provenance": [],
      "collapsed_sections": [
        "88vVKZpJ0QaM",
        "XiYyfETb15lk",
        "fte1tF4j2VmT",
        "FB49D63p3A_o",
        "FgeI_sYN7g8S",
        "wmw8fLxQ4OL-",
        "tbRPdIHkqYsw",
        "iel1AIFw12i8",
        "NHWekdvjq1K7",
        "jmVTlOLArrGX",
        "SZ9C435zr69f",
        "dnVj0ug71xuo",
        "5k7hAnWXUijV",
        "h7JRWsglWGX_",
        "4woU8PjkWSHR",
        "cKoNC75dYo3o",
        "_fApFeEMXpAK",
        "iP_-wfFvYz7M",
        "LY3bTt4oZVe0",
        "rxOL43g4bQh5",
        "WgQiJWPLalYo",
        "YDHVcFXQbScg",
        "_-iATV8kbZ6r",
        "UBZ5nk2LbmHK",
        "gnajO69ibynY",
        "qaLw90lBcHSC",
        "ayDL7MGScio0",
        "a8z5rHiTc0BD",
        "OjT5LraZdEp7",
        "Dkjjx8wAdQdt",
        "TkGYQtiudZv7",
        "O1BSPN5-d687",
        "nYb5s_LMeNmL",
        "tyQ4dKzfh6H2",
        "QuYIIlEziAsG",
        "uKWrVyTSifO7",
        "N4UoYFbmiuTR",
        "dX2yz3efjPc5",
        "3Xl_u6kDjdG3"
      ],
      "include_colab_link": true
    },
    "kernelspec": {
      "name": "python3",
      "display_name": "Python 3"
    },
    "language_info": {
      "name": "python"
    }
  },
  "cells": [
    {
      "cell_type": "markdown",
      "metadata": {
        "id": "view-in-github",
        "colab_type": "text"
      },
      "source": [
        "<a href=\"https://colab.research.google.com/github/EmoreiraV/DPIP/blob/main/week2.ipynb\" target=\"_parent\"><img src=\"https://colab.research.google.com/assets/colab-badge.svg\" alt=\"Open In Colab\"/></a>"
      ]
    },
    {
      "cell_type": "markdown",
      "metadata": {
        "id": "eXacu0m6zXxZ"
      },
      "source": [
        "# Week 2"
      ]
    },
    {
      "cell_type": "markdown",
      "metadata": {
        "id": "8zvn4FLf0WGf"
      },
      "source": [
        "## Quick Quiz"
      ]
    },
    {
      "cell_type": "markdown",
      "metadata": {
        "id": "cUAn5uJczvxo"
      },
      "source": [
        "### Q1:\n",
        "What is the difference between a tuple and a list?"
      ]
    },
    {
      "cell_type": "markdown",
      "metadata": {
        "id": "88vVKZpJ0QaM"
      },
      "source": [
        "#### Answer"
      ]
    },
    {
      "cell_type": "code",
      "metadata": {
        "id": "aaKDNqdIzZs1"
      },
      "source": [
        "# Tuples are immutable,\n",
        "t1 = (1,2,3)"
      ],
      "execution_count": 3,
      "outputs": []
    },
    {
      "cell_type": "code",
      "metadata": {
        "colab": {
          "base_uri": "https://localhost:8080/",
          "height": 144
        },
        "id": "yZv77WuTz3WN",
        "outputId": "b51dba7c-0b42-4c63-a44b-644db6db064a"
      },
      "source": [
        "t1[0]='Cat'"
      ],
      "execution_count": 2,
      "outputs": [
        {
          "output_type": "error",
          "ename": "TypeError",
          "evalue": "'tuple' object does not support item assignment",
          "traceback": [
            "\u001b[0;31m---------------------------------------------------------------------------\u001b[0m",
            "\u001b[0;31mTypeError\u001b[0m                                 Traceback (most recent call last)",
            "\u001b[0;32m<ipython-input-2-642e2bb82abc>\u001b[0m in \u001b[0;36m<cell line: 1>\u001b[0;34m()\u001b[0m\n\u001b[0;32m----> 1\u001b[0;31m \u001b[0mt1\u001b[0m\u001b[0;34m[\u001b[0m\u001b[0;36m0\u001b[0m\u001b[0;34m]\u001b[0m\u001b[0;34m=\u001b[0m\u001b[0;34m'Cat'\u001b[0m\u001b[0;34m\u001b[0m\u001b[0;34m\u001b[0m\u001b[0m\n\u001b[0m",
            "\u001b[0;31mTypeError\u001b[0m: 'tuple' object does not support item assignment"
          ]
        }
      ]
    },
    {
      "cell_type": "code",
      "metadata": {
        "id": "mX8VHncDz7mz"
      },
      "source": [
        "# Lists are mutable,\n",
        "l1 = [1,2,3]"
      ],
      "execution_count": null,
      "outputs": []
    },
    {
      "cell_type": "code",
      "metadata": {
        "id": "QPZvWEY_0A9D"
      },
      "source": [
        "l1[0]='Cat'\n",
        "print(l1)"
      ],
      "execution_count": null,
      "outputs": []
    },
    {
      "cell_type": "markdown",
      "metadata": {
        "id": "ePVXGpdm1LJB"
      },
      "source": [
        "### Q2:\n",
        "What is the value of l1[2]?"
      ]
    },
    {
      "cell_type": "code",
      "metadata": {
        "id": "2k3AA5Az1P6q"
      },
      "source": [
        "l1 = ['a','b','c','d']\n",
        "l2 = l1\n",
        "l2[2] = 'Cat'"
      ],
      "execution_count": null,
      "outputs": []
    },
    {
      "cell_type": "markdown",
      "metadata": {
        "id": "XiYyfETb15lk"
      },
      "source": [
        "#### Answer"
      ]
    },
    {
      "cell_type": "markdown",
      "metadata": {
        "id": "aCi_BeJa1rzD"
      },
      "source": [
        "l1[2] is also cat, as we have set one list equal to the other, all changes in one list will be present in the other list."
      ]
    },
    {
      "cell_type": "code",
      "metadata": {
        "id": "lk8xCWE417hV"
      },
      "source": [
        "print(l2[2])"
      ],
      "execution_count": null,
      "outputs": []
    },
    {
      "cell_type": "markdown",
      "metadata": {
        "id": "9wpHbTnD2G0K"
      },
      "source": [
        "### Q3:\n",
        "What is the value of l1[2] in this case?"
      ]
    },
    {
      "cell_type": "code",
      "metadata": {
        "id": "DeuXu-9j2Q7F"
      },
      "source": [
        "l1 = ['a','b','c','d']\n",
        "l2 = [x for x in l1]\n",
        "l2[2] = 'Cat'"
      ],
      "execution_count": null,
      "outputs": []
    },
    {
      "cell_type": "markdown",
      "metadata": {
        "id": "fte1tF4j2VmT"
      },
      "source": [
        "#### Answer"
      ]
    },
    {
      "cell_type": "markdown",
      "metadata": {
        "id": "_Evksfju2VmU"
      },
      "source": [
        "l1[2] is not cat, a list comprehension creates a new list, so changes in one list do not affect the other."
      ]
    },
    {
      "cell_type": "code",
      "metadata": {
        "id": "QSbFj9wU2VmU"
      },
      "source": [
        "print(l1[2])"
      ],
      "execution_count": null,
      "outputs": []
    },
    {
      "cell_type": "code",
      "metadata": {
        "id": "ZJAu7nDS22eK"
      },
      "source": [],
      "execution_count": null,
      "outputs": []
    },
    {
      "cell_type": "markdown",
      "metadata": {
        "id": "g0nkrDkx24V8"
      },
      "source": [
        "## Q4\n",
        "\n",
        "What happens if you add two lists?\n",
        "\n",
        "What if they were two tuples?"
      ]
    },
    {
      "cell_type": "markdown",
      "metadata": {
        "id": "FB49D63p3A_o"
      },
      "source": [
        "#### Answer"
      ]
    },
    {
      "cell_type": "code",
      "metadata": {
        "id": "kVX4J3Ds2_1a"
      },
      "source": [
        "l1 +l2"
      ],
      "execution_count": null,
      "outputs": []
    },
    {
      "cell_type": "code",
      "metadata": {
        "id": "SywSTCjp3DFQ"
      },
      "source": [
        "tuple(l1)+tuple(l2)"
      ],
      "execution_count": null,
      "outputs": []
    },
    {
      "cell_type": "code",
      "metadata": {
        "id": "gtrkIOWq3FCK"
      },
      "source": [],
      "execution_count": null,
      "outputs": []
    },
    {
      "cell_type": "markdown",
      "metadata": {
        "id": "jes-MufC3e8t"
      },
      "source": [
        "Bonus question: How would you perform vector summation with a list comprehension?"
      ]
    },
    {
      "cell_type": "code",
      "metadata": {
        "id": "F30cuIcA3n62"
      },
      "source": [],
      "execution_count": null,
      "outputs": []
    },
    {
      "cell_type": "markdown",
      "source": [
        "## Q5:\n",
        "\n",
        "What can be a key for a dictionary?\n",
        "\n",
        "- string\n",
        "- tuple\n",
        "- dictionary\n",
        "- some combination of above(?)"
      ],
      "metadata": {
        "id": "KSnzQ7q17Wpr"
      }
    },
    {
      "cell_type": "markdown",
      "source": [
        "#### Answer"
      ],
      "metadata": {
        "id": "FgeI_sYN7g8S"
      }
    },
    {
      "cell_type": "markdown",
      "source": [
        "The keys for a dictionary need to be immutable, therefore we can use:\n",
        "\n",
        "- tuple\n",
        "- string"
      ],
      "metadata": {
        "id": "0Dg09AOV7kGG"
      }
    },
    {
      "cell_type": "code",
      "source": [
        "q1 = {}\n",
        "q1[(1,\"q\",1.2)] = 1\n",
        "print(q1)"
      ],
      "metadata": {
        "id": "wUsdwHUa7_kt"
      },
      "execution_count": null,
      "outputs": []
    },
    {
      "cell_type": "code",
      "source": [
        "q1 = {}\n",
        "q1[\"ert\"] = 1\n",
        "print(q1)"
      ],
      "metadata": {
        "id": "nfURw3Qs8Fq2"
      },
      "execution_count": null,
      "outputs": []
    },
    {
      "cell_type": "markdown",
      "source": [
        "Demonstrating that dictionaries dont work:"
      ],
      "metadata": {
        "id": "7kmo79y178C6"
      }
    },
    {
      "cell_type": "code",
      "source": [
        "q1 = {}\n",
        "q1[{1:2}]=1"
      ],
      "metadata": {
        "id": "1gB29LTX71ac"
      },
      "execution_count": null,
      "outputs": []
    },
    {
      "cell_type": "markdown",
      "metadata": {
        "id": "AnYhPyBH3snf"
      },
      "source": [
        "## Q6:\n",
        "\n",
        "Testing if an element belongs to a list is the same syntax as testing if an element belongs to a set, but which is quicker?\n",
        "\n",
        "a.) Testing if an element in a set\n",
        "\n",
        "b.) Both the same\n",
        "\n",
        "c.) Testing if an element is in a list"
      ]
    },
    {
      "cell_type": "markdown",
      "metadata": {
        "id": "wmw8fLxQ4OL-"
      },
      "source": [
        "#### Answer"
      ]
    },
    {
      "cell_type": "code",
      "metadata": {
        "id": "hTYplWAN3-Kj"
      },
      "source": [
        "l1 = [x**2 for x in range(1000)]\n",
        "s1 = set(l1)"
      ],
      "execution_count": null,
      "outputs": []
    },
    {
      "cell_type": "code",
      "metadata": {
        "id": "9Naz5L9n4mfi"
      },
      "source": [
        "# lets check the list form\n",
        "%time sum(x in l1 for x in range(100000))"
      ],
      "execution_count": null,
      "outputs": []
    },
    {
      "cell_type": "code",
      "metadata": {
        "id": "IFzxBgM14tNj"
      },
      "source": [
        "# lets check the set form\n",
        "%time sum(x in s1 for x in range(100000))"
      ],
      "execution_count": null,
      "outputs": []
    },
    {
      "cell_type": "markdown",
      "metadata": {
        "id": "-l-RxLpY4yYU"
      },
      "source": [
        "A difference of arround 100x faster, use the right datastructure!"
      ]
    },
    {
      "cell_type": "code",
      "metadata": {
        "id": "7Lb_oGna6XaE"
      },
      "source": [
        "# lets check the set form\n",
        "\n",
        "%time s2 = set(l2); sum(x in s2 for x in range(100000))"
      ],
      "execution_count": null,
      "outputs": []
    },
    {
      "cell_type": "markdown",
      "metadata": {
        "id": "yIRSzaHt5omB"
      },
      "source": [
        "# Comprehensions in Python\n",
        "\n",
        "List and dictionary comprehensions in Python are one of the most useful features as they allow you to write clear and concise code without having to resort to a large number of for loops.\n",
        "\n"
      ]
    },
    {
      "cell_type": "code",
      "metadata": {
        "colab": {
          "base_uri": "https://localhost:8080/"
        },
        "id": "aKFAlHDS5nzy",
        "outputId": "f555a6cc-987f-4a71-99c7-09c694856cd5"
      },
      "source": [
        "[x**2 for x in range(10)]"
      ],
      "execution_count": null,
      "outputs": [
        {
          "output_type": "execute_result",
          "data": {
            "text/plain": [
              "[0, 1, 4, 9, 16, 25, 36, 49, 64, 81]"
            ]
          },
          "metadata": {},
          "execution_count": 29
        }
      ]
    },
    {
      "cell_type": "markdown",
      "metadata": {
        "id": "VGPe7d1j6oBb"
      },
      "source": [
        "We can add simple conditions to a list comprehension to filter or change the output. For example if we wanted to only include the even powers we can do the following"
      ]
    },
    {
      "cell_type": "code",
      "metadata": {
        "colab": {
          "base_uri": "https://localhost:8080/"
        },
        "id": "F5vVKZXy6QEy",
        "outputId": "c7f8622d-8d0b-4c5a-c299-97cb4b877ab7"
      },
      "source": [
        "[x**2 for x in range(10) if x%2==0]"
      ],
      "execution_count": null,
      "outputs": [
        {
          "output_type": "execute_result",
          "data": {
            "text/plain": [
              "[0, 4, 16, 36, 64]"
            ]
          },
          "metadata": {},
          "execution_count": 38
        }
      ]
    },
    {
      "cell_type": "markdown",
      "metadata": {
        "id": "NSrjqwYR60KG"
      },
      "source": [
        "Or if we wanted to replace them we can use the following syntax:"
      ]
    },
    {
      "cell_type": "code",
      "metadata": {
        "colab": {
          "base_uri": "https://localhost:8080/"
        },
        "id": "vGKtz9Sx6xmi",
        "outputId": "93c26b71-02e9-4ded-bfd6-9093ceb77d65"
      },
      "source": [
        "[x**2 if x%2==0 else 'Cat' for x in range(10)]"
      ],
      "execution_count": null,
      "outputs": [
        {
          "output_type": "execute_result",
          "data": {
            "text/plain": [
              "[0, 'Cat', 4, 'Cat', 16, 'Cat', 36, 'Cat', 64, 'Cat']"
            ]
          },
          "metadata": {},
          "execution_count": 39
        }
      ]
    },
    {
      "cell_type": "markdown",
      "metadata": {
        "id": "43Y9fKRn7JOv"
      },
      "source": [
        "We can also represent several different for loops using the same list comprehension.\n",
        "\n",
        "So for example if we would like to compute all combinations of the letters in two strings we could do the following:"
      ]
    },
    {
      "cell_type": "code",
      "metadata": {
        "colab": {
          "base_uri": "https://localhost:8080/"
        },
        "id": "uO8njIhy7jvJ",
        "outputId": "9fa93044-e9f1-418d-a318-6c2adc0a3c96"
      },
      "source": [
        "[x+y for x in 'abc' for y in 'AB']"
      ],
      "execution_count": null,
      "outputs": [
        {
          "output_type": "execute_result",
          "data": {
            "text/plain": [
              "['aA', 'aB', 'bA', 'bB', 'cA', 'cB']"
            ]
          },
          "metadata": {},
          "execution_count": 41
        }
      ]
    },
    {
      "cell_type": "markdown",
      "metadata": {
        "id": "Zia-i27E7DC5"
      },
      "source": [
        "As list comprehensions are python expressions we can other python expressions inside them, for example a list:"
      ]
    },
    {
      "cell_type": "code",
      "metadata": {
        "colab": {
          "base_uri": "https://localhost:8080/"
        },
        "id": "cBEjWWR96-rJ",
        "outputId": "67afd86e-bff6-41cd-beb9-2cc1579dc5cc"
      },
      "source": [
        "[[x,y] for x in 'abc' for y in 'AB']"
      ],
      "execution_count": null,
      "outputs": [
        {
          "output_type": "execute_result",
          "data": {
            "text/plain": [
              "[['a', 'A'], ['a', 'B'], ['b', 'A'], ['b', 'B'], ['c', 'A'], ['c', 'B']]"
            ]
          },
          "metadata": {},
          "execution_count": 42
        }
      ]
    },
    {
      "cell_type": "markdown",
      "metadata": {
        "id": "6UYnLeF37_ZZ"
      },
      "source": [
        "Or if we wanted to we could put another list comprehension inside:"
      ]
    },
    {
      "cell_type": "code",
      "metadata": {
        "colab": {
          "base_uri": "https://localhost:8080/"
        },
        "id": "IpO3uYfC7-Iz",
        "outputId": "2379e90f-b708-44ab-ff05-b4111a76b8f3"
      },
      "source": [
        "[[x+y for x in 'abc'] for y in 'AB']"
      ],
      "execution_count": null,
      "outputs": [
        {
          "output_type": "execute_result",
          "data": {
            "text/plain": [
              "[['aA', 'bA', 'cA'], ['aB', 'bB', 'cB']]"
            ]
          },
          "metadata": {},
          "execution_count": 44
        }
      ]
    },
    {
      "cell_type": "markdown",
      "metadata": {
        "id": "-OZJ54id8NVy"
      },
      "source": [
        "So now rather than having one list with all of the combinations we have a hierachy of lists. With one list with two sublists, the first with only elements where x='A' and the second where y='B'."
      ]
    },
    {
      "cell_type": "markdown",
      "metadata": {
        "id": "y_ngWJ1z8pgU"
      },
      "source": [
        "We can embed this many layers down if you require with as many lists within lists as are needed (although I would not advise to go more than 4 - unless you have a really good reason)."
      ]
    },
    {
      "cell_type": "code",
      "metadata": {
        "colab": {
          "base_uri": "https://localhost:8080/"
        },
        "id": "2eWTqmI78Mef",
        "outputId": "f0aeb0f1-3d42-4eed-879a-d80c886e5eb8"
      },
      "source": [
        "[[[x+y+z for x in 'abc'] for y in 'AB'] for z in '.!?']"
      ],
      "execution_count": null,
      "outputs": [
        {
          "output_type": "execute_result",
          "data": {
            "text/plain": [
              "[[['aA.', 'bA.', 'cA.'], ['aB.', 'bB.', 'cB.']],\n",
              " [['aA!', 'bA!', 'cA!'], ['aB!', 'bB!', 'cB!']],\n",
              " [['aA?', 'bA?', 'cA?'], ['aB?', 'bB?', 'cB?']]]"
            ]
          },
          "metadata": {},
          "execution_count": 45
        }
      ]
    },
    {
      "cell_type": "code",
      "source": [],
      "metadata": {
        "id": "Mr-ZweS_mArm"
      },
      "execution_count": null,
      "outputs": []
    },
    {
      "cell_type": "markdown",
      "source": [
        "## Other Comprehensions"
      ],
      "metadata": {
        "id": "v2Cu4Y5J2M7w"
      }
    },
    {
      "cell_type": "markdown",
      "source": [
        "While we have mostly discussed list comprehension in the notes, we can also use comprehensions in other structures:\n",
        "\n",
        "- dictionaries\n",
        "- sets\n",
        "- generators (advanced - can be ignored)"
      ],
      "metadata": {
        "id": "3GSh0oLe2SQ6"
      }
    },
    {
      "cell_type": "markdown",
      "source": [
        "Set and dictionaries are actually quite similar:\n",
        "- Both are un-ordered\n",
        "- Both has very quick look-ups\n",
        "- The underlying implementation of both methods (hash tables is the same)\n",
        "\n",
        "Thus, their comprehensions look quite similar:"
      ],
      "metadata": {
        "id": "EhzKTjg13YTM"
      }
    },
    {
      "cell_type": "markdown",
      "source": [
        "Lets take the Cat list comprehension from above:"
      ],
      "metadata": {
        "id": "WDprJbAO36eL"
      }
    },
    {
      "cell_type": "code",
      "source": [
        "[x**2 if x%2==0 else 'Cat' for x in range(10)]"
      ],
      "metadata": {
        "colab": {
          "base_uri": "https://localhost:8080/"
        },
        "id": "LeZ7qGuR34-V",
        "outputId": "c5290510-a6aa-4fed-9b4c-2071a2f73061"
      },
      "execution_count": null,
      "outputs": [
        {
          "output_type": "execute_result",
          "data": {
            "text/plain": [
              "[0, 'Cat', 4, 'Cat', 16, 'Cat', 36, 'Cat', 64, 'Cat']"
            ]
          },
          "metadata": {},
          "execution_count": 2
        }
      ]
    },
    {
      "cell_type": "markdown",
      "source": [
        "We can turn it into a set comprehension by just changing the brackets from\n",
        "\n",
        "```\n",
        "[]\n",
        "```\n",
        "\n",
        "to\n",
        "```\n",
        "{}\n",
        "```\n",
        "\n",
        "Like so:"
      ],
      "metadata": {
        "id": "y8N_A-Vl4AMW"
      }
    },
    {
      "cell_type": "code",
      "source": [
        "{x**2 if x%2==0 else 'Cat' for x in range(10)}"
      ],
      "metadata": {
        "colab": {
          "base_uri": "https://localhost:8080/"
        },
        "id": "7gF_oz6l4Fsu",
        "outputId": "fe42a12c-dc31-4fa7-c2a7-35e063cd269b"
      },
      "execution_count": null,
      "outputs": [
        {
          "output_type": "execute_result",
          "data": {
            "text/plain": [
              "{0, 16, 36, 4, 64, 'Cat'}"
            ]
          },
          "metadata": {},
          "execution_count": 3
        }
      ]
    },
    {
      "cell_type": "markdown",
      "source": [
        "Dictionary comprehensions are a little different, as they need to have a:\n",
        "\n",
        "- key\n",
        "- value\n",
        "\n",
        "Thus, we use the following syntax:\n",
        "\n",
        "```\n",
        "{key:value for key,value in ABCD}\n",
        "```\n",
        "\n",
        "Thus, if we wanted a dictionary that maps between the original values of our list and the value of our list comprehension, we can use the following syntax:"
      ],
      "metadata": {
        "id": "q9SsRs9W4lKB"
      }
    },
    {
      "cell_type": "code",
      "source": [
        "# @title\n",
        "{x**2:x**2 if x%2==0 else 'Cat' for x in range(10)}"
      ],
      "metadata": {
        "colab": {
          "base_uri": "https://localhost:8080/"
        },
        "id": "rlLo3Cta21Xd",
        "outputId": "0bcb411e-eff4-493d-c6b5-bc35e03c59aa"
      },
      "execution_count": null,
      "outputs": [
        {
          "output_type": "execute_result",
          "data": {
            "text/plain": [
              "{0: 0,\n",
              " 1: 'Cat',\n",
              " 4: 4,\n",
              " 9: 'Cat',\n",
              " 16: 16,\n",
              " 25: 'Cat',\n",
              " 36: 36,\n",
              " 49: 'Cat',\n",
              " 64: 64,\n",
              " 81: 'Cat'}"
            ]
          },
          "metadata": {},
          "execution_count": 5
        }
      ]
    },
    {
      "cell_type": "markdown",
      "source": [
        "We can also use the same conditional statements as with list comprehensions:"
      ],
      "metadata": {
        "id": "vv94jnPp6ITH"
      }
    },
    {
      "cell_type": "code",
      "source": [
        "{x**2:x**2 if x%2==0 else 'Cat' for x in range(20) if x%3==0}"
      ],
      "metadata": {
        "colab": {
          "base_uri": "https://localhost:8080/"
        },
        "id": "ExyxjnZi6tHW",
        "outputId": "34464ebc-db8e-40fd-d88d-c15cc608df01"
      },
      "execution_count": null,
      "outputs": [
        {
          "output_type": "execute_result",
          "data": {
            "text/plain": [
              "{0: 0, 9: 'Cat', 36: 36, 81: 'Cat', 144: 144, 225: 'Cat', 324: 324}"
            ]
          },
          "metadata": {},
          "execution_count": 7
        }
      ]
    },
    {
      "cell_type": "markdown",
      "source": [
        "Further we can also combine list comprehensions with dictionaries:"
      ],
      "metadata": {
        "id": "pVqE4wKs7KRx"
      }
    },
    {
      "cell_type": "code",
      "source": [
        "{x**2:[y for y in range(10) if y%x==0] for x in range(1,10)}"
      ],
      "metadata": {
        "colab": {
          "base_uri": "https://localhost:8080/"
        },
        "id": "UdfZv0Ex8WV3",
        "outputId": "cea7586e-eed4-43b4-9301-2d36926fcac9"
      },
      "execution_count": null,
      "outputs": [
        {
          "output_type": "execute_result",
          "data": {
            "text/plain": [
              "{1: [0, 1, 2, 3, 4, 5, 6, 7, 8, 9],\n",
              " 4: [0, 2, 4, 6, 8],\n",
              " 9: [0, 3, 6, 9],\n",
              " 16: [0, 4, 8],\n",
              " 25: [0, 5],\n",
              " 36: [0, 6],\n",
              " 49: [0, 7],\n",
              " 64: [0, 8],\n",
              " 81: [0, 9]}"
            ]
          },
          "metadata": {},
          "execution_count": 16
        }
      ]
    },
    {
      "cell_type": "markdown",
      "source": [
        "# Exercises from notes\n",
        "\n",
        "(In case anyone wants to go through a solution)"
      ],
      "metadata": {
        "id": "tbRPdIHkqYsw"
      }
    },
    {
      "cell_type": "markdown",
      "source": [
        "## Exercise 1\n"
      ],
      "metadata": {
        "id": "iel1AIFw12i8"
      }
    },
    {
      "cell_type": "markdown",
      "source": [
        "\n",
        "Create a list containing the values 1, 7, 14, 21 and 35. Extract the second, last, and second-last entry. Replace the first entry by zero."
      ],
      "metadata": {
        "id": "ZwGfMM9iqjHN"
      }
    },
    {
      "cell_type": "markdown",
      "source": [
        "#### Answer"
      ],
      "metadata": {
        "id": "NHWekdvjq1K7"
      }
    },
    {
      "cell_type": "code",
      "source": [
        "a = [1, 7, 14, 21, 35]\n",
        "print(a[1])"
      ],
      "metadata": {
        "colab": {
          "base_uri": "https://localhost:8080/"
        },
        "id": "xhZY1gX1qbgo",
        "outputId": "baf74456-b7c3-4b15-a1db-d71326989595"
      },
      "execution_count": 4,
      "outputs": [
        {
          "output_type": "stream",
          "name": "stdout",
          "text": [
            "7\n"
          ]
        }
      ]
    },
    {
      "cell_type": "markdown",
      "source": [
        "Obtain the last and  second from last element;"
      ],
      "metadata": {
        "id": "L2iIoH33q_JO"
      }
    },
    {
      "cell_type": "code",
      "source": [
        "print(a[-1])        # same as a[4]\n",
        "print(a[-2])        # same as a[3]"
      ],
      "metadata": {
        "colab": {
          "base_uri": "https://localhost:8080/"
        },
        "id": "iTrdUFA-qtR7",
        "outputId": "d1b4b167-1ff6-4862-c9c6-36beda335dae"
      },
      "execution_count": 5,
      "outputs": [
        {
          "output_type": "stream",
          "name": "stdout",
          "text": [
            "35\n",
            "21\n"
          ]
        }
      ]
    },
    {
      "cell_type": "markdown",
      "source": [
        "Set the first entry by 0:"
      ],
      "metadata": {
        "id": "PE0uFYgQrRra"
      }
    },
    {
      "cell_type": "code",
      "source": [
        "a[0] = 0\n",
        "print(a)"
      ],
      "metadata": {
        "colab": {
          "base_uri": "https://localhost:8080/"
        },
        "id": "aZFiqUz3rT2V",
        "outputId": "0cafeca0-7c23-4517-98db-a970f1fbe3b4"
      },
      "execution_count": 6,
      "outputs": [
        {
          "output_type": "stream",
          "name": "stdout",
          "text": [
            "[0, 7, 14, 21, 35]\n"
          ]
        }
      ]
    },
    {
      "cell_type": "markdown",
      "source": [
        "## Exercise 2"
      ],
      "metadata": {
        "id": "jmVTlOLArrGX"
      }
    },
    {
      "cell_type": "markdown",
      "source": [
        "For the list\n",
        "\n",
        "```\n",
        "l = [ 1, 4, 9, 16, 25, 36, 49 ]\n",
        "```\n",
        "\n",
        "extract the following slices:\n",
        "\n",
        "- the first three entries,\n",
        "- the last three entries,\n",
        "- every second entry starting from the first entry, and\n",
        "-every second entry starting from the second entry."
      ],
      "metadata": {
        "id": "bcNXKbDiruwN"
      }
    },
    {
      "cell_type": "markdown",
      "source": [
        "#### Answer"
      ],
      "metadata": {
        "id": "SZ9C435zr69f"
      }
    },
    {
      "cell_type": "markdown",
      "source": [
        "Can extract the first 3 elements using the following command:"
      ],
      "metadata": {
        "id": "n_3A4F0bsJby"
      }
    },
    {
      "cell_type": "code",
      "source": [
        "l = [ 1, 4, 9, 16, 25, 36, 49 ]\n",
        "print(l[:3])\n"
      ],
      "metadata": {
        "colab": {
          "base_uri": "https://localhost:8080/"
        },
        "id": "-_G1zWzjrss7",
        "outputId": "7af7db1c-2a60-4da7-ca38-6a496a0330c1"
      },
      "execution_count": null,
      "outputs": [
        {
          "output_type": "stream",
          "name": "stdout",
          "text": [
            "[1, 4, 9]\n"
          ]
        }
      ]
    },
    {
      "cell_type": "markdown",
      "source": [
        "Extracting the final 3 elements is similar but we can use negative indices to help us:"
      ],
      "metadata": {
        "id": "uwfy0RGqsR3n"
      }
    },
    {
      "cell_type": "code",
      "source": [
        "print(l[-3:])\n"
      ],
      "metadata": {
        "colab": {
          "base_uri": "https://localhost:8080/"
        },
        "id": "cIXr0InQr-pw",
        "outputId": "c7a73643-4a8a-4426-af6f-5788e133710b"
      },
      "execution_count": null,
      "outputs": [
        {
          "output_type": "stream",
          "name": "stdout",
          "text": [
            "[25, 36, 49]\n"
          ]
        }
      ]
    },
    {
      "cell_type": "markdown",
      "source": [
        "To select every second element we can use this synthax:"
      ],
      "metadata": {
        "id": "3DjwFoJesaD2"
      }
    },
    {
      "cell_type": "code",
      "source": [
        "print(l[::2])"
      ],
      "metadata": {
        "colab": {
          "base_uri": "https://localhost:8080/"
        },
        "id": "UDD7tENSr_p_",
        "outputId": "9a4ab72c-bced-41b9-ac6d-feec5f150d0a"
      },
      "execution_count": null,
      "outputs": [
        {
          "output_type": "stream",
          "name": "stdout",
          "text": [
            "[1, 9, 25, 49]\n"
          ]
        }
      ]
    },
    {
      "cell_type": "code",
      "source": [
        "print(l[1::2])\n"
      ],
      "metadata": {
        "colab": {
          "base_uri": "https://localhost:8080/"
        },
        "id": "NNTjsu8zsB7c",
        "outputId": "3541688b-a28c-4384-e3a0-8996f04d6ee6"
      },
      "execution_count": null,
      "outputs": [
        {
          "output_type": "stream",
          "name": "stdout",
          "text": [
            "[4, 16, 36]\n"
          ]
        }
      ]
    },
    {
      "cell_type": "markdown",
      "source": [
        "If you are not confident with this syntax (quite different to other languages), try experimenting with this syntax more i.e. extracting every 3 elements starting from the 2 etc etc."
      ],
      "metadata": {
        "id": "oy_9FM5Cs9np"
      }
    },
    {
      "cell_type": "code",
      "source": [],
      "metadata": {
        "id": "pOaqoYcQsHQl"
      },
      "execution_count": null,
      "outputs": []
    },
    {
      "cell_type": "markdown",
      "source": [
        "## Exercise 3\n"
      ],
      "metadata": {
        "id": "dnVj0ug71xuo"
      }
    },
    {
      "cell_type": "markdown",
      "source": [
        "\n",
        "We have defined a list of the days of the week as\n",
        "```\n",
        "\n",
        "days = [ \"Monday\", \"Tuesday\", \"Wednesday\", \"Thursday\", \"Friday\", \"Saturday\", \"Sunday\" ]\n",
        "```\n",
        "\n",
        "\n",
        "\n",
        "Use this list to create a new list of the days of the week, now starting with \"Sunday\"."
      ],
      "metadata": {
        "id": "C-FyRqUHUQrF"
      }
    },
    {
      "cell_type": "markdown",
      "source": [
        "#### Answer"
      ],
      "metadata": {
        "id": "5k7hAnWXUijV"
      }
    },
    {
      "cell_type": "code",
      "source": [
        "days = [ \"Monday\", \"Tuesday\", \"Wednesday\", \"Thursday\", \"Friday\", \"Saturday\", \"Sunday\" ]"
      ],
      "metadata": {
        "id": "6LY8M3YtUSFJ"
      },
      "execution_count": null,
      "outputs": []
    },
    {
      "cell_type": "code",
      "source": [
        "days2 = days[-1:] + days[:-1]\n",
        "print(days2)"
      ],
      "metadata": {
        "colab": {
          "base_uri": "https://localhost:8080/"
        },
        "id": "rTD7ysKOUnD_",
        "outputId": "35b6bb27-4959-4061-a2e7-30ccddbb4bcc"
      },
      "execution_count": null,
      "outputs": [
        {
          "output_type": "stream",
          "name": "stdout",
          "text": [
            "['Sunday', 'Monday', 'Tuesday', 'Wednesday', 'Thursday', 'Friday', 'Saturday']\n"
          ]
        }
      ]
    },
    {
      "cell_type": "markdown",
      "source": [
        "Lets try without the colon:"
      ],
      "metadata": {
        "id": "iIYyncfpVOa-"
      }
    },
    {
      "cell_type": "code",
      "source": [
        "days[-1] + days[:-1]\n"
      ],
      "metadata": {
        "colab": {
          "base_uri": "https://localhost:8080/"
        },
        "id": "6aCoeMejUoJe",
        "outputId": "415c1ea8-43e4-4c6c-efaa-96f1937ec589"
      },
      "execution_count": null,
      "outputs": [
        {
          "output_type": "error",
          "ename": "TypeError",
          "evalue": "ignored",
          "traceback": [
            "\u001b[0;31m---------------------------------------------------------------------------\u001b[0m",
            "\u001b[0;31mTypeError\u001b[0m                                 Traceback (most recent call last)",
            "\u001b[0;32m<ipython-input-10-1d616496f79e>\u001b[0m in \u001b[0;36m<cell line: 1>\u001b[0;34m()\u001b[0m\n\u001b[0;32m----> 1\u001b[0;31m \u001b[0mdays\u001b[0m\u001b[0;34m[\u001b[0m\u001b[0;34m-\u001b[0m\u001b[0;36m1\u001b[0m\u001b[0;34m]\u001b[0m \u001b[0;34m+\u001b[0m \u001b[0mdays\u001b[0m\u001b[0;34m[\u001b[0m\u001b[0;34m:\u001b[0m\u001b[0;34m-\u001b[0m\u001b[0;36m1\u001b[0m\u001b[0;34m]\u001b[0m\u001b[0;34m\u001b[0m\u001b[0;34m\u001b[0m\u001b[0m\n\u001b[0m",
            "\u001b[0;31mTypeError\u001b[0m: can only concatenate str (not \"list\") to str"
          ]
        }
      ]
    },
    {
      "cell_type": "markdown",
      "source": [
        "Lets look at what the difference is:"
      ],
      "metadata": {
        "id": "opCFaITUV2UY"
      }
    },
    {
      "cell_type": "code",
      "source": [
        "print(days[-1])\n",
        "print(days[-1:])\n"
      ],
      "metadata": {
        "colab": {
          "base_uri": "https://localhost:8080/"
        },
        "id": "BjV2rKMvVVDb",
        "outputId": "1240fad9-b076-45ce-f5c2-d68e1dbdd1f2"
      },
      "execution_count": null,
      "outputs": [
        {
          "output_type": "stream",
          "name": "stdout",
          "text": [
            "Sunday\n",
            "['Sunday']\n"
          ]
        }
      ]
    },
    {
      "cell_type": "markdown",
      "source": [
        "We cannot add strings to lists, therefore need to use the slice syntax so we have a list."
      ],
      "metadata": {
        "id": "kVJOpc_kVYpJ"
      }
    },
    {
      "cell_type": "markdown",
      "source": [
        "## Exercise 4\n",
        "\n"
      ],
      "metadata": {
        "id": "h7JRWsglWGX_"
      }
    },
    {
      "cell_type": "markdown",
      "source": [
        "In exercise 3 we have used slicing and arithmetic operators to change the list of weekdays to start with a Sunday. Can you do the same using the methods from the table above?"
      ],
      "metadata": {
        "id": "bTugVP-31sL8"
      }
    },
    {
      "cell_type": "markdown",
      "source": [
        "#### Answer"
      ],
      "metadata": {
        "id": "4woU8PjkWSHR"
      }
    },
    {
      "cell_type": "code",
      "source": [
        "days = [ \"Monday\", \"Tuesday\", \"Wednesday\", \"Thursday\", \"Friday\",\n",
        "          \"Saturday\", \"Sunday\" ]\n",
        "days2 = days.copy()"
      ],
      "metadata": {
        "id": "-TkHa5bvWI6r"
      },
      "execution_count": null,
      "outputs": []
    },
    {
      "cell_type": "markdown",
      "source": [
        "We can use the pop and insert commands to create the new list:"
      ],
      "metadata": {
        "id": "QYs9rvpSWxIr"
      }
    },
    {
      "cell_type": "code",
      "source": [
        "days2.insert(0, days2.pop())\n",
        "print(days2)"
      ],
      "metadata": {
        "id": "tBgOz3NoWs-X",
        "colab": {
          "base_uri": "https://localhost:8080/"
        },
        "outputId": "2d4a60ba-28cf-4d49-99e9-9ec4b1d9015e"
      },
      "execution_count": null,
      "outputs": [
        {
          "output_type": "stream",
          "name": "stdout",
          "text": [
            "['Sunday', 'Monday', 'Tuesday', 'Wednesday', 'Thursday', 'Friday', 'Saturday']\n"
          ]
        }
      ]
    },
    {
      "cell_type": "markdown",
      "source": [
        "## Exercise 5"
      ],
      "metadata": {
        "id": "cKoNC75dYo3o"
      }
    },
    {
      "cell_type": "markdown",
      "source": [
        "\n",
        "\n",
        "Consider the list\n",
        "\n",
        "```\n",
        "x = [ 2, -3, 5, 4, -1 ]\n",
        "```\n",
        "\n",
        "Write a loop the creates two new lists,\n",
        "\n",
        "- a list positive_indices which contains the indices at which entries of x are positive, and\n",
        "- a list positive_values which contains the positive entries from x."
      ],
      "metadata": {
        "id": "wiAhrLI_XV5i"
      }
    },
    {
      "cell_type": "markdown",
      "source": [
        "#### Answer"
      ],
      "metadata": {
        "id": "_fApFeEMXpAK"
      }
    },
    {
      "cell_type": "markdown",
      "source": [
        "We can use a standard `for` loop with an `if` statement as follows:"
      ],
      "metadata": {
        "id": "C1XKQdgQXs_W"
      }
    },
    {
      "cell_type": "code",
      "source": [
        "x = [ 2, -3, 5, 4, -1 ]\n",
        "positive_indices = []\n",
        "positive_values = []\n",
        "for index, value in enumerate(x):\n",
        "    if value>0:\n",
        "        positive_indices.append(index)\n",
        "        positive_values.append(value)\n",
        "print(positive_indices)\n",
        "print(positive_values)"
      ],
      "metadata": {
        "id": "foMyqfrAXX32"
      },
      "execution_count": null,
      "outputs": []
    },
    {
      "cell_type": "markdown",
      "source": [
        "Note we could also use a standard `range` rather than an `enumerate` as follows:"
      ],
      "metadata": {
        "id": "BdrjsaF8X3qs"
      }
    },
    {
      "cell_type": "code",
      "source": [
        "x = [ 2, -3, 5, 4, -1 ]\n",
        "positive_indices = []\n",
        "positive_values = []\n",
        "for index in range(len(x)):\n",
        "    if x[index]>0:\n",
        "        positive_indices.append(x[index])\n",
        "        positive_values.append(value)\n",
        "print(positive_indices)\n",
        "print(positive_values)"
      ],
      "metadata": {
        "id": "zdfBiJC9XrXA"
      },
      "execution_count": null,
      "outputs": []
    },
    {
      "cell_type": "code",
      "source": [],
      "metadata": {
        "id": "r5Z5VwOUYPiE"
      },
      "execution_count": null,
      "outputs": []
    },
    {
      "cell_type": "markdown",
      "source": [
        "## Exercise 6"
      ],
      "metadata": {
        "id": "iP_-wfFvYz7M"
      }
    },
    {
      "cell_type": "markdown",
      "source": [
        "Suppose we roll a six-faced dice. The sample space is then the set\n",
        "```\n",
        "sample_space = { 1, 2, 3, 4, 5, 6 }\n",
        "```\n",
        "Consider the following two sets (\"events\")\n",
        "```\n",
        "A = { 1, 2, 3 }         # \"at most 3\"\n",
        "B = { 2, 4, 6 }         # \"even score\"\n",
        "```\n",
        "Use Python to print the sets corresponding to the events\n",
        "\n",
        "- A and B happen,\n",
        "- A or B happen,\n",
        "- A happens, but not B, and\n",
        "- A does not happen (complement of A).\n"
      ],
      "metadata": {
        "id": "EKXVhPhYY2iG"
      }
    },
    {
      "cell_type": "code",
      "source": [],
      "metadata": {
        "id": "CXwUlRwaY1vy"
      },
      "execution_count": null,
      "outputs": []
    },
    {
      "cell_type": "markdown",
      "source": [
        "#### Answer"
      ],
      "metadata": {
        "id": "LY3bTt4oZVe0"
      }
    },
    {
      "cell_type": "markdown",
      "source": [
        "Set up our variables:"
      ],
      "metadata": {
        "id": "ye8wiajZZZHC"
      }
    },
    {
      "cell_type": "code",
      "source": [
        "sample_space = { 1, 2, 3, 4, 5, 6 }\n",
        "A = { 1, 2, 3 }                      # \"at most 3\"\n",
        "B = { 2, 4, 6 }                      # \"even score"
      ],
      "metadata": {
        "id": "NrojGl6yZXuA"
      },
      "execution_count": null,
      "outputs": []
    },
    {
      "cell_type": "markdown",
      "source": [
        "A and B:"
      ],
      "metadata": {
        "id": "AT_iYuEwZfNO"
      }
    },
    {
      "cell_type": "code",
      "source": [
        "print(A&B) # or\n",
        "print(A.intersection(B))"
      ],
      "metadata": {
        "id": "fvEiSxs9ZYVZ"
      },
      "execution_count": null,
      "outputs": []
    },
    {
      "cell_type": "markdown",
      "source": [
        "A or B:"
      ],
      "metadata": {
        "id": "nb-r2dY-Z5tm"
      }
    },
    {
      "cell_type": "code",
      "source": [
        "print(A|B) # or:\n",
        "print(A.union(B))"
      ],
      "metadata": {
        "id": "_UxDKtwYZelm"
      },
      "execution_count": null,
      "outputs": []
    },
    {
      "cell_type": "markdown",
      "source": [
        "A happens but not B"
      ],
      "metadata": {
        "id": "9-xlR9IqZ976"
      }
    },
    {
      "cell_type": "code",
      "source": [
        "print(A-B) # or:\n",
        "print(A.difference(B))"
      ],
      "metadata": {
        "id": "NuFud9JzZ7uU"
      },
      "execution_count": null,
      "outputs": []
    },
    {
      "cell_type": "markdown",
      "source": [
        "A does not happen:"
      ],
      "metadata": {
        "id": "GKkIMnLpaCdu"
      }
    },
    {
      "cell_type": "code",
      "source": [
        "print(sample_space-A) # or\n",
        "print(sample_space.difference(A))"
      ],
      "metadata": {
        "id": "J1XELj91aAT_"
      },
      "execution_count": null,
      "outputs": []
    },
    {
      "cell_type": "markdown",
      "source": [
        "## Exercise 7\n"
      ],
      "metadata": {
        "id": "rxOL43g4bQh5"
      }
    },
    {
      "cell_type": "markdown",
      "source": [
        "\n",
        "Using the dictionary from Exercise 3:\n",
        "\n",
        "- create a list of all colours, and\n",
        "- create a list of the red fruits.\n"
      ],
      "metadata": {
        "id": "IQ2Bw2oLaaLL"
      }
    },
    {
      "cell_type": "markdown",
      "source": [
        "#### Answer"
      ],
      "metadata": {
        "id": "WgQiJWPLalYo"
      }
    },
    {
      "cell_type": "markdown",
      "source": [
        "Define the dictionary:"
      ],
      "metadata": {
        "id": "hBr8sEchanuH"
      }
    },
    {
      "cell_type": "code",
      "source": [
        "colours = { \"apple\": \"green\",\n",
        "            \"cherry\": \"red\",\n",
        "            \"orange\": \"orange\",\n",
        "            \"strawberry\": \"red\" }"
      ],
      "metadata": {
        "id": "-gxgEnReagFp"
      },
      "execution_count": null,
      "outputs": []
    },
    {
      "cell_type": "markdown",
      "source": [
        "\n",
        "Get the list of all unique colours:\n"
      ],
      "metadata": {
        "id": "y1m3SxJiawmE"
      }
    },
    {
      "cell_type": "code",
      "source": [
        "print(sorted(set(colours.values())))"
      ],
      "metadata": {
        "id": "7H9N7I2yatih"
      },
      "execution_count": null,
      "outputs": []
    },
    {
      "cell_type": "markdown",
      "source": [
        "We have created a set to obtain unique values.\n",
        "\n",
        "We use a loop to obtain the list of red fruit."
      ],
      "metadata": {
        "id": "Zw5BtJj_a4ho"
      }
    },
    {
      "cell_type": "code",
      "source": [
        "red_fruit = []\n",
        "for fruit, colour in colours.items():\n",
        "    if colour==\"red\":\n",
        "        red_fruit.append(fruit)\n",
        "print(red_fruit)"
      ],
      "metadata": {
        "id": "h9qI7cOKaua3"
      },
      "execution_count": null,
      "outputs": []
    },
    {
      "cell_type": "markdown",
      "source": [
        "Could use a list comprehension:"
      ],
      "metadata": {
        "id": "KI52yghca9eS"
      }
    },
    {
      "cell_type": "code",
      "source": [
        "[x for x,y in colours.items() if y==\"red\"]"
      ],
      "metadata": {
        "id": "hIuse8x5a9N6"
      },
      "execution_count": null,
      "outputs": []
    },
    {
      "cell_type": "code",
      "source": [],
      "metadata": {
        "id": "WBmNhT-_a5o7"
      },
      "execution_count": null,
      "outputs": []
    },
    {
      "cell_type": "markdown",
      "source": [
        "## Exercise 8"
      ],
      "metadata": {
        "id": "YDHVcFXQbScg"
      }
    },
    {
      "cell_type": "markdown",
      "source": [
        "Use a list comprehension to produce a list of all powers of 2 between 2 and 1024 (2^10).\n",
        "\n"
      ],
      "metadata": {
        "id": "Lc6-WU-9bVzI"
      }
    },
    {
      "cell_type": "markdown",
      "source": [
        "#### Answer"
      ],
      "metadata": {
        "id": "_-iATV8kbZ6r"
      }
    },
    {
      "cell_type": "code",
      "source": [
        "[2**x for x in range(1,11)]"
      ],
      "metadata": {
        "id": "pp4DZZGdbUOK"
      },
      "execution_count": null,
      "outputs": []
    },
    {
      "cell_type": "code",
      "source": [],
      "metadata": {
        "id": "BrUEh-M6beAe"
      },
      "execution_count": null,
      "outputs": []
    },
    {
      "cell_type": "markdown",
      "source": [
        "## Exercise 9"
      ],
      "metadata": {
        "id": "UBZ5nk2LbmHK"
      }
    },
    {
      "cell_type": "markdown",
      "source": [
        "Use a list comprehension to print the words from\n",
        "```\n",
        "\"Data Programming in Python\"\n",
        "```\n",
        "which are at least 3 letters long.\n",
        "\n",
        "We have seen in Example 4 that we can split \"Data Programming in Python\" into words using\n",
        "\n",
        "```\n",
        "words = \"Data Programming in Python\".split(\" \")\n",
        "```\n"
      ],
      "metadata": {
        "id": "dzw29pSUboKo"
      }
    },
    {
      "cell_type": "markdown",
      "source": [
        "#### Answer"
      ],
      "metadata": {
        "id": "gnajO69ibynY"
      }
    },
    {
      "cell_type": "code",
      "source": [
        "words = \"Data Programming in Python\".split(\" \")\n",
        "selected_words = [ word for word in words if len(word)>=3 ]\n",
        "print(selected_words)"
      ],
      "metadata": {
        "id": "7pJBeQYNbnZd"
      },
      "execution_count": null,
      "outputs": []
    },
    {
      "cell_type": "code",
      "source": [],
      "metadata": {
        "id": "_-eys3Lgbz4o"
      },
      "execution_count": null,
      "outputs": []
    },
    {
      "cell_type": "markdown",
      "source": [
        "## Exercise 10"
      ],
      "metadata": {
        "id": "qaLw90lBcHSC"
      }
    },
    {
      "cell_type": "markdown",
      "source": [
        "For the list\n",
        "\n",
        "```\n",
        "x = [-3, -1, 0 , 1, 3]\n",
        "```\n",
        "calculate a list for which the i-th entry is x[i]^2 if the i-th entry is non-negative and  -x[i]^2  if the i-th entry is negative.\n",
        "\n"
      ],
      "metadata": {
        "id": "Tb_RrIX7cJnQ"
      }
    },
    {
      "cell_type": "markdown",
      "source": [
        "#### Answer"
      ],
      "metadata": {
        "id": "ayDL7MGScio0"
      }
    },
    {
      "cell_type": "markdown",
      "source": [
        "We can use the following Python code."
      ],
      "metadata": {
        "id": "h--KadxFcoBG"
      }
    },
    {
      "cell_type": "code",
      "source": [
        "x = [-3, -1, 0 , 1, 3]\n",
        "result = [ xi**2 if xi>=0 else -xi**2 for xi in x ]\n",
        "print(result)"
      ],
      "metadata": {
        "id": "cYaCuhWFcIpQ"
      },
      "execution_count": null,
      "outputs": []
    },
    {
      "cell_type": "code",
      "source": [],
      "metadata": {
        "id": "hr3hO4T1cmRZ"
      },
      "execution_count": null,
      "outputs": []
    },
    {
      "cell_type": "markdown",
      "source": [
        "## Exercise 11"
      ],
      "metadata": {
        "id": "a8z5rHiTc0BD"
      }
    },
    {
      "cell_type": "markdown",
      "source": [
        "In Task 7 we constructed a list of red fruit using a loop. Can you also do this using a list comprehension?\n",
        "\n"
      ],
      "metadata": {
        "id": "AZnHP9Yjc6EC"
      }
    },
    {
      "cell_type": "markdown",
      "source": [
        "#### Answer"
      ],
      "metadata": {
        "id": "OjT5LraZdEp7"
      }
    },
    {
      "cell_type": "markdown",
      "source": [
        "As above:"
      ],
      "metadata": {
        "id": "uZgnSY10dH5M"
      }
    },
    {
      "cell_type": "code",
      "source": [
        "[ fruit for fruit, colour in colours.items() if colour==\"red\" ]"
      ],
      "metadata": {
        "id": "urNtLSLHc1yF"
      },
      "execution_count": null,
      "outputs": []
    },
    {
      "cell_type": "markdown",
      "source": [
        "## Exercise 12"
      ],
      "metadata": {
        "id": "Dkjjx8wAdQdt"
      }
    },
    {
      "cell_type": "markdown",
      "source": [
        "Fibonacci sequence revisited\n",
        "We have looked at Fibonacci sequences last week (Task 8). Change the code from last week, so that you generate the first 10 Fibonacci numbers as a list.\n",
        "\n"
      ],
      "metadata": {
        "id": "u76y3Mu2dTGp"
      }
    },
    {
      "cell_type": "markdown",
      "source": [
        "#### Answer"
      ],
      "metadata": {
        "id": "TkGYQtiudZv7"
      }
    },
    {
      "cell_type": "markdown",
      "source": [
        "While loop solution:"
      ],
      "metadata": {
        "id": "RSZwmCctdco0"
      }
    },
    {
      "cell_type": "code",
      "source": [
        "fib = [1, 1]\n",
        "while len(fib)<10:\n",
        "    fib.append(fib[-1]+fib[-2])\n",
        "print(fib)"
      ],
      "metadata": {
        "id": "mRpzveQfdSUf"
      },
      "execution_count": null,
      "outputs": []
    },
    {
      "cell_type": "markdown",
      "source": [
        "For loop solution:"
      ],
      "metadata": {
        "id": "5B4Irtl9dxhA"
      }
    },
    {
      "cell_type": "code",
      "source": [
        "fib = [1, 1] + [None] * 8\n",
        "for i in range(2, len(fib)):\n",
        "    fib[i] = fib[i-1]+fib[i-2]\n",
        "print(fib)"
      ],
      "metadata": {
        "id": "_dcw2Q7EdbpA"
      },
      "execution_count": null,
      "outputs": []
    },
    {
      "cell_type": "markdown",
      "source": [
        "However, compared to other programming languages (R, for example) the gain in performance by avoiding the appending of entries of a list is not as big as one would expect.\n",
        "\n"
      ],
      "metadata": {
        "id": "clKApquHd2SR"
      }
    },
    {
      "cell_type": "code",
      "source": [],
      "metadata": {
        "id": "DjnMo-OKd2p7"
      },
      "execution_count": null,
      "outputs": []
    },
    {
      "cell_type": "markdown",
      "source": [
        "## Exercise 13"
      ],
      "metadata": {
        "id": "O1BSPN5-d687"
      }
    },
    {
      "cell_type": "markdown",
      "source": [
        "Alice and Bob maintain a list of the quantities of food in their fridges as Python dictionaries.\n",
        "```\n",
        "alice = { \"Yoghurt\": 10,\n",
        "          \"Cucumber\": 1,\n",
        "          \"Can of beer\": 2\n",
        "        }\n",
        "          \n",
        "bob = { \"Yoghurt\": 3,\n",
        "        \"Avocado\": 2,\n",
        "        \"Smoothie\": 4,\n",
        "        \"Can of beer\": 3\n",
        "      }\n",
        "```\n",
        "\n",
        "Write a Python script that creates a dictionary of the food they have between the two of them.\n",
        "\n"
      ],
      "metadata": {
        "id": "KU6YN4zWd9hy"
      }
    },
    {
      "cell_type": "markdown",
      "source": [
        "#### Answer"
      ],
      "metadata": {
        "id": "nYb5s_LMeNmL"
      }
    },
    {
      "cell_type": "code",
      "source": [
        "alice = { \"Yoghurt\": 10,\n",
        "          \"Cucumber\": 1,\n",
        "          \"Can of beer\": 2\n",
        "        }\n",
        "\n",
        "bob = { \"Yoghurt\": 3,\n",
        "        \"Avocado\": 2,\n",
        "        \"Smoothie\": 4,\n",
        "        \"Can of beer\": 3\n",
        "      }"
      ],
      "metadata": {
        "id": "bb4Kybbhd85o"
      },
      "execution_count": null,
      "outputs": []
    },
    {
      "cell_type": "markdown",
      "source": [
        "Standard solution from the notes:"
      ],
      "metadata": {
        "id": "Lb1Ly4cEgx_w"
      }
    },
    {
      "cell_type": "code",
      "source": [
        "# Get the list of items in the fridge\n",
        "items = set(alice.keys()) | set(bob.keys())\n",
        "\n",
        "food = {}\n",
        "\n",
        "# For every item, check whether Alive or Bob have them\n",
        "# If so, add to the count\n",
        "for item in items:\n",
        "    item_count = 0\n",
        "    if item in alice.keys():\n",
        "        item_count += alice[item]\n",
        "    if item in bob.keys():\n",
        "        item_count += bob[item]\n",
        "    food[item] = item_count\n",
        "\n",
        "print(food)"
      ],
      "metadata": {
        "id": "fBs7CUgygjbp"
      },
      "execution_count": null,
      "outputs": []
    },
    {
      "cell_type": "markdown",
      "source": [
        "Alterative solution 1 (using get to have an alternative value):"
      ],
      "metadata": {
        "id": "Np9RmDCMhlua"
      }
    },
    {
      "cell_type": "code",
      "source": [
        "# Get the list of items in the fridge\n",
        "items = set(alice.keys()) | set(bob.keys())\n",
        "\n",
        "food = {}\n",
        "\n",
        "# For every item, check whether Alive or Bob have them\n",
        "# If so, add to the count\n",
        "for item in items:\n",
        "    food[item] = alice.get(item, 0) + bob.get(item, 0)\n",
        "\n",
        "print(food)"
      ],
      "metadata": {
        "id": "wtI1_y7rhksv"
      },
      "execution_count": null,
      "outputs": []
    },
    {
      "cell_type": "markdown",
      "source": [
        "Double for loop option:"
      ],
      "metadata": {
        "id": "uD3Dh8jBhtp9"
      }
    },
    {
      "cell_type": "code",
      "source": [
        "food ={}\n",
        "for person in [alice,bob]:\n",
        "  for item in person:\n",
        "    if item not in food:\n",
        "      food[item] = 0\n",
        "    food[item] += person[item]\n",
        "print(food)"
      ],
      "metadata": {
        "id": "3Jy3_qKOhBfI"
      },
      "execution_count": null,
      "outputs": []
    },
    {
      "cell_type": "markdown",
      "source": [
        "Slightly fancier solution using counter:"
      ],
      "metadata": {
        "id": "INwbxlX3fHc4"
      }
    },
    {
      "cell_type": "code",
      "source": [
        "from collections import Counter\n",
        "c1 = Counter(alice)\n",
        "c1.update(bob)\n",
        "print(c1)"
      ],
      "metadata": {
        "id": "hwmtVb4se8rQ"
      },
      "execution_count": null,
      "outputs": []
    },
    {
      "cell_type": "markdown",
      "source": [
        "## Exercise 14"
      ],
      "metadata": {
        "id": "tyQ4dKzfh6H2"
      }
    },
    {
      "cell_type": "markdown",
      "source": [
        "Consider the list x defined as\n",
        "```\n",
        "x = [ 1, 5, 20, 9, 3, 8, 12 ]\n",
        "```\n",
        "Write generic code that replaces all entries which are greater than 5 by 0. Try to answer this task once using a loop and once using list comprehension."
      ],
      "metadata": {
        "id": "LhXtJYSUh9YU"
      }
    },
    {
      "cell_type": "markdown",
      "source": [
        "#### Answer"
      ],
      "metadata": {
        "id": "QuYIIlEziAsG"
      }
    },
    {
      "cell_type": "markdown",
      "source": [
        "List comprehension solution:"
      ],
      "metadata": {
        "id": "EMJf_rNMiWBF"
      }
    },
    {
      "cell_type": "code",
      "source": [
        "x = [ 1, 5, 20, 9, 3, 8, 12 ]"
      ],
      "metadata": {
        "id": "6Gyxf_UriJcZ"
      },
      "execution_count": null,
      "outputs": []
    },
    {
      "cell_type": "code",
      "source": [
        "[y if y<=5 else 0 for y in x]"
      ],
      "metadata": {
        "id": "kw6Ocq0fh7m8"
      },
      "execution_count": null,
      "outputs": []
    },
    {
      "cell_type": "markdown",
      "source": [
        "For loop solution"
      ],
      "metadata": {
        "id": "CVc-aWHCiX3r"
      }
    },
    {
      "cell_type": "code",
      "source": [
        "x = [ 1, 5, 20, 9, 3, 8, 12 ]\n",
        "\n",
        "for i in range(len(x)):\n",
        "    if x[i]>5:\n",
        "        x[i] = 0\n",
        "print(x)"
      ],
      "metadata": {
        "id": "Xp5hjE29iH0j"
      },
      "execution_count": null,
      "outputs": []
    },
    {
      "cell_type": "code",
      "source": [],
      "metadata": {
        "id": "JMEsDmZ_iUKa"
      },
      "execution_count": null,
      "outputs": []
    },
    {
      "cell_type": "markdown",
      "source": [
        "## Exercise 15"
      ],
      "metadata": {
        "id": "uKWrVyTSifO7"
      }
    },
    {
      "cell_type": "markdown",
      "source": [
        "Create a vector x containing 10,000 random numbers using\n",
        "```{python}\n",
        "import random\n",
        "x = [ random.gauss(0,1) for i in range(10000) ]\n",
        "```\n",
        "Use a list comprehension to count the number of entries of x which are greater than 2.\n",
        "\n"
      ],
      "metadata": {
        "id": "ziNfWbM_ioEn"
      }
    },
    {
      "cell_type": "markdown",
      "source": [
        "#### Answer"
      ],
      "metadata": {
        "id": "N4UoYFbmiuTR"
      }
    },
    {
      "cell_type": "code",
      "source": [
        "import random\n",
        "x = [ random.gauss(0,1) for i in range(10000) ]\n",
        "print(sum(y>2 for y in x)) # Sol 1\n",
        "print(sum(1 for y in x if y>2)) # Sol 2\n",
        "print(len([y for y in x if y>2])) # Sol 3\n"
      ],
      "metadata": {
        "id": "9Y_uv0cTigTM"
      },
      "execution_count": null,
      "outputs": []
    },
    {
      "cell_type": "markdown",
      "source": [
        "For loop solution:"
      ],
      "metadata": {
        "id": "zz-gF9brjIRP"
      }
    },
    {
      "cell_type": "code",
      "source": [
        "n = 0\n",
        "for xi in x:\n",
        "    if xi>2:\n",
        "        n += 1\n",
        "print(n)"
      ],
      "metadata": {
        "id": "4-iB7Bxsi0Bj"
      },
      "execution_count": null,
      "outputs": []
    },
    {
      "cell_type": "markdown",
      "source": [
        "## Exercise 16"
      ],
      "metadata": {
        "id": "dX2yz3efjPc5"
      }
    },
    {
      "cell_type": "markdown",
      "source": [
        "Create a list of all numbers between 1 and 100 which are divisible by no integer between 2 and 20. Attempt this task both using a loop and using list comprehensions.\n",
        "\n"
      ],
      "metadata": {
        "id": "ei0u89-vjRbr"
      }
    },
    {
      "cell_type": "markdown",
      "source": [
        "#### Answer"
      ],
      "metadata": {
        "id": "3Xl_u6kDjdG3"
      }
    },
    {
      "cell_type": "markdown",
      "source": [
        "For loop solution:"
      ],
      "metadata": {
        "id": "QcNbfX_PjhXu"
      }
    },
    {
      "cell_type": "code",
      "source": [
        "result = []\n",
        "for number in range(1,101):\n",
        "   for divisor in range(2,21):\n",
        "      if number%divisor==0:\n",
        "          break\n",
        "   else:                          # else part run if loop not break'ed\n",
        "       result.append(number)\n",
        "print(result)"
      ],
      "metadata": {
        "id": "AyHnm78bjQ2l"
      },
      "execution_count": null,
      "outputs": []
    },
    {
      "cell_type": "markdown",
      "source": [
        "List comprehension solution:"
      ],
      "metadata": {
        "id": "2GQznxeFjpaT"
      }
    },
    {
      "cell_type": "code",
      "source": [
        "result = [ number for number in range(1,101) if not\n",
        "             [ divisor for divisor in range(2,21) if number%divisor==0 ] ]\n",
        "print(result)"
      ],
      "metadata": {
        "id": "XWp2HT0bjevq"
      },
      "execution_count": null,
      "outputs": []
    },
    {
      "cell_type": "markdown",
      "source": [
        "We have exploited that empty lists are treated as equivalent to False. The inner list comprehension returns the divisors between 2 and 20 of that number. We only want to include numbers if this list of divisors is empty.\n",
        "\n",
        "Finally, we could have used sets for this task. We start off with all integers from 1 to 100 and progressively take all multiples away.\n",
        "\n"
      ],
      "metadata": {
        "id": "s4UvaREQjvqD"
      }
    },
    {
      "cell_type": "code",
      "source": [
        "result = set(range(1,101))\n",
        "for divisor in range(2,21):\n",
        "    result = result - set( [ divisor*i for i in range(1, int(100/divisor)+1) ] )\n",
        "print(sorted(result))"
      ],
      "metadata": {
        "id": "ePe3T_HjjwCk"
      },
      "execution_count": null,
      "outputs": []
    },
    {
      "cell_type": "code",
      "source": [],
      "metadata": {
        "id": "XgF3HNvgjxqs"
      },
      "execution_count": null,
      "outputs": []
    }
  ]
}