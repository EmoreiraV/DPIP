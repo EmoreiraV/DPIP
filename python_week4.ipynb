{
  "nbformat": 4,
  "nbformat_minor": 0,
  "metadata": {
    "colab": {
      "provenance": [],
      "collapsed_sections": [
        "LFLn4lK6Q4lW",
        "IiPxJDD7J3My",
        "KXzE_rZdR47U",
        "3cWL7pd5W-8k",
        "m59TtLkjYZWj",
        "SOGFcH8mB35G",
        "quQXnJ7oB9Fc",
        "Om24d586Js7u"
      ]
    },
    "kernelspec": {
      "name": "python3",
      "display_name": "Python 3"
    },
    "language_info": {
      "name": "python"
    }
  },
  "cells": [
    {
      "cell_type": "markdown",
      "metadata": {
        "id": "fppOCqlf-nai"
      },
      "source": [
        "## Week 4\n",
        "\n",
        "This week we are covering object orientating programming.\n",
        "\n"
      ]
    },
    {
      "cell_type": "markdown",
      "metadata": {
        "id": "Wd_6tLaIGEOy"
      },
      "source": [
        "## Why Classes are great"
      ]
    },
    {
      "cell_type": "markdown",
      "metadata": {
        "id": "TRe-xeVFGHC0"
      },
      "source": [
        "Classes allow us to create objects that not only store data but have methods/behaviours that are attached to them.\n",
        "\n",
        "This means that we can structure our code into nice blocks, arround objects, which also makes the code much easier to test. (See unit test etc which we cannot cover in detail in the course).\n",
        "\n",
        "It also allows us to write other bits of code leaving the implementation details to the class itself, allowing us to improve the performance of the class when required., e.g."
      ]
    },
    {
      "cell_type": "code",
      "metadata": {
        "id": "NPc7AvqJXHym"
      },
      "source": [],
      "execution_count": null,
      "outputs": []
    },
    {
      "cell_type": "markdown",
      "metadata": {
        "id": "u38pncefHiGX"
      },
      "source": [
        "Lets make a simple class storing all of the students names in a classroom, and letting us check if the students exist."
      ]
    },
    {
      "cell_type": "code",
      "metadata": {
        "id": "yBCBqTICGD05"
      },
      "source": [
        "class CLASSroom:\n",
        "  def __init__(self):\n",
        "    # Initialise the class\n",
        "    self.list_of_students = []\n",
        "    self.teacher = None\n",
        "  def addStudent(self,new_student):\n",
        "    # Add a student to the classroom\n",
        "    self.list_of_students.append(new_student)\n",
        "  def checkStudent(self,student):\n",
        "    # Check if a student is in the classroom\n",
        "    for cur_student in self.list_of_students:\n",
        "       if cur_student == student:\n",
        "         return True\n",
        "    return False"
      ],
      "execution_count": null,
      "outputs": []
    },
    {
      "cell_type": "code",
      "metadata": {
        "id": "c88KqbgTIdjg"
      },
      "source": [
        "my_class = CLASSroom()"
      ],
      "execution_count": null,
      "outputs": []
    },
    {
      "cell_type": "code",
      "metadata": {
        "id": "8kO9ED1TIfoU"
      },
      "source": [],
      "execution_count": null,
      "outputs": []
    },
    {
      "cell_type": "code",
      "metadata": {
        "id": "hwaufo1jInAn"
      },
      "source": [
        "# Lets add some students to the class\n",
        "# As these are python objects changes we make in the\n",
        "# function are availiable outside of the function\n",
        "def add_random_students(classroom,n):\n",
        "    for i in range(n):\n",
        "      classroom.addStudent(str(i))"
      ],
      "execution_count": null,
      "outputs": []
    },
    {
      "cell_type": "code",
      "metadata": {
        "id": "v7S-LexiJBZh"
      },
      "source": [
        "add_random_students(my_class,100)"
      ],
      "execution_count": null,
      "outputs": []
    },
    {
      "cell_type": "code",
      "metadata": {
        "colab": {
          "base_uri": "https://localhost:8080/"
        },
        "id": "VMFNcn_PImdv",
        "outputId": "a8b96a01-fcce-4f95-d84f-edb76fe0493f"
      },
      "source": [
        "%time my_class.checkStudent('1')"
      ],
      "execution_count": null,
      "outputs": [
        {
          "output_type": "stream",
          "name": "stdout",
          "text": [
            "CPU times: user 6 µs, sys: 1 µs, total: 7 µs\n",
            "Wall time: 11.7 µs\n"
          ]
        },
        {
          "output_type": "execute_result",
          "data": {
            "text/plain": [
              "True"
            ]
          },
          "metadata": {},
          "execution_count": 5
        }
      ]
    },
    {
      "cell_type": "markdown",
      "metadata": {
        "id": "2rKvfiBqKczB"
      },
      "source": [
        "So we can now write a large amount of code using our class.\n",
        "\n",
        "However, after we have written a larger amount of code we might suddenly notice that the implementation is too slow.\n",
        "\n"
      ]
    },
    {
      "cell_type": "code",
      "metadata": {
        "colab": {
          "base_uri": "https://localhost:8080/"
        },
        "id": "_lvbruFuNg-4",
        "outputId": "8e35ba87-7da0-41d7-c231-e50c298f08ca"
      },
      "source": [
        "my_class = CLASSroom()\n",
        "%time add_random_students(my_class,10000000)"
      ],
      "execution_count": null,
      "outputs": [
        {
          "output_type": "stream",
          "name": "stdout",
          "text": [
            "CPU times: user 3.99 s, sys: 429 ms, total: 4.42 s\n",
            "Wall time: 4.7 s\n"
          ]
        }
      ]
    },
    {
      "cell_type": "markdown",
      "metadata": {
        "id": "FuM1H0ph-JPK"
      },
      "source": [
        "While we could of course make this more efficient, by adding all of the students at the same time, rather than one after another, the most important method for our function might be to check if a given student is in the classroom which is also slow (due to our bad implementation):"
      ]
    },
    {
      "cell_type": "code",
      "metadata": {
        "colab": {
          "base_uri": "https://localhost:8080/"
        },
        "id": "h6KSqBRhNqlU",
        "outputId": "fbe36210-0589-4c90-b6c7-7a7516a86718"
      },
      "source": [
        "%time my_class.checkStudent('7500000')"
      ],
      "execution_count": null,
      "outputs": [
        {
          "output_type": "stream",
          "name": "stdout",
          "text": [
            "CPU times: user 619 ms, sys: 2.13 ms, total: 621 ms\n",
            "Wall time: 808 ms\n"
          ]
        },
        {
          "output_type": "execute_result",
          "data": {
            "text/plain": [
              "True"
            ]
          },
          "metadata": {},
          "execution_count": 7
        }
      ]
    },
    {
      "cell_type": "markdown",
      "metadata": {
        "id": "pgf-kofG9Tn5"
      },
      "source": [
        "Lets delete that class just to save some ram"
      ]
    },
    {
      "cell_type": "code",
      "metadata": {
        "id": "wOsrWWcrQmsu"
      },
      "source": [
        "del my_class"
      ],
      "execution_count": null,
      "outputs": []
    },
    {
      "cell_type": "markdown",
      "metadata": {
        "id": "QdmAuzHwNfy5"
      },
      "source": [
        "But the advantage of object orientated programming is that we can always change the underlying implementation, without having to change any code that just relies on the calling the classes methods (e.g. checkStudent), like so.\n",
        "\n",
        "We will replace the list, which is very slow to check if an element exists (i.e. if a student is in the classroom), with a set which is better."
      ]
    },
    {
      "cell_type": "code",
      "metadata": {
        "id": "Njp5Em3hNJtf"
      },
      "source": [
        "class CLASSroomNew:\n",
        "  def __init__(self):\n",
        "    # Initialise the class\n",
        "    # Change to a set!\n",
        "    self.list_of_students = set()\n",
        "    self.teacher = None\n",
        "  def addStudent(self,new_student):\n",
        "    # Add a student to the classroom\n",
        "    self.list_of_students.add(new_student)\n",
        "  def checkStudent(self,student):\n",
        "    # Check if a student is in the classroom\n",
        "    if student in self.list_of_students:\n",
        "       return True\n",
        "    return False"
      ],
      "execution_count": null,
      "outputs": []
    },
    {
      "cell_type": "code",
      "metadata": {
        "colab": {
          "base_uri": "https://localhost:8080/"
        },
        "id": "E7Sri5ZUJNwx",
        "outputId": "9bd364df-85e7-47ce-d3f0-103d77781a17"
      },
      "source": [
        "my_class_new = CLASSroomNew()\n",
        "%time add_random_students(my_class_new,10000000)"
      ],
      "execution_count": null,
      "outputs": [
        {
          "output_type": "stream",
          "name": "stdout",
          "text": [
            "CPU times: user 6.35 s, sys: 611 ms, total: 6.96 s\n",
            "Wall time: 7.03 s\n"
          ]
        }
      ]
    },
    {
      "cell_type": "markdown",
      "metadata": {
        "id": "-Qf3GJ38AAtv"
      },
      "source": [
        "So the class takes a bit longer to fill with students, but is much much faster at checking if a student is present (which might be more important to us):"
      ]
    },
    {
      "cell_type": "code",
      "metadata": {
        "colab": {
          "base_uri": "https://localhost:8080/"
        },
        "id": "0QREKL6IONzX",
        "outputId": "c04b6857-cdd9-45db-eb7a-a90096220aa0"
      },
      "source": [
        "%time my_class_new.checkStudent('7500000')"
      ],
      "execution_count": null,
      "outputs": [
        {
          "output_type": "stream",
          "name": "stdout",
          "text": [
            "CPU times: user 9 µs, sys: 1 µs, total: 10 µs\n",
            "Wall time: 15 µs\n"
          ]
        },
        {
          "output_type": "execute_result",
          "data": {
            "text/plain": [
              "True"
            ]
          },
          "metadata": {},
          "execution_count": 11
        }
      ]
    },
    {
      "cell_type": "code",
      "metadata": {
        "id": "mWdpEOojQpsU"
      },
      "source": [
        "del my_class_new"
      ],
      "execution_count": null,
      "outputs": []
    },
    {
      "cell_type": "markdown",
      "metadata": {
        "id": "WSdlFROYJmmm"
      },
      "source": [
        "# Quiz"
      ]
    },
    {
      "cell_type": "markdown",
      "metadata": {
        "id": "Ya1iDSW0QwLu"
      },
      "source": [
        "## Q1\n",
        "\n",
        "What is the \\_\\_init\\_\\_ method used for?"
      ]
    },
    {
      "cell_type": "markdown",
      "metadata": {
        "id": "LFLn4lK6Q4lW"
      },
      "source": [
        "### Answer"
      ]
    },
    {
      "cell_type": "markdown",
      "metadata": {
        "id": "dCFFgni_Q6nc"
      },
      "source": [
        "The init method is used to initialise a class. It should set up the data structures that the class will need, and store any variables that are passed to the class."
      ]
    },
    {
      "cell_type": "markdown",
      "metadata": {
        "id": "_13RRYEEJoeH"
      },
      "source": [
        "## Q2\n",
        "\n",
        "Which is the correct syntax:"
      ]
    },
    {
      "cell_type": "markdown",
      "source": [
        "(a)"
      ],
      "metadata": {
        "id": "LHfPM7NdOq6_"
      }
    },
    {
      "cell_type": "code",
      "metadata": {
        "id": "1kbMW18RJnlg"
      },
      "source": [
        "class newClass1:\n",
        "  def __init__(data1,data2):\n",
        "      self.data1 = data1\n",
        "      self.data2 = data2"
      ],
      "execution_count": null,
      "outputs": []
    },
    {
      "cell_type": "markdown",
      "source": [
        "(b)"
      ],
      "metadata": {
        "id": "bP8LtbCTOsDo"
      }
    },
    {
      "cell_type": "code",
      "metadata": {
        "id": "mKy0fcS3J0cE"
      },
      "source": [
        "class newClass2:\n",
        "  def __init__(self,data1,data2):\n",
        "      self.data1 = data1\n",
        "      self.data2 = data2"
      ],
      "execution_count": null,
      "outputs": []
    },
    {
      "cell_type": "markdown",
      "metadata": {
        "id": "IiPxJDD7J3My"
      },
      "source": [
        "### Answer\n",
        "\n",
        "Lets have a look:"
      ]
    },
    {
      "cell_type": "code",
      "metadata": {
        "colab": {
          "base_uri": "https://localhost:8080/",
          "height": 164
        },
        "id": "NRPqLKLoKBac",
        "outputId": "3beb07e7-8320-4c13-bb37-19ce0c52d7d5"
      },
      "source": [
        "newClass1(1,2)"
      ],
      "execution_count": null,
      "outputs": [
        {
          "output_type": "error",
          "ename": "TypeError",
          "evalue": "ignored",
          "traceback": [
            "\u001b[0;31m---------------------------------------------------------------------------\u001b[0m",
            "\u001b[0;31mTypeError\u001b[0m                                 Traceback (most recent call last)",
            "\u001b[0;32m<ipython-input-14-6e9b7681be0d>\u001b[0m in \u001b[0;36m<module>\u001b[0;34m()\u001b[0m\n\u001b[0;32m----> 1\u001b[0;31m \u001b[0mnewClass1\u001b[0m\u001b[0;34m(\u001b[0m\u001b[0;36m1\u001b[0m\u001b[0;34m,\u001b[0m\u001b[0;36m2\u001b[0m\u001b[0;34m)\u001b[0m\u001b[0;34m\u001b[0m\u001b[0;34m\u001b[0m\u001b[0m\n\u001b[0m",
            "\u001b[0;31mTypeError\u001b[0m: __init__() takes 2 positional arguments but 3 were given"
          ]
        }
      ]
    },
    {
      "cell_type": "markdown",
      "metadata": {
        "id": "NJghTswFAV11"
      },
      "source": [
        "This version is missing the self in the declaration.\n",
        "\n",
        "Unfortunately, this error message (\"takes 2 positional arguments but 3 were given\") is a little confusing, but it makes sense when we break it down.\n",
        "\n",
        "When python calls a method on a class lets say my_class.func1(a,b), it calls like so: func1(my_class,a,b), therefore if you have missed self from the definition, python does not understand why you have given it 3 inputs, and thus complains.\n",
        "\n",
        "On the other hand, the other version of the class works perfectly:"
      ]
    },
    {
      "cell_type": "code",
      "metadata": {
        "colab": {
          "base_uri": "https://localhost:8080/"
        },
        "id": "bhOXteTIJ8zK",
        "outputId": "94fc7d7c-b7ce-4d34-bcb0-696e707623dc"
      },
      "source": [
        "newClass2(1,2)"
      ],
      "execution_count": null,
      "outputs": [
        {
          "output_type": "execute_result",
          "data": {
            "text/plain": [
              "<__main__.newClass2 at 0x7fadda6c4750>"
            ]
          },
          "metadata": {},
          "execution_count": 16
        }
      ]
    },
    {
      "cell_type": "markdown",
      "metadata": {
        "id": "guKu3OABQWH5"
      },
      "source": [
        "## Q3:\n",
        "\n",
        "How do you define what happens when you try to print a class?"
      ]
    },
    {
      "cell_type": "markdown",
      "metadata": {
        "id": "KXzE_rZdR47U"
      },
      "source": [
        "### Answer"
      ]
    },
    {
      "cell_type": "markdown",
      "metadata": {
        "id": "S2ZxPmvNR6a_"
      },
      "source": [
        "Printing output is very important, and lets us understand what is going on in a program.\n",
        "\n",
        "Of course for a completely new class it is unclear how it should be printed. Therefore you can define this using the \\_\\_str\\_\\_ method, e.g."
      ]
    },
    {
      "cell_type": "code",
      "metadata": {
        "id": "ukwXod6DQXKa"
      },
      "source": [
        "class CLASSroomNewPrint:\n",
        "  def __init__(self):\n",
        "    # Initialise the class\n",
        "    # Change to a set!\n",
        "    self.list_of_students = set()\n",
        "    self.teacher = None\n",
        "  def addStudent(self,new_student):\n",
        "    # Add a student to the classroom\n",
        "    self.list_of_students.add(new_student)\n",
        "  def checkStudent(self,student):\n",
        "    # Check if a student is in the classroom\n",
        "    if student in self.list_of_students:\n",
        "       return True\n",
        "    return False\n",
        "  def __str__(self):\n",
        "    return 'Classroom with {} students'.format(len(self.list_of_students))"
      ],
      "execution_count": null,
      "outputs": []
    },
    {
      "cell_type": "code",
      "metadata": {
        "colab": {
          "base_uri": "https://localhost:8080/"
        },
        "id": "TCvxw15wR1WD",
        "outputId": "0fb2598c-52d4-4ef4-ad5f-89602a4607f4"
      },
      "source": [
        "my_class_new = CLASSroomNewPrint()\n",
        "add_random_students(my_class_new,100000)\n",
        "print(my_class_new)"
      ],
      "execution_count": null,
      "outputs": [
        {
          "output_type": "stream",
          "name": "stdout",
          "text": [
            "Classroom with 100000 students\n"
          ]
        }
      ]
    },
    {
      "cell_type": "markdown",
      "metadata": {
        "id": "RD4wEFl3BRoq"
      },
      "source": [
        "We will now move on and ask two tricky questions, which is mainly just to highlight how  python objects work. Please dont worry if you dont get them right :-)"
      ]
    },
    {
      "cell_type": "markdown",
      "metadata": {
        "id": "OxHIH5n9S5JA"
      },
      "source": [
        "# Q4\n"
      ]
    },
    {
      "cell_type": "markdown",
      "metadata": {
        "id": "IF784ijWWIH-"
      },
      "source": [
        "Consider the following code:"
      ]
    },
    {
      "cell_type": "code",
      "metadata": {
        "id": "DPA_xn0xUGwQ"
      },
      "source": [
        "class new_class_q4:\n",
        "    def __init__(self,data1,data2):\n",
        "      self.animals = data1\n",
        "      self.animals[0] = data2\n",
        "    def __str__(self):\n",
        "       return 'Cat'\n",
        "\n",
        "l1 = [1,2,3]\n",
        "l2 = ['a','b','c']\n",
        "temp1 = new_class_q4(l1,l2)"
      ],
      "execution_count": null,
      "outputs": []
    },
    {
      "cell_type": "markdown",
      "metadata": {
        "id": "lGJ9RhTFWke1"
      },
      "source": [
        "What would the following code output:\n",
        "\n",
        "\n",
        "\n",
        "```\n",
        "print(l1)\n",
        "```\n",
        "\n"
      ]
    },
    {
      "cell_type": "markdown",
      "metadata": {
        "id": "3cWL7pd5W-8k"
      },
      "source": [
        "### Answer\n",
        "\n",
        "So lets have a look at the answer:"
      ]
    },
    {
      "cell_type": "code",
      "metadata": {
        "colab": {
          "base_uri": "https://localhost:8080/"
        },
        "id": "4BTbazY7Wqgj",
        "outputId": "d42d3542-82cd-444c-8592-1d9ddf4656ae"
      },
      "source": [
        "print(l1)"
      ],
      "execution_count": null,
      "outputs": [
        {
          "output_type": "stream",
          "name": "stdout",
          "text": [
            "[['a', 'b', 'c'], 2, 3]\n"
          ]
        }
      ]
    },
    {
      "cell_type": "markdown",
      "metadata": {
        "id": "kRegptaHCI1O"
      },
      "source": [
        "Functions on python classes are the same as regular functions, i.e. any changes you make in a function\n",
        "to mutable python objects (e.g. lists, dictionaries and sets etc) will also be present outside of the function. This is also true if you store a mutable object in your class, as underneith they are the same object (see first two weeks of notes for a refresher).\n",
        "Therefore:"
      ]
    },
    {
      "cell_type": "code",
      "metadata": {
        "id": "dei3lPw9XDRk",
        "colab": {
          "base_uri": "https://localhost:8080/"
        },
        "outputId": "3d0d743e-fb4d-465e-97f4-062d1a53ef03"
      },
      "source": [
        "class new_class_q4:\n",
        "    def __init__(self,data1,data2):\n",
        "      ## Store a reference to data1 which we name self.animals\n",
        "      self.animals = data1\n",
        "      # Make a change to self.animals which will also be present on all\n",
        "      # other references to the object (i.e. data1)\n",
        "      self.animals[0] = data2\n",
        "    def __str__(self):\n",
        "       return 'Cat'\n",
        "\n",
        "l1 = [1,2,3]\n",
        "l2 = ['a','b','c']\n",
        "\n",
        "# Initalise the class with l1 (data1) and l2 (data2)\n",
        "temp1 = new_class_q4(l1,l2)\n",
        "\n",
        "# Due to the changes we make to data1 (i.e. l1)\n",
        "# when we initalise the class the value of data1 is now [l2,['a','b','c']]\n",
        "print(l1)"
      ],
      "execution_count": null,
      "outputs": [
        {
          "output_type": "stream",
          "name": "stdout",
          "text": [
            "[['a', 'b', 'c'], 2, 3]\n"
          ]
        }
      ]
    },
    {
      "cell_type": "markdown",
      "metadata": {
        "id": "pdZEmPpYD4pn"
      },
      "source": [
        "Bonus Question: What would happen if we changed the elements of l2 and then reprinted:"
      ]
    },
    {
      "cell_type": "code",
      "metadata": {
        "colab": {
          "base_uri": "https://localhost:8080/"
        },
        "id": "m17pgzw3D_ta",
        "outputId": "6ad97556-88a5-4e19-e27a-55f995e99a98"
      },
      "source": [
        "l2[1]='Rabbit'\n",
        "print(l1)"
      ],
      "execution_count": null,
      "outputs": [
        {
          "output_type": "stream",
          "name": "stdout",
          "text": [
            "[['a', 'Rabbit', 'c'], 2, 3]\n"
          ]
        }
      ]
    },
    {
      "cell_type": "markdown",
      "metadata": {
        "id": "NVRGsTKyXG7p"
      },
      "source": [
        "# Q5\n",
        "Final, **very difficult** question, (if you get this right you are a python object model master). Consider the following class:"
      ]
    },
    {
      "cell_type": "code",
      "metadata": {
        "id": "qWPqiJvuXIVW"
      },
      "source": [
        "class my_class_q5:\n",
        "     class_var = 1\n",
        "     def __init__(self,data1,data2):\n",
        "       self.data1 = data1\n",
        "       self.data2 = data2\n",
        "     def __str__(self):\n",
        "        self.class_var = self.data1\n",
        "        return self.data1"
      ],
      "execution_count": null,
      "outputs": []
    },
    {
      "cell_type": "markdown",
      "metadata": {
        "id": "tsF1XWDZXv14"
      },
      "source": [
        "What would the following code print?\n",
        "\n",
        "\n",
        "\n",
        "```\n",
        "nClass = my_class_q5('Cat','Dog')\n",
        "\n",
        "print(nClass.class_var)\n",
        "my_class_q5.class_var = 'Parrot'\n",
        "print(nClass.class_var)\n",
        "\n",
        "temp1 = str(nClass)\n",
        "print(nClass.class_var)\n",
        "\n",
        "print(my_class_q5.class_var)\n",
        "```\n",
        "\n"
      ]
    },
    {
      "cell_type": "markdown",
      "metadata": {
        "id": "m59TtLkjYZWj"
      },
      "source": [
        "### Answer\n",
        "\n",
        "Lets have a look:"
      ]
    },
    {
      "cell_type": "code",
      "metadata": {
        "colab": {
          "base_uri": "https://localhost:8080/"
        },
        "id": "t55rziZ6XkNQ",
        "outputId": "fa52531e-55ae-4557-ada4-3e6878d4e00e"
      },
      "source": [
        "\n",
        "class my_class_q5:\n",
        "     class_var = 1\n",
        "     def __init__(self,data1,data2):\n",
        "       self.data1 = data1\n",
        "       self.data2 = data2\n",
        "     def __str__(self):\n",
        "        self.class_var = self.data1\n",
        "        return self.data1\n",
        "\n",
        "nClass = my_class_q5('Cat','Dog')\n",
        "\n",
        "print(nClass.class_var)\n",
        "\n",
        "my_class_q5.class_var = 'Parrot'\n",
        "print(nClass.class_var)\n",
        "\n",
        "temp1 = str(nClass)\n",
        "print(nClass.class_var)\n",
        "\n",
        "print(my_class_q5.class_var)\n"
      ],
      "execution_count": null,
      "outputs": [
        {
          "output_type": "stream",
          "name": "stdout",
          "text": [
            "1\n",
            "Parrot\n",
            "Cat\n",
            "Parrot\n"
          ]
        }
      ]
    },
    {
      "cell_type": "markdown",
      "metadata": {
        "id": "204uRQOvEqxq"
      },
      "source": [
        "Why is this?"
      ]
    },
    {
      "cell_type": "code",
      "metadata": {
        "id": "gZ40K3JGYlGw",
        "colab": {
          "base_uri": "https://localhost:8080/"
        },
        "outputId": "a1a724d5-a9a8-4dea-eb90-93088e158aa9"
      },
      "source": [
        "class my_class_q5:\n",
        "     class_var = 1\n",
        "     def __init__(self,data1,data2):\n",
        "       self.data1 = data1\n",
        "       self.data2 = data2\n",
        "     def __str__(self):\n",
        "        self.class_var = self.data1\n",
        "        return self.data1\n",
        "\n",
        "# Initialise the class\n",
        "nClass = my_class_q5('Cat','Dog')\n",
        "\n",
        "# The value of class_var mirrors that of the class variable\n",
        "print(nClass.class_var) # 1\n",
        "\n",
        "# However if we set the class variable, we can change the\n",
        "# value for all versions of that class\n",
        "my_class_q5.class_var = 'Parrot'\n",
        "print(nClass.class_var) # Parrot\n",
        "\n",
        "# As we can see in the code above the __str__ method, which\n",
        "# is called every time you want to produce a string from your class\n",
        "# assigns something to the class_var (not good coding but it is an example :-)).\n",
        "# This creates an local attribute on the class, which overrules the value on\n",
        "# the class for this particular object\n",
        "temp1 = str(nClass)\n",
        "print(nClass.class_var) # self.data1 i.e. 'Cat'\n",
        "\n",
        "# However, the value on the class is not changed.\n",
        "print(my_class_q5.class_var) # 'Parrot'"
      ],
      "execution_count": null,
      "outputs": [
        {
          "output_type": "stream",
          "name": "stdout",
          "text": [
            "1\n",
            "Parrot\n",
            "Cat\n",
            "Parrot\n"
          ]
        }
      ]
    },
    {
      "cell_type": "code",
      "metadata": {
        "id": "ln3i1c2NGON9"
      },
      "source": [
        "#"
      ],
      "execution_count": null,
      "outputs": []
    },
    {
      "cell_type": "markdown",
      "source": [
        "## Exercises for this week"
      ],
      "metadata": {
        "id": "SOGFcH8mB35G"
      }
    },
    {
      "cell_type": "markdown",
      "source": [
        "### Exercise 1"
      ],
      "metadata": {
        "id": "quQXnJ7oB9Fc"
      }
    },
    {
      "cell_type": "markdown",
      "source": [
        "Adapt the code from Example 5 and change the __init__ method to also take the make and model as arguments. These should then be stored as instance variables make and model."
      ],
      "metadata": {
        "id": "vkeytM4fJfvd"
      }
    },
    {
      "cell_type": "markdown",
      "source": [
        "#### Answer"
      ],
      "metadata": {
        "id": "Ses63nJSJk44"
      }
    },
    {
      "cell_type": "code",
      "source": [
        "class Car:\n",
        "    def __init__(self, reg_number, make, model):\n",
        "        self.reg_number = reg_number   # Copy argument reg_number into the object\n",
        "        self.make = make               # Copy argument make into the object\n",
        "        self.model = model             # Copy argument model into the object\n",
        "        self.mileage = 0               # Set initial mileage\n",
        "    def drive(self, miles):\n",
        "        self.mileage += miles          # Accumulate mileage\n",
        "\n",
        "my_car = Car(\"OL51 CAR\", \"Skoda\", \"Favorit\")"
      ],
      "metadata": {
        "id": "7Ejl2F8-Jfdr"
      },
      "execution_count": null,
      "outputs": []
    },
    {
      "cell_type": "markdown",
      "source": [
        "### Exercise 2"
      ],
      "metadata": {
        "id": "Om24d586Js7u"
      }
    },
    {
      "cell_type": "markdown",
      "source": [
        "Adapt the code from Example 5 and create methods turn_engine_on and turn_engine_off. These should set an instance variable engine_on to True and False, respectively. Change the code in the method drive to only update the mileage counter when the engine is on.\n",
        "\n"
      ],
      "metadata": {
        "id": "n9nhpSxGJxzL"
      }
    },
    {
      "cell_type": "markdown",
      "source": [
        "#### Answer"
      ],
      "metadata": {
        "id": "ITl66J-uJy8X"
      }
    },
    {
      "cell_type": "code",
      "source": [
        "class Car:\n",
        "    def __init__(self, reg_number):\n",
        "        self.reg_number = reg_number   # Copy argument reg_number into the object\n",
        "        self.mileage = 0               # Set initial mileage\n",
        "        self.engine_on = False\n",
        "    def drive(self, miles):\n",
        "        if self.engine_on:\n",
        "            self.mileage += miles      # Accumulate mileage\n",
        "    def turn_engine_on(self):\n",
        "        self.engine_on = True          # Toggle engine state to on (True)\n",
        "    def turn_engine_off(self):\n",
        "        self.engine_on = False         # Toggle engine state to off (False)\n",
        "\n",
        "my_car = Car(\"NU68 REG\")\n",
        "my_car.drive(20)                       # Should not update mileage\n",
        "print(my_car.mileage)"
      ],
      "metadata": {
        "colab": {
          "base_uri": "https://localhost:8080/"
        },
        "id": "RCbOkbTYJufe",
        "outputId": "cb22b86b-02f7-4604-fa04-dcd9955d12df"
      },
      "execution_count": null,
      "outputs": [
        {
          "output_type": "stream",
          "name": "stdout",
          "text": [
            "0\n"
          ]
        }
      ]
    },
    {
      "cell_type": "code",
      "source": [],
      "metadata": {
        "id": "Y5al_8-1J4P7"
      },
      "execution_count": null,
      "outputs": []
    },
    {
      "cell_type": "markdown",
      "source": [
        "### Exercise 3"
      ],
      "metadata": {
        "id": "kRwfGzkJjBCQ"
      }
    },
    {
      "cell_type": "markdown",
      "source": [
        "In Example 7 we add the car to the list of cars of that keeper, when we set the keeper using set_keeper. However if we then set the keeper to be someone else (suppose that the car has been sold), then we should also delete the car from the list of cars of the current keeper, before registering it with the current keeper, which the code currently does not do.\n",
        "\n",
        "Update the code so that if the current keeper is not None, the car is removed from the list of cars from the current keeper."
      ],
      "metadata": {
        "id": "ezHZkzLbjFA9"
      }
    },
    {
      "cell_type": "code",
      "source": [],
      "metadata": {
        "id": "oDRnaMFljCxL"
      },
      "execution_count": null,
      "outputs": []
    }
  ]
}