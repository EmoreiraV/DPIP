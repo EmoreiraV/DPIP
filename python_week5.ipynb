{
  "nbformat": 4,
  "nbformat_minor": 0,
  "metadata": {
    "colab": {
      "provenance": [],
      "collapsed_sections": [
        "H22kInbUbHzk",
        "W1xYK08jNmrp",
        "wmlWfGlUaZ7h",
        "oJnFT5Orlsn1",
        "nA6lO2aJPFDH",
        "66D6vP1BPJ7M",
        "cI0KSehgPUFs",
        "aDHZa_qgQrr7",
        "lh6f3oyoRCv6",
        "Rabb6_ijRnmw",
        "_7tXnTOqRrmO",
        "yx3j8fYjSLJO",
        "gCPmT1RaSiLj"
      ],
      "include_colab_link": true
    },
    "kernelspec": {
      "name": "python3",
      "display_name": "Python 3"
    },
    "language_info": {
      "name": "python"
    }
  },
  "cells": [
    {
      "cell_type": "markdown",
      "metadata": {
        "id": "view-in-github",
        "colab_type": "text"
      },
      "source": [
        "<a href=\"https://colab.research.google.com/github/EmoreiraV/DPIP/blob/main/python_week5.ipynb\" target=\"_parent\"><img src=\"https://colab.research.google.com/assets/colab-badge.svg\" alt=\"Open In Colab\"/></a>"
      ]
    },
    {
      "cell_type": "markdown",
      "metadata": {
        "id": "hoZqMmDCW_UU"
      },
      "source": [
        "## Week 5\n",
        "\n",
        "This week we are covering further object orientating programming including inheritance, as this your last session with me (another lecturer will take the rest of the course), I will structure this session to have a small number of quiz questions to have a larger amount of time to ask questions to finish off this section."
      ]
    },
    {
      "cell_type": "markdown",
      "metadata": {
        "id": "M4yBZLDIa2JJ"
      },
      "source": [
        "## Quiz"
      ]
    },
    {
      "cell_type": "markdown",
      "metadata": {
        "id": "vhk80AHqa9nf"
      },
      "source": [
        "## Q1\n",
        "\n",
        "Why does class inheritance reduce the number of lines of code that needs to be written?"
      ]
    },
    {
      "cell_type": "markdown",
      "metadata": {
        "id": "H22kInbUbHzk"
      },
      "source": [
        "### Answer"
      ]
    },
    {
      "cell_type": "markdown",
      "metadata": {
        "id": "5Zra0jRSbQSN"
      },
      "source": [
        "You can share basic set up or indeed more complex operations between classes so you dont need to write them multiple times.\n",
        "\n",
        "This makes code more manageable, easier to test, and more modular each of which is often a large advantage."
      ]
    },
    {
      "cell_type": "markdown",
      "metadata": {
        "id": "wAWuLWSXMdjo"
      },
      "source": [
        "## Q2: Class inheritance which joke do we get?\n",
        "\n",
        "\n",
        "\n",
        "```\n",
        "class class1:\n",
        "    def __init__(self):\n",
        "         pass\n",
        "    def tellJoke(self):\n",
        "       print(\"Knock Knock\\nWho’s there?\\nNobel.\\nNobel who?\\nNobel…that’s why I knocked!\")\n",
        "\n",
        "class class2(class1):\n",
        "    def tellJoke(self):\n",
        "        print(\"Knock Knock\\nWho’s there?\\nLuke.\\nLuke who?\\nLuke through the peep hole and find out.\")\n",
        "\n",
        "class2().tellJoke()\n",
        "```\n",
        "\n",
        "Joke source:    https://parade.com/944054/parade/knock-knock-jokes/\n",
        "\n"
      ]
    },
    {
      "cell_type": "markdown",
      "metadata": {
        "id": "W1xYK08jNmrp"
      },
      "source": [
        "### Answer"
      ]
    },
    {
      "cell_type": "markdown",
      "metadata": {
        "id": "e64wUmeDFzjf"
      },
      "source": [
        "Lets have a look:"
      ]
    },
    {
      "cell_type": "code",
      "metadata": {
        "colab": {
          "base_uri": "https://localhost:8080/"
        },
        "id": "U_trfaIAL3gD",
        "outputId": "64f183e4-5bc1-4ebe-e129-8332f2ac6bf4"
      },
      "source": [
        "class class1:\n",
        "    def __init__(self):\n",
        "         pass\n",
        "    def tellJoke(self):\n",
        "       print(\"Knock Knock\\nWho’s there?\\nNobel.\\nNobel who?\\nNobel…that’s why I knocked!\")\n",
        "\n",
        "class class2(class1):\n",
        "    def tellJoke(self):\n",
        "        print(\"Knock Knock\\nWho’s there?\\nLuke.\\nLuke who?\\nLuke through the peep hole and find out.\")\n",
        "\n",
        "class2().tellJoke()\n",
        "\n",
        "\n",
        "# Joke source:    https://parade.com/944054/parade/knock-knock-jokes/"
      ],
      "execution_count": null,
      "outputs": [
        {
          "output_type": "stream",
          "name": "stdout",
          "text": [
            "Knock Knock\n",
            "Who’s there?\n",
            "Luke.\n",
            "Luke who?\n",
            "Luke through the peep hole and find out.\n"
          ]
        }
      ]
    },
    {
      "cell_type": "markdown",
      "metadata": {
        "id": "TaVQ1XBlF2K-"
      },
      "source": [
        "We see that even through both classes have a tellJoke method, the method on class2 takes precedence over the methods on class1 even through they are inheriting from it.\n",
        "\n",
        "In essense, python will first check if the method is on the current class and if not will check classes that they have inherited from."
      ]
    },
    {
      "cell_type": "markdown",
      "metadata": {
        "id": "_9eNPMgxWmtW"
      },
      "source": [
        "## Q3 Duck typing\n",
        "\n",
        "Lets consider the following duck classes (sorry!):\n"
      ]
    },
    {
      "cell_type": "code",
      "metadata": {
        "id": "cxef6vzdXxBp"
      },
      "source": [
        "class class_q2_duck:\n",
        "    def __init__(self):\n",
        "        pass\n",
        "    def quack(self):\n",
        "        print('quack')\n",
        "    def swim(self):\n",
        "        print('swim')\n",
        "\n",
        "class class_q2_mallard(class_q2_duck):\n",
        "    def latinName(self):\n",
        "        print('Anas platyrhynchos')\n",
        "\n",
        "class class_q2_tuftedduck(class_q2_duck):\n",
        "      def latinName(self):\n",
        "          print('Aythya fuligula')\n",
        "      def dive(self):\n",
        "          print(\"Dive\")\n",
        "\n",
        "def latinName(duck):\n",
        "    duck.quack()\n",
        "    duck.latinName()\n",
        "\n",
        "def diveDuck(duck):\n",
        "    duck.quack()\n",
        "    duck.dive()\n"
      ],
      "execution_count": null,
      "outputs": []
    },
    {
      "cell_type": "code",
      "metadata": {
        "id": "QXuaMnBOZbT2"
      },
      "source": [
        "mallard = class_q2_mallard()\n",
        "tuffedduck  = class_q2_tuftedduck()"
      ],
      "execution_count": null,
      "outputs": []
    },
    {
      "cell_type": "markdown",
      "metadata": {
        "id": "fVi1CqxsZYi0"
      },
      "source": [
        "What will the follow code do?\n",
        "\n",
        "```\n",
        "diveDuck(mallard)\n",
        "```\n",
        "\n",
        "```\n",
        "diveDuck(tuffedduck)\n",
        "```\n",
        "\n",
        "```\n",
        "mallard.dive = lambda: print('Super Duck')\n",
        "diveDuck(mallard)\n",
        "```\n"
      ]
    },
    {
      "cell_type": "markdown",
      "metadata": {
        "id": "wmlWfGlUaZ7h"
      },
      "source": [
        "### Answer"
      ]
    },
    {
      "cell_type": "markdown",
      "metadata": {
        "id": "ub5wZ6WCEL2O"
      },
      "source": [
        "Lets first create two of the classes:\n",
        "\n"
      ]
    },
    {
      "cell_type": "code",
      "metadata": {
        "id": "FvIeQ4LQaggi"
      },
      "source": [
        "mallard = class_q2_mallard()\n",
        "tuffedduck  = class_q2_tuftedduck()"
      ],
      "execution_count": null,
      "outputs": []
    },
    {
      "cell_type": "markdown",
      "metadata": {
        "id": "u0gQe3FgES0Z"
      },
      "source": [
        "First, mallard does not implement dive and therefore this does not work and raises as error:\n",
        "\n",
        "\n",
        "\n"
      ]
    },
    {
      "cell_type": "code",
      "metadata": {
        "colab": {
          "base_uri": "https://localhost:8080/",
          "height": 274
        },
        "id": "Uvsq1nK9ah4F",
        "outputId": "988c09a8-917e-471a-ad46-83e1292296e1"
      },
      "source": [
        "diveDuck(mallard)"
      ],
      "execution_count": null,
      "outputs": [
        {
          "output_type": "stream",
          "name": "stdout",
          "text": [
            "quack\n"
          ]
        },
        {
          "output_type": "error",
          "ename": "AttributeError",
          "evalue": "ignored",
          "traceback": [
            "\u001b[0;31m---------------------------------------------------------------------------\u001b[0m",
            "\u001b[0;31mAttributeError\u001b[0m                            Traceback (most recent call last)",
            "\u001b[0;32m<ipython-input-12-33ff88ae489e>\u001b[0m in \u001b[0;36m<module>\u001b[0;34m\u001b[0m\n\u001b[0;32m----> 1\u001b[0;31m \u001b[0mdiveDuck\u001b[0m\u001b[0;34m(\u001b[0m\u001b[0mmallard\u001b[0m\u001b[0;34m)\u001b[0m\u001b[0;34m\u001b[0m\u001b[0;34m\u001b[0m\u001b[0m\n\u001b[0m",
            "\u001b[0;32m<ipython-input-9-b36647408f34>\u001b[0m in \u001b[0;36mdiveDuck\u001b[0;34m(duck)\u001b[0m\n\u001b[1;32m     23\u001b[0m \u001b[0;32mdef\u001b[0m \u001b[0mdiveDuck\u001b[0m\u001b[0;34m(\u001b[0m\u001b[0mduck\u001b[0m\u001b[0;34m)\u001b[0m\u001b[0;34m:\u001b[0m\u001b[0;34m\u001b[0m\u001b[0;34m\u001b[0m\u001b[0m\n\u001b[1;32m     24\u001b[0m     \u001b[0mduck\u001b[0m\u001b[0;34m.\u001b[0m\u001b[0mquack\u001b[0m\u001b[0;34m(\u001b[0m\u001b[0;34m)\u001b[0m\u001b[0;34m\u001b[0m\u001b[0;34m\u001b[0m\u001b[0m\n\u001b[0;32m---> 25\u001b[0;31m     \u001b[0mduck\u001b[0m\u001b[0;34m.\u001b[0m\u001b[0mdive\u001b[0m\u001b[0;34m(\u001b[0m\u001b[0;34m)\u001b[0m\u001b[0;34m\u001b[0m\u001b[0;34m\u001b[0m\u001b[0m\n\u001b[0m",
            "\u001b[0;31mAttributeError\u001b[0m: 'class_q2_mallard' object has no attribute 'dive'"
          ]
        }
      ]
    },
    {
      "cell_type": "markdown",
      "metadata": {
        "id": "ojdrWv-VE6oX"
      },
      "source": [
        "The second set of code works, as the method implements both 'quack' and 'dive'.\n"
      ]
    },
    {
      "cell_type": "code",
      "metadata": {
        "colab": {
          "base_uri": "https://localhost:8080/"
        },
        "id": "DxOM3r9taiUD",
        "outputId": "78128464-d72f-432d-cd5e-5a3de3510aaf"
      },
      "source": [
        "diveDuck(tuffedduck)"
      ],
      "execution_count": null,
      "outputs": [
        {
          "output_type": "stream",
          "name": "stdout",
          "text": [
            "quack\n",
            "Dive\n"
          ]
        }
      ]
    },
    {
      "cell_type": "markdown",
      "metadata": {
        "id": "MuXJx2-zE_Hj"
      },
      "source": [
        "However, we can now see an example of duck typing, where the python doesnt care what methods are on the class or indeed anything about the object as long as it implements all of the required methods.\n",
        "\n",
        "So here we add a new attribute to the class, which is a temporary function (and not a standard class method), the code works fine!"
      ]
    },
    {
      "cell_type": "code",
      "metadata": {
        "colab": {
          "base_uri": "https://localhost:8080/"
        },
        "id": "DH61Xo1zak4N",
        "outputId": "6fc731c8-25e9-49a1-93f3-54b8f81b8f7d"
      },
      "source": [
        "mallard.dive = lambda: print('Super Duck')\n",
        "diveDuck(mallard)"
      ],
      "execution_count": null,
      "outputs": [
        {
          "output_type": "stream",
          "name": "stdout",
          "text": [
            "quack\n",
            "Super Duck\n"
          ]
        }
      ]
    },
    {
      "cell_type": "markdown",
      "source": [
        "## Saving data in python\n",
        "\n",
        "There are many different ways to save data in python.\n",
        "\n",
        "You can save your data into standard file formats e.g.\n",
        "- standard text files\n",
        "- csv, tsv, json etc etc\n",
        "- save to a database\n",
        "- other fancy cross language formats (e.g. hdf5 etc)\n",
        "\n",
        "Each of which have there advantages and dis-advantages, which trade off between:\n",
        "\n",
        "- Ease of accessibility (how many other programs can use the format)\n",
        "- (related) Ease of readability (can you look at the data and understand what is going on)\n",
        "- How fast it takes to store the data\n",
        "- How much space it takes up.\n",
        "\n",
        "Rather than giving an in depth guide to each of them, which might only be useful to a small subset that might need to use them. I wanted to give you a quick example from the most common file format from python, the so called `pickle' file."
      ],
      "metadata": {
        "id": "c8PxKgjjiwqs"
      }
    },
    {
      "cell_type": "markdown",
      "source": [
        "Let us first make some data:"
      ],
      "metadata": {
        "id": "jXnE-kebkP6b"
      }
    },
    {
      "cell_type": "code",
      "source": [
        "l1 = [\"a\",\"b\",\"c\"]\n",
        "l2 = [x**2 for x in range(5)]"
      ],
      "metadata": {
        "id": "coGbGh_ekOxx"
      },
      "execution_count": null,
      "outputs": []
    },
    {
      "cell_type": "markdown",
      "source": [
        "Now we want to store the results of our very complex calculation, we can use pickle.\n",
        "\n",
        "First we import the pickle module:"
      ],
      "metadata": {
        "id": "QhOgEOaakOkO"
      }
    },
    {
      "cell_type": "code",
      "source": [
        "import pickle"
      ],
      "metadata": {
        "id": "xCYxXED8kbBY"
      },
      "execution_count": null,
      "outputs": []
    },
    {
      "cell_type": "markdown",
      "source": [
        "Next we need to create a file to put our data in, for now lets call that \"data.pickle\"."
      ],
      "metadata": {
        "id": "R3g804gVkh96"
      }
    },
    {
      "cell_type": "code",
      "source": [
        "f = open(\"data.pickle\",\"wb\")"
      ],
      "metadata": {
        "id": "fP-NfA4EkpTt"
      },
      "execution_count": null,
      "outputs": []
    },
    {
      "cell_type": "markdown",
      "source": [
        "The second string, tells python how you want to open the file:\n",
        "- \"w\" means we want to write to the file\n",
        "- \"b\" means we want to treat the file as a binary file.\n",
        "\n",
        "We can now put our data into the file, using the following command:"
      ],
      "metadata": {
        "id": "w3LBeEwjkxlZ"
      }
    },
    {
      "cell_type": "code",
      "source": [
        "data = [l1,l2,{1:2,\"cat\":\"dog\"}]\n",
        "pickle.dump(data,f)"
      ],
      "metadata": {
        "id": "H-th7XxPlElD"
      },
      "execution_count": null,
      "outputs": []
    },
    {
      "cell_type": "markdown",
      "source": [
        "When we are done with the file we have to close it to tell python we have added everyting to the file we want to add:"
      ],
      "metadata": {
        "id": "Ywxp-cbjlH3N"
      }
    },
    {
      "cell_type": "code",
      "source": [
        "f.close()"
      ],
      "metadata": {
        "id": "BCZ2r3b3lOwF"
      },
      "execution_count": null,
      "outputs": []
    },
    {
      "cell_type": "markdown",
      "source": [
        "We can then load the data from the file in the same way:"
      ],
      "metadata": {
        "id": "-GXeJcpolSrq"
      }
    },
    {
      "cell_type": "code",
      "source": [
        "f = open(\"data.pickle\",\"rb\") # r is for read"
      ],
      "metadata": {
        "id": "xbfuxKqelWkX"
      },
      "execution_count": null,
      "outputs": []
    },
    {
      "cell_type": "markdown",
      "source": [
        "We can then read the data back in using the following command:"
      ],
      "metadata": {
        "id": "20J4uwvDlbrt"
      }
    },
    {
      "cell_type": "code",
      "source": [
        "pickle.load(f)"
      ],
      "metadata": {
        "colab": {
          "base_uri": "https://localhost:8080/"
        },
        "id": "lHjXY8UElbX6",
        "outputId": "b87f2316-827d-4513-e2c9-9dc224718e4b"
      },
      "execution_count": null,
      "outputs": [
        {
          "output_type": "execute_result",
          "data": {
            "text/plain": [
              "[['a', 'b', 'c'], [0, 1, 4, 9, 16]]"
            ]
          },
          "metadata": {},
          "execution_count": 31
        }
      ]
    },
    {
      "cell_type": "markdown",
      "source": [
        "We must then close the file again:"
      ],
      "metadata": {
        "id": "U_ILnEdQlmIu"
      }
    },
    {
      "cell_type": "code",
      "source": [
        "f.close()"
      ],
      "metadata": {
        "id": "r0PykMSrlrl9"
      },
      "execution_count": null,
      "outputs": []
    },
    {
      "cell_type": "markdown",
      "source": [
        "### Slightly more advanced:"
      ],
      "metadata": {
        "id": "oJnFT5Orlsn1"
      }
    },
    {
      "cell_type": "markdown",
      "source": [
        "To avoid having to close files, modern python prefers you to use the \"with\" command, which will close the file automatically when the close is completed, i.e.:"
      ],
      "metadata": {
        "id": "x5q8P5eLlvKl"
      }
    },
    {
      "cell_type": "code",
      "source": [
        "del f\n",
        "\n",
        "with open(\"data.pickle\",\"wb\") as f:\n",
        "   data = [l1,l2]\n",
        "   pickle.dump(data,f)"
      ],
      "metadata": {
        "id": "8cuU5BMwl8Lb"
      },
      "execution_count": null,
      "outputs": []
    },
    {
      "cell_type": "code",
      "source": [
        "with open(\"data.pickle\",\"rb\") as f:\n",
        "   pickle.load(f)"
      ],
      "metadata": {
        "id": "1E8t886hmEuU"
      },
      "execution_count": null,
      "outputs": []
    },
    {
      "cell_type": "markdown",
      "source": [
        "## Exercises"
      ],
      "metadata": {
        "id": "nA6lO2aJPFDH"
      }
    },
    {
      "cell_type": "markdown",
      "source": [
        "### Task 1"
      ],
      "metadata": {
        "id": "66D6vP1BPJ7M"
      }
    },
    {
      "cell_type": "markdown",
      "source": [
        "Define a class Rectangle which has a width and height and has methods perimeter(formula 2×(𝑤+h))\n",
        "and area (formula 𝑤 × h).\n",
        "\n",
        "\n",
        "Also define a subclass Square which is defined only in terms of one side length. It should otherwise have the same methods as a Rectangle."
      ],
      "metadata": {
        "id": "bcz6kPWePMdR"
      }
    },
    {
      "cell_type": "markdown",
      "source": [
        "#### Answer"
      ],
      "metadata": {
        "id": "cI0KSehgPUFs"
      }
    },
    {
      "cell_type": "code",
      "source": [
        "# Base class implementation\n",
        "class Rectangle:\n",
        "    def __init__(self, w, h):\n",
        "        self.w = w\n",
        "        self.h = h\n",
        "    def area(self):\n",
        "        return self.w*self.h\n",
        "    def perimeter(self):\n",
        "        return (self.w+self.h)*2\n",
        "\n",
        "# Square class\n",
        "class Square(Rectangle):\n",
        "    def __init__(self, w):\n",
        "        super().__init__(w, w)"
      ],
      "metadata": {
        "id": "qHPw9PhGPGzO"
      },
      "execution_count": null,
      "outputs": []
    },
    {
      "cell_type": "code",
      "source": [
        "Square(2).area()"
      ],
      "metadata": {
        "colab": {
          "base_uri": "https://localhost:8080/"
        },
        "id": "TQEEYw5YPaIN",
        "outputId": "add271d5-363a-4e08-d1b2-fb119cec912e"
      },
      "execution_count": null,
      "outputs": [
        {
          "output_type": "execute_result",
          "data": {
            "text/plain": [
              "4"
            ]
          },
          "metadata": {},
          "execution_count": 2
        }
      ]
    },
    {
      "cell_type": "code",
      "source": [],
      "metadata": {
        "id": "5u_sJbH2PceT"
      },
      "execution_count": null,
      "outputs": []
    },
    {
      "cell_type": "markdown",
      "source": [
        "### Task 2"
      ],
      "metadata": {
        "id": "aDHZa_qgQrr7"
      }
    },
    {
      "cell_type": "markdown",
      "source": [
        "Rewrite the __init__ method from the class Rectangle from task 1 in Week 5 so that it raises a ValueError if any of the side lengths is negative."
      ],
      "metadata": {
        "id": "C6tXJ-sxQwub"
      }
    },
    {
      "cell_type": "markdown",
      "source": [
        "#### Answer"
      ],
      "metadata": {
        "id": "lh6f3oyoRCv6"
      }
    },
    {
      "cell_type": "code",
      "source": [
        "class Rectangle:\n",
        "    def __init__(self, w, h):\n",
        "        if w<0 or h<0:\n",
        "            raise ValueError(\"Side lengths must be non-negative\")\n",
        "        self.w = w\n",
        "        self.h = h\n",
        "\n",
        "    def area(self):\n",
        "        return self.w*self.h\n",
        "\n",
        "    def perimeter(self):\n",
        "        return (self.w+self.h)*2"
      ],
      "metadata": {
        "id": "xvWp1JyoQtRc"
      },
      "execution_count": null,
      "outputs": []
    },
    {
      "cell_type": "code",
      "source": [],
      "metadata": {
        "id": "ix2qKVhSQ8da"
      },
      "execution_count": null,
      "outputs": []
    },
    {
      "cell_type": "markdown",
      "source": [
        "### Task 3"
      ],
      "metadata": {
        "id": "Rabb6_ijRnmw"
      }
    },
    {
      "cell_type": "markdown",
      "source": [
        "Raise a warning in the __init__ method from task 2 if one of the side lengths is exactly 0. In this case the code can still perform the calculations, but it is likely the user has not intended this."
      ],
      "metadata": {
        "id": "50IemdelRqtd"
      }
    },
    {
      "cell_type": "markdown",
      "source": [
        "#### Answer"
      ],
      "metadata": {
        "id": "_7tXnTOqRrmO"
      }
    },
    {
      "cell_type": "code",
      "source": [
        "import warnings\n",
        "class Rectangle:\n",
        "    def __init__(self, w, h):\n",
        "        if w<0 or h<0:\n",
        "            raise ValueError(\"Side lengths must be non-negative\")\n",
        "        if w==0 or h==0:\n",
        "            warnings.warn(\"At least one side length of the rectangle is exactly 0.\")\n",
        "        self.w = w\n",
        "        self.h = h\n",
        "\n",
        "    def area(self):\n",
        "        return self.w*self.h\n",
        "\n",
        "    def perimeter(self):\n",
        "        return (self.w+self.h)*2"
      ],
      "metadata": {
        "id": "xdj0pwWlRzqx"
      },
      "execution_count": null,
      "outputs": []
    },
    {
      "cell_type": "markdown",
      "source": [
        "### Task 4"
      ],
      "metadata": {
        "id": "yx3j8fYjSLJO"
      }
    },
    {
      "cell_type": "markdown",
      "source": [
        "Consider the following class Freebies:"
      ],
      "metadata": {
        "id": "cJgztrF6SWqU"
      }
    },
    {
      "cell_type": "code",
      "source": [
        "class Freebies:\n",
        "    def __init__(self, items=[]):\n",
        "        self.items = items\n",
        "    def give_away(self):\n",
        "        if len(self.items)==0:\n",
        "            print(\"Sorry, nothing left to give away.\")\n",
        "        else:\n",
        "            print(\"Have a {}.\".format(self.items.pop()))\n",
        "f = Freebies([\"banana\", \"football\"])\n",
        "f.give_away()\n",
        "## Have a football.\n",
        "f.give_away()\n",
        "## Have a banana.\n",
        "f.give_away()\n"
      ],
      "metadata": {
        "colab": {
          "base_uri": "https://localhost:8080/"
        },
        "id": "9oleRAHDSMTB",
        "outputId": "77bd354b-8db5-45de-a94d-60be94b6df00"
      },
      "execution_count": null,
      "outputs": [
        {
          "output_type": "stream",
          "name": "stdout",
          "text": [
            "Have a football.\n",
            "Have a banana.\n",
            "Sorry, nothing left to give away.\n"
          ]
        }
      ]
    },
    {
      "cell_type": "markdown",
      "source": [
        "#### Answer"
      ],
      "metadata": {
        "id": "gCPmT1RaSiLj"
      }
    },
    {
      "cell_type": "code",
      "source": [
        "class Freebies:\n",
        "    def __init__(self, items=[]):\n",
        "        self.items = items\n",
        "    def give_away(self):\n",
        "        try:\n",
        "            print(\"Have a {}.\".format(self.items.pop()))\n",
        "        except IndexError:\n",
        "            print(\"Sorry, nothing left to give away.\")\n",
        "f = Freebies([\"banana\", \"football\"])\n",
        "f.give_away()\n",
        "## Have a football.\n",
        "f.give_away()\n",
        "## Have a banana.\n",
        "f.give_away()"
      ],
      "metadata": {
        "colab": {
          "base_uri": "https://localhost:8080/"
        },
        "id": "kcNFDIbUSZz_",
        "outputId": "a90e926c-4121-4901-a6af-a73b858b5544"
      },
      "execution_count": null,
      "outputs": [
        {
          "output_type": "stream",
          "name": "stdout",
          "text": [
            "Have a football.\n",
            "Have a banana.\n",
            "Sorry, nothing left to give away.\n"
          ]
        }
      ]
    },
    {
      "cell_type": "code",
      "source": [],
      "metadata": {
        "id": "RSPW8j8OStuX"
      },
      "execution_count": null,
      "outputs": []
    }
  ]
}