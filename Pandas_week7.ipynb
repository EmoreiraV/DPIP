{
  "nbformat": 4,
  "nbformat_minor": 0,
  "metadata": {
    "colab": {
      "provenance": [],
      "include_colab_link": true
    },
    "kernelspec": {
      "name": "python3",
      "display_name": "Python 3"
    },
    "language_info": {
      "name": "python"
    }
  },
  "cells": [
    {
      "cell_type": "markdown",
      "metadata": {
        "id": "view-in-github",
        "colab_type": "text"
      },
      "source": [
        "<a href=\"https://colab.research.google.com/github/EmoreiraV/DPIP/blob/main/Pandas_week7.ipynb\" target=\"_parent\"><img src=\"https://colab.research.google.com/assets/colab-badge.svg\" alt=\"Open In Colab\"/></a>"
      ]
    },
    {
      "cell_type": "markdown",
      "metadata": {
        "id": "gLm90TuZZGYY"
      },
      "source": [
        "# Pandas\n",
        "\n",
        "This week we are introduing [Pandas](https://pandas.pydata.org/), which we will then follow up on in Week 8. Pandas is the Python equivalent of R's Data Frames, and is used for data in tabular form. Pandas is built on NumPy but is better for dealing with datasets.\n",
        "\n",
        "Its not clear why its called Pandas, but apparently people usually say the name refers to 'Python ANd DAta analysiS' or 'PANel DAta'."
      ]
    },
    {
      "cell_type": "markdown",
      "source": [
        "## Question about loading data in Colab"
      ],
      "metadata": {
        "id": "aHNQ-OGPVpXd"
      }
    },
    {
      "cell_type": "markdown",
      "source": [
        "A student messaged to ask how to download and load the data in colab from github, for task 6 in the week 7 notes.\n",
        "\n",
        "Thus i in the class i will:\n",
        "\n",
        "- Show how to download the data from github\n",
        "- Demonstrate how to do this simply in Colab"
      ],
      "metadata": {
        "id": "l32U7PVfVniQ"
      }
    },
    {
      "cell_type": "code",
      "source": [
        "!wget https://raw.githubusercontent.com/UofGAnalyticsData/DPIP/main/bp.csv"
      ],
      "metadata": {
        "colab": {
          "base_uri": "https://localhost:8080/"
        },
        "id": "mSlNL6vPWQso",
        "outputId": "1fca13d9-056e-4e92-f70c-67dfefd061de"
      },
      "execution_count": 1,
      "outputs": [
        {
          "output_type": "stream",
          "name": "stdout",
          "text": [
            "--2024-07-25 17:44:34--  https://raw.githubusercontent.com/UofGAnalyticsData/DPIP/main/bp.csv\n",
            "Resolving raw.githubusercontent.com (raw.githubusercontent.com)... 185.199.111.133, 185.199.109.133, 185.199.110.133, ...\n",
            "Connecting to raw.githubusercontent.com (raw.githubusercontent.com)|185.199.111.133|:443... connected.\n",
            "HTTP request sent, awaiting response... 200 OK\n",
            "Length: 2672 (2.6K) [text/plain]\n",
            "Saving to: ‘bp.csv’\n",
            "\n",
            "\rbp.csv                0%[                    ]       0  --.-KB/s               \rbp.csv              100%[===================>]   2.61K  --.-KB/s    in 0s      \n",
            "\n",
            "2024-07-25 17:44:34 (40.1 MB/s) - ‘bp.csv’ saved [2672/2672]\n",
            "\n"
          ]
        }
      ]
    },
    {
      "cell_type": "code",
      "source": [
        "!ls"
      ],
      "metadata": {
        "colab": {
          "base_uri": "https://localhost:8080/"
        },
        "id": "tKzcmnZOWYW6",
        "outputId": "fdf76355-32ad-4ab5-88d5-3ae8458d3839"
      },
      "execution_count": 2,
      "outputs": [
        {
          "output_type": "stream",
          "name": "stdout",
          "text": [
            "bp.csv\tsample_data\n"
          ]
        }
      ]
    },
    {
      "cell_type": "code",
      "source": [
        "import pandas as pd"
      ],
      "metadata": {
        "id": "7--TDlcdWaqF"
      },
      "execution_count": 3,
      "outputs": []
    },
    {
      "cell_type": "code",
      "source": [
        "df = pd.read_csv(\"bp.csv\", na_values=\".\")"
      ],
      "metadata": {
        "id": "n64476Q8Wd6K"
      },
      "execution_count": 13,
      "outputs": []
    },
    {
      "cell_type": "code",
      "source": [
        "df"
      ],
      "metadata": {
        "colab": {
          "base_uri": "https://localhost:8080/",
          "height": 424
        },
        "id": "8xDNWa84avFV",
        "outputId": "294beeb8-22b0-42c7-d49f-293b5bcaf5d7"
      },
      "execution_count": 14,
      "outputs": [
        {
          "output_type": "execute_result",
          "data": {
            "text/plain": [
              "     hour  minute  bps  bpd   hrt\n",
              "0       0       0  119   69  75.0\n",
              "1       0       1  124   72  75.0\n",
              "2       0       2  122   70  76.0\n",
              "3       0       3  124   72  75.0\n",
              "4       0       4  119   69  76.0\n",
              "..    ...     ...  ...  ...   ...\n",
              "175     2      55   96   52  81.0\n",
              "176     2      56  101   56  76.0\n",
              "177     2      57  113   62  72.0\n",
              "178     2      58  100   56  78.0\n",
              "179     2      59   98   53  78.0\n",
              "\n",
              "[180 rows x 5 columns]"
            ],
            "text/html": [
              "\n",
              "  <div id=\"df-a93835a8-37ca-4fc8-84bd-335e75b4a4cb\" class=\"colab-df-container\">\n",
              "    <div>\n",
              "<style scoped>\n",
              "    .dataframe tbody tr th:only-of-type {\n",
              "        vertical-align: middle;\n",
              "    }\n",
              "\n",
              "    .dataframe tbody tr th {\n",
              "        vertical-align: top;\n",
              "    }\n",
              "\n",
              "    .dataframe thead th {\n",
              "        text-align: right;\n",
              "    }\n",
              "</style>\n",
              "<table border=\"1\" class=\"dataframe\">\n",
              "  <thead>\n",
              "    <tr style=\"text-align: right;\">\n",
              "      <th></th>\n",
              "      <th>hour</th>\n",
              "      <th>minute</th>\n",
              "      <th>bps</th>\n",
              "      <th>bpd</th>\n",
              "      <th>hrt</th>\n",
              "    </tr>\n",
              "  </thead>\n",
              "  <tbody>\n",
              "    <tr>\n",
              "      <th>0</th>\n",
              "      <td>0</td>\n",
              "      <td>0</td>\n",
              "      <td>119</td>\n",
              "      <td>69</td>\n",
              "      <td>75.0</td>\n",
              "    </tr>\n",
              "    <tr>\n",
              "      <th>1</th>\n",
              "      <td>0</td>\n",
              "      <td>1</td>\n",
              "      <td>124</td>\n",
              "      <td>72</td>\n",
              "      <td>75.0</td>\n",
              "    </tr>\n",
              "    <tr>\n",
              "      <th>2</th>\n",
              "      <td>0</td>\n",
              "      <td>2</td>\n",
              "      <td>122</td>\n",
              "      <td>70</td>\n",
              "      <td>76.0</td>\n",
              "    </tr>\n",
              "    <tr>\n",
              "      <th>3</th>\n",
              "      <td>0</td>\n",
              "      <td>3</td>\n",
              "      <td>124</td>\n",
              "      <td>72</td>\n",
              "      <td>75.0</td>\n",
              "    </tr>\n",
              "    <tr>\n",
              "      <th>4</th>\n",
              "      <td>0</td>\n",
              "      <td>4</td>\n",
              "      <td>119</td>\n",
              "      <td>69</td>\n",
              "      <td>76.0</td>\n",
              "    </tr>\n",
              "    <tr>\n",
              "      <th>...</th>\n",
              "      <td>...</td>\n",
              "      <td>...</td>\n",
              "      <td>...</td>\n",
              "      <td>...</td>\n",
              "      <td>...</td>\n",
              "    </tr>\n",
              "    <tr>\n",
              "      <th>175</th>\n",
              "      <td>2</td>\n",
              "      <td>55</td>\n",
              "      <td>96</td>\n",
              "      <td>52</td>\n",
              "      <td>81.0</td>\n",
              "    </tr>\n",
              "    <tr>\n",
              "      <th>176</th>\n",
              "      <td>2</td>\n",
              "      <td>56</td>\n",
              "      <td>101</td>\n",
              "      <td>56</td>\n",
              "      <td>76.0</td>\n",
              "    </tr>\n",
              "    <tr>\n",
              "      <th>177</th>\n",
              "      <td>2</td>\n",
              "      <td>57</td>\n",
              "      <td>113</td>\n",
              "      <td>62</td>\n",
              "      <td>72.0</td>\n",
              "    </tr>\n",
              "    <tr>\n",
              "      <th>178</th>\n",
              "      <td>2</td>\n",
              "      <td>58</td>\n",
              "      <td>100</td>\n",
              "      <td>56</td>\n",
              "      <td>78.0</td>\n",
              "    </tr>\n",
              "    <tr>\n",
              "      <th>179</th>\n",
              "      <td>2</td>\n",
              "      <td>59</td>\n",
              "      <td>98</td>\n",
              "      <td>53</td>\n",
              "      <td>78.0</td>\n",
              "    </tr>\n",
              "  </tbody>\n",
              "</table>\n",
              "<p>180 rows × 5 columns</p>\n",
              "</div>\n",
              "    <div class=\"colab-df-buttons\">\n",
              "\n",
              "  <div class=\"colab-df-container\">\n",
              "    <button class=\"colab-df-convert\" onclick=\"convertToInteractive('df-a93835a8-37ca-4fc8-84bd-335e75b4a4cb')\"\n",
              "            title=\"Convert this dataframe to an interactive table.\"\n",
              "            style=\"display:none;\">\n",
              "\n",
              "  <svg xmlns=\"http://www.w3.org/2000/svg\" height=\"24px\" viewBox=\"0 -960 960 960\">\n",
              "    <path d=\"M120-120v-720h720v720H120Zm60-500h600v-160H180v160Zm220 220h160v-160H400v160Zm0 220h160v-160H400v160ZM180-400h160v-160H180v160Zm440 0h160v-160H620v160ZM180-180h160v-160H180v160Zm440 0h160v-160H620v160Z\"/>\n",
              "  </svg>\n",
              "    </button>\n",
              "\n",
              "  <style>\n",
              "    .colab-df-container {\n",
              "      display:flex;\n",
              "      gap: 12px;\n",
              "    }\n",
              "\n",
              "    .colab-df-convert {\n",
              "      background-color: #E8F0FE;\n",
              "      border: none;\n",
              "      border-radius: 50%;\n",
              "      cursor: pointer;\n",
              "      display: none;\n",
              "      fill: #1967D2;\n",
              "      height: 32px;\n",
              "      padding: 0 0 0 0;\n",
              "      width: 32px;\n",
              "    }\n",
              "\n",
              "    .colab-df-convert:hover {\n",
              "      background-color: #E2EBFA;\n",
              "      box-shadow: 0px 1px 2px rgba(60, 64, 67, 0.3), 0px 1px 3px 1px rgba(60, 64, 67, 0.15);\n",
              "      fill: #174EA6;\n",
              "    }\n",
              "\n",
              "    .colab-df-buttons div {\n",
              "      margin-bottom: 4px;\n",
              "    }\n",
              "\n",
              "    [theme=dark] .colab-df-convert {\n",
              "      background-color: #3B4455;\n",
              "      fill: #D2E3FC;\n",
              "    }\n",
              "\n",
              "    [theme=dark] .colab-df-convert:hover {\n",
              "      background-color: #434B5C;\n",
              "      box-shadow: 0px 1px 3px 1px rgba(0, 0, 0, 0.15);\n",
              "      filter: drop-shadow(0px 1px 2px rgba(0, 0, 0, 0.3));\n",
              "      fill: #FFFFFF;\n",
              "    }\n",
              "  </style>\n",
              "\n",
              "    <script>\n",
              "      const buttonEl =\n",
              "        document.querySelector('#df-a93835a8-37ca-4fc8-84bd-335e75b4a4cb button.colab-df-convert');\n",
              "      buttonEl.style.display =\n",
              "        google.colab.kernel.accessAllowed ? 'block' : 'none';\n",
              "\n",
              "      async function convertToInteractive(key) {\n",
              "        const element = document.querySelector('#df-a93835a8-37ca-4fc8-84bd-335e75b4a4cb');\n",
              "        const dataTable =\n",
              "          await google.colab.kernel.invokeFunction('convertToInteractive',\n",
              "                                                    [key], {});\n",
              "        if (!dataTable) return;\n",
              "\n",
              "        const docLinkHtml = 'Like what you see? Visit the ' +\n",
              "          '<a target=\"_blank\" href=https://colab.research.google.com/notebooks/data_table.ipynb>data table notebook</a>'\n",
              "          + ' to learn more about interactive tables.';\n",
              "        element.innerHTML = '';\n",
              "        dataTable['output_type'] = 'display_data';\n",
              "        await google.colab.output.renderOutput(dataTable, element);\n",
              "        const docLink = document.createElement('div');\n",
              "        docLink.innerHTML = docLinkHtml;\n",
              "        element.appendChild(docLink);\n",
              "      }\n",
              "    </script>\n",
              "  </div>\n",
              "\n",
              "\n",
              "<div id=\"df-960d5eda-214f-4e65-8aac-e32648f4e4ee\">\n",
              "  <button class=\"colab-df-quickchart\" onclick=\"quickchart('df-960d5eda-214f-4e65-8aac-e32648f4e4ee')\"\n",
              "            title=\"Suggest charts\"\n",
              "            style=\"display:none;\">\n",
              "\n",
              "<svg xmlns=\"http://www.w3.org/2000/svg\" height=\"24px\"viewBox=\"0 0 24 24\"\n",
              "     width=\"24px\">\n",
              "    <g>\n",
              "        <path d=\"M19 3H5c-1.1 0-2 .9-2 2v14c0 1.1.9 2 2 2h14c1.1 0 2-.9 2-2V5c0-1.1-.9-2-2-2zM9 17H7v-7h2v7zm4 0h-2V7h2v10zm4 0h-2v-4h2v4z\"/>\n",
              "    </g>\n",
              "</svg>\n",
              "  </button>\n",
              "\n",
              "<style>\n",
              "  .colab-df-quickchart {\n",
              "      --bg-color: #E8F0FE;\n",
              "      --fill-color: #1967D2;\n",
              "      --hover-bg-color: #E2EBFA;\n",
              "      --hover-fill-color: #174EA6;\n",
              "      --disabled-fill-color: #AAA;\n",
              "      --disabled-bg-color: #DDD;\n",
              "  }\n",
              "\n",
              "  [theme=dark] .colab-df-quickchart {\n",
              "      --bg-color: #3B4455;\n",
              "      --fill-color: #D2E3FC;\n",
              "      --hover-bg-color: #434B5C;\n",
              "      --hover-fill-color: #FFFFFF;\n",
              "      --disabled-bg-color: #3B4455;\n",
              "      --disabled-fill-color: #666;\n",
              "  }\n",
              "\n",
              "  .colab-df-quickchart {\n",
              "    background-color: var(--bg-color);\n",
              "    border: none;\n",
              "    border-radius: 50%;\n",
              "    cursor: pointer;\n",
              "    display: none;\n",
              "    fill: var(--fill-color);\n",
              "    height: 32px;\n",
              "    padding: 0;\n",
              "    width: 32px;\n",
              "  }\n",
              "\n",
              "  .colab-df-quickchart:hover {\n",
              "    background-color: var(--hover-bg-color);\n",
              "    box-shadow: 0 1px 2px rgba(60, 64, 67, 0.3), 0 1px 3px 1px rgba(60, 64, 67, 0.15);\n",
              "    fill: var(--button-hover-fill-color);\n",
              "  }\n",
              "\n",
              "  .colab-df-quickchart-complete:disabled,\n",
              "  .colab-df-quickchart-complete:disabled:hover {\n",
              "    background-color: var(--disabled-bg-color);\n",
              "    fill: var(--disabled-fill-color);\n",
              "    box-shadow: none;\n",
              "  }\n",
              "\n",
              "  .colab-df-spinner {\n",
              "    border: 2px solid var(--fill-color);\n",
              "    border-color: transparent;\n",
              "    border-bottom-color: var(--fill-color);\n",
              "    animation:\n",
              "      spin 1s steps(1) infinite;\n",
              "  }\n",
              "\n",
              "  @keyframes spin {\n",
              "    0% {\n",
              "      border-color: transparent;\n",
              "      border-bottom-color: var(--fill-color);\n",
              "      border-left-color: var(--fill-color);\n",
              "    }\n",
              "    20% {\n",
              "      border-color: transparent;\n",
              "      border-left-color: var(--fill-color);\n",
              "      border-top-color: var(--fill-color);\n",
              "    }\n",
              "    30% {\n",
              "      border-color: transparent;\n",
              "      border-left-color: var(--fill-color);\n",
              "      border-top-color: var(--fill-color);\n",
              "      border-right-color: var(--fill-color);\n",
              "    }\n",
              "    40% {\n",
              "      border-color: transparent;\n",
              "      border-right-color: var(--fill-color);\n",
              "      border-top-color: var(--fill-color);\n",
              "    }\n",
              "    60% {\n",
              "      border-color: transparent;\n",
              "      border-right-color: var(--fill-color);\n",
              "    }\n",
              "    80% {\n",
              "      border-color: transparent;\n",
              "      border-right-color: var(--fill-color);\n",
              "      border-bottom-color: var(--fill-color);\n",
              "    }\n",
              "    90% {\n",
              "      border-color: transparent;\n",
              "      border-bottom-color: var(--fill-color);\n",
              "    }\n",
              "  }\n",
              "</style>\n",
              "\n",
              "  <script>\n",
              "    async function quickchart(key) {\n",
              "      const quickchartButtonEl =\n",
              "        document.querySelector('#' + key + ' button');\n",
              "      quickchartButtonEl.disabled = true;  // To prevent multiple clicks.\n",
              "      quickchartButtonEl.classList.add('colab-df-spinner');\n",
              "      try {\n",
              "        const charts = await google.colab.kernel.invokeFunction(\n",
              "            'suggestCharts', [key], {});\n",
              "      } catch (error) {\n",
              "        console.error('Error during call to suggestCharts:', error);\n",
              "      }\n",
              "      quickchartButtonEl.classList.remove('colab-df-spinner');\n",
              "      quickchartButtonEl.classList.add('colab-df-quickchart-complete');\n",
              "    }\n",
              "    (() => {\n",
              "      let quickchartButtonEl =\n",
              "        document.querySelector('#df-960d5eda-214f-4e65-8aac-e32648f4e4ee button');\n",
              "      quickchartButtonEl.style.display =\n",
              "        google.colab.kernel.accessAllowed ? 'block' : 'none';\n",
              "    })();\n",
              "  </script>\n",
              "</div>\n",
              "\n",
              "  <div id=\"id_6d8be453-28dc-4ef2-9882-ded201dcc7bc\">\n",
              "    <style>\n",
              "      .colab-df-generate {\n",
              "        background-color: #E8F0FE;\n",
              "        border: none;\n",
              "        border-radius: 50%;\n",
              "        cursor: pointer;\n",
              "        display: none;\n",
              "        fill: #1967D2;\n",
              "        height: 32px;\n",
              "        padding: 0 0 0 0;\n",
              "        width: 32px;\n",
              "      }\n",
              "\n",
              "      .colab-df-generate:hover {\n",
              "        background-color: #E2EBFA;\n",
              "        box-shadow: 0px 1px 2px rgba(60, 64, 67, 0.3), 0px 1px 3px 1px rgba(60, 64, 67, 0.15);\n",
              "        fill: #174EA6;\n",
              "      }\n",
              "\n",
              "      [theme=dark] .colab-df-generate {\n",
              "        background-color: #3B4455;\n",
              "        fill: #D2E3FC;\n",
              "      }\n",
              "\n",
              "      [theme=dark] .colab-df-generate:hover {\n",
              "        background-color: #434B5C;\n",
              "        box-shadow: 0px 1px 3px 1px rgba(0, 0, 0, 0.15);\n",
              "        filter: drop-shadow(0px 1px 2px rgba(0, 0, 0, 0.3));\n",
              "        fill: #FFFFFF;\n",
              "      }\n",
              "    </style>\n",
              "    <button class=\"colab-df-generate\" onclick=\"generateWithVariable('df')\"\n",
              "            title=\"Generate code using this dataframe.\"\n",
              "            style=\"display:none;\">\n",
              "\n",
              "  <svg xmlns=\"http://www.w3.org/2000/svg\" height=\"24px\"viewBox=\"0 0 24 24\"\n",
              "       width=\"24px\">\n",
              "    <path d=\"M7,19H8.4L18.45,9,17,7.55,7,17.6ZM5,21V16.75L18.45,3.32a2,2,0,0,1,2.83,0l1.4,1.43a1.91,1.91,0,0,1,.58,1.4,1.91,1.91,0,0,1-.58,1.4L9.25,21ZM18.45,9,17,7.55Zm-12,3A5.31,5.31,0,0,0,4.9,8.1,5.31,5.31,0,0,0,1,6.5,5.31,5.31,0,0,0,4.9,4.9,5.31,5.31,0,0,0,6.5,1,5.31,5.31,0,0,0,8.1,4.9,5.31,5.31,0,0,0,12,6.5,5.46,5.46,0,0,0,6.5,12Z\"/>\n",
              "  </svg>\n",
              "    </button>\n",
              "    <script>\n",
              "      (() => {\n",
              "      const buttonEl =\n",
              "        document.querySelector('#id_6d8be453-28dc-4ef2-9882-ded201dcc7bc button.colab-df-generate');\n",
              "      buttonEl.style.display =\n",
              "        google.colab.kernel.accessAllowed ? 'block' : 'none';\n",
              "\n",
              "      buttonEl.onclick = () => {\n",
              "        google.colab.notebook.generateWithVariable('df');\n",
              "      }\n",
              "      })();\n",
              "    </script>\n",
              "  </div>\n",
              "\n",
              "    </div>\n",
              "  </div>\n"
            ],
            "application/vnd.google.colaboratory.intrinsic+json": {
              "type": "dataframe",
              "variable_name": "df",
              "summary": "{\n  \"name\": \"df\",\n  \"rows\": 180,\n  \"fields\": [\n    {\n      \"column\": \"hour\",\n      \"properties\": {\n        \"dtype\": \"number\",\n        \"std\": 0,\n        \"min\": 0,\n        \"max\": 2,\n        \"num_unique_values\": 3,\n        \"samples\": [\n          0,\n          1,\n          2\n        ],\n        \"semantic_type\": \"\",\n        \"description\": \"\"\n      }\n    },\n    {\n      \"column\": \"minute\",\n      \"properties\": {\n        \"dtype\": \"number\",\n        \"std\": 17,\n        \"min\": 0,\n        \"max\": 59,\n        \"num_unique_values\": 60,\n        \"samples\": [\n          0,\n          5,\n          36\n        ],\n        \"semantic_type\": \"\",\n        \"description\": \"\"\n      }\n    },\n    {\n      \"column\": \"bps\",\n      \"properties\": {\n        \"dtype\": \"number\",\n        \"std\": 11,\n        \"min\": 89,\n        \"max\": 139,\n        \"num_unique_values\": 41,\n        \"samples\": [\n          139,\n          112,\n          126\n        ],\n        \"semantic_type\": \"\",\n        \"description\": \"\"\n      }\n    },\n    {\n      \"column\": \"bpd\",\n      \"properties\": {\n        \"dtype\": \"number\",\n        \"std\": 6,\n        \"min\": 50,\n        \"max\": 78,\n        \"num_unique_values\": 26,\n        \"samples\": [\n          63,\n          62,\n          69\n        ],\n        \"semantic_type\": \"\",\n        \"description\": \"\"\n      }\n    },\n    {\n      \"column\": \"hrt\",\n      \"properties\": {\n        \"dtype\": \"number\",\n        \"std\": 3.3498499379954065,\n        \"min\": 68.0,\n        \"max\": 85.0,\n        \"num_unique_values\": 17,\n        \"samples\": [\n          75.0,\n          76.0,\n          80.0\n        ],\n        \"semantic_type\": \"\",\n        \"description\": \"\"\n      }\n    }\n  ]\n}"
            }
          },
          "metadata": {},
          "execution_count": 14
        }
      ]
    },
    {
      "cell_type": "markdown",
      "source": [
        "We can not look at some properties of the data:"
      ],
      "metadata": {
        "id": "75uJWI5mWlUJ"
      }
    },
    {
      "cell_type": "code",
      "source": [
        "df.describe()"
      ],
      "metadata": {
        "colab": {
          "base_uri": "https://localhost:8080/",
          "height": 300
        },
        "id": "E9GXAMBgWimJ",
        "outputId": "58dcf797-f927-4251-ef78-c6e0b947dbf7"
      },
      "execution_count": 15,
      "outputs": [
        {
          "output_type": "execute_result",
          "data": {
            "text/plain": [
              "             hour      minute         bps         bpd         hrt\n",
              "count  180.000000  180.000000  180.000000  180.000000  177.000000\n",
              "mean     1.000000   29.500000  121.533333   69.027778   76.271186\n",
              "std      0.818774   17.366409   11.839428    6.497469    3.349850\n",
              "min      0.000000    0.000000   89.000000   50.000000   68.000000\n",
              "25%      0.000000   14.750000  119.000000   68.750000   75.000000\n",
              "50%      1.000000   29.500000  125.000000   71.000000   76.000000\n",
              "75%      2.000000   44.250000  129.000000   73.000000   78.000000\n",
              "max      2.000000   59.000000  139.000000   78.000000   85.000000"
            ],
            "text/html": [
              "\n",
              "  <div id=\"df-a6f6909d-7131-4615-944b-3b518c763065\" class=\"colab-df-container\">\n",
              "    <div>\n",
              "<style scoped>\n",
              "    .dataframe tbody tr th:only-of-type {\n",
              "        vertical-align: middle;\n",
              "    }\n",
              "\n",
              "    .dataframe tbody tr th {\n",
              "        vertical-align: top;\n",
              "    }\n",
              "\n",
              "    .dataframe thead th {\n",
              "        text-align: right;\n",
              "    }\n",
              "</style>\n",
              "<table border=\"1\" class=\"dataframe\">\n",
              "  <thead>\n",
              "    <tr style=\"text-align: right;\">\n",
              "      <th></th>\n",
              "      <th>hour</th>\n",
              "      <th>minute</th>\n",
              "      <th>bps</th>\n",
              "      <th>bpd</th>\n",
              "      <th>hrt</th>\n",
              "    </tr>\n",
              "  </thead>\n",
              "  <tbody>\n",
              "    <tr>\n",
              "      <th>count</th>\n",
              "      <td>180.000000</td>\n",
              "      <td>180.000000</td>\n",
              "      <td>180.000000</td>\n",
              "      <td>180.000000</td>\n",
              "      <td>177.000000</td>\n",
              "    </tr>\n",
              "    <tr>\n",
              "      <th>mean</th>\n",
              "      <td>1.000000</td>\n",
              "      <td>29.500000</td>\n",
              "      <td>121.533333</td>\n",
              "      <td>69.027778</td>\n",
              "      <td>76.271186</td>\n",
              "    </tr>\n",
              "    <tr>\n",
              "      <th>std</th>\n",
              "      <td>0.818774</td>\n",
              "      <td>17.366409</td>\n",
              "      <td>11.839428</td>\n",
              "      <td>6.497469</td>\n",
              "      <td>3.349850</td>\n",
              "    </tr>\n",
              "    <tr>\n",
              "      <th>min</th>\n",
              "      <td>0.000000</td>\n",
              "      <td>0.000000</td>\n",
              "      <td>89.000000</td>\n",
              "      <td>50.000000</td>\n",
              "      <td>68.000000</td>\n",
              "    </tr>\n",
              "    <tr>\n",
              "      <th>25%</th>\n",
              "      <td>0.000000</td>\n",
              "      <td>14.750000</td>\n",
              "      <td>119.000000</td>\n",
              "      <td>68.750000</td>\n",
              "      <td>75.000000</td>\n",
              "    </tr>\n",
              "    <tr>\n",
              "      <th>50%</th>\n",
              "      <td>1.000000</td>\n",
              "      <td>29.500000</td>\n",
              "      <td>125.000000</td>\n",
              "      <td>71.000000</td>\n",
              "      <td>76.000000</td>\n",
              "    </tr>\n",
              "    <tr>\n",
              "      <th>75%</th>\n",
              "      <td>2.000000</td>\n",
              "      <td>44.250000</td>\n",
              "      <td>129.000000</td>\n",
              "      <td>73.000000</td>\n",
              "      <td>78.000000</td>\n",
              "    </tr>\n",
              "    <tr>\n",
              "      <th>max</th>\n",
              "      <td>2.000000</td>\n",
              "      <td>59.000000</td>\n",
              "      <td>139.000000</td>\n",
              "      <td>78.000000</td>\n",
              "      <td>85.000000</td>\n",
              "    </tr>\n",
              "  </tbody>\n",
              "</table>\n",
              "</div>\n",
              "    <div class=\"colab-df-buttons\">\n",
              "\n",
              "  <div class=\"colab-df-container\">\n",
              "    <button class=\"colab-df-convert\" onclick=\"convertToInteractive('df-a6f6909d-7131-4615-944b-3b518c763065')\"\n",
              "            title=\"Convert this dataframe to an interactive table.\"\n",
              "            style=\"display:none;\">\n",
              "\n",
              "  <svg xmlns=\"http://www.w3.org/2000/svg\" height=\"24px\" viewBox=\"0 -960 960 960\">\n",
              "    <path d=\"M120-120v-720h720v720H120Zm60-500h600v-160H180v160Zm220 220h160v-160H400v160Zm0 220h160v-160H400v160ZM180-400h160v-160H180v160Zm440 0h160v-160H620v160ZM180-180h160v-160H180v160Zm440 0h160v-160H620v160Z\"/>\n",
              "  </svg>\n",
              "    </button>\n",
              "\n",
              "  <style>\n",
              "    .colab-df-container {\n",
              "      display:flex;\n",
              "      gap: 12px;\n",
              "    }\n",
              "\n",
              "    .colab-df-convert {\n",
              "      background-color: #E8F0FE;\n",
              "      border: none;\n",
              "      border-radius: 50%;\n",
              "      cursor: pointer;\n",
              "      display: none;\n",
              "      fill: #1967D2;\n",
              "      height: 32px;\n",
              "      padding: 0 0 0 0;\n",
              "      width: 32px;\n",
              "    }\n",
              "\n",
              "    .colab-df-convert:hover {\n",
              "      background-color: #E2EBFA;\n",
              "      box-shadow: 0px 1px 2px rgba(60, 64, 67, 0.3), 0px 1px 3px 1px rgba(60, 64, 67, 0.15);\n",
              "      fill: #174EA6;\n",
              "    }\n",
              "\n",
              "    .colab-df-buttons div {\n",
              "      margin-bottom: 4px;\n",
              "    }\n",
              "\n",
              "    [theme=dark] .colab-df-convert {\n",
              "      background-color: #3B4455;\n",
              "      fill: #D2E3FC;\n",
              "    }\n",
              "\n",
              "    [theme=dark] .colab-df-convert:hover {\n",
              "      background-color: #434B5C;\n",
              "      box-shadow: 0px 1px 3px 1px rgba(0, 0, 0, 0.15);\n",
              "      filter: drop-shadow(0px 1px 2px rgba(0, 0, 0, 0.3));\n",
              "      fill: #FFFFFF;\n",
              "    }\n",
              "  </style>\n",
              "\n",
              "    <script>\n",
              "      const buttonEl =\n",
              "        document.querySelector('#df-a6f6909d-7131-4615-944b-3b518c763065 button.colab-df-convert');\n",
              "      buttonEl.style.display =\n",
              "        google.colab.kernel.accessAllowed ? 'block' : 'none';\n",
              "\n",
              "      async function convertToInteractive(key) {\n",
              "        const element = document.querySelector('#df-a6f6909d-7131-4615-944b-3b518c763065');\n",
              "        const dataTable =\n",
              "          await google.colab.kernel.invokeFunction('convertToInteractive',\n",
              "                                                    [key], {});\n",
              "        if (!dataTable) return;\n",
              "\n",
              "        const docLinkHtml = 'Like what you see? Visit the ' +\n",
              "          '<a target=\"_blank\" href=https://colab.research.google.com/notebooks/data_table.ipynb>data table notebook</a>'\n",
              "          + ' to learn more about interactive tables.';\n",
              "        element.innerHTML = '';\n",
              "        dataTable['output_type'] = 'display_data';\n",
              "        await google.colab.output.renderOutput(dataTable, element);\n",
              "        const docLink = document.createElement('div');\n",
              "        docLink.innerHTML = docLinkHtml;\n",
              "        element.appendChild(docLink);\n",
              "      }\n",
              "    </script>\n",
              "  </div>\n",
              "\n",
              "\n",
              "<div id=\"df-e2e27f3d-42d9-4381-908e-f3a21ce7dca3\">\n",
              "  <button class=\"colab-df-quickchart\" onclick=\"quickchart('df-e2e27f3d-42d9-4381-908e-f3a21ce7dca3')\"\n",
              "            title=\"Suggest charts\"\n",
              "            style=\"display:none;\">\n",
              "\n",
              "<svg xmlns=\"http://www.w3.org/2000/svg\" height=\"24px\"viewBox=\"0 0 24 24\"\n",
              "     width=\"24px\">\n",
              "    <g>\n",
              "        <path d=\"M19 3H5c-1.1 0-2 .9-2 2v14c0 1.1.9 2 2 2h14c1.1 0 2-.9 2-2V5c0-1.1-.9-2-2-2zM9 17H7v-7h2v7zm4 0h-2V7h2v10zm4 0h-2v-4h2v4z\"/>\n",
              "    </g>\n",
              "</svg>\n",
              "  </button>\n",
              "\n",
              "<style>\n",
              "  .colab-df-quickchart {\n",
              "      --bg-color: #E8F0FE;\n",
              "      --fill-color: #1967D2;\n",
              "      --hover-bg-color: #E2EBFA;\n",
              "      --hover-fill-color: #174EA6;\n",
              "      --disabled-fill-color: #AAA;\n",
              "      --disabled-bg-color: #DDD;\n",
              "  }\n",
              "\n",
              "  [theme=dark] .colab-df-quickchart {\n",
              "      --bg-color: #3B4455;\n",
              "      --fill-color: #D2E3FC;\n",
              "      --hover-bg-color: #434B5C;\n",
              "      --hover-fill-color: #FFFFFF;\n",
              "      --disabled-bg-color: #3B4455;\n",
              "      --disabled-fill-color: #666;\n",
              "  }\n",
              "\n",
              "  .colab-df-quickchart {\n",
              "    background-color: var(--bg-color);\n",
              "    border: none;\n",
              "    border-radius: 50%;\n",
              "    cursor: pointer;\n",
              "    display: none;\n",
              "    fill: var(--fill-color);\n",
              "    height: 32px;\n",
              "    padding: 0;\n",
              "    width: 32px;\n",
              "  }\n",
              "\n",
              "  .colab-df-quickchart:hover {\n",
              "    background-color: var(--hover-bg-color);\n",
              "    box-shadow: 0 1px 2px rgba(60, 64, 67, 0.3), 0 1px 3px 1px rgba(60, 64, 67, 0.15);\n",
              "    fill: var(--button-hover-fill-color);\n",
              "  }\n",
              "\n",
              "  .colab-df-quickchart-complete:disabled,\n",
              "  .colab-df-quickchart-complete:disabled:hover {\n",
              "    background-color: var(--disabled-bg-color);\n",
              "    fill: var(--disabled-fill-color);\n",
              "    box-shadow: none;\n",
              "  }\n",
              "\n",
              "  .colab-df-spinner {\n",
              "    border: 2px solid var(--fill-color);\n",
              "    border-color: transparent;\n",
              "    border-bottom-color: var(--fill-color);\n",
              "    animation:\n",
              "      spin 1s steps(1) infinite;\n",
              "  }\n",
              "\n",
              "  @keyframes spin {\n",
              "    0% {\n",
              "      border-color: transparent;\n",
              "      border-bottom-color: var(--fill-color);\n",
              "      border-left-color: var(--fill-color);\n",
              "    }\n",
              "    20% {\n",
              "      border-color: transparent;\n",
              "      border-left-color: var(--fill-color);\n",
              "      border-top-color: var(--fill-color);\n",
              "    }\n",
              "    30% {\n",
              "      border-color: transparent;\n",
              "      border-left-color: var(--fill-color);\n",
              "      border-top-color: var(--fill-color);\n",
              "      border-right-color: var(--fill-color);\n",
              "    }\n",
              "    40% {\n",
              "      border-color: transparent;\n",
              "      border-right-color: var(--fill-color);\n",
              "      border-top-color: var(--fill-color);\n",
              "    }\n",
              "    60% {\n",
              "      border-color: transparent;\n",
              "      border-right-color: var(--fill-color);\n",
              "    }\n",
              "    80% {\n",
              "      border-color: transparent;\n",
              "      border-right-color: var(--fill-color);\n",
              "      border-bottom-color: var(--fill-color);\n",
              "    }\n",
              "    90% {\n",
              "      border-color: transparent;\n",
              "      border-bottom-color: var(--fill-color);\n",
              "    }\n",
              "  }\n",
              "</style>\n",
              "\n",
              "  <script>\n",
              "    async function quickchart(key) {\n",
              "      const quickchartButtonEl =\n",
              "        document.querySelector('#' + key + ' button');\n",
              "      quickchartButtonEl.disabled = true;  // To prevent multiple clicks.\n",
              "      quickchartButtonEl.classList.add('colab-df-spinner');\n",
              "      try {\n",
              "        const charts = await google.colab.kernel.invokeFunction(\n",
              "            'suggestCharts', [key], {});\n",
              "      } catch (error) {\n",
              "        console.error('Error during call to suggestCharts:', error);\n",
              "      }\n",
              "      quickchartButtonEl.classList.remove('colab-df-spinner');\n",
              "      quickchartButtonEl.classList.add('colab-df-quickchart-complete');\n",
              "    }\n",
              "    (() => {\n",
              "      let quickchartButtonEl =\n",
              "        document.querySelector('#df-e2e27f3d-42d9-4381-908e-f3a21ce7dca3 button');\n",
              "      quickchartButtonEl.style.display =\n",
              "        google.colab.kernel.accessAllowed ? 'block' : 'none';\n",
              "    })();\n",
              "  </script>\n",
              "</div>\n",
              "\n",
              "    </div>\n",
              "  </div>\n"
            ],
            "application/vnd.google.colaboratory.intrinsic+json": {
              "type": "dataframe",
              "summary": "{\n  \"name\": \"df\",\n  \"rows\": 8,\n  \"fields\": [\n    {\n      \"column\": \"hour\",\n      \"properties\": {\n        \"dtype\": \"number\",\n        \"std\": 63.2997558058319,\n        \"min\": 0.0,\n        \"max\": 180.0,\n        \"num_unique_values\": 5,\n        \"samples\": [\n          1.0,\n          2.0,\n          0.8187741211424027\n        ],\n        \"semantic_type\": \"\",\n        \"description\": \"\"\n      }\n    },\n    {\n      \"column\": \"minute\",\n      \"properties\": {\n        \"dtype\": \"number\",\n        \"std\": 56.795297980601134,\n        \"min\": 0.0,\n        \"max\": 180.0,\n        \"num_unique_values\": 7,\n        \"samples\": [\n          180.0,\n          29.5,\n          44.25\n        ],\n        \"semantic_type\": \"\",\n        \"description\": \"\"\n      }\n    },\n    {\n      \"column\": \"bps\",\n      \"properties\": {\n        \"dtype\": \"number\",\n        \"std\": 48.50600806958658,\n        \"min\": 11.839428492925922,\n        \"max\": 180.0,\n        \"num_unique_values\": 8,\n        \"samples\": [\n          121.53333333333333,\n          125.0,\n          180.0\n        ],\n        \"semantic_type\": \"\",\n        \"description\": \"\"\n      }\n    },\n    {\n      \"column\": \"bpd\",\n      \"properties\": {\n        \"dtype\": \"number\",\n        \"std\": 48.4688301778603,\n        \"min\": 6.497468828658718,\n        \"max\": 180.0,\n        \"num_unique_values\": 8,\n        \"samples\": [\n          69.02777777777777,\n          71.0,\n          180.0\n        ],\n        \"semantic_type\": \"\",\n        \"description\": \"\"\n      }\n    },\n    {\n      \"column\": \"hrt\",\n      \"properties\": {\n        \"dtype\": \"number\",\n        \"std\": 47.074275447734706,\n        \"min\": 3.3498499379954065,\n        \"max\": 177.0,\n        \"num_unique_values\": 8,\n        \"samples\": [\n          76.27118644067797,\n          76.0,\n          177.0\n        ],\n        \"semantic_type\": \"\",\n        \"description\": \"\"\n      }\n    }\n  ]\n}"
            }
          },
          "metadata": {},
          "execution_count": 15
        }
      ]
    },
    {
      "cell_type": "markdown",
      "source": [
        "We could then analysis the data, say looking at the correlation between the columns\n",
        "\n",
        "e.g. https://stackoverflow.com/questions/29432629/plot-correlation-matrix-using-pandas\n"
      ],
      "metadata": {
        "id": "RG39KsSSWocH"
      }
    },
    {
      "cell_type": "code",
      "source": [
        "corr = df.corr()\n",
        "corr.style.background_gradient(cmap='coolwarm')\n"
      ],
      "metadata": {
        "colab": {
          "base_uri": "https://localhost:8080/",
          "height": 206
        },
        "id": "kXPg15XCWwgF",
        "outputId": "2bc73214-cc91-4ede-8ff8-bfe16a35572d"
      },
      "execution_count": 16,
      "outputs": [
        {
          "output_type": "execute_result",
          "data": {
            "text/plain": [
              "<pandas.io.formats.style.Styler at 0x7c0a58af3ee0>"
            ],
            "text/html": [
              "<style type=\"text/css\">\n",
              "#T_3daa6_row0_col0, #T_3daa6_row1_col1, #T_3daa6_row2_col2, #T_3daa6_row3_col3, #T_3daa6_row4_col4 {\n",
              "  background-color: #b40426;\n",
              "  color: #f1f1f1;\n",
              "}\n",
              "#T_3daa6_row0_col1 {\n",
              "  background-color: #9dbdff;\n",
              "  color: #000000;\n",
              "}\n",
              "#T_3daa6_row0_col2 {\n",
              "  background-color: #7597f6;\n",
              "  color: #f1f1f1;\n",
              "}\n",
              "#T_3daa6_row0_col3 {\n",
              "  background-color: #6c8ff1;\n",
              "  color: #f1f1f1;\n",
              "}\n",
              "#T_3daa6_row0_col4 {\n",
              "  background-color: #dadce0;\n",
              "  color: #000000;\n",
              "}\n",
              "#T_3daa6_row1_col0 {\n",
              "  background-color: #97b8ff;\n",
              "  color: #000000;\n",
              "}\n",
              "#T_3daa6_row1_col2 {\n",
              "  background-color: #7093f3;\n",
              "  color: #f1f1f1;\n",
              "}\n",
              "#T_3daa6_row1_col3 {\n",
              "  background-color: #6788ee;\n",
              "  color: #f1f1f1;\n",
              "}\n",
              "#T_3daa6_row1_col4 {\n",
              "  background-color: #f5c4ac;\n",
              "  color: #000000;\n",
              "}\n",
              "#T_3daa6_row2_col0 {\n",
              "  background-color: #3e51c5;\n",
              "  color: #f1f1f1;\n",
              "}\n",
              "#T_3daa6_row2_col1, #T_3daa6_row3_col4 {\n",
              "  background-color: #3f53c6;\n",
              "  color: #f1f1f1;\n",
              "}\n",
              "#T_3daa6_row2_col3, #T_3daa6_row3_col2 {\n",
              "  background-color: #b8122a;\n",
              "  color: #f1f1f1;\n",
              "}\n",
              "#T_3daa6_row2_col4, #T_3daa6_row3_col0, #T_3daa6_row3_col1, #T_3daa6_row4_col2, #T_3daa6_row4_col3 {\n",
              "  background-color: #3b4cc0;\n",
              "  color: #f1f1f1;\n",
              "}\n",
              "#T_3daa6_row4_col0 {\n",
              "  background-color: #bbd1f8;\n",
              "  color: #000000;\n",
              "}\n",
              "#T_3daa6_row4_col1 {\n",
              "  background-color: #ead4c8;\n",
              "  color: #000000;\n",
              "}\n",
              "</style>\n",
              "<table id=\"T_3daa6\" class=\"dataframe\">\n",
              "  <thead>\n",
              "    <tr>\n",
              "      <th class=\"blank level0\" >&nbsp;</th>\n",
              "      <th id=\"T_3daa6_level0_col0\" class=\"col_heading level0 col0\" >hour</th>\n",
              "      <th id=\"T_3daa6_level0_col1\" class=\"col_heading level0 col1\" >minute</th>\n",
              "      <th id=\"T_3daa6_level0_col2\" class=\"col_heading level0 col2\" >bps</th>\n",
              "      <th id=\"T_3daa6_level0_col3\" class=\"col_heading level0 col3\" >bpd</th>\n",
              "      <th id=\"T_3daa6_level0_col4\" class=\"col_heading level0 col4\" >hrt</th>\n",
              "    </tr>\n",
              "  </thead>\n",
              "  <tbody>\n",
              "    <tr>\n",
              "      <th id=\"T_3daa6_level0_row0\" class=\"row_heading level0 row0\" >hour</th>\n",
              "      <td id=\"T_3daa6_row0_col0\" class=\"data row0 col0\" >1.000000</td>\n",
              "      <td id=\"T_3daa6_row0_col1\" class=\"data row0 col1\" >0.000000</td>\n",
              "      <td id=\"T_3daa6_row0_col2\" class=\"data row0 col2\" >-0.371140</td>\n",
              "      <td id=\"T_3daa6_row0_col3\" class=\"data row0 col3\" >-0.388544</td>\n",
              "      <td id=\"T_3daa6_row0_col4\" class=\"data row0 col4\" >0.143893</td>\n",
              "    </tr>\n",
              "    <tr>\n",
              "      <th id=\"T_3daa6_level0_row1\" class=\"row_heading level0 row1\" >minute</th>\n",
              "      <td id=\"T_3daa6_row1_col0\" class=\"data row1 col0\" >0.000000</td>\n",
              "      <td id=\"T_3daa6_row1_col1\" class=\"data row1 col1\" >1.000000</td>\n",
              "      <td id=\"T_3daa6_row1_col2\" class=\"data row1 col2\" >-0.390692</td>\n",
              "      <td id=\"T_3daa6_row1_col3\" class=\"data row1 col3\" >-0.416750</td>\n",
              "      <td id=\"T_3daa6_row1_col4\" class=\"data row1 col4\" >0.371510</td>\n",
              "    </tr>\n",
              "    <tr>\n",
              "      <th id=\"T_3daa6_level0_row2\" class=\"row_heading level0 row2\" >bps</th>\n",
              "      <td id=\"T_3daa6_row2_col0\" class=\"data row2 col0\" >-0.371140</td>\n",
              "      <td id=\"T_3daa6_row2_col1\" class=\"data row2 col1\" >-0.390692</td>\n",
              "      <td id=\"T_3daa6_row2_col2\" class=\"data row2 col2\" >1.000000</td>\n",
              "      <td id=\"T_3daa6_row2_col3\" class=\"data row2 col3\" >0.976726</td>\n",
              "      <td id=\"T_3daa6_row2_col4\" class=\"data row2 col4\" >-0.678821</td>\n",
              "    </tr>\n",
              "    <tr>\n",
              "      <th id=\"T_3daa6_level0_row3\" class=\"row_heading level0 row3\" >bpd</th>\n",
              "      <td id=\"T_3daa6_row3_col0\" class=\"data row3 col0\" >-0.388544</td>\n",
              "      <td id=\"T_3daa6_row3_col1\" class=\"data row3 col1\" >-0.416750</td>\n",
              "      <td id=\"T_3daa6_row3_col2\" class=\"data row3 col2\" >0.976726</td>\n",
              "      <td id=\"T_3daa6_row3_col3\" class=\"data row3 col3\" >1.000000</td>\n",
              "      <td id=\"T_3daa6_row3_col4\" class=\"data row3 col4\" >-0.651483</td>\n",
              "    </tr>\n",
              "    <tr>\n",
              "      <th id=\"T_3daa6_level0_row4\" class=\"row_heading level0 row4\" >hrt</th>\n",
              "      <td id=\"T_3daa6_row4_col0\" class=\"data row4 col0\" >0.143893</td>\n",
              "      <td id=\"T_3daa6_row4_col1\" class=\"data row4 col1\" >0.371510</td>\n",
              "      <td id=\"T_3daa6_row4_col2\" class=\"data row4 col2\" >-0.678821</td>\n",
              "      <td id=\"T_3daa6_row4_col3\" class=\"data row4 col3\" >-0.651483</td>\n",
              "      <td id=\"T_3daa6_row4_col4\" class=\"data row4 col4\" >1.000000</td>\n",
              "    </tr>\n",
              "  </tbody>\n",
              "</table>\n"
            ]
          },
          "metadata": {},
          "execution_count": 16
        }
      ]
    },
    {
      "cell_type": "markdown",
      "source": [
        "Lets consider what happens if we dont specify the NA value:"
      ],
      "metadata": {
        "id": "-R9QjfQWXywL"
      }
    },
    {
      "cell_type": "code",
      "source": [
        "df = pd.read_csv(\"bp.csv\")"
      ],
      "metadata": {
        "id": "EGRhBCJ2X3-R"
      },
      "execution_count": 8,
      "outputs": []
    },
    {
      "cell_type": "markdown",
      "source": [
        "Note, we dont get an error, but the column is not in the dataset:"
      ],
      "metadata": {
        "id": "v-_DIPdXX8Ha"
      }
    },
    {
      "cell_type": "code",
      "source": [
        "df.describe()"
      ],
      "metadata": {
        "colab": {
          "base_uri": "https://localhost:8080/",
          "height": 300
        },
        "id": "6vdA9RRWX69-",
        "outputId": "55d1c991-aed4-49a0-aa45-5b7cbc5f33f0"
      },
      "execution_count": 9,
      "outputs": [
        {
          "output_type": "execute_result",
          "data": {
            "text/plain": [
              "             hour      minute         bps         bpd\n",
              "count  180.000000  180.000000  180.000000  180.000000\n",
              "mean     1.000000   29.500000  121.533333   69.027778\n",
              "std      0.818774   17.366409   11.839428    6.497469\n",
              "min      0.000000    0.000000   89.000000   50.000000\n",
              "25%      0.000000   14.750000  119.000000   68.750000\n",
              "50%      1.000000   29.500000  125.000000   71.000000\n",
              "75%      2.000000   44.250000  129.000000   73.000000\n",
              "max      2.000000   59.000000  139.000000   78.000000"
            ],
            "text/html": [
              "\n",
              "  <div id=\"df-61549e5f-3692-41d4-9feb-b77c27ed99fb\" class=\"colab-df-container\">\n",
              "    <div>\n",
              "<style scoped>\n",
              "    .dataframe tbody tr th:only-of-type {\n",
              "        vertical-align: middle;\n",
              "    }\n",
              "\n",
              "    .dataframe tbody tr th {\n",
              "        vertical-align: top;\n",
              "    }\n",
              "\n",
              "    .dataframe thead th {\n",
              "        text-align: right;\n",
              "    }\n",
              "</style>\n",
              "<table border=\"1\" class=\"dataframe\">\n",
              "  <thead>\n",
              "    <tr style=\"text-align: right;\">\n",
              "      <th></th>\n",
              "      <th>hour</th>\n",
              "      <th>minute</th>\n",
              "      <th>bps</th>\n",
              "      <th>bpd</th>\n",
              "    </tr>\n",
              "  </thead>\n",
              "  <tbody>\n",
              "    <tr>\n",
              "      <th>count</th>\n",
              "      <td>180.000000</td>\n",
              "      <td>180.000000</td>\n",
              "      <td>180.000000</td>\n",
              "      <td>180.000000</td>\n",
              "    </tr>\n",
              "    <tr>\n",
              "      <th>mean</th>\n",
              "      <td>1.000000</td>\n",
              "      <td>29.500000</td>\n",
              "      <td>121.533333</td>\n",
              "      <td>69.027778</td>\n",
              "    </tr>\n",
              "    <tr>\n",
              "      <th>std</th>\n",
              "      <td>0.818774</td>\n",
              "      <td>17.366409</td>\n",
              "      <td>11.839428</td>\n",
              "      <td>6.497469</td>\n",
              "    </tr>\n",
              "    <tr>\n",
              "      <th>min</th>\n",
              "      <td>0.000000</td>\n",
              "      <td>0.000000</td>\n",
              "      <td>89.000000</td>\n",
              "      <td>50.000000</td>\n",
              "    </tr>\n",
              "    <tr>\n",
              "      <th>25%</th>\n",
              "      <td>0.000000</td>\n",
              "      <td>14.750000</td>\n",
              "      <td>119.000000</td>\n",
              "      <td>68.750000</td>\n",
              "    </tr>\n",
              "    <tr>\n",
              "      <th>50%</th>\n",
              "      <td>1.000000</td>\n",
              "      <td>29.500000</td>\n",
              "      <td>125.000000</td>\n",
              "      <td>71.000000</td>\n",
              "    </tr>\n",
              "    <tr>\n",
              "      <th>75%</th>\n",
              "      <td>2.000000</td>\n",
              "      <td>44.250000</td>\n",
              "      <td>129.000000</td>\n",
              "      <td>73.000000</td>\n",
              "    </tr>\n",
              "    <tr>\n",
              "      <th>max</th>\n",
              "      <td>2.000000</td>\n",
              "      <td>59.000000</td>\n",
              "      <td>139.000000</td>\n",
              "      <td>78.000000</td>\n",
              "    </tr>\n",
              "  </tbody>\n",
              "</table>\n",
              "</div>\n",
              "    <div class=\"colab-df-buttons\">\n",
              "\n",
              "  <div class=\"colab-df-container\">\n",
              "    <button class=\"colab-df-convert\" onclick=\"convertToInteractive('df-61549e5f-3692-41d4-9feb-b77c27ed99fb')\"\n",
              "            title=\"Convert this dataframe to an interactive table.\"\n",
              "            style=\"display:none;\">\n",
              "\n",
              "  <svg xmlns=\"http://www.w3.org/2000/svg\" height=\"24px\" viewBox=\"0 -960 960 960\">\n",
              "    <path d=\"M120-120v-720h720v720H120Zm60-500h600v-160H180v160Zm220 220h160v-160H400v160Zm0 220h160v-160H400v160ZM180-400h160v-160H180v160Zm440 0h160v-160H620v160ZM180-180h160v-160H180v160Zm440 0h160v-160H620v160Z\"/>\n",
              "  </svg>\n",
              "    </button>\n",
              "\n",
              "  <style>\n",
              "    .colab-df-container {\n",
              "      display:flex;\n",
              "      gap: 12px;\n",
              "    }\n",
              "\n",
              "    .colab-df-convert {\n",
              "      background-color: #E8F0FE;\n",
              "      border: none;\n",
              "      border-radius: 50%;\n",
              "      cursor: pointer;\n",
              "      display: none;\n",
              "      fill: #1967D2;\n",
              "      height: 32px;\n",
              "      padding: 0 0 0 0;\n",
              "      width: 32px;\n",
              "    }\n",
              "\n",
              "    .colab-df-convert:hover {\n",
              "      background-color: #E2EBFA;\n",
              "      box-shadow: 0px 1px 2px rgba(60, 64, 67, 0.3), 0px 1px 3px 1px rgba(60, 64, 67, 0.15);\n",
              "      fill: #174EA6;\n",
              "    }\n",
              "\n",
              "    .colab-df-buttons div {\n",
              "      margin-bottom: 4px;\n",
              "    }\n",
              "\n",
              "    [theme=dark] .colab-df-convert {\n",
              "      background-color: #3B4455;\n",
              "      fill: #D2E3FC;\n",
              "    }\n",
              "\n",
              "    [theme=dark] .colab-df-convert:hover {\n",
              "      background-color: #434B5C;\n",
              "      box-shadow: 0px 1px 3px 1px rgba(0, 0, 0, 0.15);\n",
              "      filter: drop-shadow(0px 1px 2px rgba(0, 0, 0, 0.3));\n",
              "      fill: #FFFFFF;\n",
              "    }\n",
              "  </style>\n",
              "\n",
              "    <script>\n",
              "      const buttonEl =\n",
              "        document.querySelector('#df-61549e5f-3692-41d4-9feb-b77c27ed99fb button.colab-df-convert');\n",
              "      buttonEl.style.display =\n",
              "        google.colab.kernel.accessAllowed ? 'block' : 'none';\n",
              "\n",
              "      async function convertToInteractive(key) {\n",
              "        const element = document.querySelector('#df-61549e5f-3692-41d4-9feb-b77c27ed99fb');\n",
              "        const dataTable =\n",
              "          await google.colab.kernel.invokeFunction('convertToInteractive',\n",
              "                                                    [key], {});\n",
              "        if (!dataTable) return;\n",
              "\n",
              "        const docLinkHtml = 'Like what you see? Visit the ' +\n",
              "          '<a target=\"_blank\" href=https://colab.research.google.com/notebooks/data_table.ipynb>data table notebook</a>'\n",
              "          + ' to learn more about interactive tables.';\n",
              "        element.innerHTML = '';\n",
              "        dataTable['output_type'] = 'display_data';\n",
              "        await google.colab.output.renderOutput(dataTable, element);\n",
              "        const docLink = document.createElement('div');\n",
              "        docLink.innerHTML = docLinkHtml;\n",
              "        element.appendChild(docLink);\n",
              "      }\n",
              "    </script>\n",
              "  </div>\n",
              "\n",
              "\n",
              "<div id=\"df-2158b061-c98b-409d-bd83-934914adfea9\">\n",
              "  <button class=\"colab-df-quickchart\" onclick=\"quickchart('df-2158b061-c98b-409d-bd83-934914adfea9')\"\n",
              "            title=\"Suggest charts\"\n",
              "            style=\"display:none;\">\n",
              "\n",
              "<svg xmlns=\"http://www.w3.org/2000/svg\" height=\"24px\"viewBox=\"0 0 24 24\"\n",
              "     width=\"24px\">\n",
              "    <g>\n",
              "        <path d=\"M19 3H5c-1.1 0-2 .9-2 2v14c0 1.1.9 2 2 2h14c1.1 0 2-.9 2-2V5c0-1.1-.9-2-2-2zM9 17H7v-7h2v7zm4 0h-2V7h2v10zm4 0h-2v-4h2v4z\"/>\n",
              "    </g>\n",
              "</svg>\n",
              "  </button>\n",
              "\n",
              "<style>\n",
              "  .colab-df-quickchart {\n",
              "      --bg-color: #E8F0FE;\n",
              "      --fill-color: #1967D2;\n",
              "      --hover-bg-color: #E2EBFA;\n",
              "      --hover-fill-color: #174EA6;\n",
              "      --disabled-fill-color: #AAA;\n",
              "      --disabled-bg-color: #DDD;\n",
              "  }\n",
              "\n",
              "  [theme=dark] .colab-df-quickchart {\n",
              "      --bg-color: #3B4455;\n",
              "      --fill-color: #D2E3FC;\n",
              "      --hover-bg-color: #434B5C;\n",
              "      --hover-fill-color: #FFFFFF;\n",
              "      --disabled-bg-color: #3B4455;\n",
              "      --disabled-fill-color: #666;\n",
              "  }\n",
              "\n",
              "  .colab-df-quickchart {\n",
              "    background-color: var(--bg-color);\n",
              "    border: none;\n",
              "    border-radius: 50%;\n",
              "    cursor: pointer;\n",
              "    display: none;\n",
              "    fill: var(--fill-color);\n",
              "    height: 32px;\n",
              "    padding: 0;\n",
              "    width: 32px;\n",
              "  }\n",
              "\n",
              "  .colab-df-quickchart:hover {\n",
              "    background-color: var(--hover-bg-color);\n",
              "    box-shadow: 0 1px 2px rgba(60, 64, 67, 0.3), 0 1px 3px 1px rgba(60, 64, 67, 0.15);\n",
              "    fill: var(--button-hover-fill-color);\n",
              "  }\n",
              "\n",
              "  .colab-df-quickchart-complete:disabled,\n",
              "  .colab-df-quickchart-complete:disabled:hover {\n",
              "    background-color: var(--disabled-bg-color);\n",
              "    fill: var(--disabled-fill-color);\n",
              "    box-shadow: none;\n",
              "  }\n",
              "\n",
              "  .colab-df-spinner {\n",
              "    border: 2px solid var(--fill-color);\n",
              "    border-color: transparent;\n",
              "    border-bottom-color: var(--fill-color);\n",
              "    animation:\n",
              "      spin 1s steps(1) infinite;\n",
              "  }\n",
              "\n",
              "  @keyframes spin {\n",
              "    0% {\n",
              "      border-color: transparent;\n",
              "      border-bottom-color: var(--fill-color);\n",
              "      border-left-color: var(--fill-color);\n",
              "    }\n",
              "    20% {\n",
              "      border-color: transparent;\n",
              "      border-left-color: var(--fill-color);\n",
              "      border-top-color: var(--fill-color);\n",
              "    }\n",
              "    30% {\n",
              "      border-color: transparent;\n",
              "      border-left-color: var(--fill-color);\n",
              "      border-top-color: var(--fill-color);\n",
              "      border-right-color: var(--fill-color);\n",
              "    }\n",
              "    40% {\n",
              "      border-color: transparent;\n",
              "      border-right-color: var(--fill-color);\n",
              "      border-top-color: var(--fill-color);\n",
              "    }\n",
              "    60% {\n",
              "      border-color: transparent;\n",
              "      border-right-color: var(--fill-color);\n",
              "    }\n",
              "    80% {\n",
              "      border-color: transparent;\n",
              "      border-right-color: var(--fill-color);\n",
              "      border-bottom-color: var(--fill-color);\n",
              "    }\n",
              "    90% {\n",
              "      border-color: transparent;\n",
              "      border-bottom-color: var(--fill-color);\n",
              "    }\n",
              "  }\n",
              "</style>\n",
              "\n",
              "  <script>\n",
              "    async function quickchart(key) {\n",
              "      const quickchartButtonEl =\n",
              "        document.querySelector('#' + key + ' button');\n",
              "      quickchartButtonEl.disabled = true;  // To prevent multiple clicks.\n",
              "      quickchartButtonEl.classList.add('colab-df-spinner');\n",
              "      try {\n",
              "        const charts = await google.colab.kernel.invokeFunction(\n",
              "            'suggestCharts', [key], {});\n",
              "      } catch (error) {\n",
              "        console.error('Error during call to suggestCharts:', error);\n",
              "      }\n",
              "      quickchartButtonEl.classList.remove('colab-df-spinner');\n",
              "      quickchartButtonEl.classList.add('colab-df-quickchart-complete');\n",
              "    }\n",
              "    (() => {\n",
              "      let quickchartButtonEl =\n",
              "        document.querySelector('#df-2158b061-c98b-409d-bd83-934914adfea9 button');\n",
              "      quickchartButtonEl.style.display =\n",
              "        google.colab.kernel.accessAllowed ? 'block' : 'none';\n",
              "    })();\n",
              "  </script>\n",
              "</div>\n",
              "\n",
              "    </div>\n",
              "  </div>\n"
            ],
            "application/vnd.google.colaboratory.intrinsic+json": {
              "type": "dataframe",
              "summary": "{\n  \"name\": \"df\",\n  \"rows\": 8,\n  \"fields\": [\n    {\n      \"column\": \"hour\",\n      \"properties\": {\n        \"dtype\": \"number\",\n        \"std\": 63.2997558058319,\n        \"min\": 0.0,\n        \"max\": 180.0,\n        \"num_unique_values\": 5,\n        \"samples\": [\n          1.0,\n          2.0,\n          0.8187741211424027\n        ],\n        \"semantic_type\": \"\",\n        \"description\": \"\"\n      }\n    },\n    {\n      \"column\": \"minute\",\n      \"properties\": {\n        \"dtype\": \"number\",\n        \"std\": 56.795297980601134,\n        \"min\": 0.0,\n        \"max\": 180.0,\n        \"num_unique_values\": 7,\n        \"samples\": [\n          180.0,\n          29.5,\n          44.25\n        ],\n        \"semantic_type\": \"\",\n        \"description\": \"\"\n      }\n    },\n    {\n      \"column\": \"bps\",\n      \"properties\": {\n        \"dtype\": \"number\",\n        \"std\": 48.50600806958658,\n        \"min\": 11.839428492925922,\n        \"max\": 180.0,\n        \"num_unique_values\": 8,\n        \"samples\": [\n          121.53333333333333,\n          125.0,\n          180.0\n        ],\n        \"semantic_type\": \"\",\n        \"description\": \"\"\n      }\n    },\n    {\n      \"column\": \"bpd\",\n      \"properties\": {\n        \"dtype\": \"number\",\n        \"std\": 48.4688301778603,\n        \"min\": 6.497468828658718,\n        \"max\": 180.0,\n        \"num_unique_values\": 8,\n        \"samples\": [\n          69.02777777777777,\n          71.0,\n          180.0\n        ],\n        \"semantic_type\": \"\",\n        \"description\": \"\"\n      }\n    }\n  ]\n}"
            }
          },
          "metadata": {},
          "execution_count": 9
        }
      ]
    },
    {
      "cell_type": "code",
      "source": [
        "corr = df.corr()\n",
        "corr.style.background_gradient(cmap='coolwarm')"
      ],
      "metadata": {
        "colab": {
          "base_uri": "https://localhost:8080/",
          "height": 206
        },
        "id": "nTUGbKZbYA-o",
        "outputId": "d0ded30d-6862-487f-fa17-6cb68fe6ca38"
      },
      "execution_count": 17,
      "outputs": [
        {
          "output_type": "execute_result",
          "data": {
            "text/plain": [
              "<pandas.io.formats.style.Styler at 0x7c0a58af3be0>"
            ],
            "text/html": [
              "<style type=\"text/css\">\n",
              "#T_20935_row0_col0, #T_20935_row1_col1, #T_20935_row2_col2, #T_20935_row3_col3, #T_20935_row4_col4 {\n",
              "  background-color: #b40426;\n",
              "  color: #f1f1f1;\n",
              "}\n",
              "#T_20935_row0_col1 {\n",
              "  background-color: #9dbdff;\n",
              "  color: #000000;\n",
              "}\n",
              "#T_20935_row0_col2 {\n",
              "  background-color: #7597f6;\n",
              "  color: #f1f1f1;\n",
              "}\n",
              "#T_20935_row0_col3 {\n",
              "  background-color: #6c8ff1;\n",
              "  color: #f1f1f1;\n",
              "}\n",
              "#T_20935_row0_col4 {\n",
              "  background-color: #dadce0;\n",
              "  color: #000000;\n",
              "}\n",
              "#T_20935_row1_col0 {\n",
              "  background-color: #97b8ff;\n",
              "  color: #000000;\n",
              "}\n",
              "#T_20935_row1_col2 {\n",
              "  background-color: #7093f3;\n",
              "  color: #f1f1f1;\n",
              "}\n",
              "#T_20935_row1_col3 {\n",
              "  background-color: #6788ee;\n",
              "  color: #f1f1f1;\n",
              "}\n",
              "#T_20935_row1_col4 {\n",
              "  background-color: #f5c4ac;\n",
              "  color: #000000;\n",
              "}\n",
              "#T_20935_row2_col0 {\n",
              "  background-color: #3e51c5;\n",
              "  color: #f1f1f1;\n",
              "}\n",
              "#T_20935_row2_col1, #T_20935_row3_col4 {\n",
              "  background-color: #3f53c6;\n",
              "  color: #f1f1f1;\n",
              "}\n",
              "#T_20935_row2_col3, #T_20935_row3_col2 {\n",
              "  background-color: #b8122a;\n",
              "  color: #f1f1f1;\n",
              "}\n",
              "#T_20935_row2_col4, #T_20935_row3_col0, #T_20935_row3_col1, #T_20935_row4_col2, #T_20935_row4_col3 {\n",
              "  background-color: #3b4cc0;\n",
              "  color: #f1f1f1;\n",
              "}\n",
              "#T_20935_row4_col0 {\n",
              "  background-color: #bbd1f8;\n",
              "  color: #000000;\n",
              "}\n",
              "#T_20935_row4_col1 {\n",
              "  background-color: #ead4c8;\n",
              "  color: #000000;\n",
              "}\n",
              "</style>\n",
              "<table id=\"T_20935\" class=\"dataframe\">\n",
              "  <thead>\n",
              "    <tr>\n",
              "      <th class=\"blank level0\" >&nbsp;</th>\n",
              "      <th id=\"T_20935_level0_col0\" class=\"col_heading level0 col0\" >hour</th>\n",
              "      <th id=\"T_20935_level0_col1\" class=\"col_heading level0 col1\" >minute</th>\n",
              "      <th id=\"T_20935_level0_col2\" class=\"col_heading level0 col2\" >bps</th>\n",
              "      <th id=\"T_20935_level0_col3\" class=\"col_heading level0 col3\" >bpd</th>\n",
              "      <th id=\"T_20935_level0_col4\" class=\"col_heading level0 col4\" >hrt</th>\n",
              "    </tr>\n",
              "  </thead>\n",
              "  <tbody>\n",
              "    <tr>\n",
              "      <th id=\"T_20935_level0_row0\" class=\"row_heading level0 row0\" >hour</th>\n",
              "      <td id=\"T_20935_row0_col0\" class=\"data row0 col0\" >1.000000</td>\n",
              "      <td id=\"T_20935_row0_col1\" class=\"data row0 col1\" >0.000000</td>\n",
              "      <td id=\"T_20935_row0_col2\" class=\"data row0 col2\" >-0.371140</td>\n",
              "      <td id=\"T_20935_row0_col3\" class=\"data row0 col3\" >-0.388544</td>\n",
              "      <td id=\"T_20935_row0_col4\" class=\"data row0 col4\" >0.143893</td>\n",
              "    </tr>\n",
              "    <tr>\n",
              "      <th id=\"T_20935_level0_row1\" class=\"row_heading level0 row1\" >minute</th>\n",
              "      <td id=\"T_20935_row1_col0\" class=\"data row1 col0\" >0.000000</td>\n",
              "      <td id=\"T_20935_row1_col1\" class=\"data row1 col1\" >1.000000</td>\n",
              "      <td id=\"T_20935_row1_col2\" class=\"data row1 col2\" >-0.390692</td>\n",
              "      <td id=\"T_20935_row1_col3\" class=\"data row1 col3\" >-0.416750</td>\n",
              "      <td id=\"T_20935_row1_col4\" class=\"data row1 col4\" >0.371510</td>\n",
              "    </tr>\n",
              "    <tr>\n",
              "      <th id=\"T_20935_level0_row2\" class=\"row_heading level0 row2\" >bps</th>\n",
              "      <td id=\"T_20935_row2_col0\" class=\"data row2 col0\" >-0.371140</td>\n",
              "      <td id=\"T_20935_row2_col1\" class=\"data row2 col1\" >-0.390692</td>\n",
              "      <td id=\"T_20935_row2_col2\" class=\"data row2 col2\" >1.000000</td>\n",
              "      <td id=\"T_20935_row2_col3\" class=\"data row2 col3\" >0.976726</td>\n",
              "      <td id=\"T_20935_row2_col4\" class=\"data row2 col4\" >-0.678821</td>\n",
              "    </tr>\n",
              "    <tr>\n",
              "      <th id=\"T_20935_level0_row3\" class=\"row_heading level0 row3\" >bpd</th>\n",
              "      <td id=\"T_20935_row3_col0\" class=\"data row3 col0\" >-0.388544</td>\n",
              "      <td id=\"T_20935_row3_col1\" class=\"data row3 col1\" >-0.416750</td>\n",
              "      <td id=\"T_20935_row3_col2\" class=\"data row3 col2\" >0.976726</td>\n",
              "      <td id=\"T_20935_row3_col3\" class=\"data row3 col3\" >1.000000</td>\n",
              "      <td id=\"T_20935_row3_col4\" class=\"data row3 col4\" >-0.651483</td>\n",
              "    </tr>\n",
              "    <tr>\n",
              "      <th id=\"T_20935_level0_row4\" class=\"row_heading level0 row4\" >hrt</th>\n",
              "      <td id=\"T_20935_row4_col0\" class=\"data row4 col0\" >0.143893</td>\n",
              "      <td id=\"T_20935_row4_col1\" class=\"data row4 col1\" >0.371510</td>\n",
              "      <td id=\"T_20935_row4_col2\" class=\"data row4 col2\" >-0.678821</td>\n",
              "      <td id=\"T_20935_row4_col3\" class=\"data row4 col3\" >-0.651483</td>\n",
              "      <td id=\"T_20935_row4_col4\" class=\"data row4 col4\" >1.000000</td>\n",
              "    </tr>\n",
              "  </tbody>\n",
              "</table>\n"
            ]
          },
          "metadata": {},
          "execution_count": 17
        }
      ]
    },
    {
      "cell_type": "markdown",
      "metadata": {
        "id": "yjNZtRN1dt3c"
      },
      "source": [
        "## Pandas Series\n",
        "\n",
        "Let try a quick example. This following data is taken from the UK General Election Results in 2019. Let start by creating a simple series for the number of seats each party won."
      ]
    },
    {
      "cell_type": "code",
      "metadata": {
        "colab": {
          "base_uri": "https://localhost:8080/"
        },
        "id": "kKeEjz4odsog",
        "outputId": "eddfdbe5-e1b2-4d29-9621-f77a77a573e7"
      },
      "source": [
        "import pandas as pd\n",
        "import numpy as np\n",
        "seats = np.array([265, 203, 48, 11, 8])\n",
        "votes = pd.Series(seats)\n",
        "votes"
      ],
      "execution_count": null,
      "outputs": [
        {
          "output_type": "execute_result",
          "data": {
            "text/plain": [
              "0    265\n",
              "1    203\n",
              "2     48\n",
              "3     11\n",
              "4      8\n",
              "dtype: int64"
            ]
          },
          "metadata": {},
          "execution_count": 1
        }
      ]
    },
    {
      "cell_type": "markdown",
      "metadata": {
        "id": "bgKVXjFOhTeR"
      },
      "source": [
        "This isnt very clear right now, the row names arent very descriptive of what the dataset is about."
      ]
    },
    {
      "cell_type": "code",
      "metadata": {
        "colab": {
          "base_uri": "https://localhost:8080/"
        },
        "id": "kVs5kpXViR-W",
        "outputId": "16271d35-7c2f-4734-e419-96de10335dab"
      },
      "source": [
        "votes.index"
      ],
      "execution_count": null,
      "outputs": [
        {
          "output_type": "execute_result",
          "data": {
            "text/plain": [
              "RangeIndex(start=0, stop=5, step=1)"
            ]
          },
          "metadata": {},
          "execution_count": 2
        }
      ]
    },
    {
      "cell_type": "markdown",
      "metadata": {
        "id": "A87mD9Bvicg8"
      },
      "source": [
        "Let's add some row names"
      ]
    },
    {
      "cell_type": "code",
      "metadata": {
        "colab": {
          "base_uri": "https://localhost:8080/"
        },
        "id": "LpKLjXFKhruT",
        "outputId": "ebf36c5e-8743-411c-8e62-680ad1ae77cf"
      },
      "source": [
        "parties = np.array(['Conservatives', 'Labour', 'SNP', 'Liberal Democrat', 'DUP'])\n",
        "votes.index = parties\n",
        "print(votes.index)\n",
        "print(' ') # just to print a blank line\n",
        "votes"
      ],
      "execution_count": null,
      "outputs": [
        {
          "output_type": "stream",
          "name": "stdout",
          "text": [
            "Index(['Conservatives', 'Labour', 'SNP', 'Liberal Democrat', 'DUP'], dtype='object')\n",
            " \n"
          ]
        },
        {
          "output_type": "execute_result",
          "data": {
            "text/plain": [
              "Conservatives       265\n",
              "Labour              203\n",
              "SNP                  48\n",
              "Liberal Democrat     11\n",
              "DUP                   8\n",
              "dtype: int64"
            ]
          },
          "metadata": {},
          "execution_count": 3
        }
      ]
    },
    {
      "cell_type": "markdown",
      "metadata": {
        "id": "OvsZrIAzieqX"
      },
      "source": [
        "Or we could have recreated the dataset as follows"
      ]
    },
    {
      "cell_type": "code",
      "metadata": {
        "colab": {
          "base_uri": "https://localhost:8080/"
        },
        "id": "Xi0xf1CVimMf",
        "outputId": "36009fe3-bab5-4b41-f790-c9f05661f010"
      },
      "source": [
        "votes = pd.Series(seats, index=parties)\n",
        "votes"
      ],
      "execution_count": null,
      "outputs": [
        {
          "output_type": "execute_result",
          "data": {
            "text/plain": [
              "Conservatives       265\n",
              "Labour              203\n",
              "SNP                  48\n",
              "Liberal Democrat     11\n",
              "DUP                   8\n",
              "dtype: int64"
            ]
          },
          "metadata": {},
          "execution_count": 4
        }
      ]
    },
    {
      "cell_type": "markdown",
      "metadata": {
        "id": "Sqa3gTJfg-BY"
      },
      "source": [
        "Oops, I somehow missed out on the votes for others. Others should have 15 votes. Let's add that"
      ]
    },
    {
      "cell_type": "code",
      "metadata": {
        "colab": {
          "base_uri": "https://localhost:8080/"
        },
        "id": "-4ZRsbEzi-cm",
        "outputId": "28e2b5b5-a0d2-4722-a2a4-457a4f069a6f"
      },
      "source": [
        "votes['Other'] = 15\n",
        "votes"
      ],
      "execution_count": null,
      "outputs": [
        {
          "output_type": "execute_result",
          "data": {
            "text/plain": [
              "Conservatives       265\n",
              "Labour              203\n",
              "SNP                  48\n",
              "Liberal Democrat     11\n",
              "DUP                   8\n",
              "Other                15\n",
              "dtype: int64"
            ]
          },
          "metadata": {},
          "execution_count": 5
        }
      ]
    },
    {
      "cell_type": "markdown",
      "metadata": {
        "id": "f_BT6mwPgZrQ"
      },
      "source": [
        "Oops, I somehow (deliberately) make an error for the number of votes the Conservatives got during the election. It should be 365, not 265, let's change that"
      ]
    },
    {
      "cell_type": "code",
      "metadata": {
        "colab": {
          "base_uri": "https://localhost:8080/"
        },
        "id": "B03sDCbigYlC",
        "outputId": "5a28a0a6-94ab-4222-869c-2bc686e701cb"
      },
      "source": [
        "votes['Conservatives'] = 365\n",
        "votes"
      ],
      "execution_count": null,
      "outputs": [
        {
          "output_type": "execute_result",
          "data": {
            "text/plain": [
              "Conservatives       365\n",
              "Labour              203\n",
              "SNP                  48\n",
              "Liberal Democrat     11\n",
              "DUP                   8\n",
              "Other                15\n",
              "dtype: int64"
            ]
          },
          "metadata": {},
          "execution_count": 6
        }
      ]
    },
    {
      "cell_type": "markdown",
      "metadata": {
        "id": "v2O_SLDKucZC"
      },
      "source": [
        "We can add a name for our Series. It doesn't come up where we are expecting it to, but it will when we look at Data Frames"
      ]
    },
    {
      "cell_type": "code",
      "metadata": {
        "colab": {
          "base_uri": "https://localhost:8080/"
        },
        "id": "db_QVi0-uI69",
        "outputId": "20175469-4708-4db1-e072-cbc407516a6c"
      },
      "source": [
        "votes.name = 'Seats'\n",
        "votes"
      ],
      "execution_count": null,
      "outputs": [
        {
          "output_type": "execute_result",
          "data": {
            "text/plain": [
              "Conservatives       365\n",
              "Labour              203\n",
              "SNP                  48\n",
              "Liberal Democrat     11\n",
              "DUP                   8\n",
              "Other                15\n",
              "Name: Seats, dtype: int64"
            ]
          },
          "metadata": {},
          "execution_count": 7
        }
      ]
    },
    {
      "cell_type": "markdown",
      "metadata": {
        "id": "PcnOc08sum3r"
      },
      "source": [
        "We can also create this from scratch"
      ]
    },
    {
      "cell_type": "code",
      "metadata": {
        "colab": {
          "base_uri": "https://localhost:8080/"
        },
        "id": "NCCHgU11up_w",
        "outputId": "930b5eca-062d-4e89-edf4-ac6bfc52189b"
      },
      "source": [
        "parties = np.array(['Conservatives', 'Labour', 'SNP', 'Liberal Democrat', 'DUP', 'Other'])\n",
        "seats = np.array([365, 203, 48, 11, 8, 15])\n",
        "votes = pd.Series(seats, index=parties, name='Seats')\n",
        "votes"
      ],
      "execution_count": null,
      "outputs": [
        {
          "output_type": "execute_result",
          "data": {
            "text/plain": [
              "Conservatives       365\n",
              "Labour              203\n",
              "SNP                  48\n",
              "Liberal Democrat     11\n",
              "DUP                   8\n",
              "Other                15\n",
              "Name: Seats, dtype: int64"
            ]
          },
          "metadata": {},
          "execution_count": 8
        }
      ]
    },
    {
      "cell_type": "markdown",
      "metadata": {
        "id": "s06AXp4EpFpQ"
      },
      "source": [
        "## Extracting Information from Pandas Series\n",
        "\n",
        "Lets start by getting some summaries of the information in our series"
      ]
    },
    {
      "cell_type": "code",
      "metadata": {
        "colab": {
          "base_uri": "https://localhost:8080/"
        },
        "id": "lfG8vdwQsF4P",
        "outputId": "b73c3109-a012-45d5-ff1e-fd52a8c77180"
      },
      "source": [
        "print(votes.sum())\n",
        "print(votes.std())\n",
        "print(votes.var())\n",
        "print(votes.min())\n",
        "print(votes.max())\n",
        "\n"
      ],
      "execution_count": null,
      "outputs": [
        {
          "output_type": "stream",
          "name": "stdout",
          "text": [
            "650\n",
            "146.10361619982808\n",
            "21346.26666666667\n",
            "8\n",
            "365\n"
          ]
        }
      ]
    },
    {
      "cell_type": "markdown",
      "metadata": {
        "id": "zXomVPuhsp3b"
      },
      "source": [
        "Let's find out how many seats the SNP got and what proportion of the seats that is"
      ]
    },
    {
      "cell_type": "code",
      "metadata": {
        "colab": {
          "base_uri": "https://localhost:8080/"
        },
        "id": "Z4NDZ6Rws1RB",
        "outputId": "66ed8407-b56b-4669-e515-6613c629c480"
      },
      "source": [
        "print(votes['SNP'])\n",
        "votes['SNP']/votes.sum()"
      ],
      "execution_count": null,
      "outputs": [
        {
          "output_type": "stream",
          "name": "stdout",
          "text": [
            "48\n"
          ]
        },
        {
          "output_type": "execute_result",
          "data": {
            "text/plain": [
              "0.07384615384615385"
            ]
          },
          "metadata": {},
          "execution_count": 10
        }
      ]
    },
    {
      "cell_type": "markdown",
      "metadata": {
        "id": "DpVRxsextBaa"
      },
      "source": [
        "Let's also find out how many seats Labour have but using the row index this time. Remembering Python is zero indexed, this is the 2nd row or index 1"
      ]
    },
    {
      "cell_type": "code",
      "metadata": {
        "colab": {
          "base_uri": "https://localhost:8080/"
        },
        "id": "NOBUl6KStRg-",
        "outputId": "fc718dbd-1f4a-47bc-c149-a4c755286f15"
      },
      "source": [
        "votes[1]"
      ],
      "execution_count": null,
      "outputs": [
        {
          "output_type": "execute_result",
          "data": {
            "text/plain": [
              "203"
            ]
          },
          "metadata": {},
          "execution_count": 11
        }
      ]
    },
    {
      "cell_type": "markdown",
      "metadata": {
        "id": "-UTT3sKHjNNE"
      },
      "source": [
        "# Pandas Data Frame\n",
        "\n",
        "It would also be useful to add the change in the number of seats since the last election each party has seen. However in order to do that we need to change from a Series to a Data Frame. There is a method to do this, although I'm not sure whether it is in the notes."
      ]
    },
    {
      "cell_type": "code",
      "metadata": {
        "colab": {
          "base_uri": "https://localhost:8080/",
          "height": 237
        },
        "id": "E0J01nlEt-rw",
        "outputId": "fbf63b2c-81de-4706-85b7-561fac088709"
      },
      "source": [
        "votes.to_frame()"
      ],
      "execution_count": null,
      "outputs": [
        {
          "output_type": "execute_result",
          "data": {
            "text/html": [
              "<div>\n",
              "<style scoped>\n",
              "    .dataframe tbody tr th:only-of-type {\n",
              "        vertical-align: middle;\n",
              "    }\n",
              "\n",
              "    .dataframe tbody tr th {\n",
              "        vertical-align: top;\n",
              "    }\n",
              "\n",
              "    .dataframe thead th {\n",
              "        text-align: right;\n",
              "    }\n",
              "</style>\n",
              "<table border=\"1\" class=\"dataframe\">\n",
              "  <thead>\n",
              "    <tr style=\"text-align: right;\">\n",
              "      <th></th>\n",
              "      <th>Seats</th>\n",
              "    </tr>\n",
              "  </thead>\n",
              "  <tbody>\n",
              "    <tr>\n",
              "      <th>Conservatives</th>\n",
              "      <td>365</td>\n",
              "    </tr>\n",
              "    <tr>\n",
              "      <th>Labour</th>\n",
              "      <td>203</td>\n",
              "    </tr>\n",
              "    <tr>\n",
              "      <th>SNP</th>\n",
              "      <td>48</td>\n",
              "    </tr>\n",
              "    <tr>\n",
              "      <th>Liberal Democrat</th>\n",
              "      <td>11</td>\n",
              "    </tr>\n",
              "    <tr>\n",
              "      <th>DUP</th>\n",
              "      <td>8</td>\n",
              "    </tr>\n",
              "    <tr>\n",
              "      <th>Other</th>\n",
              "      <td>15</td>\n",
              "    </tr>\n",
              "  </tbody>\n",
              "</table>\n",
              "</div>"
            ],
            "text/plain": [
              "                  Seats\n",
              "Conservatives       365\n",
              "Labour              203\n",
              "SNP                  48\n",
              "Liberal Democrat     11\n",
              "DUP                   8\n",
              "Other                15"
            ]
          },
          "metadata": {},
          "execution_count": 12
        }
      ]
    },
    {
      "cell_type": "markdown",
      "metadata": {
        "id": "L6c_ZMCrvEUs"
      },
      "source": [
        "However let's start where we were before so we can see the difference between Series and Data Frames"
      ]
    },
    {
      "cell_type": "code",
      "metadata": {
        "colab": {
          "base_uri": "https://localhost:8080/",
          "height": 206
        },
        "id": "H8ARg4T_vRrq",
        "outputId": "41af9124-e7c0-427e-c8ed-56d5f8ab6f37"
      },
      "source": [
        "seats = np.array([265, 203, 48, 11, 8])\n",
        "parties = np.array(['Conservatives', 'Labour', 'SNP', 'Liberal Democrat', 'DUP'])\n",
        "data = {'Seats': seats}\n",
        "votes = pd.DataFrame(data, index = parties)\n",
        "votes"
      ],
      "execution_count": null,
      "outputs": [
        {
          "output_type": "execute_result",
          "data": {
            "text/html": [
              "<div>\n",
              "<style scoped>\n",
              "    .dataframe tbody tr th:only-of-type {\n",
              "        vertical-align: middle;\n",
              "    }\n",
              "\n",
              "    .dataframe tbody tr th {\n",
              "        vertical-align: top;\n",
              "    }\n",
              "\n",
              "    .dataframe thead th {\n",
              "        text-align: right;\n",
              "    }\n",
              "</style>\n",
              "<table border=\"1\" class=\"dataframe\">\n",
              "  <thead>\n",
              "    <tr style=\"text-align: right;\">\n",
              "      <th></th>\n",
              "      <th>Seats</th>\n",
              "    </tr>\n",
              "  </thead>\n",
              "  <tbody>\n",
              "    <tr>\n",
              "      <th>Conservatives</th>\n",
              "      <td>265</td>\n",
              "    </tr>\n",
              "    <tr>\n",
              "      <th>Labour</th>\n",
              "      <td>203</td>\n",
              "    </tr>\n",
              "    <tr>\n",
              "      <th>SNP</th>\n",
              "      <td>48</td>\n",
              "    </tr>\n",
              "    <tr>\n",
              "      <th>Liberal Democrat</th>\n",
              "      <td>11</td>\n",
              "    </tr>\n",
              "    <tr>\n",
              "      <th>DUP</th>\n",
              "      <td>8</td>\n",
              "    </tr>\n",
              "  </tbody>\n",
              "</table>\n",
              "</div>"
            ],
            "text/plain": [
              "                  Seats\n",
              "Conservatives       265\n",
              "Labour              203\n",
              "SNP                  48\n",
              "Liberal Democrat     11\n",
              "DUP                   8"
            ]
          },
          "metadata": {},
          "execution_count": 22
        }
      ]
    },
    {
      "cell_type": "markdown",
      "metadata": {
        "id": "EgOvv6Yqvjvq"
      },
      "source": [
        "Once again we are missing a row for 'Other' and we have put the number of seats in incorrectly for the 'Conservatives'. But lets's just fix the Conservative votes for now"
      ]
    },
    {
      "cell_type": "code",
      "metadata": {
        "colab": {
          "base_uri": "https://localhost:8080/",
          "height": 206
        },
        "id": "k0JGgG1LwBQU",
        "outputId": "ac459db3-7f68-40ef-b38f-be5b8e17a0d3"
      },
      "source": [
        "votes.loc['Conservatives'] = 365\n",
        "votes"
      ],
      "execution_count": null,
      "outputs": [
        {
          "output_type": "execute_result",
          "data": {
            "text/html": [
              "<div>\n",
              "<style scoped>\n",
              "    .dataframe tbody tr th:only-of-type {\n",
              "        vertical-align: middle;\n",
              "    }\n",
              "\n",
              "    .dataframe tbody tr th {\n",
              "        vertical-align: top;\n",
              "    }\n",
              "\n",
              "    .dataframe thead th {\n",
              "        text-align: right;\n",
              "    }\n",
              "</style>\n",
              "<table border=\"1\" class=\"dataframe\">\n",
              "  <thead>\n",
              "    <tr style=\"text-align: right;\">\n",
              "      <th></th>\n",
              "      <th>Seats</th>\n",
              "    </tr>\n",
              "  </thead>\n",
              "  <tbody>\n",
              "    <tr>\n",
              "      <th>Conservatives</th>\n",
              "      <td>365</td>\n",
              "    </tr>\n",
              "    <tr>\n",
              "      <th>Labour</th>\n",
              "      <td>203</td>\n",
              "    </tr>\n",
              "    <tr>\n",
              "      <th>SNP</th>\n",
              "      <td>48</td>\n",
              "    </tr>\n",
              "    <tr>\n",
              "      <th>Liberal Democrat</th>\n",
              "      <td>11</td>\n",
              "    </tr>\n",
              "    <tr>\n",
              "      <th>DUP</th>\n",
              "      <td>8</td>\n",
              "    </tr>\n",
              "  </tbody>\n",
              "</table>\n",
              "</div>"
            ],
            "text/plain": [
              "                  Seats\n",
              "Conservatives       365\n",
              "Labour              203\n",
              "SNP                  48\n",
              "Liberal Democrat     11\n",
              "DUP                   8"
            ]
          },
          "metadata": {},
          "execution_count": 23
        }
      ]
    },
    {
      "cell_type": "markdown",
      "metadata": {
        "id": "GHUTJr3xwqaw"
      },
      "source": [
        "And let's add a row for how the number of seats has changed since the last election"
      ]
    },
    {
      "cell_type": "code",
      "metadata": {
        "colab": {
          "base_uri": "https://localhost:8080/",
          "height": 206
        },
        "id": "lvjiynDYjcaK",
        "outputId": "06ac9629-aa9b-4d91-b013-51cb0ef3d1f5"
      },
      "source": [
        "change = np.array([47, -59, 13, -1, -2])\n",
        "votes['Change'] = change\n",
        "votes"
      ],
      "execution_count": null,
      "outputs": [
        {
          "output_type": "execute_result",
          "data": {
            "text/html": [
              "<div>\n",
              "<style scoped>\n",
              "    .dataframe tbody tr th:only-of-type {\n",
              "        vertical-align: middle;\n",
              "    }\n",
              "\n",
              "    .dataframe tbody tr th {\n",
              "        vertical-align: top;\n",
              "    }\n",
              "\n",
              "    .dataframe thead th {\n",
              "        text-align: right;\n",
              "    }\n",
              "</style>\n",
              "<table border=\"1\" class=\"dataframe\">\n",
              "  <thead>\n",
              "    <tr style=\"text-align: right;\">\n",
              "      <th></th>\n",
              "      <th>Seats</th>\n",
              "      <th>Change</th>\n",
              "    </tr>\n",
              "  </thead>\n",
              "  <tbody>\n",
              "    <tr>\n",
              "      <th>Conservatives</th>\n",
              "      <td>365</td>\n",
              "      <td>47</td>\n",
              "    </tr>\n",
              "    <tr>\n",
              "      <th>Labour</th>\n",
              "      <td>203</td>\n",
              "      <td>-59</td>\n",
              "    </tr>\n",
              "    <tr>\n",
              "      <th>SNP</th>\n",
              "      <td>48</td>\n",
              "      <td>13</td>\n",
              "    </tr>\n",
              "    <tr>\n",
              "      <th>Liberal Democrat</th>\n",
              "      <td>11</td>\n",
              "      <td>-1</td>\n",
              "    </tr>\n",
              "    <tr>\n",
              "      <th>DUP</th>\n",
              "      <td>8</td>\n",
              "      <td>-2</td>\n",
              "    </tr>\n",
              "  </tbody>\n",
              "</table>\n",
              "</div>"
            ],
            "text/plain": [
              "                  Seats  Change\n",
              "Conservatives       365      47\n",
              "Labour              203     -59\n",
              "SNP                  48      13\n",
              "Liberal Democrat     11      -1\n",
              "DUP                   8      -2"
            ]
          },
          "metadata": {},
          "execution_count": 24
        }
      ]
    },
    {
      "cell_type": "markdown",
      "metadata": {
        "id": "fgPB-o4cxFYh"
      },
      "source": [
        "Let's add that row back in for 'Other' now. There are a few different ways of doing this..."
      ]
    },
    {
      "cell_type": "code",
      "metadata": {
        "colab": {
          "base_uri": "https://localhost:8080/",
          "height": 237
        },
        "id": "jl0npvLFxJyr",
        "outputId": "438ba059-a950-4451-9448-e5adbe0f50a0"
      },
      "source": [
        "other_data = pd.DataFrame({'Seats': 15, 'Change': 2}, index=['Other'])\n",
        "votes = pd.concat([votes, other_data])\n",
        "votes"
      ],
      "execution_count": null,
      "outputs": [
        {
          "output_type": "execute_result",
          "data": {
            "text/html": [
              "<div>\n",
              "<style scoped>\n",
              "    .dataframe tbody tr th:only-of-type {\n",
              "        vertical-align: middle;\n",
              "    }\n",
              "\n",
              "    .dataframe tbody tr th {\n",
              "        vertical-align: top;\n",
              "    }\n",
              "\n",
              "    .dataframe thead th {\n",
              "        text-align: right;\n",
              "    }\n",
              "</style>\n",
              "<table border=\"1\" class=\"dataframe\">\n",
              "  <thead>\n",
              "    <tr style=\"text-align: right;\">\n",
              "      <th></th>\n",
              "      <th>Seats</th>\n",
              "      <th>Change</th>\n",
              "    </tr>\n",
              "  </thead>\n",
              "  <tbody>\n",
              "    <tr>\n",
              "      <th>Conservatives</th>\n",
              "      <td>365</td>\n",
              "      <td>47</td>\n",
              "    </tr>\n",
              "    <tr>\n",
              "      <th>Labour</th>\n",
              "      <td>203</td>\n",
              "      <td>-59</td>\n",
              "    </tr>\n",
              "    <tr>\n",
              "      <th>SNP</th>\n",
              "      <td>48</td>\n",
              "      <td>13</td>\n",
              "    </tr>\n",
              "    <tr>\n",
              "      <th>Liberal Democrat</th>\n",
              "      <td>11</td>\n",
              "      <td>-1</td>\n",
              "    </tr>\n",
              "    <tr>\n",
              "      <th>DUP</th>\n",
              "      <td>8</td>\n",
              "      <td>-2</td>\n",
              "    </tr>\n",
              "    <tr>\n",
              "      <th>Other</th>\n",
              "      <td>15</td>\n",
              "      <td>2</td>\n",
              "    </tr>\n",
              "  </tbody>\n",
              "</table>\n",
              "</div>"
            ],
            "text/plain": [
              "                  Seats  Change\n",
              "Conservatives       365      47\n",
              "Labour              203     -59\n",
              "SNP                  48      13\n",
              "Liberal Democrat     11      -1\n",
              "DUP                   8      -2\n",
              "Other                15       2"
            ]
          },
          "metadata": {},
          "execution_count": 28
        }
      ]
    },
    {
      "cell_type": "markdown",
      "metadata": {
        "id": "ZR_9RIM9lBsm"
      },
      "source": [
        "Lets add a column for the percentage of seats each party has. To so that we need to do a summary on one of the columns"
      ]
    },
    {
      "cell_type": "code",
      "metadata": {
        "colab": {
          "base_uri": "https://localhost:8080/",
          "height": 237
        },
        "id": "YFS4d4iAlHNk",
        "outputId": "8d7f681b-2b3c-4574-ad43-f4c59645cbd5"
      },
      "source": [
        "total_seats = votes.sum()[0]\n",
        "perc_seats = votes['Seats'] / total_seats * 100\n",
        "votes['Percentage Seats'] = perc_seats\n",
        "votes"
      ],
      "execution_count": null,
      "outputs": [
        {
          "output_type": "execute_result",
          "data": {
            "text/html": [
              "<div>\n",
              "<style scoped>\n",
              "    .dataframe tbody tr th:only-of-type {\n",
              "        vertical-align: middle;\n",
              "    }\n",
              "\n",
              "    .dataframe tbody tr th {\n",
              "        vertical-align: top;\n",
              "    }\n",
              "\n",
              "    .dataframe thead th {\n",
              "        text-align: right;\n",
              "    }\n",
              "</style>\n",
              "<table border=\"1\" class=\"dataframe\">\n",
              "  <thead>\n",
              "    <tr style=\"text-align: right;\">\n",
              "      <th></th>\n",
              "      <th>Seats</th>\n",
              "      <th>Change</th>\n",
              "      <th>Percentage Seats</th>\n",
              "    </tr>\n",
              "  </thead>\n",
              "  <tbody>\n",
              "    <tr>\n",
              "      <th>Conservatives</th>\n",
              "      <td>365</td>\n",
              "      <td>47</td>\n",
              "      <td>56.153846</td>\n",
              "    </tr>\n",
              "    <tr>\n",
              "      <th>Labour</th>\n",
              "      <td>203</td>\n",
              "      <td>-59</td>\n",
              "      <td>31.230769</td>\n",
              "    </tr>\n",
              "    <tr>\n",
              "      <th>SNP</th>\n",
              "      <td>48</td>\n",
              "      <td>13</td>\n",
              "      <td>7.384615</td>\n",
              "    </tr>\n",
              "    <tr>\n",
              "      <th>Liberal Democrat</th>\n",
              "      <td>11</td>\n",
              "      <td>-1</td>\n",
              "      <td>1.692308</td>\n",
              "    </tr>\n",
              "    <tr>\n",
              "      <th>DUP</th>\n",
              "      <td>8</td>\n",
              "      <td>-2</td>\n",
              "      <td>1.230769</td>\n",
              "    </tr>\n",
              "    <tr>\n",
              "      <th>Other</th>\n",
              "      <td>15</td>\n",
              "      <td>2</td>\n",
              "      <td>2.307692</td>\n",
              "    </tr>\n",
              "  </tbody>\n",
              "</table>\n",
              "</div>"
            ],
            "text/plain": [
              "                  Seats  Change  Percentage Seats\n",
              "Conservatives       365      47         56.153846\n",
              "Labour              203     -59         31.230769\n",
              "SNP                  48      13          7.384615\n",
              "Liberal Democrat     11      -1          1.692308\n",
              "DUP                   8      -2          1.230769\n",
              "Other                15       2          2.307692"
            ]
          },
          "metadata": {},
          "execution_count": 31
        }
      ]
    },
    {
      "cell_type": "markdown",
      "metadata": {
        "id": "GIRzZzYvi-8I"
      },
      "source": [
        "We could also create all this dataset from scratch using the following code"
      ]
    },
    {
      "cell_type": "code",
      "metadata": {
        "colab": {
          "base_uri": "https://localhost:8080/"
        },
        "id": "gilIutGi8JcC",
        "outputId": "060da4fc-0255-45d0-9ef5-519434cece06"
      },
      "source": [
        "votes.Seats"
      ],
      "execution_count": null,
      "outputs": [
        {
          "output_type": "execute_result",
          "data": {
            "text/plain": [
              "Conservatives       365\n",
              "Labour              203\n",
              "SNP                  48\n",
              "Liberal Democrat     11\n",
              "DUP                   8\n",
              "Other                15\n",
              "Name: Seats, dtype: int64"
            ]
          },
          "metadata": {},
          "execution_count": 33
        }
      ]
    },
    {
      "cell_type": "code",
      "metadata": {
        "colab": {
          "base_uri": "https://localhost:8080/",
          "height": 237
        },
        "id": "7foU8FX_jDqU",
        "outputId": "0617c2af-e3a3-4ad5-8c13-79a5777780fe"
      },
      "source": [
        "parties = np.array(['Conservatives', 'Labour', 'SNP', 'Liberal Democrat', 'DUP', 'Other'])\n",
        "seats = np.array([365, 203, 48, 11, 8, 15])\n",
        "change = np.array([47, -59, 13, -1, -2, 2])\n",
        "total_seats = votes.sum()[0]\n",
        "perc_seats = votes['Seats'] / total_seats * 100\n",
        "votes = pd.DataFrame({'Seats': seats, 'Changes': change, 'Percentage Seats': perc_seats}, index=parties)\n",
        "votes"
      ],
      "execution_count": null,
      "outputs": [
        {
          "output_type": "execute_result",
          "data": {
            "text/html": [
              "<div>\n",
              "<style scoped>\n",
              "    .dataframe tbody tr th:only-of-type {\n",
              "        vertical-align: middle;\n",
              "    }\n",
              "\n",
              "    .dataframe tbody tr th {\n",
              "        vertical-align: top;\n",
              "    }\n",
              "\n",
              "    .dataframe thead th {\n",
              "        text-align: right;\n",
              "    }\n",
              "</style>\n",
              "<table border=\"1\" class=\"dataframe\">\n",
              "  <thead>\n",
              "    <tr style=\"text-align: right;\">\n",
              "      <th></th>\n",
              "      <th>Seats</th>\n",
              "      <th>Changes</th>\n",
              "      <th>Percentage Seats</th>\n",
              "    </tr>\n",
              "  </thead>\n",
              "  <tbody>\n",
              "    <tr>\n",
              "      <th>Conservatives</th>\n",
              "      <td>365</td>\n",
              "      <td>47</td>\n",
              "      <td>56.153846</td>\n",
              "    </tr>\n",
              "    <tr>\n",
              "      <th>Labour</th>\n",
              "      <td>203</td>\n",
              "      <td>-59</td>\n",
              "      <td>31.230769</td>\n",
              "    </tr>\n",
              "    <tr>\n",
              "      <th>SNP</th>\n",
              "      <td>48</td>\n",
              "      <td>13</td>\n",
              "      <td>7.384615</td>\n",
              "    </tr>\n",
              "    <tr>\n",
              "      <th>Liberal Democrat</th>\n",
              "      <td>11</td>\n",
              "      <td>-1</td>\n",
              "      <td>1.692308</td>\n",
              "    </tr>\n",
              "    <tr>\n",
              "      <th>DUP</th>\n",
              "      <td>8</td>\n",
              "      <td>-2</td>\n",
              "      <td>1.230769</td>\n",
              "    </tr>\n",
              "    <tr>\n",
              "      <th>Other</th>\n",
              "      <td>15</td>\n",
              "      <td>2</td>\n",
              "      <td>2.307692</td>\n",
              "    </tr>\n",
              "  </tbody>\n",
              "</table>\n",
              "</div>"
            ],
            "text/plain": [
              "                  Seats  Changes  Percentage Seats\n",
              "Conservatives       365       47         56.153846\n",
              "Labour              203      -59         31.230769\n",
              "SNP                  48       13          7.384615\n",
              "Liberal Democrat     11       -1          1.692308\n",
              "DUP                   8       -2          1.230769\n",
              "Other                15        2          2.307692"
            ]
          },
          "metadata": {},
          "execution_count": 34
        }
      ]
    },
    {
      "cell_type": "markdown",
      "metadata": {
        "id": "vWuTRA4PdxVN"
      },
      "source": [
        "## Premier League Data\n",
        "\n",
        "Apologies for those that aren't football fan... The dataset [premierleague.csv](https://github.com/UofGAnalyticsData/DPIP/blob/main/colab_datasets/premierleague.csv) gives the up to date English Premier League football table (as off 09/11/2021). Lets load it in and have a look!\n",
        "\n",
        "Its easier to download the code from Giuthub when working with Google Colabs. But the normal code is commented out. To get the relevant code off GitHub, go to the link above and just above the dataset to the right click 'raw', then copy the link out of the browser bar"
      ]
    },
    {
      "cell_type": "code",
      "metadata": {
        "colab": {
          "base_uri": "https://localhost:8080/",
          "height": 206
        },
        "id": "NoYfrE9vdz1J",
        "outputId": "abcba8f3-ec28-4137-b939-6b8d54ca3c61"
      },
      "source": [
        "# file_path = 'C:\\\\Users\\\\Vinny\\\\teaching\\\\DPIP\\\\colab_datasets\\\\premierleague.csv'\n",
        "# football = pd.read_csv(file_path)\n",
        "url = 'https://raw.githubusercontent.com/UofGAnalyticsData/DPIP/main/colab_datasets/premierleague.csv'\n",
        "football = pd.read_csv(url)\n",
        "football.head()"
      ],
      "execution_count": null,
      "outputs": [
        {
          "output_type": "execute_result",
          "data": {
            "text/html": [
              "<div>\n",
              "<style scoped>\n",
              "    .dataframe tbody tr th:only-of-type {\n",
              "        vertical-align: middle;\n",
              "    }\n",
              "\n",
              "    .dataframe tbody tr th {\n",
              "        vertical-align: top;\n",
              "    }\n",
              "\n",
              "    .dataframe thead th {\n",
              "        text-align: right;\n",
              "    }\n",
              "</style>\n",
              "<table border=\"1\" class=\"dataframe\">\n",
              "  <thead>\n",
              "    <tr style=\"text-align: right;\">\n",
              "      <th></th>\n",
              "      <th>Team</th>\n",
              "      <th>Pl</th>\n",
              "      <th>W</th>\n",
              "      <th>D</th>\n",
              "      <th>L</th>\n",
              "      <th>F</th>\n",
              "      <th>A</th>\n",
              "      <th>GD</th>\n",
              "      <th>Pts</th>\n",
              "    </tr>\n",
              "  </thead>\n",
              "  <tbody>\n",
              "    <tr>\n",
              "      <th>0</th>\n",
              "      <td>Chelsea</td>\n",
              "      <td>11</td>\n",
              "      <td>8</td>\n",
              "      <td>2</td>\n",
              "      <td>1</td>\n",
              "      <td>27</td>\n",
              "      <td>4</td>\n",
              "      <td>23</td>\n",
              "      <td>26</td>\n",
              "    </tr>\n",
              "    <tr>\n",
              "      <th>1</th>\n",
              "      <td>Manchester City</td>\n",
              "      <td>11</td>\n",
              "      <td>7</td>\n",
              "      <td>2</td>\n",
              "      <td>2</td>\n",
              "      <td>22</td>\n",
              "      <td>6</td>\n",
              "      <td>16</td>\n",
              "      <td>23</td>\n",
              "    </tr>\n",
              "    <tr>\n",
              "      <th>2</th>\n",
              "      <td>West Ham United</td>\n",
              "      <td>11</td>\n",
              "      <td>7</td>\n",
              "      <td>2</td>\n",
              "      <td>2</td>\n",
              "      <td>23</td>\n",
              "      <td>13</td>\n",
              "      <td>10</td>\n",
              "      <td>23</td>\n",
              "    </tr>\n",
              "    <tr>\n",
              "      <th>3</th>\n",
              "      <td>Liverpool</td>\n",
              "      <td>11</td>\n",
              "      <td>6</td>\n",
              "      <td>4</td>\n",
              "      <td>1</td>\n",
              "      <td>31</td>\n",
              "      <td>11</td>\n",
              "      <td>20</td>\n",
              "      <td>22</td>\n",
              "    </tr>\n",
              "    <tr>\n",
              "      <th>4</th>\n",
              "      <td>Arsenal</td>\n",
              "      <td>11</td>\n",
              "      <td>6</td>\n",
              "      <td>2</td>\n",
              "      <td>3</td>\n",
              "      <td>13</td>\n",
              "      <td>13</td>\n",
              "      <td>0</td>\n",
              "      <td>20</td>\n",
              "    </tr>\n",
              "  </tbody>\n",
              "</table>\n",
              "</div>"
            ],
            "text/plain": [
              "              Team  Pl  W  D  L   F   A  GD  Pts\n",
              "0          Chelsea  11  8  2  1  27   4  23   26\n",
              "1  Manchester City  11  7  2  2  22   6  16   23\n",
              "2  West Ham United  11  7  2  2  23  13  10   23\n",
              "3        Liverpool  11  6  4  1  31  11  20   22\n",
              "4          Arsenal  11  6  2  3  13  13   0   20"
            ]
          },
          "metadata": {},
          "execution_count": 35
        }
      ]
    },
    {
      "cell_type": "markdown",
      "metadata": {
        "id": "bOQk0YXm64OM"
      },
      "source": [
        "It might be easier to set the team as the Index, so lets do that"
      ]
    },
    {
      "cell_type": "code",
      "metadata": {
        "colab": {
          "base_uri": "https://localhost:8080/",
          "height": 237
        },
        "id": "jxU892E86_I9",
        "outputId": "81539d1b-9c88-481c-a3ca-a6d8d9bf64d1"
      },
      "source": [
        "football = football.set_index('Team')\n",
        "football.head()"
      ],
      "execution_count": null,
      "outputs": [
        {
          "output_type": "execute_result",
          "data": {
            "text/html": [
              "<div>\n",
              "<style scoped>\n",
              "    .dataframe tbody tr th:only-of-type {\n",
              "        vertical-align: middle;\n",
              "    }\n",
              "\n",
              "    .dataframe tbody tr th {\n",
              "        vertical-align: top;\n",
              "    }\n",
              "\n",
              "    .dataframe thead th {\n",
              "        text-align: right;\n",
              "    }\n",
              "</style>\n",
              "<table border=\"1\" class=\"dataframe\">\n",
              "  <thead>\n",
              "    <tr style=\"text-align: right;\">\n",
              "      <th></th>\n",
              "      <th>Pl</th>\n",
              "      <th>W</th>\n",
              "      <th>D</th>\n",
              "      <th>L</th>\n",
              "      <th>F</th>\n",
              "      <th>A</th>\n",
              "      <th>GD</th>\n",
              "      <th>Pts</th>\n",
              "    </tr>\n",
              "    <tr>\n",
              "      <th>Team</th>\n",
              "      <th></th>\n",
              "      <th></th>\n",
              "      <th></th>\n",
              "      <th></th>\n",
              "      <th></th>\n",
              "      <th></th>\n",
              "      <th></th>\n",
              "      <th></th>\n",
              "    </tr>\n",
              "  </thead>\n",
              "  <tbody>\n",
              "    <tr>\n",
              "      <th>Chelsea</th>\n",
              "      <td>11</td>\n",
              "      <td>8</td>\n",
              "      <td>2</td>\n",
              "      <td>1</td>\n",
              "      <td>27</td>\n",
              "      <td>4</td>\n",
              "      <td>23</td>\n",
              "      <td>26</td>\n",
              "    </tr>\n",
              "    <tr>\n",
              "      <th>Manchester City</th>\n",
              "      <td>11</td>\n",
              "      <td>7</td>\n",
              "      <td>2</td>\n",
              "      <td>2</td>\n",
              "      <td>22</td>\n",
              "      <td>6</td>\n",
              "      <td>16</td>\n",
              "      <td>23</td>\n",
              "    </tr>\n",
              "    <tr>\n",
              "      <th>West Ham United</th>\n",
              "      <td>11</td>\n",
              "      <td>7</td>\n",
              "      <td>2</td>\n",
              "      <td>2</td>\n",
              "      <td>23</td>\n",
              "      <td>13</td>\n",
              "      <td>10</td>\n",
              "      <td>23</td>\n",
              "    </tr>\n",
              "    <tr>\n",
              "      <th>Liverpool</th>\n",
              "      <td>11</td>\n",
              "      <td>6</td>\n",
              "      <td>4</td>\n",
              "      <td>1</td>\n",
              "      <td>31</td>\n",
              "      <td>11</td>\n",
              "      <td>20</td>\n",
              "      <td>22</td>\n",
              "    </tr>\n",
              "    <tr>\n",
              "      <th>Arsenal</th>\n",
              "      <td>11</td>\n",
              "      <td>6</td>\n",
              "      <td>2</td>\n",
              "      <td>3</td>\n",
              "      <td>13</td>\n",
              "      <td>13</td>\n",
              "      <td>0</td>\n",
              "      <td>20</td>\n",
              "    </tr>\n",
              "  </tbody>\n",
              "</table>\n",
              "</div>"
            ],
            "text/plain": [
              "                 Pl  W  D  L   F   A  GD  Pts\n",
              "Team                                         \n",
              "Chelsea          11  8  2  1  27   4  23   26\n",
              "Manchester City  11  7  2  2  22   6  16   23\n",
              "West Ham United  11  7  2  2  23  13  10   23\n",
              "Liverpool        11  6  4  1  31  11  20   22\n",
              "Arsenal          11  6  2  3  13  13   0   20"
            ]
          },
          "metadata": {},
          "execution_count": 36
        }
      ]
    },
    {
      "cell_type": "markdown",
      "metadata": {
        "id": "itLOUP3Y5_n5"
      },
      "source": [
        "Lets get the shape of the Data Frame and extract the row for 'Manchester United' and column for points ('Pts')"
      ]
    },
    {
      "cell_type": "code",
      "metadata": {
        "colab": {
          "base_uri": "https://localhost:8080/"
        },
        "id": "lvrc-c2I30BV",
        "outputId": "42020c24-65e1-4e11-f61b-a208bacdfbec"
      },
      "source": [
        "print(football.shape)\n",
        "print(' ') # just adding a row of white space\n",
        "print(football.loc['Manchester United'])\n",
        "print(' ')\n",
        "football['Pts']"
      ],
      "execution_count": null,
      "outputs": [
        {
          "output_type": "stream",
          "name": "stdout",
          "text": [
            "(20, 8)\n",
            " \n",
            "Pl     11\n",
            "W       5\n",
            "D       2\n",
            "L       4\n",
            "F      19\n",
            "A      17\n",
            "GD      2\n",
            "Pts    17\n",
            "Name: Manchester United, dtype: int64\n",
            " \n"
          ]
        },
        {
          "output_type": "execute_result",
          "data": {
            "text/plain": [
              "Team\n",
              "Chelsea                     26\n",
              "Manchester City             23\n",
              "West Ham United             23\n",
              "Liverpool                   22\n",
              "Arsenal                     20\n",
              "Manchester United           17\n",
              "Brighton and Hove Albion    17\n",
              "Wolverhampton Wanderers     16\n",
              "Tottenham Hotspur           16\n",
              "Crystal Palace              15\n",
              "Everton                     15\n",
              "Leicester City              15\n",
              "Southampton                 14\n",
              "Brentford                   12\n",
              "Leeds United                11\n",
              "Aston Villa                 10\n",
              "Watford                     10\n",
              "Burnley                      8\n",
              "Newcastle United             5\n",
              "Norwich City                 5\n",
              "Name: Pts, dtype: int64"
            ]
          },
          "metadata": {},
          "execution_count": 37
        }
      ]
    },
    {
      "cell_type": "code",
      "metadata": {
        "id": "wj5Ge5GI9swz"
      },
      "source": [],
      "execution_count": null,
      "outputs": []
    },
    {
      "cell_type": "markdown",
      "source": [
        "# Quiz"
      ],
      "metadata": {
        "id": "bpIF96Y7Znmq"
      }
    },
    {
      "cell_type": "markdown",
      "source": [
        "### Q1.\n",
        "\n",
        "Pandas is built on:\n",
        "\n",
        "a) Python Dictionaries\n",
        "\n",
        "b) Numpy\n",
        "\n",
        "c) Python sets"
      ],
      "metadata": {
        "id": "iRRVDGIgeItJ"
      }
    },
    {
      "cell_type": "markdown",
      "source": [
        "#### Answer"
      ],
      "metadata": {
        "id": "Zezbx1bPoVhR"
      }
    },
    {
      "cell_type": "markdown",
      "source": [
        "Pandas is based on Numpy!\n"
      ],
      "metadata": {
        "id": "zLr3xlx1oaID"
      }
    },
    {
      "cell_type": "markdown",
      "source": [
        "## Q2\n",
        "\n",
        "(The python object model questions)\n",
        "\n",
        "If we have the following code:\n",
        "\n",
        "```\n",
        "x = np.array([10,20,30,0.1])\n",
        "s = pd.Series(x)\n",
        "```\n",
        "\n",
        "and then we modify an element of s:\n",
        "\n",
        "```\n",
        "s[2] = 0.1\n",
        "```\n",
        "\n",
        "what is:\n",
        "\n",
        "```\n",
        "print(x[2])\n",
        "```"
      ],
      "metadata": {
        "id": "dmeT0gaptG1h"
      }
    },
    {
      "cell_type": "markdown",
      "source": [
        "#### Answer"
      ],
      "metadata": {
        "id": "50sGAuZttUch"
      }
    },
    {
      "cell_type": "code",
      "source": [
        "x = np.array([10,20,30,0.1])\n",
        "s = pd.Series(x)\n",
        "s[2] = 0.5"
      ],
      "metadata": {
        "id": "0YCINNggtXpw"
      },
      "execution_count": null,
      "outputs": []
    },
    {
      "cell_type": "markdown",
      "source": [
        "Lets have a look:"
      ],
      "metadata": {
        "id": "NesdtRCvtcGo"
      }
    },
    {
      "cell_type": "code",
      "source": [
        "print(s)"
      ],
      "metadata": {
        "colab": {
          "base_uri": "https://localhost:8080/"
        },
        "id": "FlU-9rCQtpBR",
        "outputId": "3a9b255e-5e14-427e-fac8-ea91b3e29c12"
      },
      "execution_count": null,
      "outputs": [
        {
          "output_type": "stream",
          "name": "stdout",
          "text": [
            "0    10.0\n",
            "1    20.0\n",
            "2     0.5\n",
            "3     0.1\n",
            "dtype: float64\n"
          ]
        }
      ]
    },
    {
      "cell_type": "markdown",
      "source": [
        "## Q3\n",
        "\n",
        "(The python object model questions)\n",
        "\n",
        "If we have the following code:\n",
        "\n",
        "```\n",
        "x = np.array(['Cat', 'Dog', 'Parrot', 'Sheep'])\n",
        "my_animals = pd.Series(x)\n",
        "```\n",
        "\n",
        "and then we modify an element of s:\n",
        "\n",
        "```\n",
        "my_animals[2] = \"Meerkat\"\n",
        "```"
      ],
      "metadata": {
        "id": "X2Ya4YV8pCoi"
      }
    },
    {
      "cell_type": "markdown",
      "source": [
        "What is:\n",
        "\n",
        "```\n",
        "print(x[2])\n",
        "```"
      ],
      "metadata": {
        "id": "-fk16U1Ls6Si"
      }
    },
    {
      "cell_type": "markdown",
      "source": [
        "#### Answer"
      ],
      "metadata": {
        "id": "KvTgHS7KtAok"
      }
    },
    {
      "cell_type": "code",
      "source": [
        "import numpy as np\n",
        "x = np.array(['Cat', 'Dog', 'Parrot', 'Sheep'])\n",
        "my_animals = pd.Series(x)"
      ],
      "metadata": {
        "id": "fRyxID19pUfn"
      },
      "execution_count": null,
      "outputs": []
    },
    {
      "cell_type": "code",
      "source": [
        "my_animals[2] = \"Meerkat\""
      ],
      "metadata": {
        "id": "YvouXgI7pl5Z"
      },
      "execution_count": null,
      "outputs": []
    },
    {
      "cell_type": "code",
      "source": [
        "my_animals"
      ],
      "metadata": {
        "colab": {
          "base_uri": "https://localhost:8080/"
        },
        "id": "XHh7KJxMponq",
        "outputId": "291434ea-738c-46f9-ff20-df693322c7de"
      },
      "execution_count": null,
      "outputs": [
        {
          "output_type": "execute_result",
          "data": {
            "text/plain": [
              "0        Cat\n",
              "1        Dog\n",
              "2    Meerkat\n",
              "3      Sheep\n",
              "dtype: object"
            ]
          },
          "metadata": {},
          "execution_count": 92
        }
      ]
    },
    {
      "cell_type": "markdown",
      "source": [
        "However, we can see that the changes didnt propogate:"
      ],
      "metadata": {
        "id": "LRhm2qALuOKa"
      }
    },
    {
      "cell_type": "code",
      "source": [
        "x"
      ],
      "metadata": {
        "colab": {
          "base_uri": "https://localhost:8080/"
        },
        "id": "4wtt1YmSpqAf",
        "outputId": "59a0f2c8-dd7c-4dc3-9b71-7f9233fbd3d3"
      },
      "execution_count": null,
      "outputs": [
        {
          "output_type": "execute_result",
          "data": {
            "text/plain": [
              "array(['Cat', 'Dog', 'Parrot', 'Sheep'], dtype='<U6')"
            ]
          },
          "metadata": {},
          "execution_count": 94
        }
      ]
    },
    {
      "cell_type": "code",
      "source": [
        "import numpy as np\n",
        "x = np.array(['Cat', 'Dog', 'Parrot', 'Sheep'],dtype = object)\n",
        "my_animals = pd.Series(x)"
      ],
      "metadata": {
        "id": "1X1SU-uAuUBs"
      },
      "execution_count": null,
      "outputs": []
    },
    {
      "cell_type": "code",
      "source": [
        "my_animals[2] = \"Meerkat\""
      ],
      "metadata": {
        "id": "vZuHyxdCump9"
      },
      "execution_count": null,
      "outputs": []
    },
    {
      "cell_type": "code",
      "source": [
        "x"
      ],
      "metadata": {
        "colab": {
          "base_uri": "https://localhost:8080/"
        },
        "id": "m6GMShKWuoUL",
        "outputId": "143ef683-15b0-4dfc-f13e-95ed297ea797"
      },
      "execution_count": null,
      "outputs": [
        {
          "output_type": "execute_result",
          "data": {
            "text/plain": [
              "array(['Cat', 'Dog', 'Meerkat', 'Sheep'], dtype=object)"
            ]
          },
          "metadata": {},
          "execution_count": 98
        }
      ]
    },
    {
      "cell_type": "markdown",
      "source": [
        "### Q4\n",
        " Pandas is the best library and we should use it for everything :-)\n",
        "\n",
        "a) Yes\n",
        "\n",
        "b) No"
      ],
      "metadata": {
        "id": "KFHZvJl4ZtKb"
      }
    },
    {
      "cell_type": "markdown",
      "source": [
        "#### Answer"
      ],
      "metadata": {
        "id": "N2O2KuuAZ02l"
      }
    },
    {
      "cell_type": "markdown",
      "source": [
        "Pandas is an amazing library, and is the best choice for lots of use cases, but it not always the best choice. For example:"
      ],
      "metadata": {
        "id": "iN2InIj4Z3ve"
      }
    },
    {
      "cell_type": "code",
      "source": [
        "df = pd.read_csv(\"bp.csv\", na_values=\".\")"
      ],
      "metadata": {
        "id": "tK86jaNHZoRi"
      },
      "execution_count": null,
      "outputs": []
    },
    {
      "cell_type": "markdown",
      "source": [
        "Lets say we want to get the bps at hour 2 minute 57 (say), we could do:"
      ],
      "metadata": {
        "id": "WonEoZOwaqEm"
      }
    },
    {
      "cell_type": "code",
      "source": [
        "df[(df.hour==2) & (df.minute==57)]['bps']"
      ],
      "metadata": {
        "colab": {
          "base_uri": "https://localhost:8080/"
        },
        "id": "R1byXCOfajUj",
        "outputId": "176ae6ff-6ab1-47b7-8569-d7805a0d4c99"
      },
      "execution_count": null,
      "outputs": [
        {
          "output_type": "execute_result",
          "data": {
            "text/plain": [
              "177    113\n",
              "Name: bps, dtype: int64"
            ]
          },
          "metadata": {},
          "execution_count": 10
        }
      ]
    },
    {
      "cell_type": "markdown",
      "source": [
        "Note this needs to perform an operation on every row in our table and therefore should scale like the number of elements in the table."
      ],
      "metadata": {
        "id": "l8I6pSVVeAcC"
      }
    },
    {
      "cell_type": "markdown",
      "source": [
        "Lets time how long this takes:"
      ],
      "metadata": {
        "id": "m8dRNBtXbvYE"
      }
    },
    {
      "cell_type": "code",
      "source": [
        "%%time\n",
        "for i in range(1000):\n",
        "  df[(df.hour== (i%3)) & (df.minute==(i%60))]['bps']"
      ],
      "metadata": {
        "colab": {
          "base_uri": "https://localhost:8080/"
        },
        "id": "2uvmLoNXb2g8",
        "outputId": "1a083e53-c36f-4401-8377-c0ca5b0c79ab"
      },
      "execution_count": null,
      "outputs": [
        {
          "output_type": "stream",
          "name": "stdout",
          "text": [
            "CPU times: user 506 ms, sys: 51.5 ms, total: 558 ms\n",
            "Wall time: 513 ms\n"
          ]
        }
      ]
    },
    {
      "cell_type": "markdown",
      "source": [
        "Could also use a query version;"
      ],
      "metadata": {
        "id": "oJTGyEMedqRl"
      }
    },
    {
      "cell_type": "code",
      "source": [
        "%%time\n",
        "for i in range(1000):\n",
        "  df.query(f'hour=={i%3} and minute=={i%60}')['bps']\n"
      ],
      "metadata": {
        "colab": {
          "base_uri": "https://localhost:8080/"
        },
        "id": "DgfjHJACdsTf",
        "outputId": "28008a7d-56a0-4c4f-e230-1b688e7c970c"
      },
      "execution_count": null,
      "outputs": [
        {
          "output_type": "stream",
          "name": "stdout",
          "text": [
            "CPU times: user 1.68 s, sys: 83.6 ms, total: 1.77 s\n",
            "Wall time: 1.66 s\n"
          ]
        }
      ]
    },
    {
      "cell_type": "markdown",
      "source": [
        "There are also other ways to get faster query performance out of pandas (see the alternative section for some options)."
      ],
      "metadata": {
        "id": "bAc8uHLi9S4m"
      }
    },
    {
      "cell_type": "markdown",
      "source": [
        "Suppose instead we were to use a dictionary (which has O(1) lookups):"
      ],
      "metadata": {
        "id": "DsrIVDm-cHXz"
      }
    },
    {
      "cell_type": "code",
      "source": [
        "%%time\n",
        "d1 = {(x[1],x[2]):x[3] for x in df.itertuples()}"
      ],
      "metadata": {
        "colab": {
          "base_uri": "https://localhost:8080/"
        },
        "id": "79hbH35la-fm",
        "outputId": "28f43e26-5382-417f-9599-ce548d843e51"
      },
      "execution_count": null,
      "outputs": [
        {
          "output_type": "stream",
          "name": "stdout",
          "text": [
            "CPU times: user 1.07 ms, sys: 0 ns, total: 1.07 ms\n",
            "Wall time: 1.08 ms\n"
          ]
        }
      ]
    },
    {
      "cell_type": "code",
      "source": [
        "%%time\n",
        "for i in range(1000):\n",
        "  d1[(i%3,i%60)]"
      ],
      "metadata": {
        "colab": {
          "base_uri": "https://localhost:8080/"
        },
        "id": "kAy3lEARbFGk",
        "outputId": "bd74a562-16a5-479f-910c-7247aeb31560"
      },
      "execution_count": null,
      "outputs": [
        {
          "output_type": "stream",
          "name": "stdout",
          "text": [
            "CPU times: user 179 µs, sys: 13 µs, total: 192 µs\n",
            "Wall time: 195 µs\n"
          ]
        }
      ]
    },
    {
      "cell_type": "markdown",
      "source": [
        "Roughly a thousand times faster, although both very quick.\n",
        "\n",
        "***Conclusion***: If you are computing this operation in your program less than a 1000 times, it probably doesnt matter"
      ],
      "metadata": {
        "id": "pBFGZznWdA5o"
      }
    },
    {
      "cell_type": "markdown",
      "source": [
        "##### Alternative Pandas solutions:"
      ],
      "metadata": {
        "id": "0BBWUvHaomar"
      }
    },
    {
      "cell_type": "markdown",
      "source": [
        "One option would be to make a combination variable to reduce the number of masks required:"
      ],
      "metadata": {
        "id": "dJj098z_9pVj"
      }
    },
    {
      "cell_type": "code",
      "source": [
        "df['combTime'] = df.hour*60 + df.minute"
      ],
      "metadata": {
        "id": "MI9kx5LenDWQ"
      },
      "execution_count": null,
      "outputs": []
    },
    {
      "cell_type": "code",
      "source": [
        "%%time\n",
        "for i in range(1000):\n",
        "  df[df.combTime== 60*(i%3)+(i%60)]['bps']"
      ],
      "metadata": {
        "colab": {
          "base_uri": "https://localhost:8080/"
        },
        "id": "FOOPCtFhnRkZ",
        "outputId": "8f356284-95ae-49ef-faf7-970f37ed39c3"
      },
      "execution_count": null,
      "outputs": [
        {
          "output_type": "stream",
          "name": "stdout",
          "text": [
            "CPU times: user 388 ms, sys: 4.87 ms, total: 393 ms\n",
            "Wall time: 406 ms\n"
          ]
        }
      ]
    },
    {
      "cell_type": "code",
      "source": [
        "df1= df.set_index(\"combTime\")"
      ],
      "metadata": {
        "id": "3w2VtNSZncpo"
      },
      "execution_count": null,
      "outputs": []
    },
    {
      "cell_type": "code",
      "source": [
        "%%time\n",
        "for i in range(1000):\n",
        "  df[df.combTime== 60*(i%3)+(i%60)]['bps']"
      ],
      "metadata": {
        "colab": {
          "base_uri": "https://localhost:8080/"
        },
        "id": "v5xuezvsnz65",
        "outputId": "a614c75f-1943-41fa-f5e4-114abb65b0ba"
      },
      "execution_count": null,
      "outputs": [
        {
          "output_type": "stream",
          "name": "stdout",
          "text": [
            "CPU times: user 336 ms, sys: 18.3 ms, total: 354 ms\n",
            "Wall time: 323 ms\n"
          ]
        }
      ]
    },
    {
      "cell_type": "markdown",
      "source": [
        "Using the index and loc syntax is faster, but still slower than the dictionary version."
      ],
      "metadata": {
        "id": "ykt4d2nm9FJ4"
      }
    },
    {
      "cell_type": "code",
      "source": [
        "%%time\n",
        "for i in range(1000):\n",
        "  df1.loc[60*(i%3)+(i%60),'bps']"
      ],
      "metadata": {
        "colab": {
          "base_uri": "https://localhost:8080/"
        },
        "id": "7jC4-88d8_DQ",
        "outputId": "9e47806f-c6e1-47ee-cc42-15335d9f0b7f"
      },
      "execution_count": null,
      "outputs": [
        {
          "output_type": "stream",
          "name": "stdout",
          "text": [
            "CPU times: user 8.19 ms, sys: 0 ns, total: 8.19 ms\n",
            "Wall time: 8.2 ms\n"
          ]
        }
      ]
    }
  ]
}